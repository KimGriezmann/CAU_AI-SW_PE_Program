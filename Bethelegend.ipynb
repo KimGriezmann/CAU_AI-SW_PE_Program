{
  "nbformat": 4,
  "nbformat_minor": 0,
  "metadata": {
    "colab": {
      "name": "Bethelegend.ipynb",
      "provenance": [],
      "collapsed_sections": [],
      "include_colab_link": true
    },
    "kernelspec": {
      "name": "python3",
      "display_name": "Python 3"
    },
    "language_info": {
      "name": "python"
    }
  },
  "cells": [
    {
      "cell_type": "markdown",
      "metadata": {
        "id": "view-in-github",
        "colab_type": "text"
      },
      "source": [
        "<a href=\"https://colab.research.google.com/github/KimGriezmann/DeepLearning_BeTheLegend/blob/master/Bethelegend.ipynb\" target=\"_parent\"><img src=\"https://colab.research.google.com/assets/colab-badge.svg\" alt=\"Open In Colab\"/></a>"
      ]
    },
    {
      "cell_type": "code",
      "metadata": {
        "id": "hZiBbFYWQEUP"
      },
      "source": [
        "import numpy as np\n",
        "import pandas as pd\n",
        "import tqdm\n",
        "import os"
      ],
      "execution_count": 2,
      "outputs": []
    },
    {
      "cell_type": "code",
      "metadata": {
        "id": "HIhZoCYsuYNj"
      },
      "source": [
        "pd.set_option('display.max_row', 100)\n",
        "pd.set_option('display.max_columns', 100)"
      ],
      "execution_count": 3,
      "outputs": []
    },
    {
      "cell_type": "code",
      "metadata": {
        "id": "E9cK4jy_pSO0",
        "colab": {
          "base_uri": "https://localhost:8080/"
        },
        "outputId": "dac98da8-67b1-4938-89dc-b07aa19e71af"
      },
      "source": [
        "print(os.getcwd())"
      ],
      "execution_count": null,
      "outputs": [
        {
          "output_type": "stream",
          "text": [
            "/content\n"
          ],
          "name": "stdout"
        }
      ]
    },
    {
      "cell_type": "code",
      "metadata": {
        "id": "LAvjoubnQwoZ"
      },
      "source": [
        "data = pd.read_excel(\"/content/날짜별 타자 데이터 통합.xlsx\")\n",
        "hitter = pd.read_excel(\"/content/90명 타자 명단.xlsx\")\n",
        "vs_avg_data = pd.read_excel(\"/content/팀 상대 타율 정렬.xlsx\")\n",
        "pitcher_stadium = pd.read_excel(\"/content/2021시즌 타자 데이터.xlsx\")"
      ],
      "execution_count": 109,
      "outputs": []
    },
    {
      "cell_type": "code",
      "metadata": {
        "colab": {
          "base_uri": "https://localhost:8080/",
          "height": 204
        },
        "id": "aNZUonx2ijU6",
        "outputId": "1016eee6-b972-49fc-b9f1-da52f45f3d83"
      },
      "source": [
        "our_data.head(5)"
      ],
      "execution_count": 114,
      "outputs": [
        {
          "output_type": "execute_result",
          "data": {
            "text/html": [
              "<div>\n",
              "<style scoped>\n",
              "    .dataframe tbody tr th:only-of-type {\n",
              "        vertical-align: middle;\n",
              "    }\n",
              "\n",
              "    .dataframe tbody tr th {\n",
              "        vertical-align: top;\n",
              "    }\n",
              "\n",
              "    .dataframe thead th {\n",
              "        text-align: right;\n",
              "    }\n",
              "</style>\n",
              "<table border=\"1\" class=\"dataframe\">\n",
              "  <thead>\n",
              "    <tr style=\"text-align: right;\">\n",
              "      <th></th>\n",
              "      <th>day</th>\n",
              "      <th>name</th>\n",
              "      <th>vs</th>\n",
              "      <th>ab</th>\n",
              "      <th>hit</th>\n",
              "      <th>avg</th>\n",
              "      <th>slg</th>\n",
              "      <th>vs_ab</th>\n",
              "      <th>vs_hit</th>\n",
              "      <th>vs_avg</th>\n",
              "      <th>recent_5</th>\n",
              "      <th>recent_10</th>\n",
              "      <th>success_recent_10</th>\n",
              "      <th>recent_5days</th>\n",
              "      <th>result</th>\n",
              "    </tr>\n",
              "  </thead>\n",
              "  <tbody>\n",
              "    <tr>\n",
              "      <th>0</th>\n",
              "      <td>44289</td>\n",
              "      <td>강민호</td>\n",
              "      <td>키움</td>\n",
              "      <td>3</td>\n",
              "      <td>0</td>\n",
              "      <td>0.000</td>\n",
              "      <td>0.000</td>\n",
              "      <td>0.0</td>\n",
              "      <td>0.0</td>\n",
              "      <td>0.0</td>\n",
              "      <td>0.000000</td>\n",
              "      <td>0.000</td>\n",
              "      <td>0.00</td>\n",
              "      <td>0.000000</td>\n",
              "      <td>0</td>\n",
              "    </tr>\n",
              "    <tr>\n",
              "      <th>1</th>\n",
              "      <td>44290</td>\n",
              "      <td>강민호</td>\n",
              "      <td>키움</td>\n",
              "      <td>4</td>\n",
              "      <td>2</td>\n",
              "      <td>0.286</td>\n",
              "      <td>0.286</td>\n",
              "      <td>3.0</td>\n",
              "      <td>0.0</td>\n",
              "      <td>0.0</td>\n",
              "      <td>0.000000</td>\n",
              "      <td>0.000</td>\n",
              "      <td>0.00</td>\n",
              "      <td>0.000000</td>\n",
              "      <td>1</td>\n",
              "    </tr>\n",
              "    <tr>\n",
              "      <th>2</th>\n",
              "      <td>44292</td>\n",
              "      <td>강민호</td>\n",
              "      <td>두산</td>\n",
              "      <td>1</td>\n",
              "      <td>0</td>\n",
              "      <td>0.250</td>\n",
              "      <td>0.250</td>\n",
              "      <td>0.0</td>\n",
              "      <td>0.0</td>\n",
              "      <td>0.0</td>\n",
              "      <td>0.285714</td>\n",
              "      <td>0.286</td>\n",
              "      <td>0.50</td>\n",
              "      <td>0.285714</td>\n",
              "      <td>0</td>\n",
              "    </tr>\n",
              "    <tr>\n",
              "      <th>3</th>\n",
              "      <td>44293</td>\n",
              "      <td>강민호</td>\n",
              "      <td>두산</td>\n",
              "      <td>4</td>\n",
              "      <td>1</td>\n",
              "      <td>0.250</td>\n",
              "      <td>0.333</td>\n",
              "      <td>1.0</td>\n",
              "      <td>0.0</td>\n",
              "      <td>0.0</td>\n",
              "      <td>0.250000</td>\n",
              "      <td>0.250</td>\n",
              "      <td>0.33</td>\n",
              "      <td>0.250000</td>\n",
              "      <td>1</td>\n",
              "    </tr>\n",
              "    <tr>\n",
              "      <th>4</th>\n",
              "      <td>44294</td>\n",
              "      <td>강민호</td>\n",
              "      <td>두산</td>\n",
              "      <td>3</td>\n",
              "      <td>2</td>\n",
              "      <td>0.333</td>\n",
              "      <td>0.667</td>\n",
              "      <td>5.0</td>\n",
              "      <td>1.0</td>\n",
              "      <td>0.2</td>\n",
              "      <td>0.250000</td>\n",
              "      <td>0.250</td>\n",
              "      <td>0.50</td>\n",
              "      <td>0.250000</td>\n",
              "      <td>1</td>\n",
              "    </tr>\n",
              "  </tbody>\n",
              "</table>\n",
              "</div>"
            ],
            "text/plain": [
              "     day name  vs  ab  hit    avg    slg  vs_ab  vs_hit  vs_avg  recent_5  \\\n",
              "0  44289  강민호  키움   3    0  0.000  0.000    0.0     0.0     0.0  0.000000   \n",
              "1  44290  강민호  키움   4    2  0.286  0.286    3.0     0.0     0.0  0.000000   \n",
              "2  44292  강민호  두산   1    0  0.250  0.250    0.0     0.0     0.0  0.285714   \n",
              "3  44293  강민호  두산   4    1  0.250  0.333    1.0     0.0     0.0  0.250000   \n",
              "4  44294  강민호  두산   3    2  0.333  0.667    5.0     1.0     0.2  0.250000   \n",
              "\n",
              "   recent_10  success_recent_10  recent_5days  result  \n",
              "0      0.000               0.00      0.000000       0  \n",
              "1      0.000               0.00      0.000000       1  \n",
              "2      0.286               0.50      0.285714       0  \n",
              "3      0.250               0.33      0.250000       1  \n",
              "4      0.250               0.50      0.250000       1  "
            ]
          },
          "metadata": {
            "tags": []
          },
          "execution_count": 114
        }
      ]
    },
    {
      "cell_type": "code",
      "metadata": {
        "id": "urydav0GSZM3"
      },
      "source": [
        "data = pd.DataFrame(data)\n",
        "hitter = pd.DataFrame(hitter)\n",
        "vs_avg_data = pd.DataFrame(vs_avg_data)\n",
        "pitcher_stadium = pd.DataFrame(pitcher_stadium)"
      ],
      "execution_count": 110,
      "outputs": []
    },
    {
      "cell_type": "code",
      "metadata": {
        "id": "SGzN7Zbuh-ex"
      },
      "source": [
        "#일단 이 함수는 나중에,,\n",
        "def make_pitcher_stadium(record_data, pitcher_stadium):\n",
        "  day = np.empty(len(record_data), dtype=np.int32) # 기준이 되는 날짜\n",
        "  name = np.empty(len(record_data), dtype=np.chararray) # type : 문자열 저장을 위해 chararray\n",
        "  vs = np.empty(len(record_data), dtype=np.chararray)\n",
        "  over\n",
        "  stadium_avg = np.zeros(len(record_data))\n",
        "  \n",
        "  \n",
        "  vs = np.empty(len(record_data), dtype=np.chararray)\n",
        "  vs_ab = np.zeros(len(record_data))\n",
        "  vs_hit = np.zeros(len(record_data))"
      ],
      "execution_count": 115,
      "outputs": []
    },
    {
      "cell_type": "code",
      "metadata": {
        "id": "Nj69EkCcQ5Y3"
      },
      "source": [
        "print(data.head(), len(data))"
      ],
      "execution_count": null,
      "outputs": []
    },
    {
      "cell_type": "code",
      "metadata": {
        "id": "wogln08CS1Es"
      },
      "source": [
        "print(hitter.head(), len(hitter))"
      ],
      "execution_count": null,
      "outputs": []
    },
    {
      "cell_type": "code",
      "metadata": {
        "id": "1dijZgUMTClT"
      },
      "source": [
        "data.loc[:,['day','name','ab','hit']].dtypes"
      ],
      "execution_count": null,
      "outputs": []
    },
    {
      "cell_type": "code",
      "metadata": {
        "id": "IcJRNnO_qGaQ"
      },
      "source": [
        "data.loc[:,['day','name','ab','hit']]"
      ],
      "execution_count": null,
      "outputs": []
    },
    {
      "cell_type": "code",
      "metadata": {
        "id": "nD1xQjgCU-yx"
      },
      "source": [
        "#\n",
        "# 선수마다 최근 5일의 타율을 구해야함. \n",
        "# 현재 day에서 -5부터 -1까지의 sum(hit)/sum(ab) 값을 구하면 된다\n",
        "\n",
        "# hitter_data : 90명 타자 data\n",
        "# record_data : 날짜별 타자 기록\n",
        "# recent_day : 기본(최근 5일), 설정 가능\n",
        "def make_recent_days(hitter_data, record_data, recent_day=5):\n",
        "\n",
        "  # 최근 5일 경기 타율 저장할 공간 생성\n",
        "  recent_5days = np.zeros(len(record_data)) # 최근 5일 경기 타율\n",
        "  recent_5days_hitter = np.empty(len(record_data), dtype=np.chararray) # type : 문자열 저장을 위해 chararray\n",
        "  recent_5days_day = np.empty(len(record_data), dtype=np.int32) # 기준이 되는 날짜\n",
        "\n",
        "  ps = 0\n",
        "  for h in tqdm.tqdm(hitter_data['batter']): # 90명 타자 한명씩 접근\n",
        "    hdata = record_data.loc[record_data['name']==h] # 특정 타자 한명에 대해서만 데이터 추출\n",
        "    for r in hdata['day']: # 추출한 데이터에서 한 행씩 접근\n",
        "      recent_5days_hitter[ps] = h # 현재 타자\n",
        "      recent_5days_day[ps] = r  # 현재 기준 날짜\n",
        "      hrdata = hdata.loc[hdata['day']>=r-recent_day].loc[hdata['day']<=r-1] # 접근한 행의 날짜를 기준으로 5일 경기 \n",
        "      if len(hrdata)==0: # 최근 5일 경기 없으면 넘어가고\n",
        "        ps+=1\n",
        "        continue\n",
        "      else : # 있으면\n",
        "        sum_ab = sum(hrdata['ab'])\n",
        "        if sum_ab==0: # 경기 기록은 존재하지만 타수(ab)가 0\n",
        "          ps+=1\n",
        "          continue\n",
        "        sum_hit = sum(hrdata['hit'])\n",
        "        recent_5days[ps] = sum_hit/sum_ab\n",
        "        ps+=1\n",
        "\n",
        "  result_Dataframe = pd.DataFrame()\n",
        "  result_Dataframe['day'] = recent_5days_day\n",
        "  result_Dataframe['name'] = recent_5days_hitter\n",
        "  result_Dataframe['recent_5days'] = recent_5days\n",
        "  result_Dataframe\n",
        "\n",
        "  return result_Dataframe"
      ],
      "execution_count": 90,
      "outputs": []
    },
    {
      "cell_type": "code",
      "metadata": {
        "id": "7t9VB6ulhvBb"
      },
      "source": [
        "#상대 타율 구하는 함수\n",
        "#데이터 파일에서 vs 내림차순 후, 누적 타수 / 누적 안타 계산이 끝난 상태여야함\n",
        "def make_vs_avg(hitter_data, record_data):\n",
        "  vs_avg = np.zeros(len(record_data))\n",
        "  name = np.empty(len(record_data), dtype=np.chararray) # type : 문자열 저장을 위해 chararray\n",
        "  day = np.empty(len(record_data), dtype=np.int32) # 기준이 되는 날짜\n",
        "  vs = np.empty(len(record_data), dtype=np.chararray)\n",
        "  vs_ab = np.zeros(len(record_data))\n",
        "  vs_hit = np.zeros(len(record_data))\n",
        "\n",
        "  ps = 0\n",
        "  for h in tqdm.tqdm(hitter_data['batter']): # 90명 타자 한명씩 접근\n",
        "    hdata = record_data.loc[record_data['name']==h] # 특정 타자 한명에 대해서만 데이터 추출\n",
        "    for r, v,ab, hit in zip(hdata['day'], hdata['vs'], hdata['vs_cu_ab'], hdata['vs_cu_hit']): # 추출한 데이터에서 한 행씩 접근\n",
        "      day[ps] = r  # 현재 기준 날짜\n",
        "      name[ps] = h # 현재 타자\n",
        "      vs[ps] = v\n",
        "      vs_ab[ps] = ab\n",
        "      vs_hit[ps] = hit\n",
        "      try:\n",
        "        vs_avg[ps] = hit / ab\n",
        "      except ZeroDivisionError:\n",
        "        vs_avg[ps] = 0\n",
        "      ps+=1\n",
        "  \n",
        "  result_Dataframe = pd.DataFrame()\n",
        "  result_Dataframe['day'] = day\n",
        "  result_Dataframe['name'] = name\n",
        "  result_Dataframe['vs_team'] = vs\n",
        "  result_Dataframe['vs_ab'] = vs_ab\n",
        "  result_Dataframe['vs_hit'] = vs_hit\n",
        "  result_Dataframe['vs_avg'] = vs_avg\n",
        "  result_Dataframe\n",
        "\n",
        "  return result_Dataframe\n",
        "\n"
      ],
      "execution_count": 62,
      "outputs": []
    },
    {
      "cell_type": "code",
      "metadata": {
        "colab": {
          "base_uri": "https://localhost:8080/"
        },
        "id": "mCv2M4XhmOGO",
        "outputId": "9b13642e-bb06-4510-f7de-4538253af962"
      },
      "source": [
        "vs_avg = make_vs_avg(hitter, vs_avg_data)"
      ],
      "execution_count": 63,
      "outputs": [
        {
          "output_type": "stream",
          "text": [
            "100%|██████████| 90/90 [00:00<00:00, 896.72it/s]\n"
          ],
          "name": "stderr"
        }
      ]
    },
    {
      "cell_type": "code",
      "metadata": {
        "id": "RO8VyxNFmS5N"
      },
      "source": [
        "vs_avg.loc[vs_avg['name']=='전준우']"
      ],
      "execution_count": null,
      "outputs": []
    },
    {
      "cell_type": "code",
      "metadata": {
        "colab": {
          "base_uri": "https://localhost:8080/"
        },
        "id": "tf4q-BOfSOxs",
        "outputId": "c2b98ce5-200c-4f4e-a64d-691f3a029893"
      },
      "source": [
        "recent_days = make_recent_days(hitter, data)"
      ],
      "execution_count": 91,
      "outputs": [
        {
          "output_type": "stream",
          "text": [
            "100%|██████████| 90/90 [00:08<00:00, 10.58it/s]\n"
          ],
          "name": "stderr"
        }
      ]
    },
    {
      "cell_type": "code",
      "metadata": {
        "id": "H90lJwIKzSfX"
      },
      "source": [
        "recent_days"
      ],
      "execution_count": null,
      "outputs": []
    },
    {
      "cell_type": "code",
      "metadata": {
        "id": "4XxJNu7-vT79"
      },
      "source": [
        "merge_data1 = pd.merge(data, recent_days, on = ['day', 'name'], how = 'inner')"
      ],
      "execution_count": 98,
      "outputs": []
    },
    {
      "cell_type": "code",
      "metadata": {
        "id": "IR74PjKB1Fiv"
      },
      "source": [
        "merge_data1.drop_duplicates()"
      ],
      "execution_count": null,
      "outputs": []
    },
    {
      "cell_type": "code",
      "metadata": {
        "colab": {
          "base_uri": "https://localhost:8080/"
        },
        "id": "VoWx93N0ojVD",
        "outputId": "8166f889-c535-439f-f485-7184cefa5779"
      },
      "source": [
        "len(data), len(recent_days), len(vs_avg), len(merge_data1)"
      ],
      "execution_count": 104,
      "outputs": [
        {
          "output_type": "execute_result",
          "data": {
            "text/plain": [
              "(5296, 5296, 5296, 5586)"
            ]
          },
          "metadata": {
            "tags": []
          },
          "execution_count": 104
        }
      ]
    },
    {
      "cell_type": "code",
      "metadata": {
        "id": "lVomb3HF1jQg"
      },
      "source": [
        "merge_data1.loc[merge_data1['name']=='전준우']"
      ],
      "execution_count": null,
      "outputs": []
    },
    {
      "cell_type": "code",
      "metadata": {
        "id": "1YQm-Nk1xzAn"
      },
      "source": [
        "vs_avg"
      ],
      "execution_count": null,
      "outputs": []
    },
    {
      "cell_type": "code",
      "metadata": {
        "id": "heVGVc5LQhRG"
      },
      "source": [
        "merge_data2 = merge_data1.merge(vs_avg, on = ['day', 'name'])"
      ],
      "execution_count": 67,
      "outputs": []
    },
    {
      "cell_type": "code",
      "metadata": {
        "id": "ojw6UVAXRyGH"
      },
      "source": [
        "our_data = merge_data2.loc[:,['day','name', 'vs', 'ab','hit', 'avg', 'slg', 'vs_ab', 'vs_hit', 'vs_avg', 'recent_5','recent_10','success_recent_10','recent_5days', 'result']]"
      ],
      "execution_count": 68,
      "outputs": []
    },
    {
      "cell_type": "code",
      "metadata": {
        "id": "lZtya-M2vrkm"
      },
      "source": [
        "our_data.loc[our_data['name']=='전준우']"
      ],
      "execution_count": null,
      "outputs": []
    },
    {
      "cell_type": "code",
      "metadata": {
        "id": "OUzRXudsoZGk"
      },
      "source": [
        ""
      ],
      "execution_count": null,
      "outputs": []
    },
    {
      "cell_type": "code",
      "metadata": {
        "id": "VGJVW1zMvrmu"
      },
      "source": [
        ""
      ],
      "execution_count": null,
      "outputs": []
    }
  ]
}