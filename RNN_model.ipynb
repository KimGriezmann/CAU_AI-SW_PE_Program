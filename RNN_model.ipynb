{
  "nbformat": 4,
  "nbformat_minor": 0,
  "metadata": {
    "colab": {
      "name": "Web_Crawling__Selenium.ipynb",
      "provenance": [],
      "include_colab_link": true
    },
    "kernelspec": {
      "name": "python3",
      "display_name": "Python 3"
    },
    "language_info": {
      "name": "python"
    }
  },
  "cells": [
    {
      "cell_type": "markdown",
      "metadata": {
        "id": "view-in-github",
        "colab_type": "text"
      },
      "source": [
        "<a href=\"https://colab.research.google.com/github/KimGriezmann/DeepLearning_BeTheLegend/blob/master/RNN_model.ipynb\" target=\"_parent\"><img src=\"https://colab.research.google.com/assets/colab-badge.svg\" alt=\"Open In Colab\"/></a>"
      ]
    },
    {
      "cell_type": "markdown",
      "metadata": {
        "id": "MQZUvTKix_Wr"
      },
      "source": [
        "# **2018-21시즌 데이터를 사용한 MLP model**\n",
        "### Number of data = *29395*\n",
        "선발 출전한 선수\\\n",
        "3월, 4월 데이터 제외\\\n",
        "0타수인 데이터 제외\\\n",
        "avLI, RE24, WPA feature 추가\\\n",
        "Validation data set 추가\\\n",
        "loss & acc graph\n",
        "### Number of feature = *13*\n",
        "\n",
        "1. avg (타율)\n",
        "2. slg (장타율)\n",
        "3. ops (출루율 + 장타율)\n",
        "4. home/away_avg_y (홈/원정 별 타율)\n",
        "5. avLI\n",
        "6. RE24\n",
        "7. WPA\n",
        "8. vs_avg (상대 팀 타율)\n",
        "9. recent_5days_avg (최근 5일 타율)\n",
        "10. recent_5games_avg (최근 5경기 타율)\n",
        "11. recent_10games_avg (최근 10경기 타율)\n",
        "12. success_10days (최근 10일 성공률)\n",
        "13. success_10games (최근 10경기 성공률)\n",
        "\n",
        "acc = 0.8127\n",
        "\n"
      ]
    },
    {
      "cell_type": "code",
      "metadata": {
        "id": "B9FtxTkzzZZr"
      },
      "source": [
        "import numpy as np\n",
        "import pandas as pd\n",
        "import tqdm\n",
        "import os\n",
        "import matplotlib.pyplot as plt\n",
        "import seaborn as sns"
      ],
      "execution_count": 4,
      "outputs": []
    },
    {
      "cell_type": "code",
      "metadata": {
        "colab": {
          "base_uri": "https://localhost:8080/"
        },
        "id": "nVHrSFQLl3T9",
        "outputId": "dbdc1920-4ab5-4540-aa68-6ca4f032182d"
      },
      "source": [
        "from google.colab import drive\n",
        "drive.mount('/gdrive', force_remount=True)"
      ],
      "execution_count": 1,
      "outputs": [
        {
          "output_type": "stream",
          "text": [
            "Mounted at /gdrive\n"
          ],
          "name": "stdout"
        }
      ]
    },
    {
      "cell_type": "code",
      "metadata": {
        "colab": {
          "base_uri": "https://localhost:8080/"
        },
        "id": "lpXdABfSmZEW",
        "outputId": "7662594e-8e41-4e08-8dba-5cdab81c9fb0"
      },
      "source": [
        "from google.colab import drive\n",
        "drive.mount('/content/drive')"
      ],
      "execution_count": 2,
      "outputs": [
        {
          "output_type": "stream",
          "text": [
            "Mounted at /content/drive\n"
          ],
          "name": "stdout"
        }
      ]
    },
    {
      "cell_type": "code",
      "metadata": {
        "id": "N5DR_EdFsRmq"
      },
      "source": [
        "final_2018_2021 = pd.read_csv('/content/drive/MyDrive/bethelegend/final_2018_2021.csv', encoding='euc-kr')"
      ],
      "execution_count": 36,
      "outputs": []
    },
    {
      "cell_type": "code",
      "metadata": {
        "colab": {
          "base_uri": "https://localhost:8080/",
          "height": 609
        },
        "id": "p_UIY1Ntsr8f",
        "outputId": "03474579-e86a-47b4-c4f2-170a70907ca1"
      },
      "source": [
        "final_2018_2021"
      ],
      "execution_count": null,
      "outputs": [
        {
          "output_type": "execute_result",
          "data": {
            "text/html": [
              "<div>\n",
              "<style scoped>\n",
              "    .dataframe tbody tr th:only-of-type {\n",
              "        vertical-align: middle;\n",
              "    }\n",
              "\n",
              "    .dataframe tbody tr th {\n",
              "        vertical-align: top;\n",
              "    }\n",
              "\n",
              "    .dataframe thead th {\n",
              "        text-align: right;\n",
              "    }\n",
              "</style>\n",
              "<table border=\"1\" class=\"dataframe\">\n",
              "  <thead>\n",
              "    <tr style=\"text-align: right;\">\n",
              "      <th></th>\n",
              "      <th>name</th>\n",
              "      <th>day</th>\n",
              "      <th>vs</th>\n",
              "      <th>result_x</th>\n",
              "      <th>bat_order</th>\n",
              "      <th>position</th>\n",
              "      <th>start_member</th>\n",
              "      <th>ab</th>\n",
              "      <th>score</th>\n",
              "      <th>hit</th>\n",
              "      <th>2_hit</th>\n",
              "      <th>3_hit</th>\n",
              "      <th>homerun</th>\n",
              "      <th>tb</th>\n",
              "      <th>rbi</th>\n",
              "      <th>sb</th>\n",
              "      <th>cs</th>\n",
              "      <th>bb</th>\n",
              "      <th>hpp</th>\n",
              "      <th>ibb</th>\n",
              "      <th>so</th>\n",
              "      <th>gdp</th>\n",
              "      <th>sh</th>\n",
              "      <th>sf</th>\n",
              "      <th>avg</th>\n",
              "      <th>obp</th>\n",
              "      <th>slg</th>\n",
              "      <th>ops</th>\n",
              "      <th>pitch</th>\n",
              "      <th>avLI</th>\n",
              "      <th>RE24</th>\n",
              "      <th>WPA</th>\n",
              "      <th>double</th>\n",
              "      <th>vs_team_x</th>\n",
              "      <th>home/away_x</th>\n",
              "      <th>home_ab_x</th>\n",
              "      <th>home_hit_x</th>\n",
              "      <th>away_ab_x</th>\n",
              "      <th>away_hit_x</th>\n",
              "      <th>home/away_avg_x</th>\n",
              "      <th>vs_team_y</th>\n",
              "      <th>home/away_y</th>\n",
              "      <th>home_ab_y</th>\n",
              "      <th>home_hit_y</th>\n",
              "      <th>away_ab_y</th>\n",
              "      <th>away_hit_y</th>\n",
              "      <th>home/away_avg_y</th>\n",
              "      <th>vs_team</th>\n",
              "      <th>result_y</th>\n",
              "      <th>home/away</th>\n",
              "      <th>vs_ab</th>\n",
              "      <th>vs_hit</th>\n",
              "      <th>vs_avg</th>\n",
              "      <th>recent_5days_avg</th>\n",
              "      <th>recent_5games_avg</th>\n",
              "      <th>recent_10games_avg</th>\n",
              "      <th>success_10days</th>\n",
              "      <th>success_10games</th>\n",
              "    </tr>\n",
              "  </thead>\n",
              "  <tbody>\n",
              "    <tr>\n",
              "      <th>0</th>\n",
              "      <td>강백호</td>\n",
              "      <td>404</td>\n",
              "      <td>한화</td>\n",
              "      <td>W 3:2</td>\n",
              "      <td>4</td>\n",
              "      <td>1B</td>\n",
              "      <td>1</td>\n",
              "      <td>3</td>\n",
              "      <td>0</td>\n",
              "      <td>2</td>\n",
              "      <td>0</td>\n",
              "      <td>0</td>\n",
              "      <td>0</td>\n",
              "      <td>2</td>\n",
              "      <td>0</td>\n",
              "      <td>2</td>\n",
              "      <td>0</td>\n",
              "      <td>1</td>\n",
              "      <td>0</td>\n",
              "      <td>0</td>\n",
              "      <td>0</td>\n",
              "      <td>0</td>\n",
              "      <td>0</td>\n",
              "      <td>0</td>\n",
              "      <td>0.667</td>\n",
              "      <td>NaN</td>\n",
              "      <td>0.667</td>\n",
              "      <td>1.417</td>\n",
              "      <td>16</td>\n",
              "      <td>1.14</td>\n",
              "      <td>0.89</td>\n",
              "      <td>0.122</td>\n",
              "      <td>0.0</td>\n",
              "      <td>한화</td>\n",
              "      <td>home</td>\n",
              "      <td>0</td>\n",
              "      <td>0</td>\n",
              "      <td>0</td>\n",
              "      <td>0</td>\n",
              "      <td>NaN</td>\n",
              "      <td>한화</td>\n",
              "      <td>home</td>\n",
              "      <td>0</td>\n",
              "      <td>0</td>\n",
              "      <td>0</td>\n",
              "      <td>0</td>\n",
              "      <td>0.000</td>\n",
              "      <td>한화</td>\n",
              "      <td>1</td>\n",
              "      <td>home</td>\n",
              "      <td>0</td>\n",
              "      <td>0</td>\n",
              "      <td>0.000</td>\n",
              "      <td>0.000000</td>\n",
              "      <td>0.000000</td>\n",
              "      <td>0.000000</td>\n",
              "      <td>0.000000</td>\n",
              "      <td>0.000000</td>\n",
              "    </tr>\n",
              "    <tr>\n",
              "      <th>1</th>\n",
              "      <td>강백호</td>\n",
              "      <td>406</td>\n",
              "      <td>LG</td>\n",
              "      <td>L 2:3</td>\n",
              "      <td>4</td>\n",
              "      <td>1B</td>\n",
              "      <td>1</td>\n",
              "      <td>4</td>\n",
              "      <td>0</td>\n",
              "      <td>0</td>\n",
              "      <td>0</td>\n",
              "      <td>0</td>\n",
              "      <td>0</td>\n",
              "      <td>0</td>\n",
              "      <td>0</td>\n",
              "      <td>0</td>\n",
              "      <td>0</td>\n",
              "      <td>0</td>\n",
              "      <td>0</td>\n",
              "      <td>0</td>\n",
              "      <td>2</td>\n",
              "      <td>0</td>\n",
              "      <td>0</td>\n",
              "      <td>0</td>\n",
              "      <td>0.286</td>\n",
              "      <td>NaN</td>\n",
              "      <td>0.286</td>\n",
              "      <td>0.661</td>\n",
              "      <td>14</td>\n",
              "      <td>2.07</td>\n",
              "      <td>-1.00</td>\n",
              "      <td>-0.183</td>\n",
              "      <td>0.0</td>\n",
              "      <td>LG</td>\n",
              "      <td>home</td>\n",
              "      <td>3</td>\n",
              "      <td>2</td>\n",
              "      <td>0</td>\n",
              "      <td>0</td>\n",
              "      <td>0.667</td>\n",
              "      <td>LG</td>\n",
              "      <td>home</td>\n",
              "      <td>3</td>\n",
              "      <td>2</td>\n",
              "      <td>0</td>\n",
              "      <td>0</td>\n",
              "      <td>0.667</td>\n",
              "      <td>LG</td>\n",
              "      <td>0</td>\n",
              "      <td>home</td>\n",
              "      <td>0</td>\n",
              "      <td>0</td>\n",
              "      <td>0.000</td>\n",
              "      <td>0.666667</td>\n",
              "      <td>0.666667</td>\n",
              "      <td>0.666667</td>\n",
              "      <td>1.000000</td>\n",
              "      <td>1.000000</td>\n",
              "    </tr>\n",
              "    <tr>\n",
              "      <th>2</th>\n",
              "      <td>강백호</td>\n",
              "      <td>407</td>\n",
              "      <td>LG</td>\n",
              "      <td>W 7:3</td>\n",
              "      <td>4</td>\n",
              "      <td>1B</td>\n",
              "      <td>1</td>\n",
              "      <td>4</td>\n",
              "      <td>0</td>\n",
              "      <td>3</td>\n",
              "      <td>0</td>\n",
              "      <td>0</td>\n",
              "      <td>0</td>\n",
              "      <td>3</td>\n",
              "      <td>1</td>\n",
              "      <td>0</td>\n",
              "      <td>0</td>\n",
              "      <td>1</td>\n",
              "      <td>0</td>\n",
              "      <td>0</td>\n",
              "      <td>0</td>\n",
              "      <td>0</td>\n",
              "      <td>0</td>\n",
              "      <td>0</td>\n",
              "      <td>0.455</td>\n",
              "      <td>NaN</td>\n",
              "      <td>0.455</td>\n",
              "      <td>0.993</td>\n",
              "      <td>17</td>\n",
              "      <td>1.43</td>\n",
              "      <td>1.75</td>\n",
              "      <td>0.330</td>\n",
              "      <td>0.0</td>\n",
              "      <td>LG</td>\n",
              "      <td>home</td>\n",
              "      <td>7</td>\n",
              "      <td>2</td>\n",
              "      <td>0</td>\n",
              "      <td>0</td>\n",
              "      <td>0.286</td>\n",
              "      <td>LG</td>\n",
              "      <td>home</td>\n",
              "      <td>7</td>\n",
              "      <td>2</td>\n",
              "      <td>0</td>\n",
              "      <td>0</td>\n",
              "      <td>0.286</td>\n",
              "      <td>LG</td>\n",
              "      <td>1</td>\n",
              "      <td>home</td>\n",
              "      <td>4</td>\n",
              "      <td>0</td>\n",
              "      <td>0.000</td>\n",
              "      <td>0.285714</td>\n",
              "      <td>0.285714</td>\n",
              "      <td>0.285714</td>\n",
              "      <td>0.500000</td>\n",
              "      <td>0.500000</td>\n",
              "    </tr>\n",
              "    <tr>\n",
              "      <th>3</th>\n",
              "      <td>강백호</td>\n",
              "      <td>408</td>\n",
              "      <td>LG</td>\n",
              "      <td>L 3:7</td>\n",
              "      <td>4</td>\n",
              "      <td>1B</td>\n",
              "      <td>1</td>\n",
              "      <td>4</td>\n",
              "      <td>0</td>\n",
              "      <td>2</td>\n",
              "      <td>0</td>\n",
              "      <td>0</td>\n",
              "      <td>0</td>\n",
              "      <td>2</td>\n",
              "      <td>0</td>\n",
              "      <td>0</td>\n",
              "      <td>0</td>\n",
              "      <td>0</td>\n",
              "      <td>0</td>\n",
              "      <td>0</td>\n",
              "      <td>1</td>\n",
              "      <td>1</td>\n",
              "      <td>0</td>\n",
              "      <td>0</td>\n",
              "      <td>0.467</td>\n",
              "      <td>NaN</td>\n",
              "      <td>0.467</td>\n",
              "      <td>0.996</td>\n",
              "      <td>17</td>\n",
              "      <td>0.89</td>\n",
              "      <td>-0.76</td>\n",
              "      <td>-0.102</td>\n",
              "      <td>0.0</td>\n",
              "      <td>LG</td>\n",
              "      <td>home</td>\n",
              "      <td>11</td>\n",
              "      <td>5</td>\n",
              "      <td>0</td>\n",
              "      <td>0</td>\n",
              "      <td>0.455</td>\n",
              "      <td>LG</td>\n",
              "      <td>home</td>\n",
              "      <td>11</td>\n",
              "      <td>5</td>\n",
              "      <td>0</td>\n",
              "      <td>0</td>\n",
              "      <td>0.455</td>\n",
              "      <td>LG</td>\n",
              "      <td>1</td>\n",
              "      <td>home</td>\n",
              "      <td>8</td>\n",
              "      <td>3</td>\n",
              "      <td>0.375</td>\n",
              "      <td>0.454545</td>\n",
              "      <td>0.454545</td>\n",
              "      <td>0.454545</td>\n",
              "      <td>0.666667</td>\n",
              "      <td>0.666667</td>\n",
              "    </tr>\n",
              "    <tr>\n",
              "      <th>4</th>\n",
              "      <td>강백호</td>\n",
              "      <td>409</td>\n",
              "      <td>@삼성</td>\n",
              "      <td>L 5:7</td>\n",
              "      <td>4</td>\n",
              "      <td>1B</td>\n",
              "      <td>1</td>\n",
              "      <td>5</td>\n",
              "      <td>0</td>\n",
              "      <td>3</td>\n",
              "      <td>0</td>\n",
              "      <td>1</td>\n",
              "      <td>0</td>\n",
              "      <td>5</td>\n",
              "      <td>3</td>\n",
              "      <td>0</td>\n",
              "      <td>0</td>\n",
              "      <td>0</td>\n",
              "      <td>0</td>\n",
              "      <td>0</td>\n",
              "      <td>1</td>\n",
              "      <td>1</td>\n",
              "      <td>0</td>\n",
              "      <td>0</td>\n",
              "      <td>0.500</td>\n",
              "      <td>NaN</td>\n",
              "      <td>0.600</td>\n",
              "      <td>1.145</td>\n",
              "      <td>21</td>\n",
              "      <td>0.94</td>\n",
              "      <td>1.88</td>\n",
              "      <td>-0.122</td>\n",
              "      <td>0.0</td>\n",
              "      <td>삼성</td>\n",
              "      <td>away</td>\n",
              "      <td>15</td>\n",
              "      <td>7</td>\n",
              "      <td>0</td>\n",
              "      <td>0</td>\n",
              "      <td>NaN</td>\n",
              "      <td>삼성</td>\n",
              "      <td>away</td>\n",
              "      <td>15</td>\n",
              "      <td>7</td>\n",
              "      <td>0</td>\n",
              "      <td>0</td>\n",
              "      <td>0.000</td>\n",
              "      <td>삼성</td>\n",
              "      <td>1</td>\n",
              "      <td>away</td>\n",
              "      <td>0</td>\n",
              "      <td>0</td>\n",
              "      <td>0.000</td>\n",
              "      <td>0.466667</td>\n",
              "      <td>0.466667</td>\n",
              "      <td>0.466667</td>\n",
              "      <td>0.750000</td>\n",
              "      <td>0.750000</td>\n",
              "    </tr>\n",
              "    <tr>\n",
              "      <th>...</th>\n",
              "      <td>...</td>\n",
              "      <td>...</td>\n",
              "      <td>...</td>\n",
              "      <td>...</td>\n",
              "      <td>...</td>\n",
              "      <td>...</td>\n",
              "      <td>...</td>\n",
              "      <td>...</td>\n",
              "      <td>...</td>\n",
              "      <td>...</td>\n",
              "      <td>...</td>\n",
              "      <td>...</td>\n",
              "      <td>...</td>\n",
              "      <td>...</td>\n",
              "      <td>...</td>\n",
              "      <td>...</td>\n",
              "      <td>...</td>\n",
              "      <td>...</td>\n",
              "      <td>...</td>\n",
              "      <td>...</td>\n",
              "      <td>...</td>\n",
              "      <td>...</td>\n",
              "      <td>...</td>\n",
              "      <td>...</td>\n",
              "      <td>...</td>\n",
              "      <td>...</td>\n",
              "      <td>...</td>\n",
              "      <td>...</td>\n",
              "      <td>...</td>\n",
              "      <td>...</td>\n",
              "      <td>...</td>\n",
              "      <td>...</td>\n",
              "      <td>...</td>\n",
              "      <td>...</td>\n",
              "      <td>...</td>\n",
              "      <td>...</td>\n",
              "      <td>...</td>\n",
              "      <td>...</td>\n",
              "      <td>...</td>\n",
              "      <td>...</td>\n",
              "      <td>...</td>\n",
              "      <td>...</td>\n",
              "      <td>...</td>\n",
              "      <td>...</td>\n",
              "      <td>...</td>\n",
              "      <td>...</td>\n",
              "      <td>...</td>\n",
              "      <td>...</td>\n",
              "      <td>...</td>\n",
              "      <td>...</td>\n",
              "      <td>...</td>\n",
              "      <td>...</td>\n",
              "      <td>...</td>\n",
              "      <td>...</td>\n",
              "      <td>...</td>\n",
              "      <td>...</td>\n",
              "      <td>...</td>\n",
              "      <td>...</td>\n",
              "    </tr>\n",
              "    <tr>\n",
              "      <th>39113</th>\n",
              "      <td>강경학</td>\n",
              "      <td>1006</td>\n",
              "      <td>@롯데</td>\n",
              "      <td>L 5:8</td>\n",
              "      <td>9</td>\n",
              "      <td>PH</td>\n",
              "      <td>0</td>\n",
              "      <td>1</td>\n",
              "      <td>0</td>\n",
              "      <td>0</td>\n",
              "      <td>0</td>\n",
              "      <td>0</td>\n",
              "      <td>0</td>\n",
              "      <td>0</td>\n",
              "      <td>0</td>\n",
              "      <td>0</td>\n",
              "      <td>0</td>\n",
              "      <td>0</td>\n",
              "      <td>0</td>\n",
              "      <td>0</td>\n",
              "      <td>1</td>\n",
              "      <td>0</td>\n",
              "      <td>0</td>\n",
              "      <td>0</td>\n",
              "      <td>0.277</td>\n",
              "      <td>NaN</td>\n",
              "      <td>0.393</td>\n",
              "      <td>0.775</td>\n",
              "      <td>6</td>\n",
              "      <td>0.39</td>\n",
              "      <td>-0.25</td>\n",
              "      <td>-0.012</td>\n",
              "      <td>0.0</td>\n",
              "      <td>롯데</td>\n",
              "      <td>away</td>\n",
              "      <td>133</td>\n",
              "      <td>35</td>\n",
              "      <td>108</td>\n",
              "      <td>32</td>\n",
              "      <td>0.296</td>\n",
              "      <td>롯데</td>\n",
              "      <td>away</td>\n",
              "      <td>133</td>\n",
              "      <td>35</td>\n",
              "      <td>108</td>\n",
              "      <td>32</td>\n",
              "      <td>0.296</td>\n",
              "      <td>롯데</td>\n",
              "      <td>0</td>\n",
              "      <td>away</td>\n",
              "      <td>15</td>\n",
              "      <td>3</td>\n",
              "      <td>0.200</td>\n",
              "      <td>0.250000</td>\n",
              "      <td>0.111111</td>\n",
              "      <td>0.200000</td>\n",
              "      <td>0.500000</td>\n",
              "      <td>0.400000</td>\n",
              "    </tr>\n",
              "    <tr>\n",
              "      <th>39114</th>\n",
              "      <td>강경학</td>\n",
              "      <td>1009</td>\n",
              "      <td>@KT</td>\n",
              "      <td>W 10:6</td>\n",
              "      <td>8</td>\n",
              "      <td>PH</td>\n",
              "      <td>0</td>\n",
              "      <td>3</td>\n",
              "      <td>1</td>\n",
              "      <td>1</td>\n",
              "      <td>0</td>\n",
              "      <td>0</td>\n",
              "      <td>0</td>\n",
              "      <td>1</td>\n",
              "      <td>0</td>\n",
              "      <td>0</td>\n",
              "      <td>0</td>\n",
              "      <td>0</td>\n",
              "      <td>0</td>\n",
              "      <td>0</td>\n",
              "      <td>2</td>\n",
              "      <td>0</td>\n",
              "      <td>0</td>\n",
              "      <td>0</td>\n",
              "      <td>0.278</td>\n",
              "      <td>NaN</td>\n",
              "      <td>0.392</td>\n",
              "      <td>0.774</td>\n",
              "      <td>15</td>\n",
              "      <td>0.09</td>\n",
              "      <td>-0.03</td>\n",
              "      <td>-0.004</td>\n",
              "      <td>0.0</td>\n",
              "      <td>KT</td>\n",
              "      <td>away</td>\n",
              "      <td>133</td>\n",
              "      <td>35</td>\n",
              "      <td>109</td>\n",
              "      <td>32</td>\n",
              "      <td>0.294</td>\n",
              "      <td>KT</td>\n",
              "      <td>away</td>\n",
              "      <td>133</td>\n",
              "      <td>35</td>\n",
              "      <td>109</td>\n",
              "      <td>32</td>\n",
              "      <td>0.294</td>\n",
              "      <td>KT</td>\n",
              "      <td>1</td>\n",
              "      <td>away</td>\n",
              "      <td>36</td>\n",
              "      <td>12</td>\n",
              "      <td>0.333</td>\n",
              "      <td>0.000000</td>\n",
              "      <td>0.125000</td>\n",
              "      <td>0.222222</td>\n",
              "      <td>0.333333</td>\n",
              "      <td>0.400000</td>\n",
              "    </tr>\n",
              "    <tr>\n",
              "      <th>39115</th>\n",
              "      <td>강경학</td>\n",
              "      <td>1019</td>\n",
              "      <td>넥센</td>\n",
              "      <td>L 2:3</td>\n",
              "      <td>9</td>\n",
              "      <td>PR</td>\n",
              "      <td>0</td>\n",
              "      <td>0</td>\n",
              "      <td>0</td>\n",
              "      <td>0</td>\n",
              "      <td>0</td>\n",
              "      <td>0</td>\n",
              "      <td>0</td>\n",
              "      <td>0</td>\n",
              "      <td>0</td>\n",
              "      <td>0</td>\n",
              "      <td>0</td>\n",
              "      <td>0</td>\n",
              "      <td>0</td>\n",
              "      <td>0</td>\n",
              "      <td>0</td>\n",
              "      <td>0</td>\n",
              "      <td>0</td>\n",
              "      <td>0</td>\n",
              "      <td>0.000</td>\n",
              "      <td>NaN</td>\n",
              "      <td>0.000</td>\n",
              "      <td>0.000</td>\n",
              "      <td>0</td>\n",
              "      <td>0.00</td>\n",
              "      <td>0.00</td>\n",
              "      <td>0.000</td>\n",
              "      <td>0.0</td>\n",
              "      <td>넥센</td>\n",
              "      <td>home</td>\n",
              "      <td>133</td>\n",
              "      <td>35</td>\n",
              "      <td>112</td>\n",
              "      <td>33</td>\n",
              "      <td>0.263</td>\n",
              "      <td>넥센</td>\n",
              "      <td>home</td>\n",
              "      <td>133</td>\n",
              "      <td>35</td>\n",
              "      <td>112</td>\n",
              "      <td>33</td>\n",
              "      <td>0.263</td>\n",
              "      <td>넥센</td>\n",
              "      <td>0</td>\n",
              "      <td>home</td>\n",
              "      <td>27</td>\n",
              "      <td>8</td>\n",
              "      <td>0.296</td>\n",
              "      <td>0.000000</td>\n",
              "      <td>0.222222</td>\n",
              "      <td>0.235294</td>\n",
              "      <td>1.000000</td>\n",
              "      <td>0.400000</td>\n",
              "    </tr>\n",
              "    <tr>\n",
              "      <th>39116</th>\n",
              "      <td>강경학</td>\n",
              "      <td>1020</td>\n",
              "      <td>넥센</td>\n",
              "      <td>L 5:7</td>\n",
              "      <td>7</td>\n",
              "      <td>PH</td>\n",
              "      <td>0</td>\n",
              "      <td>1</td>\n",
              "      <td>0</td>\n",
              "      <td>0</td>\n",
              "      <td>0</td>\n",
              "      <td>0</td>\n",
              "      <td>0</td>\n",
              "      <td>0</td>\n",
              "      <td>0</td>\n",
              "      <td>0</td>\n",
              "      <td>0</td>\n",
              "      <td>0</td>\n",
              "      <td>0</td>\n",
              "      <td>0</td>\n",
              "      <td>0</td>\n",
              "      <td>0</td>\n",
              "      <td>0</td>\n",
              "      <td>0</td>\n",
              "      <td>0.000</td>\n",
              "      <td>NaN</td>\n",
              "      <td>0.000</td>\n",
              "      <td>0.000</td>\n",
              "      <td>6</td>\n",
              "      <td>1.94</td>\n",
              "      <td>-0.47</td>\n",
              "      <td>-0.050</td>\n",
              "      <td>0.0</td>\n",
              "      <td>넥센</td>\n",
              "      <td>home</td>\n",
              "      <td>133</td>\n",
              "      <td>35</td>\n",
              "      <td>112</td>\n",
              "      <td>33</td>\n",
              "      <td>0.263</td>\n",
              "      <td>넥센</td>\n",
              "      <td>home</td>\n",
              "      <td>133</td>\n",
              "      <td>35</td>\n",
              "      <td>112</td>\n",
              "      <td>33</td>\n",
              "      <td>0.263</td>\n",
              "      <td>넥센</td>\n",
              "      <td>0</td>\n",
              "      <td>home</td>\n",
              "      <td>27</td>\n",
              "      <td>8</td>\n",
              "      <td>0.296</td>\n",
              "      <td>0.000000</td>\n",
              "      <td>0.250000</td>\n",
              "      <td>0.235294</td>\n",
              "      <td>0.000000</td>\n",
              "      <td>0.400000</td>\n",
              "    </tr>\n",
              "    <tr>\n",
              "      <th>39117</th>\n",
              "      <td>강경학</td>\n",
              "      <td>1023</td>\n",
              "      <td>@넥센</td>\n",
              "      <td>L 2:5</td>\n",
              "      <td>8</td>\n",
              "      <td>PH</td>\n",
              "      <td>0</td>\n",
              "      <td>1</td>\n",
              "      <td>0</td>\n",
              "      <td>1</td>\n",
              "      <td>1</td>\n",
              "      <td>0</td>\n",
              "      <td>0</td>\n",
              "      <td>2</td>\n",
              "      <td>0</td>\n",
              "      <td>0</td>\n",
              "      <td>0</td>\n",
              "      <td>0</td>\n",
              "      <td>0</td>\n",
              "      <td>0</td>\n",
              "      <td>0</td>\n",
              "      <td>0</td>\n",
              "      <td>0</td>\n",
              "      <td>0</td>\n",
              "      <td>0.500</td>\n",
              "      <td>NaN</td>\n",
              "      <td>1.000</td>\n",
              "      <td>1.500</td>\n",
              "      <td>3</td>\n",
              "      <td>0.75</td>\n",
              "      <td>0.63</td>\n",
              "      <td>0.044</td>\n",
              "      <td>0.0</td>\n",
              "      <td>넥센</td>\n",
              "      <td>away</td>\n",
              "      <td>134</td>\n",
              "      <td>35</td>\n",
              "      <td>112</td>\n",
              "      <td>33</td>\n",
              "      <td>0.295</td>\n",
              "      <td>넥센</td>\n",
              "      <td>away</td>\n",
              "      <td>134</td>\n",
              "      <td>35</td>\n",
              "      <td>112</td>\n",
              "      <td>33</td>\n",
              "      <td>0.295</td>\n",
              "      <td>넥센</td>\n",
              "      <td>1</td>\n",
              "      <td>away</td>\n",
              "      <td>28</td>\n",
              "      <td>8</td>\n",
              "      <td>0.286</td>\n",
              "      <td>0.000000</td>\n",
              "      <td>0.142857</td>\n",
              "      <td>0.176471</td>\n",
              "      <td>0.000000</td>\n",
              "      <td>0.300000</td>\n",
              "    </tr>\n",
              "  </tbody>\n",
              "</table>\n",
              "<p>39118 rows × 58 columns</p>\n",
              "</div>"
            ],
            "text/plain": [
              "      name   day   vs  ... recent_10games_avg  success_10days success_10games\n",
              "0      강백호   404   한화  ...           0.000000        0.000000        0.000000\n",
              "1      강백호   406   LG  ...           0.666667        1.000000        1.000000\n",
              "2      강백호   407   LG  ...           0.285714        0.500000        0.500000\n",
              "3      강백호   408   LG  ...           0.454545        0.666667        0.666667\n",
              "4      강백호   409  @삼성  ...           0.466667        0.750000        0.750000\n",
              "...    ...   ...  ...  ...                ...             ...             ...\n",
              "39113  강경학  1006  @롯데  ...           0.200000        0.500000        0.400000\n",
              "39114  강경학  1009  @KT  ...           0.222222        0.333333        0.400000\n",
              "39115  강경학  1019   넥센  ...           0.235294        1.000000        0.400000\n",
              "39116  강경학  1020   넥센  ...           0.235294        0.000000        0.400000\n",
              "39117  강경학  1023  @넥센  ...           0.176471        0.000000        0.300000\n",
              "\n",
              "[39118 rows x 58 columns]"
            ]
          },
          "metadata": {
            "tags": []
          },
          "execution_count": 5
        }
      ]
    },
    {
      "cell_type": "code",
      "metadata": {
        "colab": {
          "base_uri": "https://localhost:8080/",
          "height": 334
        },
        "id": "DLA515YOszeW",
        "outputId": "7f312838-66c6-4858-a88d-8d1fbcf6ba48"
      },
      "source": [
        "sns.countplot(final_2018_2021['ab'])\n",
        "plt.show()"
      ],
      "execution_count": null,
      "outputs": [
        {
          "output_type": "stream",
          "text": [
            "/usr/local/lib/python3.7/dist-packages/seaborn/_decorators.py:43: FutureWarning: Pass the following variable as a keyword arg: x. From version 0.12, the only valid positional argument will be `data`, and passing other arguments without an explicit keyword will result in an error or misinterpretation.\n",
            "  FutureWarning\n"
          ],
          "name": "stderr"
        },
        {
          "output_type": "display_data",
          "data": {
            "image/png": "[encoded data removed]",
            "text/plain": [
              "<Figure size 432x288 with 1 Axes>"
            ]
          },
          "metadata": {
            "tags": [],
            "needs_background": "light"
          }
        }
      ]
    },
    {
      "cell_type": "code",
      "metadata": {
        "id": "TZ1f36nesIrz"
      },
      "source": [
        "#선발 출장에 한정\n",
        "final_2018_2021 = final_2018_2021[final_2018_2021['start_member'] == 1]"
      ],
      "execution_count": 37,
      "outputs": []
    },
    {
      "cell_type": "code",
      "metadata": {
        "id": "sup1IOqbwfFr"
      },
      "source": [
        "#3월, 4월 데이터 제외\n",
        "final_2018_2021 = final_2018_2021.loc[final_2018_2021['day']>= 500]"
      ],
      "execution_count": 38,
      "outputs": []
    },
    {
      "cell_type": "code",
      "metadata": {
        "id": "iF4wzQ2cX2Ue"
      },
      "source": [
        "#0타수 데이터 제외\n",
        "final_2018_2021 = final_2018_2021[final_2018_2021['ab']>0]"
      ],
      "execution_count": 39,
      "outputs": []
    },
    {
      "cell_type": "code",
      "metadata": {
        "id": "pZZyPZ6MXTai"
      },
      "source": [
        "final_2018_2021"
      ],
      "execution_count": null,
      "outputs": []
    },
    {
      "cell_type": "markdown",
      "metadata": {
        "id": "6vKbGIXYnVOa"
      },
      "source": [
        "### **Multi layer Perceptron in Be the legend**"
      ]
    },
    {
      "cell_type": "code",
      "metadata": {
        "id": "RFweHbLdmuMq"
      },
      "source": [
        "mlp_data = final_2018_2021.loc[:, ['name', 'day', 'start_member', 'vs_team', 'avg', 'slg', 'ops', 'avLI', 'RE24', 'WPA', 'home/away_avg_y', 'vs_ab', 'vs_hit', 'vs_avg', 'recent_5days_avg', 'recent_5games_avg', 'recent_10games_avg', 'success_10days', 'success_10games', 'result_y']]"
      ],
      "execution_count": 60,
      "outputs": []
    },
    {
      "cell_type": "code",
      "metadata": {
        "id": "hNns44d1muU0"
      },
      "source": [
        "mlp_data"
      ],
      "execution_count": null,
      "outputs": []
    },
    {
      "cell_type": "code",
      "metadata": {
        "id": "3cid426-ZUot",
        "colab": {
          "base_uri": "https://localhost:8080/"
        },
        "outputId": "1010b17d-1852-40d1-f3e0-dc5bdd9202ed"
      },
      "source": [
        "len(mlp_data)"
      ],
      "execution_count": null,
      "outputs": [
        {
          "output_type": "execute_result",
          "data": {
            "text/plain": [
              "29395"
            ]
          },
          "metadata": {},
          "execution_count": 9
        }
      ]
    },
    {
      "cell_type": "code",
      "metadata": {
        "id": "ZnGxy06A1Yos",
        "colab": {
          "base_uri": "https://localhost:8080/"
        },
        "outputId": "8b16a117-d05e-4f51-fe9f-5ff738f37661"
      },
      "source": [
        "len(mlp_data[mlp_data['result_y'] == 1]) / len(mlp_data) * 100"
      ],
      "execution_count": 42,
      "outputs": [
        {
          "output_type": "execute_result",
          "data": {
            "text/plain": [
              "67.47065827521688"
            ]
          },
          "metadata": {},
          "execution_count": 42
        }
      ]
    },
    {
      "cell_type": "code",
      "metadata": {
        "id": "-iD5efWEmuXc"
      },
      "source": [
        "from keras.utils.np_utils import to_categorical\n",
        "import numpy as np\n",
        "from sklearn.preprocessing import minmax_scale\n",
        "from keras.models import Sequential\n",
        "from keras.layers import Dense, Dropout, Activation\n",
        "from sklearn.model_selection import train_test_split\n",
        "from sklearn.model_selection import KFold \n",
        "from sklearn.model_selection import cross_val_score\n",
        "from keras.wrappers.scikit_learn import KerasClassifier"
      ],
      "execution_count": 10,
      "outputs": []
    },
    {
      "cell_type": "markdown",
      "metadata": {
        "id": "tj57pdhG-Dgk"
      },
      "source": [
        "### **Training data set / Test data set 분할**"
      ]
    },
    {
      "cell_type": "code",
      "metadata": {
        "id": "C7_-up_YmuZa"
      },
      "source": [
        "mlp_train, mlp_test = train_test_split(mlp_data, test_size=0.3, random_state=50)"
      ],
      "execution_count": 61,
      "outputs": []
    },
    {
      "cell_type": "code",
      "metadata": {
        "id": "KYFYC0nSuAxq"
      },
      "source": [
        "#현재 가지고 있는 모든 피쳐 사용\n",
        "\n",
        "X_train = mlp_train.loc[:, ['avg', 'slg', 'ops', 'avLI', 'RE24', 'WPA', 'home/away_avg_y', 'vs_avg', 'recent_5days_avg', 'recent_5games_avg', 'recent_10games_avg', 'success_10days', 'success_10games']]\n",
        "y_train = mlp_train.loc[:, ['result_y']]\n",
        "\n",
        "X_test = mlp_test.loc[:, ['avg', 'slg', 'ops', 'avLI', 'RE24', 'WPA', 'home/away_avg_y', 'vs_avg', 'recent_5days_avg', 'recent_5games_avg', 'recent_10games_avg', 'success_10days', 'success_10games']]\n",
        "y_test = mlp_test.loc[:, ['result_y']]"
      ],
      "execution_count": 62,
      "outputs": []
    },
    {
      "cell_type": "code",
      "metadata": {
        "id": "gcVedMqPpAkB"
      },
      "source": [
        "X_train = X_train.to_numpy()\n",
        "y_train = y_train.to_numpy()\n",
        "X_test = X_test.to_numpy()\n",
        "y_test = y_test.to_numpy()"
      ],
      "execution_count": 63,
      "outputs": []
    },
    {
      "cell_type": "code",
      "metadata": {
        "id": "zEiz1UpqpCgQ"
      },
      "source": [
        "number_of_train_samples = X_train.shape[0]\n",
        "width = X_train.shape[1]\n",
        "X_train = X_train.reshape(number_of_train_samples, width)"
      ],
      "execution_count": 64,
      "outputs": []
    },
    {
      "cell_type": "code",
      "metadata": {
        "id": "Xow9qw6IpFuY"
      },
      "source": [
        "number_of_test_samples = X_test.shape[0]\n",
        "X_test = X_test.reshape(number_of_test_samples, width)"
      ],
      "execution_count": 65,
      "outputs": []
    },
    {
      "cell_type": "code",
      "metadata": {
        "id": "Q8Vnpzu_pHnB"
      },
      "source": [
        "X_train = minmax_scale(X_train, feature_range=(0,1), axis = 0)\n",
        "X_test = minmax_scale(X_test, feature_range=(0,1), axis = 0)"
      ],
      "execution_count": 66,
      "outputs": []
    },
    {
      "cell_type": "code",
      "metadata": {
        "id": "C94ziVRUpMlw"
      },
      "source": [
        "y_train = to_categorical(y_train)\n",
        "y_test = to_categorical(y_test)"
      ],
      "execution_count": 67,
      "outputs": []
    },
    {
      "cell_type": "markdown",
      "metadata": {
        "id": "JaF_pitWR328"
      },
      "source": [
        "### **Stratified K-Fold Cross Validation (auto)**"
      ]
    },
    {
      "cell_type": "code",
      "metadata": {
        "id": "Oz1cP4peWSfE"
      },
      "source": [
        "mlp_data = final_2018_2021.loc[:, ['name', 'day', 'start_member', 'vs_team', 'avg', 'slg', 'ops', 'avLI', 'RE24', 'WPA', 'home/away_avg_y', 'vs_ab', 'vs_hit', 'vs_avg', 'recent_5days_avg', 'recent_5games_avg', 'recent_10games_avg', 'success_10days', 'success_10games', 'result_y']]"
      ],
      "execution_count": null,
      "outputs": []
    },
    {
      "cell_type": "code",
      "metadata": {
        "id": "Oco65SmER-oa"
      },
      "source": [
        "X = mlp_data.loc[:, ['avg', 'slg', 'ops', 'avLI', 'RE24', 'WPA', 'home/away_avg_y', 'vs_avg', 'recent_5days_avg', 'recent_5games_avg', 'recent_10games_avg', 'success_10days', 'success_10games']]\n",
        "y = mlp_data.loc[:, ['result_y']]"
      ],
      "execution_count": null,
      "outputs": []
    },
    {
      "cell_type": "code",
      "metadata": {
        "id": "UWCFzXFxhDJR"
      },
      "source": [
        "X = mlp_data.loc[:, ['avg', 'slg', 'ops', 'home/away_avg_y', 'vs_avg', 'recent_5days_avg', 'recent_5games_avg', 'recent_10games_avg', 'success_10days', 'success_10games']]\n",
        "y = mlp_data.loc[:, ['result_y']]"
      ],
      "execution_count": null,
      "outputs": []
    },
    {
      "cell_type": "code",
      "metadata": {
        "id": "NEw6LFG_R-qW"
      },
      "source": [
        "X = X.to_numpy()\n",
        "y = y.to_numpy()"
      ],
      "execution_count": null,
      "outputs": []
    },
    {
      "cell_type": "code",
      "metadata": {
        "id": "bFU4j55cUxeG"
      },
      "source": [
        "number_of_samples = X.shape[0]\n",
        "width = X.shape[1]\n",
        "X = X.reshape(number_of_samples, width)"
      ],
      "execution_count": null,
      "outputs": []
    },
    {
      "cell_type": "code",
      "metadata": {
        "id": "Q6vwp0LJUxgm"
      },
      "source": [
        "X = minmax_scale(X, feature_range=(0,1), axis = 0)\n",
        "y = to_categorical(y)"
      ],
      "execution_count": null,
      "outputs": []
    },
    {
      "cell_type": "code",
      "metadata": {
        "id": "QDyX-Z8KUxiv"
      },
      "source": [
        "def mlp_model_k():\n",
        "    model = Sequential()\n",
        "\n",
        "    model.add(Dense(64, input_dim= width, kernel_initializer = 'HeNormal'))\n",
        "    model.add(Activation('relu'))\n",
        "    model.add(Dropout(0.2)) \n",
        "    model.add(Dense(64, kernel_initializer = 'HeNormal'))\n",
        "    model.add(Activation('relu'))\n",
        "    model.add(Dropout(0.2)) \n",
        "    model.add(Dense(2, kernel_initializer = 'HeNormal'))\n",
        "    model.add(Activation('sigmoid'))\n",
        "\n",
        "    model.compile(loss = 'binary_crossentropy', optimizer = 'Adam', metrics=['acc'])\n",
        "\n",
        "    return model"
      ],
      "execution_count": null,
      "outputs": []
    },
    {
      "cell_type": "code",
      "metadata": {
        "id": "6GJy-__-UxoS"
      },
      "source": [
        "model = KerasClassifier(build_fn=mlp_model_k, epochs=150, batch_size=32, verbose=0)  "
      ],
      "execution_count": null,
      "outputs": []
    },
    {
      "cell_type": "code",
      "metadata": {
        "id": "_c88NlgkVgoU"
      },
      "source": [
        " kfold = KFold(n_splits = 5, shuffle = True, random_state = 50) \n",
        " results = cross_val_score(model, X, y, cv=kfold)"
      ],
      "execution_count": null,
      "outputs": []
    },
    {
      "cell_type": "code",
      "metadata": {
        "id": "H7chLlKGu4aN",
        "colab": {
          "base_uri": "https://localhost:8080/"
        },
        "outputId": "a08de77b-be5e-46d3-fc53-2c73dce3326b"
      },
      "source": [
        "results, round(np.mean(results),3)"
      ],
      "execution_count": null,
      "outputs": [
        {
          "output_type": "execute_result",
          "data": {
            "text/plain": [
              "(array([0.68293929, 0.69773769, 0.68634123, 0.68532062, 0.687702  ]), 0.688)"
            ]
          },
          "metadata": {
            "tags": []
          },
          "execution_count": 83
        }
      ]
    },
    {
      "cell_type": "markdown",
      "metadata": {
        "id": "TktpLH5w-KCz"
      },
      "source": [
        "### **Validation data set / Training data set 분할**"
      ]
    },
    {
      "cell_type": "code",
      "metadata": {
        "id": "QV0xUno7-YWb"
      },
      "source": [
        "X_val = X_train[:5000]\n",
        "X_train = X_train[5000:]\n",
        "\n",
        "y_val = y_train[:5000]\n",
        "y_train = y_train[5000:]"
      ],
      "execution_count": 68,
      "outputs": []
    },
    {
      "cell_type": "markdown",
      "metadata": {
        "id": "cnHEdmEEopvT"
      },
      "source": [
        "### **MLP experiment**"
      ]
    },
    {
      "cell_type": "code",
      "metadata": {
        "id": "_JQxtEOZot6K"
      },
      "source": [
        "# MLP model_1\n",
        "# 3 layers & 64 units\n",
        "# activation = sigmoid & softmax\n",
        "# loss = binary_crossentrophy, optimizer = rmsprop\n",
        "# loss: 0.4028 & acc: 0.8135\n",
        "\n",
        "def mlp_model1():\n",
        "    model = Sequential()\n",
        "\n",
        "    model.add(Dense(64, input_dim= width, activation = 'sigmoid'))\n",
        "    model.add(Dense(64, activation = 'sigmoid'))\n",
        "    model.add(Dense(2, activation = 'softmax'))\n",
        "\n",
        "    model.compile(loss = 'categorical_crossentropy', optimizer = 'rmsprop', metrics=['acc'])\n",
        "\n",
        "    return model"
      ],
      "execution_count": null,
      "outputs": []
    },
    {
      "cell_type": "code",
      "metadata": {
        "id": "k4s24meEot-y"
      },
      "source": [
        "model1 = mlp_model1()\n",
        "history = model1.fit(X_train, y_train, epochs = 100, validation_data=(X_val, y_val), verbose = 0)\n",
        "history_dict = history.history"
      ],
      "execution_count": null,
      "outputs": []
    },
    {
      "cell_type": "code",
      "metadata": {
        "id": "40GQE1sTtsS0"
      },
      "source": [
        "history_dict = history.history\n",
        "\n",
        "loss = history_dict['loss']\n",
        "val_loss = history_dict['val_loss']\n",
        "acc = history_dict['acc']\n",
        "val_acc = history_dict['val_acc']\n",
        "\n",
        "epochs = range(1, len(loss)+1)\n",
        "\n",
        "plt.figure(figsize=(12,5))\n",
        "\n",
        "plt.subplot(1, 2, 1)\n",
        "plt.plot(epochs, loss, 'red', label='Training loss') \n",
        "plt.plot(epochs, val_loss, 'green', label='Validation loss')\n",
        "plt.title('Training & Validation Loss')\n",
        "plt.xlabel('Epochs')\n",
        "plt.ylabel('Loss')\n",
        "plt.legend()\n",
        "\n",
        "plt.subplot(1, 2, 2)\n",
        "plt.plot(epochs, acc, 'red', label='Training acc') \n",
        "plt.plot(epochs, val_acc, 'green', label='Validation acc')\n",
        "plt.title('Training & Validation accuracy')\n",
        "plt.xlabel('Epochs')\n",
        "plt.ylabel('Accuracy')\n",
        "plt.legend()\n",
        "\n",
        "plt.show()"
      ],
      "execution_count": null,
      "outputs": []
    },
    {
      "cell_type": "code",
      "metadata": {
        "id": "J_WfNztgvNn7"
      },
      "source": [
        "results = model1.evaluate(X_test, y_test)\n",
        "print('Test accuracy: ', results[1])"
      ],
      "execution_count": null,
      "outputs": []
    },
    {
      "cell_type": "code",
      "metadata": {
        "id": "TqLA82YOxAp6"
      },
      "source": [
        "# MLP model_2\n",
        "# 3 layers & 64 units\n",
        "# activation = relu & sigmoid\n",
        "# loss = binary_crossentrophy, optimizer = rmsprop\n",
        "# loss: 0.4365 & acc: 0.8042\n",
        "\n",
        "def mlp_model2():\n",
        "    model = Sequential()\n",
        "\n",
        "    model.add(Dense(64, input_dim= width, activation = 'relu'))\n",
        "    model.add(Dense(64, activation = 'relu'))\n",
        "    model.add(Dense(2, activation = 'sigmoid'))\n",
        "\n",
        "    model.compile(loss = 'binary_crossentropy', optimizer = 'rmsprop', metrics=['acc'])\n",
        "\n",
        "    return model"
      ],
      "execution_count": null,
      "outputs": []
    },
    {
      "cell_type": "code",
      "metadata": {
        "id": "8ESFDrhrxAsQ"
      },
      "source": [
        "model2 = mlp_model2()\n",
        "history = model2.fit(X_train, y_train, epochs = 100, validation_data=(X_val, y_val), verbose = 0)\n",
        "history_dict = history.history"
      ],
      "execution_count": null,
      "outputs": []
    },
    {
      "cell_type": "code",
      "metadata": {
        "id": "nU5YwJflxAuS"
      },
      "source": [
        "history_dict = history.history\n",
        "\n",
        "loss = history_dict['loss']\n",
        "val_loss = history_dict['val_loss']\n",
        "acc = history_dict['acc']\n",
        "val_acc = history_dict['val_acc']\n",
        "\n",
        "epochs = range(1, len(loss)+1)\n",
        "\n",
        "plt.figure(figsize=(12,5))\n",
        "\n",
        "plt.subplot(1, 2, 1)\n",
        "plt.plot(epochs, loss, 'red', label='Training loss') \n",
        "plt.plot(epochs, val_loss, 'green', label='Validation loss')\n",
        "plt.title('Training & Validation Loss')\n",
        "plt.xlabel('Epochs')\n",
        "plt.ylabel('Loss')\n",
        "plt.legend()\n",
        "\n",
        "plt.subplot(1, 2, 2)\n",
        "plt.plot(epochs, acc, 'red', label='Training acc') \n",
        "plt.plot(epochs, val_acc, 'green', label='Validation acc')\n",
        "plt.title('Training & Validation accuracy')\n",
        "plt.xlabel('Epochs')\n",
        "plt.ylabel('Accuracy')\n",
        "plt.legend()\n",
        "\n",
        "plt.show()"
      ],
      "execution_count": null,
      "outputs": []
    },
    {
      "cell_type": "code",
      "metadata": {
        "id": "cB91YnrAyphm"
      },
      "source": [
        "results = model2.evaluate(X_test, y_test)\n",
        "print('Test accuracy: ', results[1])"
      ],
      "execution_count": null,
      "outputs": []
    },
    {
      "cell_type": "code",
      "metadata": {
        "id": "dbl3uNcQzymb"
      },
      "source": [
        "# MLP model_3\n",
        "# 3 layers & 64 units\n",
        "# activation = relu & sigmoid\n",
        "# loss = binary_crossentrophy, optimizer = rmsprop\n",
        "# initialization = kernel_initializer\n",
        "# loss: 0.4474 & acc: 0.8026\n",
        "\n",
        "def mlp_model3():\n",
        "    model = Sequential()\n",
        "\n",
        "    model.add(Dense(64, input_dim= width, kernel_initializer = 'glorot_uniform'))\n",
        "    model.add(Activation('relu'))\n",
        "    model.add(Dense(64, kernel_initializer = 'glorot_uniform'))\n",
        "    model.add(Activation('relu'))\n",
        "    model.add(Dense(2, kernel_initializer = 'glorot_uniform'))\n",
        "    model.add(Activation('sigmoid'))\n",
        "\n",
        "    model.compile(loss = 'binary_crossentropy', optimizer = 'rmsprop', metrics=['acc'])\n",
        "\n",
        "    return model"
      ],
      "execution_count": null,
      "outputs": []
    },
    {
      "cell_type": "code",
      "metadata": {
        "id": "szM9_oFbzyoq"
      },
      "source": [
        "model3 = mlp_model3()\n",
        "history = model3.fit(X_train, y_train, epochs = 100, validation_data=(X_val, y_val), verbose = 0)\n",
        "history_dict = history.history"
      ],
      "execution_count": null,
      "outputs": []
    },
    {
      "cell_type": "code",
      "metadata": {
        "id": "gByGO68rzyrA"
      },
      "source": [
        "history_dict = history.history\n",
        "\n",
        "loss = history_dict['loss']\n",
        "val_loss = history_dict['val_loss']\n",
        "acc = history_dict['acc']\n",
        "val_acc = history_dict['val_acc']\n",
        "\n",
        "epochs = range(1, len(loss)+1)\n",
        "\n",
        "plt.figure(figsize=(12,5))\n",
        "\n",
        "plt.subplot(1, 2, 1)\n",
        "plt.plot(epochs, loss, 'red', label='Training loss') \n",
        "plt.plot(epochs, val_loss, 'green', label='Validation loss')\n",
        "plt.title('Training & Validation Loss')\n",
        "plt.xlabel('Epochs')\n",
        "plt.ylabel('Loss')\n",
        "plt.legend()\n",
        "\n",
        "plt.subplot(1, 2, 2)\n",
        "plt.plot(epochs, acc, 'red', label='Training acc') \n",
        "plt.plot(epochs, val_acc, 'green', label='Validation acc')\n",
        "plt.title('Training & Validation accuracy')\n",
        "plt.xlabel('Epochs')\n",
        "plt.ylabel('Accuracy')\n",
        "plt.legend()\n",
        "\n",
        "plt.show()"
      ],
      "execution_count": null,
      "outputs": []
    },
    {
      "cell_type": "code",
      "metadata": {
        "id": "j_9QnyIDzytB"
      },
      "source": [
        "results = model3.evaluate(X_test, y_test)\n",
        "print('Test accuracy: ', results[1])"
      ],
      "execution_count": null,
      "outputs": []
    },
    {
      "cell_type": "code",
      "metadata": {
        "id": "_TgMx7bDzyvH"
      },
      "source": [
        "# MLP model_4\n",
        "# 3 layers & 64 units\n",
        "# activation = relu & sigmoid\n",
        "# loss = binary_crossentrophy, optimizer = rmsprop\n",
        "# initialization = HeNormal\n",
        "# loss: 0.4607 & acc: 0.7965\n",
        "\n",
        "def mlp_model4():\n",
        "    model = Sequential()\n",
        "\n",
        "    model.add(Dense(64, input_dim= width, kernel_initializer = 'HeNormal'))\n",
        "    model.add(Activation('relu'))\n",
        "    model.add(Dense(64, kernel_initializer = 'HeNormal'))\n",
        "    model.add(Activation('relu'))\n",
        "    model.add(Dense(2, kernel_initializer = 'HeNormal'))\n",
        "    model.add(Activation('sigmoid'))\n",
        "\n",
        "    model.compile(loss = 'binary_crossentropy', optimizer = 'rmsprop', metrics=['acc'])\n",
        "\n",
        "    return model"
      ],
      "execution_count": null,
      "outputs": []
    },
    {
      "cell_type": "code",
      "metadata": {
        "id": "xrMy0rt1zy61"
      },
      "source": [
        "model4 = mlp_model4()\n",
        "history = model4.fit(X_train, y_train, epochs = 100, validation_data=(X_val, y_val), verbose = 0)\n",
        "history_dict = history.history"
      ],
      "execution_count": null,
      "outputs": []
    },
    {
      "cell_type": "code",
      "metadata": {
        "id": "IDiZrsoB3UFl"
      },
      "source": [
        "history_dict = history.history\n",
        "\n",
        "loss = history_dict['loss']\n",
        "val_loss = history_dict['val_loss']\n",
        "acc = history_dict['acc']\n",
        "val_acc = history_dict['val_acc']\n",
        "\n",
        "epochs = range(1, len(loss)+1)\n",
        "\n",
        "plt.figure(figsize=(12,5))\n",
        "\n",
        "plt.subplot(1, 2, 1)\n",
        "plt.plot(epochs, loss, 'red', label='Training loss') \n",
        "plt.plot(epochs, val_loss, 'green', label='Validation loss')\n",
        "plt.title('Training & Validation Loss')\n",
        "plt.xlabel('Epochs')\n",
        "plt.ylabel('Loss')\n",
        "plt.legend()\n",
        "\n",
        "plt.subplot(1, 2, 2)\n",
        "plt.plot(epochs, acc, 'red', label='Training acc') \n",
        "plt.plot(epochs, val_acc, 'green', label='Validation acc')\n",
        "plt.title('Training & Validation accuracy')\n",
        "plt.xlabel('Epochs')\n",
        "plt.ylabel('Accuracy')\n",
        "plt.legend()\n",
        "\n",
        "plt.show()"
      ],
      "execution_count": null,
      "outputs": []
    },
    {
      "cell_type": "code",
      "metadata": {
        "id": "JFL8yPVc3UH8"
      },
      "source": [
        "results = model4.evaluate(X_test, y_test)\n",
        "print('Test accuracy: ', results[1])"
      ],
      "execution_count": null,
      "outputs": []
    },
    {
      "cell_type": "code",
      "metadata": {
        "id": "xl0CNe4_3UKJ"
      },
      "source": [
        "# MLP model_5\n",
        "# 3 layers & 64 units\n",
        "# activation = relu & sigmoid\n",
        "# loss = binary_crossentrophy, optimizer = adam\n",
        "# initialization = HeNormal\n",
        "# loss: 0.4173 & acc: 0.8132\n",
        "\n",
        "def mlp_model5():\n",
        "    model = Sequential()\n",
        "\n",
        "    model.add(Dense(64, input_dim= width, kernel_initializer = 'HeNormal'))\n",
        "    model.add(Activation('relu'))\n",
        "    model.add(Dense(64, kernel_initializer = 'HeNormal'))\n",
        "    model.add(Activation('relu'))\n",
        "    model.add(Dense(2, kernel_initializer = 'HeNormal'))\n",
        "    model.add(Activation('sigmoid'))\n",
        "\n",
        "    model.compile(loss = 'binary_crossentropy', optimizer = 'Adam', metrics=['acc'])\n",
        "\n",
        "    return model"
      ],
      "execution_count": null,
      "outputs": []
    },
    {
      "cell_type": "code",
      "metadata": {
        "id": "C0_4U_mn3gS0"
      },
      "source": [
        "model5 = mlp_model5()\n",
        "history = model5.fit(X_train, y_train, epochs = 100, validation_data=(X_val, y_val), verbose = 0)\n",
        "history_dict = history.history"
      ],
      "execution_count": null,
      "outputs": []
    },
    {
      "cell_type": "code",
      "metadata": {
        "id": "VCskPa6i3gVK"
      },
      "source": [
        "history_dict = history.history\n",
        "\n",
        "loss = history_dict['loss']\n",
        "val_loss = history_dict['val_loss']\n",
        "acc = history_dict['acc']\n",
        "val_acc = history_dict['val_acc']\n",
        "\n",
        "epochs = range(1, len(loss)+1)\n",
        "\n",
        "plt.figure(figsize=(12,5))\n",
        "\n",
        "plt.subplot(1, 2, 1)\n",
        "plt.plot(epochs, loss, 'red', label='Training loss') \n",
        "plt.plot(epochs, val_loss, 'green', label='Validation loss')\n",
        "plt.title('Training & Validation Loss')\n",
        "plt.xlabel('Epochs')\n",
        "plt.ylabel('Loss')\n",
        "plt.legend()\n",
        "\n",
        "plt.subplot(1, 2, 2)\n",
        "plt.plot(epochs, acc, 'red', label='Training acc') \n",
        "plt.plot(epochs, val_acc, 'green', label='Validation acc')\n",
        "plt.title('Training & Validation accuracy')\n",
        "plt.xlabel('Epochs')\n",
        "plt.ylabel('Accuracy')\n",
        "plt.legend()\n",
        "\n",
        "plt.show()"
      ],
      "execution_count": null,
      "outputs": []
    },
    {
      "cell_type": "code",
      "metadata": {
        "id": "H8HEcP793gXl"
      },
      "source": [
        "results = model5.evaluate(X_test, y_test)\n",
        "print('Test accuracy: ', results[1])"
      ],
      "execution_count": null,
      "outputs": []
    },
    {
      "cell_type": "code",
      "metadata": {
        "id": "oJ7LL8kz5_zO"
      },
      "source": [
        "from keras.layers import BatchNormalization"
      ],
      "execution_count": null,
      "outputs": []
    },
    {
      "cell_type": "code",
      "metadata": {
        "id": "LtvO37v73gZV"
      },
      "source": [
        "# MLP model_6 \n",
        "# Batch_Normal\n",
        "# 3 layers & 64 units\n",
        "# activation = relu & sigmoid\n",
        "# loss = binary_crossentrophy, optimizer = adam\n",
        "# initialization = HeNormal\n",
        "# loss: 0.6793 & acc: 0.7383\n",
        "\n",
        "def mlp_model6():\n",
        "    model = Sequential()\n",
        "\n",
        "    model.add(Dense(64, input_dim= width, kernel_initializer = 'HeNormal'))\n",
        "    model.add(BatchNormalization())\n",
        "    model.add(Activation('relu'))\n",
        "    model.add(Dense(64, kernel_initializer = 'HeNormal'))\n",
        "    model.add(BatchNormalization())\n",
        "    model.add(Activation('relu'))\n",
        "    model.add(Dense(2, kernel_initializer = 'HeNormal'))\n",
        "    model.add(Activation('sigmoid'))\n",
        "\n",
        "    model.compile(loss = 'binary_crossentropy', optimizer = 'Adam', metrics=['acc'])\n",
        "\n",
        "    return model"
      ],
      "execution_count": null,
      "outputs": []
    },
    {
      "cell_type": "code",
      "metadata": {
        "id": "qDCWOR4m4cpV"
      },
      "source": [
        "model6 = mlp_model6()\n",
        "history = model6.fit(X_train, y_train, epochs = 200, validation_data=(X_val, y_val), verbose = 0)\n",
        "history_dict = history.history"
      ],
      "execution_count": null,
      "outputs": []
    },
    {
      "cell_type": "code",
      "metadata": {
        "id": "qcVDeTg74cr2"
      },
      "source": [
        "history_dict = history.history\n",
        "\n",
        "loss = history_dict['loss']\n",
        "val_loss = history_dict['val_loss']\n",
        "acc = history_dict['acc']\n",
        "val_acc = history_dict['val_acc']\n",
        "\n",
        "epochs = range(1, len(loss)+1)\n",
        "\n",
        "plt.figure(figsize=(12,5))\n",
        "\n",
        "plt.subplot(1, 2, 1)\n",
        "plt.plot(epochs, loss, 'red', label='Training loss') \n",
        "plt.plot(epochs, val_loss, 'green', label='Validation loss')\n",
        "plt.title('Training & Validation Loss')\n",
        "plt.xlabel('Epochs')\n",
        "plt.ylabel('Loss')\n",
        "plt.legend()\n",
        "\n",
        "plt.subplot(1, 2, 2)\n",
        "plt.plot(epochs, acc, 'red', label='Training acc') \n",
        "plt.plot(epochs, val_acc, 'green', label='Validation acc')\n",
        "plt.title('Training & Validation accuracy')\n",
        "plt.xlabel('Epochs')\n",
        "plt.ylabel('Accuracy')\n",
        "plt.legend()\n",
        "\n",
        "plt.show()"
      ],
      "execution_count": null,
      "outputs": []
    },
    {
      "cell_type": "code",
      "metadata": {
        "id": "ywhxuTTR4cuD"
      },
      "source": [
        "results = model6.evaluate(X_test, y_test)\n",
        "print('Test accuracy: ', results[1])"
      ],
      "execution_count": null,
      "outputs": []
    },
    {
      "cell_type": "code",
      "metadata": {
        "id": "GbC8a58R8Jfd"
      },
      "source": [
        "from keras.layers import Dropout"
      ],
      "execution_count": null,
      "outputs": []
    },
    {
      "cell_type": "code",
      "metadata": {
        "id": "QkDLxg088JiC"
      },
      "source": [
        "# MLP model_7 \n",
        "# Dropout\n",
        "# 3 layers & 64 units\n",
        "# activation = relu & sigmoid\n",
        "# loss = binary_crossentrophy, optimizer = adam\n",
        "# initialization = HeNormal\n",
        "# loss: 0.4284 - acc: 0.7910\n",
        "\n",
        "def mlp_model7():\n",
        "    model = Sequential()\n",
        "\n",
        "    model.add(Dense(64, input_dim= width, kernel_initializer = 'HeNormal'))\n",
        "    model.add(Activation('relu'))\n",
        "    model.add(Dropout(0.2)) \n",
        "    model.add(Dense(64, kernel_initializer = 'HeNormal'))\n",
        "    model.add(Activation('relu'))\n",
        "    model.add(Dropout(0.2)) \n",
        "    model.add(Dense(2, kernel_initializer = 'HeNormal'))\n",
        "    model.add(Activation('sigmoid'))\n",
        "\n",
        "    model.compile(loss = 'binary_crossentropy', optimizer = 'Adam', metrics=['acc'])\n",
        "\n",
        "    return model"
      ],
      "execution_count": null,
      "outputs": []
    },
    {
      "cell_type": "code",
      "metadata": {
        "id": "2nM0Oewe8JkR"
      },
      "source": [
        "model7 = mlp_model7()\n",
        "history = model7.fit(X_train, y_train, epochs = 200, validation_data=(X_val, y_val), verbose = 0)\n",
        "history_dict = history.history"
      ],
      "execution_count": null,
      "outputs": []
    },
    {
      "cell_type": "code",
      "metadata": {
        "id": "Qr4ycuFD8JmF"
      },
      "source": [
        "history_dict = history.history\n",
        "\n",
        "loss = history_dict['loss']\n",
        "val_loss = history_dict['val_loss']\n",
        "acc = history_dict['acc']\n",
        "val_acc = history_dict['val_acc']\n",
        "\n",
        "epochs = range(1, len(loss)+1)\n",
        "\n",
        "plt.figure(figsize=(12,5))\n",
        "\n",
        "plt.subplot(1, 2, 1)\n",
        "plt.plot(epochs, loss, 'red', label='Training loss') \n",
        "plt.plot(epochs, val_loss, 'green', label='Validation loss')\n",
        "plt.title('Training & Validation Loss')\n",
        "plt.xlabel('Epochs')\n",
        "plt.ylabel('Loss')\n",
        "plt.legend()\n",
        "\n",
        "plt.subplot(1, 2, 2)\n",
        "plt.plot(epochs, acc, 'red', label='Training acc') \n",
        "plt.plot(epochs, val_acc, 'green', label='Validation acc')\n",
        "plt.title('Training & Validation accuracy')\n",
        "plt.xlabel('Epochs')\n",
        "plt.ylabel('Accuracy')\n",
        "plt.legend()\n",
        "\n",
        "plt.show()"
      ],
      "execution_count": null,
      "outputs": []
    },
    {
      "cell_type": "code",
      "metadata": {
        "id": "v9enddAl83hz"
      },
      "source": [
        "results = model7.evaluate(X_test, y_test)\n",
        "print('Test accuracy: ', results[1])"
      ],
      "execution_count": null,
      "outputs": []
    },
    {
      "cell_type": "code",
      "metadata": {
        "id": "ZgJLV5pR-X7U"
      },
      "source": [
        "# MLP model_8\n",
        "# Batch_Normal\n",
        "# Dropout\n",
        "# 3 layers & 64 units\n",
        "# activation = relu & sigmoid\n",
        "# loss = binary_crossentrophy, optimizer = adam\n",
        "# initialization = HeNormal\n",
        "# loss: 0.5285 - acc: 0.7452\n",
        "\n",
        "def mlp_model8():\n",
        "    model = Sequential()\n",
        "\n",
        "    model.add(Dense(64, input_dim= width, kernel_initializer = 'HeNormal'))\n",
        "    model.add(BatchNormalization())\n",
        "    model.add(Activation('relu'))\n",
        "    model.add(Dropout(0.2)) \n",
        "    model.add(Dense(64, kernel_initializer = 'HeNormal'))\n",
        "    model.add(BatchNormalization())\n",
        "    model.add(Activation('relu'))\n",
        "    model.add(Dropout(0.2)) \n",
        "    model.add(Dense(2, kernel_initializer = 'HeNormal'))\n",
        "    model.add(Activation('sigmoid'))\n",
        "\n",
        "    model.compile(loss = 'binary_crossentropy', optimizer = 'Adam', metrics=['acc'])\n",
        "\n",
        "    return model"
      ],
      "execution_count": null,
      "outputs": []
    },
    {
      "cell_type": "code",
      "metadata": {
        "id": "JTauP1WDBIIE"
      },
      "source": [
        "model8 = mlp_model8()\n",
        "history = model8.fit(X_train, y_train, epochs = 200, validation_data=(X_val, y_val), verbose = 0)\n",
        "history_dict = history.history"
      ],
      "execution_count": null,
      "outputs": []
    },
    {
      "cell_type": "code",
      "metadata": {
        "id": "6augmglNBILQ"
      },
      "source": [
        "history_dict = history.history\n",
        "\n",
        "loss = history_dict['loss']\n",
        "val_loss = history_dict['val_loss']\n",
        "acc = history_dict['acc']\n",
        "val_acc = history_dict['val_acc']\n",
        "\n",
        "epochs = range(1, len(loss)+1)\n",
        "\n",
        "plt.figure(figsize=(12,5))\n",
        "\n",
        "plt.subplot(1, 2, 1)\n",
        "plt.plot(epochs, loss, 'red', label='Training loss') \n",
        "plt.plot(epochs, val_loss, 'green', label='Validation loss')\n",
        "plt.title('Training & Validation Loss')\n",
        "plt.xlabel('Epochs')\n",
        "plt.ylabel('Loss')\n",
        "plt.legend()\n",
        "\n",
        "plt.subplot(1, 2, 2)\n",
        "plt.plot(epochs, acc, 'red', label='Training acc') \n",
        "plt.plot(epochs, val_acc, 'green', label='Validation acc')\n",
        "plt.title('Training & Validation accuracy')\n",
        "plt.xlabel('Epochs')\n",
        "plt.ylabel('Accuracy')\n",
        "plt.legend()\n",
        "\n",
        "plt.show()"
      ],
      "execution_count": null,
      "outputs": []
    },
    {
      "cell_type": "code",
      "metadata": {
        "id": "c_u8U2djBcDE"
      },
      "source": [
        "results = model8.evaluate(X_test, y_test)\n",
        "print('Test accuracy: ', results[1])"
      ],
      "execution_count": null,
      "outputs": []
    },
    {
      "cell_type": "code",
      "metadata": {
        "id": "o9LOSAKHD08n"
      },
      "source": [
        "from keras.wrappers.scikit_learn import KerasClassifier\n",
        "from sklearn.ensemble import VotingClassifier\n",
        "from sklearn.metrics import accuracy_score"
      ],
      "execution_count": null,
      "outputs": []
    },
    {
      "cell_type": "code",
      "metadata": {
        "id": "IB6jU0-IDd5l"
      },
      "source": [
        "# MLP model_ensemble\n",
        "# Dropout\n",
        "# 3 layers & 64 units\n",
        "# activation = relu & sigmoid\n",
        "# loss = binary_crossentrophy, optimizer = adam\n",
        "# initialization = HeNormal\n",
        "# loss: 0.5285 - acc: 0.7452\n",
        "\n",
        "def mlp_model_en():\n",
        "    model = Sequential()\n",
        "\n",
        "    model.add(Dense(64, input_dim= width, kernel_initializer = 'HeNormal'))\n",
        "    model.add(Activation('relu'))\n",
        "    model.add(Dropout(0.2)) \n",
        "    model.add(Dense(64, kernel_initializer = 'HeNormal'))\n",
        "    model.add(Activation('relu'))\n",
        "    model.add(Dropout(0.2)) \n",
        "    model.add(Dense(2, kernel_initializer = 'HeNormal'))\n",
        "    model.add(Activation('sigmoid'))\n",
        "\n",
        "    model.compile(loss = 'categorical_crossentropy', optimizer = 'Adam', metrics=['acc'])\n",
        "\n",
        "    return model"
      ],
      "execution_count": null,
      "outputs": []
    },
    {
      "cell_type": "code",
      "metadata": {
        "id": "BkEwz6KQDd7t"
      },
      "source": [
        "en_model1 = KerasClassifier(build_fn = mlp_model_en, epochs = 200, verbose = 0)\n",
        "en_model1._estimator_type=\"classifier\"\n",
        "en_model2 = KerasClassifier(build_fn = mlp_model_en, epochs = 200, verbose = 0)\n",
        "en_model2._estimator_type=\"classifier\"\n",
        "en_model3 = KerasClassifier(build_fn = mlp_model_en, epochs = 200, verbose = 0)\n",
        "en_model3._estimator_type=\"classifier\""
      ],
      "execution_count": null,
      "outputs": []
    },
    {
      "cell_type": "code",
      "metadata": {
        "id": "GGbb5rPRF4kk"
      },
      "source": [
        "y_train = np.argmax(y_train, axis = 1)\n",
        "y_test = np.argmax(y_test, axis = 1)"
      ],
      "execution_count": null,
      "outputs": []
    },
    {
      "cell_type": "code",
      "metadata": {
        "id": "GKCfOUT-Dd-A"
      },
      "source": [
        "ensemble_clf = VotingClassifier(estimators = [('en_model1', en_model1), ('en_model2', en_model2), ('en_model3', en_model3)], voting = 'soft')\n",
        "ensemble_clf.fit(X_train, y_train)"
      ],
      "execution_count": null,
      "outputs": []
    },
    {
      "cell_type": "code",
      "metadata": {
        "id": "y-xIcJTwDeAJ"
      },
      "source": [
        "y_pred = ensemble_clf.predict(X_test)\n",
        "print('Acc: ', accuracy_score(y_pred, y_test))"
      ],
      "execution_count": null,
      "outputs": []
    },
    {
      "cell_type": "markdown",
      "metadata": {
        "id": "iO4sL2DHmDwB"
      },
      "source": [
        "### **SimpleRNN**"
      ]
    },
    {
      "cell_type": "code",
      "metadata": {
        "id": "OYqmiQIqmJZC"
      },
      "source": [
        "from keras.models import Sequential\n",
        "from keras.layers import Dense, SimpleRNN, Activation, Embedding\n",
        "from keras import optimizers\n",
        "from keras.wrappers.scikit_learn import KerasClassifier"
      ],
      "execution_count": 28,
      "outputs": []
    },
    {
      "cell_type": "code",
      "metadata": {
        "id": "tdzVZUbTmQh1"
      },
      "source": [
        "def simple_rnn():\n",
        "    model = Sequential()\n",
        "    model.add(Embedding(width, 32))\n",
        "    model.add(SimpleRNN(32, return_sequences = False))\n",
        "    model.add(Dense(2, activation='sigmoid'))\n",
        "    \n",
        "    model.compile(loss = 'binary_crossentropy', optimizer = 'Adam', metrics = ['acc'])\n",
        "    \n",
        "    return model"
      ],
      "execution_count": 71,
      "outputs": []
    },
    {
      "cell_type": "code",
      "metadata": {
        "id": "HFBbq1JPnSUf"
      },
      "source": [
        "model = simple_rnn()\n",
        "history = model.fit(X_train, y_train, epochs = 100, validation_data=(X_val, y_val), verbose = 0)\n",
        "history_dict = history.history"
      ],
      "execution_count": 72,
      "outputs": []
    },
    {
      "cell_type": "code",
      "metadata": {
        "id": "a1msZcVCmf8-",
        "outputId": "31b7a4f2-8346-4b2b-c6a6-d2442907e7c6",
        "colab": {
          "base_uri": "https://localhost:8080/",
          "height": 350
        }
      },
      "source": [
        "history_dict = history.history\n",
        "\n",
        "loss = history_dict['loss']\n",
        "val_loss = history_dict['val_loss']\n",
        "acc = history_dict['acc']\n",
        "val_acc = history_dict['val_acc']\n",
        "\n",
        "epochs = range(1, len(loss)+1)\n",
        "\n",
        "plt.figure(figsize=(12,5))\n",
        "\n",
        "plt.subplot(1, 2, 1)\n",
        "plt.plot(epochs, loss, 'red', label='Training loss') \n",
        "plt.plot(epochs, val_loss, 'green', label='Validation loss')\n",
        "plt.title('Training & Validation Loss')\n",
        "plt.xlabel('Epochs')\n",
        "plt.ylabel('Loss')\n",
        "plt.legend()\n",
        "\n",
        "plt.subplot(1, 2, 2)\n",
        "plt.plot(epochs, acc, 'red', label='Training acc') \n",
        "plt.plot(epochs, val_acc, 'green', label='Validation acc')\n",
        "plt.title('Training & Validation accuracy')\n",
        "plt.xlabel('Epochs')\n",
        "plt.ylabel('Accuracy')\n",
        "plt.legend()\n",
        "\n",
        "plt.show()"
      ],
      "execution_count": 73,
      "outputs": [
        {
          "output_type": "display_data",
          "data": {
            "image/png": "[encoded data removed]",
            "text/plain": [
              "<Figure size 864x360 with 2 Axes>"
            ]
          },
          "metadata": {
            "needs_background": "light"
          }
        }
      ]
    },
    {
      "cell_type": "code",
      "metadata": {
        "id": "P3zCrWWZmmXG",
        "outputId": "42a69c65-f607-40e1-c27e-ed1b7ac81cf7",
        "colab": {
          "base_uri": "https://localhost:8080/"
        }
      },
      "source": [
        "results = model.evaluate(X_test, y_test)\n",
        "print('Test accuracy: ', results[1])"
      ],
      "execution_count": 74,
      "outputs": [
        {
          "output_type": "stream",
          "text": [
            "276/276 [==============================] - 1s 2ms/step - loss: 0.6273 - acc: 0.6790\n",
            "Test accuracy:  0.6789885759353638\n"
          ],
          "name": "stdout"
        }
      ]
    },
    {
      "cell_type": "code",
      "metadata": {
        "id": "uBlkLLjtveqL"
      },
      "source": [
        ""
      ],
      "execution_count": null,
      "outputs": []
    }
  ]
}