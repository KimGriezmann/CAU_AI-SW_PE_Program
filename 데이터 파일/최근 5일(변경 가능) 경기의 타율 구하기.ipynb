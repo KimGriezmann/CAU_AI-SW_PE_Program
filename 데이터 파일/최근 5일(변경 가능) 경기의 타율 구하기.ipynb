{
  "nbformat": 4,
  "nbformat_minor": 0,
  "metadata": {
    "colab": {
      "name": "Untitled0.ipynb",
      "provenance": [],
      "mount_file_id": "12XgzETnzRCi-de-wStfidpzOPAWe_MM7",
      "authorship_tag": "ABX9TyP1J1XU9Or+sVkYqH0nCH3S",
      "include_colab_link": true
    },
    "kernelspec": {
      "name": "python3",
      "display_name": "Python 3"
    },
    "language_info": {
      "name": "python"
    }
  },
  "cells": [
    {
      "cell_type": "markdown",
      "metadata": {
        "id": "view-in-github",
        "colab_type": "text"
      },
      "source": [
        "<a href=\"https://colab.research.google.com/github/KimGriezmann/DeepLearning_BeTheLegend/blob/master/%EC%B5%9C%EA%B7%BC%205%EC%9D%BC%20%EA%B2%BD%EA%B8%B0%EC%9D%98%20%ED%83%80%EC%9C%A8%20%EA%B5%AC%ED%95%98%EA%B8%B0.ipynb\" target=\"_parent\"><img src=\"https://colab.research.google.com/assets/colab-badge.svg\" alt=\"Open In Colab\"/></a>"
      ]
    },
    {
      "cell_type": "code",
      "metadata": {
        "id": "hZiBbFYWQEUP"
      },
      "source": [
        "import numpy as np\n",
        "import pandas as pd\n",
        "import tqdm"
      ],
      "execution_count": 1,
      "outputs": []
    },
    {
      "cell_type": "code",
      "metadata": {
        "id": "LAvjoubnQwoZ"
      },
      "source": [
        "data = pd.read_excel(\"/content/날짜별 타자 데이터 통합 (1).xlsx\")\n",
        "hitter = pd.read_excel(\"/content/90명 타자 명단.xlsx\")"
      ],
      "execution_count": 2,
      "outputs": []
    },
    {
      "cell_type": "code",
      "metadata": {
        "id": "urydav0GSZM3"
      },
      "source": [
        "data = pd.DataFrame(data)\n",
        "hitter = pd.DataFrame(hitter)"
      ],
      "execution_count": 3,
      "outputs": []
    },
    {
      "cell_type": "code",
      "metadata": {
        "colab": {
          "base_uri": "https://localhost:8080/"
        },
        "id": "Nj69EkCcQ5Y3",
        "outputId": "a8f8f931-f8ec-48dc-df4c-7654be44fdd4"
      },
      "source": [
        "print(data.head(), len(data))"
      ],
      "execution_count": 4,
      "outputs": [
        {
          "output_type": "stream",
          "text": [
            "     day name  vs  타순  P  ab  hit  ...  SSG   KT        KW  KIA   HH   SS   NC\n",
            "0  44289  강민호  키움   6  C   3    0  ...  0.0  0.0  0.000000  0.0  0.0  0.0  0.0\n",
            "1  44290  강민호  키움   7  C   4    2  ...  0.0  0.0  0.285714  0.0  0.0  0.0  0.0\n",
            "2  44292  강민호  두산   9  C   1    0  ...  0.0  0.0  0.000000  0.0  0.0  0.0  0.0\n",
            "3  44293  강민호  두산   6  C   4    1  ...  0.0  0.0  0.000000  0.0  0.0  0.0  0.0\n",
            "4  44294  강민호  두산   7  C   3    2  ...  0.0  0.0  0.000000  0.0  0.0  0.0  0.0\n",
            "\n",
            "[5 rows x 25 columns] 5296\n"
          ],
          "name": "stdout"
        }
      ]
    },
    {
      "cell_type": "code",
      "metadata": {
        "colab": {
          "base_uri": "https://localhost:8080/"
        },
        "id": "wogln08CS1Es",
        "outputId": "4334f112-425c-489f-aa13-ddc5ded07150"
      },
      "source": [
        "print(hitter.head(), len(hitter))"
      ],
      "execution_count": 5,
      "outputs": [
        {
          "output_type": "stream",
          "text": [
            "  Team batter\n",
            "0   롯데    전준우\n",
            "1   롯데    손아섭\n",
            "2   롯데     정훈\n",
            "3   롯데    마차도\n",
            "4   롯데    한동희 90\n"
          ],
          "name": "stdout"
        }
      ]
    },
    {
      "cell_type": "code",
      "metadata": {
        "colab": {
          "base_uri": "https://localhost:8080/"
        },
        "id": "1dijZgUMTClT",
        "outputId": "d79f2e78-1907-4bcf-facf-85527540b4a2"
      },
      "source": [
        "data.loc[:,['day','name','ab','hit']].dtypes"
      ],
      "execution_count": 6,
      "outputs": [
        {
          "output_type": "execute_result",
          "data": {
            "text/plain": [
              "day      int64\n",
              "name    object\n",
              "ab       int64\n",
              "hit      int64\n",
              "dtype: object"
            ]
          },
          "metadata": {
            "tags": []
          },
          "execution_count": 6
        }
      ]
    },
    {
      "cell_type": "code",
      "metadata": {
        "id": "nD1xQjgCU-yx"
      },
      "source": [
        "#\n",
        "# 선수마다 최근 5일의 타율을 구해야함. \n",
        "# 현재 day에서 -5부터 -1까지의 sum(hit)/sum(ab) 값을 구하면 된다\n",
        "\n",
        "# hitter_data : 90명 타자 data\n",
        "# record_data : 날짜별 타자 기록\n",
        "# recent_day : 기본(최근 5일), 설정 가능\n",
        "def make_recent_days(hitter_data, record_data, recent_day=5):\n",
        "\n",
        "  # 최근 5일 경기 타율 저장할 공간 생성\n",
        "  recent_5days = np.zeros(len(record_data)) # 최근 5일 경기 타율\n",
        "  recent_5days_hitter = np.empty(len(record_data), dtype=np.chararray) # type : 문자열 저장을 위해 chararray\n",
        "  recent_5days_day = np.empty(len(record_data), dtype=np.int32) # 기준이 되는 날짜\n",
        "\n",
        "  ps = 0\n",
        "  for h in tqdm.tqdm(hitter_data['batter']): # 90명 타자 한명씩 접근\n",
        "    hdata = record_data.loc[record_data['name']==h] # 특정 타자 한명에 대해서만 데이터 추출\n",
        "    for r in hdata['day']: # 추출한 데이터에서 한 행씩 접근\n",
        "      recent_5days_hitter[ps] = h # 현재 타자\n",
        "      recent_5days_day[ps] = r  # 현재 기준 날짜\n",
        "      hrdata = hdata.loc[hdata['day']>=r-recent_day].loc[hdata['day']<=r-1] # 접근한 행의 날짜를 기준으로 5일 경기 \n",
        "      if len(hrdata)==0: # 최근 5일 경기 없으면 넘어가고\n",
        "        ps+=1\n",
        "        continue\n",
        "      else : # 있으면\n",
        "        sum_ab = sum(hrdata['ab'])\n",
        "        if sum_ab==0: # 경기 기록은 존재하지만 타수(ab)가 0\n",
        "          ps+=1\n",
        "          continue\n",
        "        sum_hit = sum(hrdata['hit'])\n",
        "        recent_5days[ps] = sum_hit/sum_ab\n",
        "        ps+=1\n",
        "\n",
        "  result_Dataframe = pd.DataFrame()\n",
        "  result_Dataframe['recent_5days_hitter'] = recent_5days_hitter\n",
        "  result_Dataframe['recent_5days_day'] = recent_5days_day\n",
        "  result_Dataframe['recent_5days'] = recent_5days\n",
        "  result_Dataframe\n",
        "\n",
        "  return result_Dataframe"
      ],
      "execution_count": 7,
      "outputs": []
    },
    {
      "cell_type": "code",
      "metadata": {
        "colab": {
          "base_uri": "https://localhost:8080/",
          "height": 436
        },
        "id": "tf4q-BOfSOxs",
        "outputId": "bed445a4-d331-45ee-c7a9-98b6ebacd41e"
      },
      "source": [
        "make_recent_days(hitter, data)"
      ],
      "execution_count": 8,
      "outputs": [
        {
          "output_type": "stream",
          "text": [
            "100%|██████████| 90/90 [00:08<00:00, 10.53it/s]\n"
          ],
          "name": "stderr"
        },
        {
          "output_type": "execute_result",
          "data": {
            "text/html": [
              "<div>\n",
              "<style scoped>\n",
              "    .dataframe tbody tr th:only-of-type {\n",
              "        vertical-align: middle;\n",
              "    }\n",
              "\n",
              "    .dataframe tbody tr th {\n",
              "        vertical-align: top;\n",
              "    }\n",
              "\n",
              "    .dataframe thead th {\n",
              "        text-align: right;\n",
              "    }\n",
              "</style>\n",
              "<table border=\"1\" class=\"dataframe\">\n",
              "  <thead>\n",
              "    <tr style=\"text-align: right;\">\n",
              "      <th></th>\n",
              "      <th>recent_5days_hitter</th>\n",
              "      <th>recent_5days_day</th>\n",
              "      <th>recent_5days</th>\n",
              "    </tr>\n",
              "  </thead>\n",
              "  <tbody>\n",
              "    <tr>\n",
              "      <th>0</th>\n",
              "      <td>전준우</td>\n",
              "      <td>44290</td>\n",
              "      <td>0.000000</td>\n",
              "    </tr>\n",
              "    <tr>\n",
              "      <th>1</th>\n",
              "      <td>전준우</td>\n",
              "      <td>44292</td>\n",
              "      <td>0.500000</td>\n",
              "    </tr>\n",
              "    <tr>\n",
              "      <th>2</th>\n",
              "      <td>전준우</td>\n",
              "      <td>44293</td>\n",
              "      <td>0.714286</td>\n",
              "    </tr>\n",
              "    <tr>\n",
              "      <th>3</th>\n",
              "      <td>전준우</td>\n",
              "      <td>44294</td>\n",
              "      <td>0.636364</td>\n",
              "    </tr>\n",
              "    <tr>\n",
              "      <th>4</th>\n",
              "      <td>전준우</td>\n",
              "      <td>44295</td>\n",
              "      <td>0.533333</td>\n",
              "    </tr>\n",
              "    <tr>\n",
              "      <th>...</th>\n",
              "      <td>...</td>\n",
              "      <td>...</td>\n",
              "      <td>...</td>\n",
              "    </tr>\n",
              "    <tr>\n",
              "      <th>5291</th>\n",
              "      <td>김민하</td>\n",
              "      <td>44367</td>\n",
              "      <td>0.222222</td>\n",
              "    </tr>\n",
              "    <tr>\n",
              "      <th>5292</th>\n",
              "      <td>김민하</td>\n",
              "      <td>44369</td>\n",
              "      <td>0.000000</td>\n",
              "    </tr>\n",
              "    <tr>\n",
              "      <th>5293</th>\n",
              "      <td>김민하</td>\n",
              "      <td>44370</td>\n",
              "      <td>0.000000</td>\n",
              "    </tr>\n",
              "    <tr>\n",
              "      <th>5294</th>\n",
              "      <td>김민하</td>\n",
              "      <td>44371</td>\n",
              "      <td>0.100000</td>\n",
              "    </tr>\n",
              "    <tr>\n",
              "      <th>5295</th>\n",
              "      <td>김민하</td>\n",
              "      <td>44373</td>\n",
              "      <td>0.125000</td>\n",
              "    </tr>\n",
              "  </tbody>\n",
              "</table>\n",
              "<p>5296 rows × 3 columns</p>\n",
              "</div>"
            ],
            "text/plain": [
              "     recent_5days_hitter  recent_5days_day  recent_5days\n",
              "0                    전준우             44290      0.000000\n",
              "1                    전준우             44292      0.500000\n",
              "2                    전준우             44293      0.714286\n",
              "3                    전준우             44294      0.636364\n",
              "4                    전준우             44295      0.533333\n",
              "...                  ...               ...           ...\n",
              "5291                 김민하             44367      0.222222\n",
              "5292                 김민하             44369      0.000000\n",
              "5293                 김민하             44370      0.000000\n",
              "5294                 김민하             44371      0.100000\n",
              "5295                 김민하             44373      0.125000\n",
              "\n",
              "[5296 rows x 3 columns]"
            ]
          },
          "metadata": {
            "tags": []
          },
          "execution_count": 8
        }
      ]
    },
    {
      "cell_type": "code",
      "metadata": {
        "id": "gQgkTLWvp1xf"
      },
      "source": [
        ""
      ],
      "execution_count": 8,
      "outputs": []
    }
  ]
}
