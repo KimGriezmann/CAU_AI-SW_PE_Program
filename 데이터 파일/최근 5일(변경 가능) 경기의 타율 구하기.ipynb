{
  "nbformat": 4,
  "nbformat_minor": 0,
  "metadata": {
    "colab": {
      "name": "Untitled0.ipynb",
      "provenance": [],
      "mount_file_id": "12XgzETnzRCi-de-wStfidpzOPAWe_MM7",
      "authorship_tag": "ABX9TyPMtT0jp5vGFmhJhwL362Gr",
      "include_colab_link": true
    },
    "kernelspec": {
      "name": "python3",
      "display_name": "Python 3"
    },
    "language_info": {
      "name": "python"
    }
  },
  "cells": [
    {
      "cell_type": "markdown",
      "metadata": {
        "id": "view-in-github",
        "colab_type": "text"
      },
      "source": [
        "<a href=\"https://colab.research.google.com/github/KimGriezmann/DeepLearning_BeTheLegend/blob/master/%EB%8D%B0%EC%9D%B4%ED%84%B0%20%ED%8C%8C%EC%9D%BC/%EC%B5%9C%EA%B7%BC%205%EC%9D%BC(%EB%B3%80%EA%B2%BD%20%EA%B0%80%EB%8A%A5)%20%EA%B2%BD%EA%B8%B0%EC%9D%98%20%ED%83%80%EC%9C%A8%20%EA%B5%AC%ED%95%98%EA%B8%B0.ipynb\" target=\"_parent\"><img src=\"https://colab.research.google.com/assets/colab-badge.svg\" alt=\"Open In Colab\"/></a>"
      ]
    },
    {
      "cell_type": "code",
      "metadata": {
        "id": "hZiBbFYWQEUP"
      },
      "source": [
        "import numpy as np\n",
        "import pandas as pd\n",
        "import tqdm"
      ],
      "execution_count": 67,
      "outputs": []
    },
    {
      "cell_type": "code",
      "metadata": {
        "id": "LAvjoubnQwoZ"
      },
      "source": [
        "data = pd.read_excel(\"/content/날짜별 타자 데이터 통합 (1).xlsx\")\n",
        "hitter = pd.read_excel(\"/content/90명 타자 명단.xlsx\")"
      ],
      "execution_count": 68,
      "outputs": []
    },
    {
      "cell_type": "code",
      "metadata": {
        "id": "urydav0GSZM3"
      },
      "source": [
        "data = pd.DataFrame(data)\n",
        "hitter = pd.DataFrame(hitter)"
      ],
      "execution_count": 69,
      "outputs": []
    },
    {
      "cell_type": "code",
      "metadata": {
        "colab": {
          "base_uri": "https://localhost:8080/"
        },
        "id": "Nj69EkCcQ5Y3",
        "outputId": "41b282d8-80a2-448f-9f4e-ee0b905d3422"
      },
      "source": [
        "print(data.head(), len(data))"
      ],
      "execution_count": 70,
      "outputs": [
        {
          "output_type": "stream",
          "text": [
            "     day name  vs  타순  P  ab  hit  ...  SSG   KT        KW  KIA   HH   SS   NC\n",
            "0  44289  강민호  키움   6  C   3    0  ...  0.0  0.0  0.000000  0.0  0.0  0.0  0.0\n",
            "1  44290  강민호  키움   7  C   4    2  ...  0.0  0.0  0.285714  0.0  0.0  0.0  0.0\n",
            "2  44292  강민호  두산   9  C   1    0  ...  0.0  0.0  0.000000  0.0  0.0  0.0  0.0\n",
            "3  44293  강민호  두산   6  C   4    1  ...  0.0  0.0  0.000000  0.0  0.0  0.0  0.0\n",
            "4  44294  강민호  두산   7  C   3    2  ...  0.0  0.0  0.000000  0.0  0.0  0.0  0.0\n",
            "\n",
            "[5 rows x 25 columns] 5296\n"
          ],
          "name": "stdout"
        }
      ]
    },
    {
      "cell_type": "code",
      "metadata": {
        "colab": {
          "base_uri": "https://localhost:8080/"
        },
        "id": "wogln08CS1Es",
        "outputId": "c5b988a7-d596-4f18-aec8-9a3e708311cb"
      },
      "source": [
        "print(hitter.head(), len(hitter))"
      ],
      "execution_count": 71,
      "outputs": [
        {
          "output_type": "stream",
          "text": [
            "  Team batter\n",
            "0   롯데    전준우\n",
            "1   롯데    손아섭\n",
            "2   롯데     정훈\n",
            "3   롯데    마차도\n",
            "4   롯데    한동희 90\n"
          ],
          "name": "stdout"
        }
      ]
    },
    {
      "cell_type": "code",
      "metadata": {
        "colab": {
          "base_uri": "https://localhost:8080/"
        },
        "id": "1dijZgUMTClT",
        "outputId": "89551fe6-b393-49ac-a576-bbc4ca02cb1f"
      },
      "source": [
        "data.loc[:,['day','name','ab','hit']].dtypes"
      ],
      "execution_count": 72,
      "outputs": [
        {
          "output_type": "execute_result",
          "data": {
            "text/plain": [
              "day      int64\n",
              "name    object\n",
              "ab       int64\n",
              "hit      int64\n",
              "dtype: object"
            ]
          },
          "metadata": {
            "tags": []
          },
          "execution_count": 72
        }
      ]
    },
    {
      "cell_type": "code",
      "metadata": {
        "id": "ERaG8UsiDUfG"
      },
      "source": [
        "# 더블헤더 처리\n",
        "temp = np.zeros(len(data))\n",
        "\n",
        "# day, name이 같은 값이 있다는 것은 더블헤더 경기가 있다는것\n",
        "# keep=False 옵션은 중복 값에 해당하는 튜플들을 모두 True로 리턴, 그 외 옵션 : 'first', 'last' 의 경우 둘 중 하나만 True\n",
        "dup = data.loc[:,['day','name']].duplicated(keep=False) \n",
        "\n",
        "for i in range(len(data)):\n",
        "  if dup[i]==False:\n",
        "    temp[i]=0\n",
        "  elif dup[i]==True:\n",
        "    temp[i]=1\n",
        "\n",
        "# 중복의 첫번째 행은 더블헤더 1차전\n",
        "# 중복인 두번째 행이 더블헤더 2차전이다.\n",
        "for i in range(1,len(temp)):\n",
        "  if temp[i]==1 and temp[i-1]==1:\n",
        "    temp[i]=2\n",
        "\n",
        "data['double']=temp"
      ],
      "execution_count": 73,
      "outputs": []
    },
    {
      "cell_type": "code",
      "metadata": {
        "id": "nD1xQjgCU-yx"
      },
      "source": [
        "#\n",
        "# 선수마다 최근 5일의 타율을 구해야함. \n",
        "# 현재 day에서 -5부터 -1까지의 sum(hit)/sum(ab) 값을 구하면 된다\n",
        "\n",
        "# hitter_data : 90명 타자 data\n",
        "# record_data : 날짜별 타자 기록\n",
        "# recent_day : 기본(최근 5일), 설정 가능\n",
        "def make_recent_days(hitter_data, record_data, day=5):\n",
        "\n",
        "  # 최근 5일(기본) 경기 타율 저장할 공간 생성\n",
        "  recent_days_avg = np.zeros(len(record_data)) # 최근 5일(기본) 경기 타율\n",
        "  recent_days_hitter = np.empty(len(record_data), dtype=np.chararray) # type : 문자열 저장을 위해 chararray\n",
        "  recent_days_day = np.empty(len(record_data), dtype=np.int32) # 기준이 되는 날짜\n",
        "  recent_days_double = np.zeros(len(record_data), dtype=np.int8) # 더블헤더 분류 / 0 : 더블헤더 아님 / 1 : 더블헤더 1차전 / 2 : 더블헤더 2차전\n",
        "\n",
        "  ps = 0\n",
        "  for h in tqdm.tqdm(hitter_data['batter']): # 90명 타자 한명씩 접근\n",
        "    hdata = record_data.loc[record_data['name']==h].reset_index() # 특정 타자 한명에 대해서만 데이터 추출\n",
        "    for i in range(len(hdata['day'])): # 추출한 데이터에서 한 행씩 접근\n",
        "      recent_days_hitter[ps] = h # 현재 타자\n",
        "      r = hdata.loc[i,'day']  # 현재 기준 날짜\n",
        "      recent_days_day[ps] = r\n",
        "      d = hdata.loc[i,'double'] # 현재 더블헤더 분류\n",
        "      recent_days_double[ps] = d      \n",
        "      if d==2: # 더블헤더 2차전이라면\n",
        "        hrdata = hdata.loc[hdata['day']>=r-day].loc[hdata['day']<=r].loc[hdata['double']!=2] # r 날짜까지 가져와서 2차전을 제외\n",
        "      else: # 더블헤더가 아니고, 더블헤더 1차전이라면\n",
        "        hrdata = hdata.loc[hdata['day']>=r-day].loc[hdata['day']<=r-1] # 접근한 행의 날짜를 기준으로 5일 경기\n",
        "         \n",
        "      if len(hrdata)==0: # 최근 5일 경기 없으면 넘어가고\n",
        "        ps+=1\n",
        "        continue\n",
        "      else : # 있으면\n",
        "        sum_ab = sum(hrdata['ab'])\n",
        "        if sum_ab==0: # 경기 기록은 존재하지만 타수(ab)가 0\n",
        "          ps+=1\n",
        "          continue\n",
        "        sum_hit = sum(hrdata['hit'])\n",
        "        recent_days_avg[ps] = sum_hit/sum_ab\n",
        "        ps+=1\n",
        "\n",
        "  result_Dataframe = pd.DataFrame()\n",
        "  result_Dataframe['day'] = recent_days_day\n",
        "  result_Dataframe['name'] = recent_days_hitter\n",
        "  result_Dataframe['recent_days_avg'] = recent_days_avg\n",
        "  result_Dataframe['double'] = recent_days_double\n",
        "\n",
        "  return result_Dataframe"
      ],
      "execution_count": 97,
      "outputs": []
    },
    {
      "cell_type": "code",
      "metadata": {
        "colab": {
          "base_uri": "https://localhost:8080/"
        },
        "id": "tf4q-BOfSOxs",
        "outputId": "a679f4e2-d7d0-4c8d-b177-1eebe9e9dfe2"
      },
      "source": [
        "recent_days_data = make_recent_days(hitter, data)"
      ],
      "execution_count": 98,
      "outputs": [
        {
          "output_type": "stream",
          "text": [
            "100%|██████████| 90/90 [00:09<00:00,  9.77it/s]\n"
          ],
          "name": "stderr"
        }
      ]
    },
    {
      "cell_type": "code",
      "metadata": {
        "id": "gQgkTLWvp1xf",
        "colab": {
          "base_uri": "https://localhost:8080/",
          "height": 111
        },
        "outputId": "48ba9820-5f26-47da-d1fa-7045f19903be"
      },
      "source": [
        "recent_days_data.loc[recent_days_data['day']==44373].loc[recent_days_data['name']=='강민호']"
      ],
      "execution_count": 99,
      "outputs": [
        {
          "output_type": "execute_result",
          "data": {
            "text/html": [
              "<div>\n",
              "<style scoped>\n",
              "    .dataframe tbody tr th:only-of-type {\n",
              "        vertical-align: middle;\n",
              "    }\n",
              "\n",
              "    .dataframe tbody tr th {\n",
              "        vertical-align: top;\n",
              "    }\n",
              "\n",
              "    .dataframe thead th {\n",
              "        text-align: right;\n",
              "    }\n",
              "</style>\n",
              "<table border=\"1\" class=\"dataframe\">\n",
              "  <thead>\n",
              "    <tr style=\"text-align: right;\">\n",
              "      <th></th>\n",
              "      <th>day</th>\n",
              "      <th>name</th>\n",
              "      <th>recent_days_avg</th>\n",
              "      <th>double</th>\n",
              "    </tr>\n",
              "  </thead>\n",
              "  <tbody>\n",
              "    <tr>\n",
              "      <th>1847</th>\n",
              "      <td>44373</td>\n",
              "      <td>강민호</td>\n",
              "      <td>0.333333</td>\n",
              "      <td>1</td>\n",
              "    </tr>\n",
              "    <tr>\n",
              "      <th>1848</th>\n",
              "      <td>44373</td>\n",
              "      <td>강민호</td>\n",
              "      <td>0.352941</td>\n",
              "      <td>2</td>\n",
              "    </tr>\n",
              "  </tbody>\n",
              "</table>\n",
              "</div>"
            ],
            "text/plain": [
              "        day name  recent_days_avg  double\n",
              "1847  44373  강민호         0.333333       1\n",
              "1848  44373  강민호         0.352941       2"
            ]
          },
          "metadata": {
            "tags": []
          },
          "execution_count": 99
        }
      ]
    },
    {
      "cell_type": "code",
      "metadata": {
        "id": "zh73miWZPpKg",
        "outputId": "12575a73-0b69-4ad1-d34c-c9c6bf971138",
        "colab": {
          "base_uri": "https://localhost:8080/"
        }
      },
      "source": [
        "print((1+2+1)/(4+4+4))\n",
        "print((1+2+1+2)/(4+4+4+5))"
      ],
      "execution_count": 96,
      "outputs": [
        {
          "output_type": "stream",
          "text": [
            "0.3333333333333333\n",
            "0.35294117647058826\n"
          ],
          "name": "stdout"
        }
      ]
    },
    {
      "cell_type": "code",
      "metadata": {
        "id": "w3Wye2dWOwpz"
      },
      "source": [
        ""
      ],
      "execution_count": 66,
      "outputs": []
    }
  ]
}