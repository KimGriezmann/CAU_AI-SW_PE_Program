{
  "nbformat": 4,
  "nbformat_minor": 0,
  "metadata": {
    "colab": {
      "name": "Web_Crawling__Selenium.ipynb",
      "provenance": [],
      "include_colab_link": true
    },
    "kernelspec": {
      "name": "python3",
      "display_name": "Python 3"
    },
    "language_info": {
      "name": "python"
    }
  },
  "cells": [
    {
      "cell_type": "markdown",
      "metadata": {
        "id": "view-in-github",
        "colab_type": "text"
      },
      "source": [
        "<a href=\"https://colab.research.google.com/github/KimGriezmann/DeepLearning_BeTheLegend/blob/master/RNN_model/RNN_model.ipynb\" target=\"_parent\"><img src=\"https://colab.research.google.com/assets/colab-badge.svg\" alt=\"Open In Colab\"/></a>"
      ]
    },
    {
      "cell_type": "code",
      "metadata": {
        "id": "B9FtxTkzzZZr"
      },
      "source": [
        "import numpy as np\n",
        "import pandas as pd\n",
        "import tqdm\n",
        "import os\n",
        "import matplotlib.pyplot as plt\n",
        "import seaborn as sns"
      ],
      "execution_count": 3,
      "outputs": []
    },
    {
      "cell_type": "code",
      "metadata": {
        "colab": {
          "base_uri": "https://localhost:8080/"
        },
        "id": "nVHrSFQLl3T9",
        "outputId": "1413492c-e10c-40a8-c4fd-4b119b815e1b"
      },
      "source": [
        "from google.colab import drive\n",
        "drive.mount('/gdrive', force_remount=True)"
      ],
      "execution_count": 4,
      "outputs": [
        {
          "output_type": "stream",
          "text": [
            "Mounted at /gdrive\n"
          ],
          "name": "stdout"
        }
      ]
    },
    {
      "cell_type": "code",
      "metadata": {
        "colab": {
          "base_uri": "https://localhost:8080/"
        },
        "id": "lpXdABfSmZEW",
        "outputId": "125191e2-b9c9-4ebf-e295-9bb30f44f404"
      },
      "source": [
        "from google.colab import drive\n",
        "drive.mount('/content/drive')"
      ],
      "execution_count": 5,
      "outputs": [
        {
          "output_type": "stream",
          "text": [
            "Mounted at /content/drive\n"
          ],
          "name": "stdout"
        }
      ]
    },
    {
      "cell_type": "code",
      "metadata": {
        "id": "N5DR_EdFsRmq"
      },
      "source": [
        "final_2018_2021 = pd.read_csv('/content/drive/MyDrive/bethelegend/final_2018_2021.csv', encoding='euc-kr')"
      ],
      "execution_count": 42,
      "outputs": []
    },
    {
      "cell_type": "code",
      "metadata": {
        "colab": {
          "base_uri": "https://localhost:8080/",
          "height": 334
        },
        "id": "DLA515YOszeW",
        "outputId": "7f312838-66c6-4858-a88d-8d1fbcf6ba48"
      },
      "source": [
        "sns.countplot(final_2018_2021['ab'])\n",
        "plt.show()"
      ],
      "execution_count": null,
      "outputs": [
        {
          "output_type": "stream",
          "text": [
            "/usr/local/lib/python3.7/dist-packages/seaborn/_decorators.py:43: FutureWarning: Pass the following variable as a keyword arg: x. From version 0.12, the only valid positional argument will be `data`, and passing other arguments without an explicit keyword will result in an error or misinterpretation.\n",
            "  FutureWarning\n"
          ],
          "name": "stderr"
        },
        {
          "output_type": "display_data",
          "data": {
            "image/png": "[encoded data removed]",
            "text/plain": [
              "<Figure size 432x288 with 1 Axes>"
            ]
          },
          "metadata": {
            "tags": [],
            "needs_background": "light"
          }
        }
      ]
    },
    {
      "cell_type": "code",
      "metadata": {
        "id": "TZ1f36nesIrz"
      },
      "source": [
        "#선발 출장에 한정\n",
        "final_2018_2021 = final_2018_2021[final_2018_2021['start_member'] == 1]"
      ],
      "execution_count": 43,
      "outputs": []
    },
    {
      "cell_type": "code",
      "metadata": {
        "id": "sup1IOqbwfFr"
      },
      "source": [
        "#3월, 4월 데이터 제외\n",
        "final_2018_2021 = final_2018_2021.loc[final_2018_2021['day']>= 500]"
      ],
      "execution_count": 44,
      "outputs": []
    },
    {
      "cell_type": "code",
      "metadata": {
        "id": "iF4wzQ2cX2Ue"
      },
      "source": [
        "#0타수 데이터 제외\n",
        "final_2018_2021 = final_2018_2021[final_2018_2021['ab']>0]"
      ],
      "execution_count": 45,
      "outputs": []
    },
    {
      "cell_type": "markdown",
      "metadata": {
        "id": "6vKbGIXYnVOa"
      },
      "source": [
        "### **Multi layer Perceptron in Be the legend**"
      ]
    },
    {
      "cell_type": "code",
      "metadata": {
        "id": "RFweHbLdmuMq"
      },
      "source": [
        "mlp_data = final_2018_2021.loc[:, ['name', 'day', 'start_member', 'vs_team', 'avg', 'slg', 'ops', 'avLI', 'RE24', 'WPA', 'home/away_avg_y', 'vs_ab', 'vs_hit', 'vs_avg', 'recent_5days_avg', 'recent_5games_avg', 'recent_10games_avg', 'success_10days', 'success_10games', 'result_y']]"
      ],
      "execution_count": 158,
      "outputs": []
    },
    {
      "cell_type": "code",
      "metadata": {
        "id": "3cid426-ZUot",
        "colab": {
          "base_uri": "https://localhost:8080/"
        },
        "outputId": "10c04ff7-0af5-47e1-f4fb-18d49d71978b"
      },
      "source": [
        "len(mlp_data)"
      ],
      "execution_count": 11,
      "outputs": [
        {
          "output_type": "execute_result",
          "data": {
            "text/plain": [
              "29395"
            ]
          },
          "metadata": {},
          "execution_count": 11
        }
      ]
    },
    {
      "cell_type": "code",
      "metadata": {
        "id": "ZnGxy06A1Yos",
        "colab": {
          "base_uri": "https://localhost:8080/"
        },
        "outputId": "b1c448e1-0d4d-4a3b-e0c9-57d9a59fb23a"
      },
      "source": [
        "len(mlp_data[mlp_data['result_y'] == 1]) / len(mlp_data) * 100"
      ],
      "execution_count": 12,
      "outputs": [
        {
          "output_type": "execute_result",
          "data": {
            "text/plain": [
              "67.47065827521688"
            ]
          },
          "metadata": {},
          "execution_count": 12
        }
      ]
    },
    {
      "cell_type": "code",
      "metadata": {
        "id": "-iD5efWEmuXc"
      },
      "source": [
        "from keras.utils.np_utils import to_categorical\n",
        "import numpy as np\n",
        "from sklearn.preprocessing import minmax_scale\n",
        "from keras.models import Sequential\n",
        "from keras.layers import Dense, Dropout, Activation\n",
        "from sklearn.model_selection import train_test_split\n",
        "from sklearn.model_selection import KFold \n",
        "from sklearn.model_selection import cross_val_score\n",
        "from keras.wrappers.scikit_learn import KerasClassifier"
      ],
      "execution_count": 13,
      "outputs": []
    },
    {
      "cell_type": "markdown",
      "metadata": {
        "id": "tj57pdhG-Dgk"
      },
      "source": [
        "### **Training data set / Test data set 분할**"
      ]
    },
    {
      "cell_type": "code",
      "metadata": {
        "id": "C7_-up_YmuZa"
      },
      "source": [
        "mlp_train, mlp_test = train_test_split(mlp_data, test_size=0.15, random_state=50)"
      ],
      "execution_count": 364,
      "outputs": []
    },
    {
      "cell_type": "code",
      "metadata": {
        "id": "KYFYC0nSuAxq"
      },
      "source": [
        "#현재 가지고 있는 모든 피쳐 사용\n",
        "\n",
        "X_train = mlp_train.loc[:, ['avg', 'slg', 'ops', 'avLI', 'RE24', 'WPA', 'home/away_avg_y', 'vs_avg', 'recent_5days_avg', 'recent_5games_avg', 'recent_10games_avg', 'success_10days', 'success_10games']]\n",
        "y_train = mlp_train.loc[:, ['result_y']]\n",
        "\n",
        "X_test = mlp_test.loc[:, ['avg', 'slg', 'ops', 'avLI', 'RE24', 'WPA', 'home/away_avg_y', 'vs_avg', 'recent_5days_avg', 'recent_5games_avg', 'recent_10games_avg', 'success_10days', 'success_10games']]\n",
        "y_test = mlp_test.loc[:, ['result_y']]"
      ],
      "execution_count": 365,
      "outputs": []
    },
    {
      "cell_type": "code",
      "metadata": {
        "id": "gcVedMqPpAkB"
      },
      "source": [
        "X_train = X_train.to_numpy()\n",
        "y_train = y_train.to_numpy()\n",
        "X_test = X_test.to_numpy()\n",
        "y_test = y_test.to_numpy()"
      ],
      "execution_count": 366,
      "outputs": []
    },
    {
      "cell_type": "code",
      "metadata": {
        "id": "Q8Vnpzu_pHnB"
      },
      "source": [
        "X_train = minmax_scale(X_train, feature_range=(0,1), axis = 0)\n",
        "X_test = minmax_scale(X_test, feature_range=(0,1), axis = 0)"
      ],
      "execution_count": 367,
      "outputs": []
    },
    {
      "cell_type": "code",
      "metadata": {
        "id": "zEiz1UpqpCgQ"
      },
      "source": [
        "number_of_train_samples = X_train.shape[0]\n",
        "width = X_train.shape[1]\n",
        "X_train = X_train.reshape(number_of_train_samples, 1, width)"
      ],
      "execution_count": 368,
      "outputs": []
    },
    {
      "cell_type": "code",
      "metadata": {
        "id": "Xow9qw6IpFuY"
      },
      "source": [
        "number_of_test_samples = X_test.shape[0]\n",
        "X_test = X_test.reshape(number_of_test_samples, 1, width)"
      ],
      "execution_count": 369,
      "outputs": []
    },
    {
      "cell_type": "code",
      "metadata": {
        "id": "2rtCAAG4ukE1",
        "colab": {
          "base_uri": "https://localhost:8080/"
        },
        "outputId": "e3948078-ca10-432f-f18a-8d45a59a71e2"
      },
      "source": [
        "X_train.shape, X_test.shape"
      ],
      "execution_count": 370,
      "outputs": [
        {
          "output_type": "execute_result",
          "data": {
            "text/plain": [
              "((24985, 1, 13), (4410, 1, 13))"
            ]
          },
          "metadata": {},
          "execution_count": 370
        }
      ]
    },
    {
      "cell_type": "markdown",
      "metadata": {
        "id": "JaF_pitWR328"
      },
      "source": [
        "### **Stratified K-Fold Cross Validation (auto)**"
      ]
    },
    {
      "cell_type": "code",
      "metadata": {
        "id": "Oz1cP4peWSfE"
      },
      "source": [
        "mlp_data = final_2018_2021.loc[:, ['name', 'day', 'start_member', 'vs_team', 'avg', 'slg', 'ops', 'avLI', 'RE24', 'WPA', 'home/away_avg_y', 'vs_ab', 'vs_hit', 'vs_avg', 'recent_5days_avg', 'recent_5games_avg', 'recent_10games_avg', 'success_10days', 'success_10games', 'result_y']]"
      ],
      "execution_count": 283,
      "outputs": []
    },
    {
      "cell_type": "code",
      "metadata": {
        "id": "Oco65SmER-oa"
      },
      "source": [
        "X = mlp_data.loc[:, ['avg', 'slg', 'ops', 'avLI', 'RE24', 'WPA', 'home/away_avg_y', 'vs_avg', 'recent_5days_avg', 'recent_5games_avg', 'recent_10games_avg', 'success_10days', 'success_10games']]\n",
        "y = mlp_data.loc[:, ['result_y']]"
      ],
      "execution_count": 284,
      "outputs": []
    },
    {
      "cell_type": "code",
      "metadata": {
        "id": "NEw6LFG_R-qW"
      },
      "source": [
        "X = X.to_numpy()\n",
        "y = y.to_numpy()"
      ],
      "execution_count": 285,
      "outputs": []
    },
    {
      "cell_type": "code",
      "metadata": {
        "id": "Q6vwp0LJUxgm"
      },
      "source": [
        "X = minmax_scale(X, feature_range=(0,1), axis = 0)"
      ],
      "execution_count": 286,
      "outputs": []
    },
    {
      "cell_type": "code",
      "metadata": {
        "id": "bFU4j55cUxeG"
      },
      "source": [
        "number_of_samples = X.shape[0]\n",
        "width = X.shape[1]\n",
        "X = X.reshape(number_of_samples, 1, width)"
      ],
      "execution_count": 287,
      "outputs": []
    },
    {
      "cell_type": "code",
      "metadata": {
        "id": "BAWlmCMNPlQj",
        "outputId": "6b9b5e3d-0fe0-4a43-d147-904668770af1",
        "colab": {
          "base_uri": "https://localhost:8080/"
        }
      },
      "source": [
        "X.shape, y.shape"
      ],
      "execution_count": 288,
      "outputs": [
        {
          "output_type": "execute_result",
          "data": {
            "text/plain": [
              "((29395, 1, 13), (29395, 1))"
            ]
          },
          "metadata": {},
          "execution_count": 288
        }
      ]
    },
    {
      "cell_type": "code",
      "metadata": {
        "id": "QDyX-Z8KUxiv"
      },
      "source": [
        "def gru_k():\n",
        "    model = Sequential()\n",
        "    model.add(GRU(50, input_shape = (1,13), return_sequences = True))\n",
        "    model.add(GRU(50, return_sequences = True))\n",
        "    model.add(GRU(13, return_sequences = True))\n",
        "    model.add(GRU(13, return_sequences = True))\n",
        "    model.add(GRU(1, return_sequences = False, activation='sigmoid'))\n",
        "    \n",
        "    model.compile(loss = 'binary_crossentropy', optimizer = 'rmsprop', metrics = ['acc'])\n",
        "    \n",
        "    return model"
      ],
      "execution_count": 289,
      "outputs": []
    },
    {
      "cell_type": "code",
      "metadata": {
        "id": "6GJy-__-UxoS"
      },
      "source": [
        "model = KerasClassifier(build_fn=gru_k, epochs=150, batch_size=32, verbose=0)  "
      ],
      "execution_count": 290,
      "outputs": []
    },
    {
      "cell_type": "code",
      "metadata": {
        "id": "_c88NlgkVgoU"
      },
      "source": [
        " kfold = KFold(n_splits = 5, shuffle = True, random_state = 50) \n",
        " results = cross_val_score(model, X, y, cv=kfold)"
      ],
      "execution_count": 291,
      "outputs": []
    },
    {
      "cell_type": "code",
      "metadata": {
        "id": "H7chLlKGu4aN",
        "colab": {
          "base_uri": "https://localhost:8080/"
        },
        "outputId": "95d36de8-da8b-4a9a-c10a-fabc003cb5b7"
      },
      "source": [
        "results, round(np.mean(results),3)"
      ],
      "execution_count": 292,
      "outputs": [
        {
          "output_type": "execute_result",
          "data": {
            "text/plain": [
              "(array([0.81714576, 0.81323355, 0.80898112, 0.81459433, 0.8031978 ]), 0.811)"
            ]
          },
          "metadata": {},
          "execution_count": 292
        }
      ]
    },
    {
      "cell_type": "markdown",
      "metadata": {
        "id": "TktpLH5w-KCz"
      },
      "source": [
        "### **Validation data set / Training data set 분할**"
      ]
    },
    {
      "cell_type": "code",
      "metadata": {
        "id": "QV0xUno7-YWb"
      },
      "source": [
        "X_val = X_train[:5000]\n",
        "X_train = X_train[5000:]\n",
        "\n",
        "y_val = y_train[:5000]\n",
        "y_train = y_train[5000:]"
      ],
      "execution_count": 200,
      "outputs": []
    },
    {
      "cell_type": "markdown",
      "metadata": {
        "id": "iO4sL2DHmDwB"
      },
      "source": [
        "### **SimpleRNN**"
      ]
    },
    {
      "cell_type": "code",
      "metadata": {
        "id": "OYqmiQIqmJZC"
      },
      "source": [
        "from keras.models import Sequential\n",
        "from keras.layers import Dense, SimpleRNN, Activation, LSTM\n",
        "from keras import optimizers\n",
        "from keras.wrappers.scikit_learn import KerasClassifier"
      ],
      "execution_count": 301,
      "outputs": []
    },
    {
      "cell_type": "markdown",
      "metadata": {
        "id": "zdvIGxem16jY"
      },
      "source": [
        "**model_2**"
      ]
    },
    {
      "cell_type": "code",
      "metadata": {
        "id": "uBlkLLjtveqL"
      },
      "source": [
        "def simple_rnn2():\n",
        "    model = Sequential()\n",
        "    model.add(SimpleRNN(32, input_shape = (1,13)))\n",
        "    model.add(Dense(1, activation='sigmoid'))\n",
        "    \n",
        "    model.compile(loss = 'binary_crossentropy', optimizer = 'Adam', metrics = ['acc'])\n",
        "    \n",
        "    return model"
      ],
      "execution_count": 340,
      "outputs": []
    },
    {
      "cell_type": "code",
      "metadata": {
        "id": "ShXorI_NvOza"
      },
      "source": [
        "model2 = simple_rnn2()\n",
        "history = model2.fit(X_train, y_train, epochs = 100, validation_data=(X_test, y_test), verbose = 0)\n",
        "history_dict2 = history.history"
      ],
      "execution_count": 341,
      "outputs": []
    },
    {
      "cell_type": "code",
      "metadata": {
        "id": "r8-UA83IeN5a",
        "outputId": "779e07f1-8b1b-4212-8c35-c075d3bc8bc0",
        "colab": {
          "base_uri": "https://localhost:8080/",
          "height": 350
        }
      },
      "source": [
        "loss_acc_graph(history_dict2)"
      ],
      "execution_count": 342,
      "outputs": [
        {
          "output_type": "display_data",
          "data": {
            "image/png": "[encoded data removed]",
            "text/plain": [
              "<Figure size 864x360 with 2 Axes>"
            ]
          },
          "metadata": {
            "needs_background": "light"
          }
        }
      ]
    },
    {
      "cell_type": "code",
      "metadata": {
        "id": "hpXNCIClveo9",
        "colab": {
          "base_uri": "https://localhost:8080/"
        },
        "outputId": "ba3e0126-ec56-40be-8911-2463d697c867"
      },
      "source": [
        "results = model2.evaluate(X_test, y_test)\n",
        "print('Test accuracy: ', results[1])"
      ],
      "execution_count": 343,
      "outputs": [
        {
          "output_type": "stream",
          "text": [
            "138/138 [==============================] - 0s 1ms/step - loss: 0.4053 - acc: 0.8166\n",
            "Test accuracy:  0.8165532946586609\n"
          ],
          "name": "stdout"
        }
      ]
    },
    {
      "cell_type": "markdown",
      "metadata": {
        "id": "EfURic5D3SDw"
      },
      "source": [
        "**model_3**"
      ]
    },
    {
      "cell_type": "code",
      "metadata": {
        "id": "k1e7NIe73TSg"
      },
      "source": [
        "def simple_rnn3():\n",
        "    model = Sequential()\n",
        "    model.add(SimpleRNN(32, input_shape = (1,13), return_sequences = False))\n",
        "    model.add(Dense(1, activation='sigmoid'))\n",
        "    \n",
        "    model.compile(loss = 'binary_crossentropy', optimizer = 'Adam', metrics = ['acc'])\n",
        "    \n",
        "    return model"
      ],
      "execution_count": 351,
      "outputs": []
    },
    {
      "cell_type": "code",
      "metadata": {
        "id": "JeTk-PCi3aCI"
      },
      "source": [
        "model3 = simple_rnn3()\n",
        "history = model3.fit(X_train, y_train, epochs = 100, validation_data=(X_test, y_test), verbose = 0)\n",
        "history_dict3 = history.history"
      ],
      "execution_count": 352,
      "outputs": []
    },
    {
      "cell_type": "code",
      "metadata": {
        "id": "-KOtbe5Nga9E",
        "outputId": "6f45f640-b73a-4387-9362-64c7a47e0754",
        "colab": {
          "base_uri": "https://localhost:8080/",
          "height": 350
        }
      },
      "source": [
        "loss_acc_graph(history_dict3)"
      ],
      "execution_count": 353,
      "outputs": [
        {
          "output_type": "display_data",
          "data": {
            "image/png": "[encoded data removed]",
            "text/plain": [
              "<Figure size 864x360 with 2 Axes>"
            ]
          },
          "metadata": {
            "needs_background": "light"
          }
        }
      ]
    },
    {
      "cell_type": "code",
      "metadata": {
        "id": "Ji8hga1k3aEX",
        "colab": {
          "base_uri": "https://localhost:8080/"
        },
        "outputId": "95762b8b-beaf-48b4-c837-937102d4e292"
      },
      "source": [
        "results = model3.evaluate(X_test, y_test)\n",
        "print('Test accuracy: ', results[1])"
      ],
      "execution_count": 354,
      "outputs": [
        {
          "output_type": "stream",
          "text": [
            "138/138 [==============================] - 0s 1ms/step - loss: 0.4053 - acc: 0.8147\n",
            "Test accuracy:  0.8147392272949219\n"
          ],
          "name": "stdout"
        }
      ]
    },
    {
      "cell_type": "markdown",
      "metadata": {
        "id": "ebEzo2RS923F"
      },
      "source": [
        "**model_4**"
      ]
    },
    {
      "cell_type": "code",
      "metadata": {
        "id": "emUIZr7L94Vs"
      },
      "source": [
        "def simple_rnn4():\n",
        "    model = Sequential()\n",
        "    model.add(SimpleRNN(50, input_shape = (1,13), return_sequences = True))\n",
        "    model.add(SimpleRNN(32, return_sequences = False))\n",
        "    model.add(Dense(1, activation='sigmoid'))\n",
        "    \n",
        "    model.compile(loss = 'binary_crossentropy', optimizer = 'Adam', metrics = ['acc'])\n",
        "    \n",
        "    return model"
      ],
      "execution_count": 362,
      "outputs": []
    },
    {
      "cell_type": "code",
      "metadata": {
        "id": "IsnZCRqb-Cz8",
        "outputId": "155ef7cc-4fc9-4eea-afc7-cd6d92ac8729",
        "colab": {
          "base_uri": "https://localhost:8080/",
          "height": 358
        }
      },
      "source": [
        "model4 = simple_rnn4()\n",
        "history = model4.fit(X_train, y_train, epochs = 100, validation_data=(X_test, y_test), verbose = 0)\n",
        "history_dict4 = history.history"
      ],
      "execution_count": 363,
      "outputs": [
        {
          "output_type": "error",
          "ename": "KeyboardInterrupt",
          "evalue": "ignored",
          "traceback": [
            "\u001b[0;31m---------------------------------------------------------------------------\u001b[0m",
            "\u001b[0;31mKeyboardInterrupt\u001b[0m                         Traceback (most recent call last)",
            "\u001b[0;32m<ipython-input-363-400fee9a51e1>\u001b[0m in \u001b[0;36m<module>\u001b[0;34m()\u001b[0m\n\u001b[1;32m      1\u001b[0m \u001b[0mmodel4\u001b[0m \u001b[0;34m=\u001b[0m \u001b[0msimple_rnn4\u001b[0m\u001b[0;34m(\u001b[0m\u001b[0;34m)\u001b[0m\u001b[0;34m\u001b[0m\u001b[0;34m\u001b[0m\u001b[0m\n\u001b[0;32m----> 2\u001b[0;31m \u001b[0mhistory\u001b[0m \u001b[0;34m=\u001b[0m \u001b[0mmodel4\u001b[0m\u001b[0;34m.\u001b[0m\u001b[0mfit\u001b[0m\u001b[0;34m(\u001b[0m\u001b[0mX_train\u001b[0m\u001b[0;34m,\u001b[0m \u001b[0my_train\u001b[0m\u001b[0;34m,\u001b[0m \u001b[0mepochs\u001b[0m \u001b[0;34m=\u001b[0m \u001b[0;36m100\u001b[0m\u001b[0;34m,\u001b[0m \u001b[0mvalidation_data\u001b[0m\u001b[0;34m=\u001b[0m\u001b[0;34m(\u001b[0m\u001b[0mX_test\u001b[0m\u001b[0;34m,\u001b[0m \u001b[0my_test\u001b[0m\u001b[0;34m)\u001b[0m\u001b[0;34m,\u001b[0m \u001b[0mverbose\u001b[0m \u001b[0;34m=\u001b[0m \u001b[0;36m0\u001b[0m\u001b[0;34m)\u001b[0m\u001b[0;34m\u001b[0m\u001b[0;34m\u001b[0m\u001b[0m\n\u001b[0m\u001b[1;32m      3\u001b[0m \u001b[0mhistory_dict\u001b[0m \u001b[0;34m=\u001b[0m \u001b[0mhistory\u001b[0m\u001b[0;34m.\u001b[0m\u001b[0mhistory\u001b[0m\u001b[0;34m\u001b[0m\u001b[0;34m\u001b[0m\u001b[0m\n",
            "\u001b[0;32m/usr/local/lib/python3.7/dist-packages/keras/engine/training.py\u001b[0m in \u001b[0;36mfit\u001b[0;34m(self, x, y, batch_size, epochs, verbose, callbacks, validation_split, validation_data, shuffle, class_weight, sample_weight, initial_epoch, steps_per_epoch, validation_steps, validation_batch_size, validation_freq, max_queue_size, workers, use_multiprocessing)\u001b[0m\n\u001b[1;32m   1182\u001b[0m                 _r=1):\n\u001b[1;32m   1183\u001b[0m               \u001b[0mcallbacks\u001b[0m\u001b[0;34m.\u001b[0m\u001b[0mon_train_batch_begin\u001b[0m\u001b[0;34m(\u001b[0m\u001b[0mstep\u001b[0m\u001b[0;34m)\u001b[0m\u001b[0;34m\u001b[0m\u001b[0;34m\u001b[0m\u001b[0m\n\u001b[0;32m-> 1184\u001b[0;31m               \u001b[0mtmp_logs\u001b[0m \u001b[0;34m=\u001b[0m \u001b[0mself\u001b[0m\u001b[0;34m.\u001b[0m\u001b[0mtrain_function\u001b[0m\u001b[0;34m(\u001b[0m\u001b[0miterator\u001b[0m\u001b[0;34m)\u001b[0m\u001b[0;34m\u001b[0m\u001b[0;34m\u001b[0m\u001b[0m\n\u001b[0m\u001b[1;32m   1185\u001b[0m               \u001b[0;32mif\u001b[0m \u001b[0mdata_handler\u001b[0m\u001b[0;34m.\u001b[0m\u001b[0mshould_sync\u001b[0m\u001b[0;34m:\u001b[0m\u001b[0;34m\u001b[0m\u001b[0;34m\u001b[0m\u001b[0m\n\u001b[1;32m   1186\u001b[0m                 \u001b[0mcontext\u001b[0m\u001b[0;34m.\u001b[0m\u001b[0masync_wait\u001b[0m\u001b[0;34m(\u001b[0m\u001b[0;34m)\u001b[0m\u001b[0;34m\u001b[0m\u001b[0;34m\u001b[0m\u001b[0m\n",
            "\u001b[0;32m/usr/local/lib/python3.7/dist-packages/tensorflow/python/eager/def_function.py\u001b[0m in \u001b[0;36m__call__\u001b[0;34m(self, *args, **kwds)\u001b[0m\n\u001b[1;32m    883\u001b[0m \u001b[0;34m\u001b[0m\u001b[0m\n\u001b[1;32m    884\u001b[0m       \u001b[0;32mwith\u001b[0m \u001b[0mOptionalXlaContext\u001b[0m\u001b[0;34m(\u001b[0m\u001b[0mself\u001b[0m\u001b[0;34m.\u001b[0m\u001b[0m_jit_compile\u001b[0m\u001b[0;34m)\u001b[0m\u001b[0;34m:\u001b[0m\u001b[0;34m\u001b[0m\u001b[0;34m\u001b[0m\u001b[0m\n\u001b[0;32m--> 885\u001b[0;31m         \u001b[0mresult\u001b[0m \u001b[0;34m=\u001b[0m \u001b[0mself\u001b[0m\u001b[0;34m.\u001b[0m\u001b[0m_call\u001b[0m\u001b[0;34m(\u001b[0m\u001b[0;34m*\u001b[0m\u001b[0margs\u001b[0m\u001b[0;34m,\u001b[0m \u001b[0;34m**\u001b[0m\u001b[0mkwds\u001b[0m\u001b[0;34m)\u001b[0m\u001b[0;34m\u001b[0m\u001b[0;34m\u001b[0m\u001b[0m\n\u001b[0m\u001b[1;32m    886\u001b[0m \u001b[0;34m\u001b[0m\u001b[0m\n\u001b[1;32m    887\u001b[0m       \u001b[0mnew_tracing_count\u001b[0m \u001b[0;34m=\u001b[0m \u001b[0mself\u001b[0m\u001b[0;34m.\u001b[0m\u001b[0mexperimental_get_tracing_count\u001b[0m\u001b[0;34m(\u001b[0m\u001b[0;34m)\u001b[0m\u001b[0;34m\u001b[0m\u001b[0;34m\u001b[0m\u001b[0m\n",
            "\u001b[0;32m/usr/local/lib/python3.7/dist-packages/tensorflow/python/eager/def_function.py\u001b[0m in \u001b[0;36m_call\u001b[0;34m(self, *args, **kwds)\u001b[0m\n\u001b[1;32m    915\u001b[0m       \u001b[0;31m# In this case we have created variables on the first call, so we run the\u001b[0m\u001b[0;34m\u001b[0m\u001b[0;34m\u001b[0m\u001b[0;34m\u001b[0m\u001b[0m\n\u001b[1;32m    916\u001b[0m       \u001b[0;31m# defunned version which is guaranteed to never create variables.\u001b[0m\u001b[0;34m\u001b[0m\u001b[0;34m\u001b[0m\u001b[0;34m\u001b[0m\u001b[0m\n\u001b[0;32m--> 917\u001b[0;31m       \u001b[0;32mreturn\u001b[0m \u001b[0mself\u001b[0m\u001b[0;34m.\u001b[0m\u001b[0m_stateless_fn\u001b[0m\u001b[0;34m(\u001b[0m\u001b[0;34m*\u001b[0m\u001b[0margs\u001b[0m\u001b[0;34m,\u001b[0m \u001b[0;34m**\u001b[0m\u001b[0mkwds\u001b[0m\u001b[0;34m)\u001b[0m  \u001b[0;31m# pylint: disable=not-callable\u001b[0m\u001b[0;34m\u001b[0m\u001b[0;34m\u001b[0m\u001b[0m\n\u001b[0m\u001b[1;32m    918\u001b[0m     \u001b[0;32melif\u001b[0m \u001b[0mself\u001b[0m\u001b[0;34m.\u001b[0m\u001b[0m_stateful_fn\u001b[0m \u001b[0;32mis\u001b[0m \u001b[0;32mnot\u001b[0m \u001b[0;32mNone\u001b[0m\u001b[0;34m:\u001b[0m\u001b[0;34m\u001b[0m\u001b[0;34m\u001b[0m\u001b[0m\n\u001b[1;32m    919\u001b[0m       \u001b[0;31m# Release the lock early so that multiple threads can perform the call\u001b[0m\u001b[0;34m\u001b[0m\u001b[0;34m\u001b[0m\u001b[0;34m\u001b[0m\u001b[0m\n",
            "\u001b[0;32m/usr/local/lib/python3.7/dist-packages/tensorflow/python/eager/function.py\u001b[0m in \u001b[0;36m__call__\u001b[0;34m(self, *args, **kwargs)\u001b[0m\n\u001b[1;32m   3038\u001b[0m        filtered_flat_args) = self._maybe_define_function(args, kwargs)\n\u001b[1;32m   3039\u001b[0m     return graph_function._call_flat(\n\u001b[0;32m-> 3040\u001b[0;31m         filtered_flat_args, captured_inputs=graph_function.captured_inputs)  # pylint: disable=protected-access\n\u001b[0m\u001b[1;32m   3041\u001b[0m \u001b[0;34m\u001b[0m\u001b[0m\n\u001b[1;32m   3042\u001b[0m   \u001b[0;34m@\u001b[0m\u001b[0mproperty\u001b[0m\u001b[0;34m\u001b[0m\u001b[0;34m\u001b[0m\u001b[0m\n",
            "\u001b[0;32m/usr/local/lib/python3.7/dist-packages/tensorflow/python/eager/function.py\u001b[0m in \u001b[0;36m_call_flat\u001b[0;34m(self, args, captured_inputs, cancellation_manager)\u001b[0m\n\u001b[1;32m   1962\u001b[0m       \u001b[0;31m# No tape is watching; skip to running the function.\u001b[0m\u001b[0;34m\u001b[0m\u001b[0;34m\u001b[0m\u001b[0;34m\u001b[0m\u001b[0m\n\u001b[1;32m   1963\u001b[0m       return self._build_call_outputs(self._inference_function.call(\n\u001b[0;32m-> 1964\u001b[0;31m           ctx, args, cancellation_manager=cancellation_manager))\n\u001b[0m\u001b[1;32m   1965\u001b[0m     forward_backward = self._select_forward_and_backward_functions(\n\u001b[1;32m   1966\u001b[0m         \u001b[0margs\u001b[0m\u001b[0;34m,\u001b[0m\u001b[0;34m\u001b[0m\u001b[0;34m\u001b[0m\u001b[0m\n",
            "\u001b[0;32m/usr/local/lib/python3.7/dist-packages/tensorflow/python/eager/function.py\u001b[0m in \u001b[0;36mcall\u001b[0;34m(self, ctx, args, cancellation_manager)\u001b[0m\n\u001b[1;32m    594\u001b[0m               \u001b[0minputs\u001b[0m\u001b[0;34m=\u001b[0m\u001b[0margs\u001b[0m\u001b[0;34m,\u001b[0m\u001b[0;34m\u001b[0m\u001b[0;34m\u001b[0m\u001b[0m\n\u001b[1;32m    595\u001b[0m               \u001b[0mattrs\u001b[0m\u001b[0;34m=\u001b[0m\u001b[0mattrs\u001b[0m\u001b[0;34m,\u001b[0m\u001b[0;34m\u001b[0m\u001b[0;34m\u001b[0m\u001b[0m\n\u001b[0;32m--> 596\u001b[0;31m               ctx=ctx)\n\u001b[0m\u001b[1;32m    597\u001b[0m         \u001b[0;32melse\u001b[0m\u001b[0;34m:\u001b[0m\u001b[0;34m\u001b[0m\u001b[0;34m\u001b[0m\u001b[0m\n\u001b[1;32m    598\u001b[0m           outputs = execute.execute_with_cancellation(\n",
            "\u001b[0;32m/usr/local/lib/python3.7/dist-packages/tensorflow/python/eager/execute.py\u001b[0m in \u001b[0;36mquick_execute\u001b[0;34m(op_name, num_outputs, inputs, attrs, ctx, name)\u001b[0m\n\u001b[1;32m     58\u001b[0m     \u001b[0mctx\u001b[0m\u001b[0;34m.\u001b[0m\u001b[0mensure_initialized\u001b[0m\u001b[0;34m(\u001b[0m\u001b[0;34m)\u001b[0m\u001b[0;34m\u001b[0m\u001b[0;34m\u001b[0m\u001b[0m\n\u001b[1;32m     59\u001b[0m     tensors = pywrap_tfe.TFE_Py_Execute(ctx._handle, device_name, op_name,\n\u001b[0;32m---> 60\u001b[0;31m                                         inputs, attrs, num_outputs)\n\u001b[0m\u001b[1;32m     61\u001b[0m   \u001b[0;32mexcept\u001b[0m \u001b[0mcore\u001b[0m\u001b[0;34m.\u001b[0m\u001b[0m_NotOkStatusException\u001b[0m \u001b[0;32mas\u001b[0m \u001b[0me\u001b[0m\u001b[0;34m:\u001b[0m\u001b[0;34m\u001b[0m\u001b[0;34m\u001b[0m\u001b[0m\n\u001b[1;32m     62\u001b[0m     \u001b[0;32mif\u001b[0m \u001b[0mname\u001b[0m \u001b[0;32mis\u001b[0m \u001b[0;32mnot\u001b[0m \u001b[0;32mNone\u001b[0m\u001b[0;34m:\u001b[0m\u001b[0;34m\u001b[0m\u001b[0;34m\u001b[0m\u001b[0m\n",
            "\u001b[0;31mKeyboardInterrupt\u001b[0m: "
          ]
        }
      ]
    },
    {
      "cell_type": "code",
      "metadata": {
        "id": "aCwzncUVh9Oc"
      },
      "source": [
        ""
      ],
      "execution_count": null,
      "outputs": []
    },
    {
      "cell_type": "code",
      "metadata": {
        "id": "RljBFG7--C2F",
        "colab": {
          "base_uri": "https://localhost:8080/"
        },
        "outputId": "63476c8d-be7e-4f6b-fae3-88b4079aa5f8"
      },
      "source": [
        "results = model4.evaluate(X_test, y_test)\n",
        "print('Test accuracy: ', results[1])"
      ],
      "execution_count": null,
      "outputs": [
        {
          "output_type": "stream",
          "text": [
            "276/276 [==============================] - 0s 2ms/step - loss: 0.4010 - acc: 0.8159\n",
            "Test accuracy:  0.815852165222168\n"
          ],
          "name": "stdout"
        }
      ]
    },
    {
      "cell_type": "markdown",
      "metadata": {
        "id": "cOvL2upx_Ekl"
      },
      "source": [
        "**model_5**"
      ]
    },
    {
      "cell_type": "code",
      "metadata": {
        "id": "pMjOy8Zd_Gb0"
      },
      "source": [
        "def simple_rnn5():\n",
        "    model = Sequential()\n",
        "    model.add(SimpleRNN(50, input_shape = (1,13), return_sequences = True, activation='relu'))\n",
        "    model.add(SimpleRNN(32, return_sequences = False, activation='relu'))\n",
        "    model.add(Dense(1, activation='sigmoid'))\n",
        "    \n",
        "    model.compile(loss = 'binary_crossentropy', optimizer = 'Adam', metrics = ['acc'])\n",
        "    \n",
        "    return model"
      ],
      "execution_count": null,
      "outputs": []
    },
    {
      "cell_type": "code",
      "metadata": {
        "id": "JCog1x88_GeD"
      },
      "source": [
        "model5 = simple_rnn5()\n",
        "history = model5.fit(X_train, y_train, epochs = 100, validation_data=(X_val, y_val), verbose = 0)\n",
        "history_dict = history.history"
      ],
      "execution_count": null,
      "outputs": []
    },
    {
      "cell_type": "code",
      "metadata": {
        "id": "sCrnSFMZ_GgU",
        "colab": {
          "base_uri": "https://localhost:8080/"
        },
        "outputId": "f080b46f-0f8d-4136-e875-24662c4c21d2"
      },
      "source": [
        "results = model5.evaluate(X_test, y_test)\n",
        "print('Test accuracy: ', results[1])"
      ],
      "execution_count": null,
      "outputs": [
        {
          "output_type": "stream",
          "text": [
            "276/276 [==============================] - 0s 2ms/step - loss: 0.4056 - acc: 0.8163\n",
            "Test accuracy:  0.8163056969642639\n"
          ],
          "name": "stdout"
        }
      ]
    },
    {
      "cell_type": "markdown",
      "metadata": {
        "id": "OEK_CgeGKaLY"
      },
      "source": [
        "**model_6**"
      ]
    },
    {
      "cell_type": "code",
      "metadata": {
        "id": "ES2OJk_bKZZJ"
      },
      "source": [
        "def simple_rnn6():\n",
        "    model = Sequential()\n",
        "    model.add(SimpleRNN(50, input_shape = (1,13), return_sequences = True, activation='tanh'))\n",
        "    model.add(SimpleRNN(32, return_sequences = False, activation='tanh'))\n",
        "    model.add(Dense(1, activation='sigmoid'))\n",
        "    \n",
        "    model.compile(loss = 'binary_crossentropy', optimizer = 'Adam', metrics = ['acc'])\n",
        "    \n",
        "    return model"
      ],
      "execution_count": null,
      "outputs": []
    },
    {
      "cell_type": "code",
      "metadata": {
        "id": "ptzKUuTVKZfA"
      },
      "source": [
        "model6 = simple_rnn6()\n",
        "history = model6.fit(X_train, y_train, epochs = 100, validation_data=(X_val, y_val), verbose = 0)\n",
        "history_dict = history.history"
      ],
      "execution_count": null,
      "outputs": []
    },
    {
      "cell_type": "code",
      "metadata": {
        "id": "y4eU5boXKZlw",
        "colab": {
          "base_uri": "https://localhost:8080/"
        },
        "outputId": "d3b6e326-8d49-4a32-bb1e-055d9ae86a51"
      },
      "source": [
        "results = model6.evaluate(X_test, y_test)\n",
        "print('Test accuracy: ', results[1])"
      ],
      "execution_count": null,
      "outputs": [
        {
          "output_type": "stream",
          "text": [
            "276/276 [==============================] - 0s 2ms/step - loss: 0.4001 - acc: 0.8161\n",
            "Test accuracy:  0.8160789012908936\n"
          ],
          "name": "stdout"
        }
      ]
    },
    {
      "cell_type": "markdown",
      "metadata": {
        "id": "vExNebL6LKqC"
      },
      "source": [
        "**model_7**"
      ]
    },
    {
      "cell_type": "code",
      "metadata": {
        "id": "6UzxipS3LKQS"
      },
      "source": [
        "def simple_rnn7():\n",
        "    model = Sequential()\n",
        "    model.add(SimpleRNN(50, input_shape = (1,13), return_sequences = True, activation='sigmoid'))\n",
        "    model.add(SimpleRNN(32, return_sequences = False, activation='sigmoid'))\n",
        "    model.add(Dense(1, activation='sigmoid'))\n",
        "    \n",
        "    model.compile(loss = 'binary_crossentropy', optimizer = 'Adam', metrics = ['acc'])\n",
        "    \n",
        "    return model"
      ],
      "execution_count": null,
      "outputs": []
    },
    {
      "cell_type": "code",
      "metadata": {
        "id": "CB1y6Ts1LKSk"
      },
      "source": [
        "model7 = simple_rnn7()\n",
        "history = model7.fit(X_train, y_train, epochs = 100, validation_data=(X_val, y_val), verbose = 0)\n",
        "history_dict = history.history"
      ],
      "execution_count": null,
      "outputs": []
    },
    {
      "cell_type": "code",
      "metadata": {
        "id": "oSeDqan7Om7b",
        "colab": {
          "base_uri": "https://localhost:8080/"
        },
        "outputId": "887e58a0-f2f2-4795-fe04-a7917d7e0088"
      },
      "source": [
        "results = model7.evaluate(X_test, y_test)\n",
        "print('Test accuracy: ', results[1])"
      ],
      "execution_count": null,
      "outputs": [
        {
          "output_type": "stream",
          "text": [
            "276/276 [==============================] - 0s 1ms/step - loss: 0.4006 - acc: 0.8153\n",
            "Test accuracy:  0.8152852058410645\n"
          ],
          "name": "stdout"
        }
      ]
    },
    {
      "cell_type": "markdown",
      "metadata": {
        "id": "002BeDZAOwib"
      },
      "source": [
        "**model_8**"
      ]
    },
    {
      "cell_type": "code",
      "metadata": {
        "id": "gcrkpH0EOyt7"
      },
      "source": [
        "def simple_rnn8():\n",
        "    model = Sequential()\n",
        "    model.add(SimpleRNN(48, input_shape = (1,13), return_sequences = True, activation='tanh'))\n",
        "    model.add(SimpleRNN(10, return_sequences = False, activation='tanh'))\n",
        "    model.add(Dense(1, activation='sigmoid'))\n",
        "    \n",
        "    model.compile(loss = 'binary_crossentropy', optimizer = 'Adam', metrics = ['acc'])\n",
        "    \n",
        "    return model"
      ],
      "execution_count": null,
      "outputs": []
    },
    {
      "cell_type": "code",
      "metadata": {
        "id": "BBXUDqcDOywK"
      },
      "source": [
        "model8 = simple_rnn8()\n",
        "history = model8.fit(X_train, y_train, epochs = 100, validation_data=(X_val, y_val), verbose = 0)\n",
        "history_dict = history.history"
      ],
      "execution_count": null,
      "outputs": []
    },
    {
      "cell_type": "code",
      "metadata": {
        "id": "otYVO1wYOyyS",
        "colab": {
          "base_uri": "https://localhost:8080/"
        },
        "outputId": "02795fd3-06d0-486d-922c-2a76f3203e62"
      },
      "source": [
        "results = model8.evaluate(X_test, y_test)\n",
        "print('Test accuracy: ', results[1])"
      ],
      "execution_count": null,
      "outputs": [
        {
          "output_type": "stream",
          "text": [
            "276/276 [==============================] - 0s 1ms/step - loss: 0.3991 - acc: 0.8168\n",
            "Test accuracy:  0.8167592883110046\n"
          ],
          "name": "stdout"
        }
      ]
    },
    {
      "cell_type": "markdown",
      "metadata": {
        "id": "VRMzr9AKpYBw"
      },
      "source": [
        "### **LSTM**"
      ]
    },
    {
      "cell_type": "markdown",
      "metadata": {
        "id": "CJTVvjguWkfp"
      },
      "source": [
        "**LSTM_model_1**"
      ]
    },
    {
      "cell_type": "code",
      "metadata": {
        "id": "bYtpRVxf0BYL"
      },
      "source": [
        "from keras.models import Sequential\n",
        "from keras.layers import Dense, SimpleRNN, Activation, Embedding, LSTM\n",
        "from keras import optimizers"
      ],
      "execution_count": 36,
      "outputs": []
    },
    {
      "cell_type": "code",
      "metadata": {
        "id": "OEW7LurwWm4C"
      },
      "source": [
        "def lstm1():\n",
        "    model = Sequential()\n",
        "    model.add(LSTM(48, input_shape = (1,13), return_sequences = False, activation='tanh'))\n",
        "    model.add(Dense(1, activation='sigmoid'))\n",
        "    \n",
        "    model.compile(loss = 'binary_crossentropy', optimizer = 'Adam', metrics = ['acc'])\n",
        "    \n",
        "    return model"
      ],
      "execution_count": 34,
      "outputs": []
    },
    {
      "cell_type": "code",
      "metadata": {
        "id": "otEnkt8qWm_A",
        "outputId": "68ea4d95-ce54-4be1-db84-cd706438d550",
        "colab": {
          "base_uri": "https://localhost:8080/",
          "height": 334
        }
      },
      "source": [
        "ltsm_model1 = lstm1()\n",
        "history = ltsm_model1.fit(X_train, y_train, epochs = 100, validation_data=(X_val, y_val), verbose = 0)\n",
        "history_dict = history.history"
      ],
      "execution_count": 35,
      "outputs": [
        {
          "output_type": "error",
          "ename": "NameError",
          "evalue": "ignored",
          "traceback": [
            "\u001b[0;31m---------------------------------------------------------------------------\u001b[0m",
            "\u001b[0;31mNameError\u001b[0m                                 Traceback (most recent call last)",
            "\u001b[0;32m<ipython-input-35-e7c649f65f24>\u001b[0m in \u001b[0;36m<module>\u001b[0;34m()\u001b[0m\n\u001b[0;32m----> 1\u001b[0;31m \u001b[0mltsm_model1\u001b[0m \u001b[0;34m=\u001b[0m \u001b[0mlstm1\u001b[0m\u001b[0;34m(\u001b[0m\u001b[0;34m)\u001b[0m\u001b[0;34m\u001b[0m\u001b[0;34m\u001b[0m\u001b[0m\n\u001b[0m\u001b[1;32m      2\u001b[0m \u001b[0mhistory\u001b[0m \u001b[0;34m=\u001b[0m \u001b[0mltsm_model1\u001b[0m\u001b[0;34m.\u001b[0m\u001b[0mfit\u001b[0m\u001b[0;34m(\u001b[0m\u001b[0mX_train\u001b[0m\u001b[0;34m,\u001b[0m \u001b[0my_train\u001b[0m\u001b[0;34m,\u001b[0m \u001b[0mepochs\u001b[0m \u001b[0;34m=\u001b[0m \u001b[0;36m100\u001b[0m\u001b[0;34m,\u001b[0m \u001b[0mvalidation_data\u001b[0m\u001b[0;34m=\u001b[0m\u001b[0;34m(\u001b[0m\u001b[0mX_val\u001b[0m\u001b[0;34m,\u001b[0m \u001b[0my_val\u001b[0m\u001b[0;34m)\u001b[0m\u001b[0;34m,\u001b[0m \u001b[0mverbose\u001b[0m \u001b[0;34m=\u001b[0m \u001b[0;36m0\u001b[0m\u001b[0;34m)\u001b[0m\u001b[0;34m\u001b[0m\u001b[0;34m\u001b[0m\u001b[0m\n\u001b[1;32m      3\u001b[0m \u001b[0mhistory_dict\u001b[0m \u001b[0;34m=\u001b[0m \u001b[0mhistory\u001b[0m\u001b[0;34m.\u001b[0m\u001b[0mhistory\u001b[0m\u001b[0;34m\u001b[0m\u001b[0;34m\u001b[0m\u001b[0m\n",
            "\u001b[0;32m<ipython-input-34-70e3ca94746d>\u001b[0m in \u001b[0;36mlstm1\u001b[0;34m()\u001b[0m\n\u001b[1;32m      1\u001b[0m \u001b[0;32mdef\u001b[0m \u001b[0mlstm1\u001b[0m\u001b[0;34m(\u001b[0m\u001b[0;34m)\u001b[0m\u001b[0;34m:\u001b[0m\u001b[0;34m\u001b[0m\u001b[0;34m\u001b[0m\u001b[0m\n\u001b[1;32m      2\u001b[0m     \u001b[0mmodel\u001b[0m \u001b[0;34m=\u001b[0m \u001b[0mSequential\u001b[0m\u001b[0;34m(\u001b[0m\u001b[0;34m)\u001b[0m\u001b[0;34m\u001b[0m\u001b[0;34m\u001b[0m\u001b[0m\n\u001b[0;32m----> 3\u001b[0;31m     \u001b[0mmodel\u001b[0m\u001b[0;34m.\u001b[0m\u001b[0madd\u001b[0m\u001b[0;34m(\u001b[0m\u001b[0mLSTM\u001b[0m\u001b[0;34m(\u001b[0m\u001b[0;36m48\u001b[0m\u001b[0;34m,\u001b[0m \u001b[0minput_shape\u001b[0m \u001b[0;34m=\u001b[0m \u001b[0;34m(\u001b[0m\u001b[0;36m1\u001b[0m\u001b[0;34m,\u001b[0m\u001b[0;36m13\u001b[0m\u001b[0;34m)\u001b[0m\u001b[0;34m,\u001b[0m \u001b[0mreturn_sequences\u001b[0m \u001b[0;34m=\u001b[0m \u001b[0;32mFalse\u001b[0m\u001b[0;34m,\u001b[0m \u001b[0mactivation\u001b[0m\u001b[0;34m=\u001b[0m\u001b[0;34m'tanh'\u001b[0m\u001b[0;34m)\u001b[0m\u001b[0;34m)\u001b[0m\u001b[0;34m\u001b[0m\u001b[0;34m\u001b[0m\u001b[0m\n\u001b[0m\u001b[1;32m      4\u001b[0m     \u001b[0mmodel\u001b[0m\u001b[0;34m.\u001b[0m\u001b[0madd\u001b[0m\u001b[0;34m(\u001b[0m\u001b[0mDense\u001b[0m\u001b[0;34m(\u001b[0m\u001b[0;36m1\u001b[0m\u001b[0;34m,\u001b[0m \u001b[0mactivation\u001b[0m\u001b[0;34m=\u001b[0m\u001b[0;34m'sigmoid'\u001b[0m\u001b[0;34m)\u001b[0m\u001b[0;34m)\u001b[0m\u001b[0;34m\u001b[0m\u001b[0;34m\u001b[0m\u001b[0m\n\u001b[1;32m      5\u001b[0m \u001b[0;34m\u001b[0m\u001b[0m\n",
            "\u001b[0;31mNameError\u001b[0m: name 'LSTM' is not defined"
          ]
        }
      ]
    },
    {
      "cell_type": "code",
      "metadata": {
        "id": "EaxgjZpDWnBP"
      },
      "source": [
        "results = ltsm_model1.evaluate(X_test, y_test)\n",
        "print('Test accuracy: ', results[1])"
      ],
      "execution_count": null,
      "outputs": []
    },
    {
      "cell_type": "markdown",
      "metadata": {
        "id": "TS6swrN4nmd4"
      },
      "source": [
        "**LSTM_model_2**"
      ]
    },
    {
      "cell_type": "code",
      "metadata": {
        "id": "4LouyVfYnqYo"
      },
      "source": [
        "def lstm2():\n",
        "    model = Sequential()\n",
        "    model.add(LSTM(20, input_shape = (1,13), return_sequences = False, activation='tanh'))\n",
        "    model.add(Dense(1, activation='sigmoid'))\n",
        "    \n",
        "    model.compile(loss = 'binary_crossentropy', optimizer = 'Adam', metrics = ['acc'])\n",
        "    \n",
        "    return model"
      ],
      "execution_count": null,
      "outputs": []
    },
    {
      "cell_type": "code",
      "metadata": {
        "id": "FV-Kml-5nqbB"
      },
      "source": [
        "ltsm_model2 = lstm2()\n",
        "history = ltsm_model2.fit(X_train, y_train, epochs = 100, validation_data=(X_val, y_val), verbose = 0)\n",
        "history_dict = history.history"
      ],
      "execution_count": null,
      "outputs": []
    },
    {
      "cell_type": "code",
      "metadata": {
        "id": "oa5jKLlUnqrv"
      },
      "source": [
        "results = ltsm_model2.evaluate(X_test, y_test)\n",
        "print('Test accuracy: ', results[1])"
      ],
      "execution_count": null,
      "outputs": []
    },
    {
      "cell_type": "markdown",
      "metadata": {
        "id": "mqCkvIFFomFR"
      },
      "source": [
        "**LSTM_model_3**"
      ]
    },
    {
      "cell_type": "code",
      "metadata": {
        "id": "erzukGIKopxv"
      },
      "source": [
        "def lstm3():\n",
        "    model = Sequential()\n",
        "    model.add(LSTM(50, input_shape = (1,13), return_sequences = False))\n",
        "    model.add(Dense(1, activation='sigmoid'))\n",
        "    \n",
        "    model.compile(loss = 'binary_crossentropy', optimizer = 'Adam', metrics = ['acc'])\n",
        "    \n",
        "    return model"
      ],
      "execution_count": null,
      "outputs": []
    },
    {
      "cell_type": "code",
      "metadata": {
        "id": "ZjSLUhGrop0H"
      },
      "source": [
        "ltsm_model3 = lstm3()\n",
        "history = ltsm_model3.fit(X_train, y_train, epochs = 100, validation_data=(X_val, y_val), verbose = 0)\n",
        "history_dict = history.history"
      ],
      "execution_count": null,
      "outputs": []
    },
    {
      "cell_type": "code",
      "metadata": {
        "id": "ioCX-fFipShp"
      },
      "source": [
        "results = ltsm_model3.evaluate(X_test, y_test)\n",
        "print('Test accuracy: ', results[1])"
      ],
      "execution_count": null,
      "outputs": []
    },
    {
      "cell_type": "markdown",
      "metadata": {
        "id": "dif-n6GAqDmk"
      },
      "source": [
        "**LSTM_model_4**"
      ]
    },
    {
      "cell_type": "code",
      "metadata": {
        "id": "bpIg_uyEqF9S"
      },
      "source": [
        "def lstm4():\n",
        "    model = Sequential()\n",
        "    model.add(LSTM(50, input_shape = (1,13), return_sequences = True))\n",
        "    model.add(LSTM(50, return_sequences = False))\n",
        "    model.add(Dense(1, activation='sigmoid'))\n",
        "    \n",
        "    model.compile(loss = 'binary_crossentropy', optimizer = 'Adam', metrics = ['acc'])\n",
        "    \n",
        "    return model"
      ],
      "execution_count": null,
      "outputs": []
    },
    {
      "cell_type": "code",
      "metadata": {
        "id": "fr9lyyPbqF_o"
      },
      "source": [
        "ltsm_model4 = lstm4()\n",
        "history = ltsm_model4.fit(X_train, y_train, epochs = 150, validation_data=(X_val, y_val), verbose = 0)\n",
        "history_dict = history.history"
      ],
      "execution_count": null,
      "outputs": []
    },
    {
      "cell_type": "code",
      "metadata": {
        "id": "fvRtkNcIqGCK"
      },
      "source": [
        "results = ltsm_model4.evaluate(X_test, y_test)\n",
        "print('Test accuracy: ', results[1])"
      ],
      "execution_count": null,
      "outputs": []
    },
    {
      "cell_type": "markdown",
      "metadata": {
        "id": "dWlgtD-usOJi"
      },
      "source": [
        "**LSTM_model_5**"
      ]
    },
    {
      "cell_type": "code",
      "metadata": {
        "id": "DcOsiir0sQtC"
      },
      "source": [
        "def lstm5():\n",
        "    model = Sequential()\n",
        "    model.add(LSTM(32, input_shape = (1,13), return_sequences = True, activation='tanh'))\n",
        "    model.add(LSTM(16, return_sequences = False, activation='tanh'))\n",
        "    model.add(Dense(1, activation='sigmoid'))\n",
        "    \n",
        "    model.compile(loss = 'binary_crossentropy', optimizer = 'Adam', metrics = ['acc'])\n",
        "    \n",
        "    return model"
      ],
      "execution_count": null,
      "outputs": []
    },
    {
      "cell_type": "code",
      "metadata": {
        "id": "_2EhAcYZsQvY"
      },
      "source": [
        "ltsm_model5 = lstm5()\n",
        "history = ltsm_model5.fit(X_train, y_train, epochs = 150, validation_data=(X_val, y_val), verbose = 0)\n",
        "history_dict = history.history"
      ],
      "execution_count": null,
      "outputs": []
    },
    {
      "cell_type": "code",
      "metadata": {
        "id": "uzjm8QzasQxp"
      },
      "source": [
        "results = ltsm_model5.evaluate(X_test, y_test)\n",
        "print('Test accuracy: ', results[1])"
      ],
      "execution_count": null,
      "outputs": []
    },
    {
      "cell_type": "markdown",
      "metadata": {
        "id": "yYTzMH1zuDQa"
      },
      "source": [
        "**LSTM_model_6**"
      ]
    },
    {
      "cell_type": "code",
      "metadata": {
        "id": "Thx0AEXouFKT"
      },
      "source": [
        "def lstm6():\n",
        "    model = Sequential()\n",
        "    model.add(LSTM(20, input_shape = (1,13), return_sequences = True))\n",
        "    model.add(LSTM(20, return_sequences = True))\n",
        "    model.add(LSTM(20, return_sequences = True))\n",
        "    model.add(LSTM(20, return_sequences = False))\n",
        "    model.add(Dense(1, activation='sigmoid'))\n",
        "    \n",
        "    model.compile(loss = 'binary_crossentropy', optimizer = 'Adam', metrics = ['acc'])\n",
        "    \n",
        "    return model"
      ],
      "execution_count": null,
      "outputs": []
    },
    {
      "cell_type": "code",
      "metadata": {
        "id": "GuC55KbquFMx"
      },
      "source": [
        "ltsm_model6 = lstm6()\n",
        "history = ltsm_model6.fit(X_train, y_train, epochs = 100, validation_data=(X_val, y_val), verbose = 0)\n",
        "history_dict = history.history"
      ],
      "execution_count": null,
      "outputs": []
    },
    {
      "cell_type": "code",
      "metadata": {
        "id": "RKsZ_07duFQG"
      },
      "source": [
        "results = ltsm_model6.evaluate(X_test, y_test)\n",
        "print('Test accuracy: ', results[1])"
      ],
      "execution_count": null,
      "outputs": []
    },
    {
      "cell_type": "markdown",
      "metadata": {
        "id": "fabgPR2dv2Z7"
      },
      "source": [
        "**LSTM_model_7**"
      ]
    },
    {
      "cell_type": "code",
      "metadata": {
        "id": "Tg3Wt4i1v5eD"
      },
      "source": [
        "def lstm7():\n",
        "    model = Sequential()\n",
        "    model.add(LSTM(40, input_shape = (1,13), return_sequences = True, activation='tanh'))\n",
        "    model.add(LSTM(40, return_sequences = True, activation='tanh'))\n",
        "    model.add(LSTM(30, return_sequences = True, activation='tanh'))\n",
        "    model.add(LSTM(20, return_sequences = False, activation='tanh'))\n",
        "    model.add(Dense(1, activation='sigmoid'))\n",
        "    \n",
        "    model.compile(loss = 'binary_crossentropy', optimizer = 'Adam', metrics = ['acc'])\n",
        "    \n",
        "    return model"
      ],
      "execution_count": null,
      "outputs": []
    },
    {
      "cell_type": "code",
      "metadata": {
        "id": "r3dUNzzev5gK"
      },
      "source": [
        "ltsm_model7 = lstm7()\n",
        "history = ltsm_model7.fit(X_train, y_train, epochs = 100, validation_data=(X_val, y_val), verbose = 0)\n",
        "history_dict = history.history"
      ],
      "execution_count": null,
      "outputs": []
    },
    {
      "cell_type": "code",
      "metadata": {
        "id": "CGpxptJPv5im"
      },
      "source": [
        "results = ltsm_model7.evaluate(X_test, y_test)\n",
        "print('Test accuracy: ', results[1])"
      ],
      "execution_count": null,
      "outputs": []
    },
    {
      "cell_type": "markdown",
      "metadata": {
        "id": "Lh2FdV9QzEYm"
      },
      "source": [
        "### **Bidirectional LSTM**"
      ]
    },
    {
      "cell_type": "markdown",
      "metadata": {
        "id": "efGc80dCzNRd"
      },
      "source": [
        "**양방향 LSTM model_1**"
      ]
    },
    {
      "cell_type": "code",
      "metadata": {
        "id": "pHdS2xKSzbQ2"
      },
      "source": [
        "from keras.layers import Bidirectional\n",
        "from keras.models import Sequential\n",
        "from keras.layers import Dense, SimpleRNN, Activation, Embedding, LSTM\n",
        "from keras import optimizers"
      ],
      "execution_count": 52,
      "outputs": []
    },
    {
      "cell_type": "code",
      "metadata": {
        "id": "1dQlPft5zJut"
      },
      "source": [
        "def bidirectional_lstm1():\n",
        "    model = Sequential()\n",
        "    model.add(Bidirectional(LSTM(13, return_sequences = False), input_shape = (1,13)))\n",
        "    model.add(Dense(1, activation='sigmoid'))\n",
        "    \n",
        "    model.compile(loss = 'binary_crossentropy', optimizer = 'rmsprop', metrics = ['acc'])\n",
        "    \n",
        "    return model"
      ],
      "execution_count": 81,
      "outputs": []
    },
    {
      "cell_type": "code",
      "metadata": {
        "id": "JRfuCBK-zJxE"
      },
      "source": [
        "bidirectional_model1 = bidirectional_lstm1()\n",
        "history = bidirectional_model1.fit(X_train, y_train, epochs = 100, validation_data=(X_val, y_val), verbose = 0)\n",
        "history_dict = history.history"
      ],
      "execution_count": 82,
      "outputs": []
    },
    {
      "cell_type": "code",
      "metadata": {
        "id": "vhTMldlIzuu4",
        "outputId": "b3a159c6-d87e-415e-9b31-64eed6529bed",
        "colab": {
          "base_uri": "https://localhost:8080/"
        }
      },
      "source": [
        "results = bidirectional_model1.evaluate(X_test, y_test)\n",
        "print('Test accuracy: ', results[1])"
      ],
      "execution_count": 83,
      "outputs": [
        {
          "output_type": "stream",
          "text": [
            "276/276 [==============================] - 0s 2ms/step - loss: 0.3977 - acc: 0.8155\n",
            "Test accuracy:  0.81551194190979\n"
          ],
          "name": "stdout"
        }
      ]
    },
    {
      "cell_type": "markdown",
      "metadata": {
        "id": "qEQGCT-b2ere"
      },
      "source": [
        "**양방향 LSTM model_2**"
      ]
    },
    {
      "cell_type": "code",
      "metadata": {
        "id": "DGF-yXnI2htm"
      },
      "source": [
        "def bidirectional_lstm2():\n",
        "    model = Sequential()\n",
        "    model.add(Bidirectional(LSTM(40, return_sequences = False), input_shape = (1,13)))\n",
        "    model.add(Dense(1, activation='sigmoid'))\n",
        "    \n",
        "    model.compile(loss = 'binary_crossentropy', optimizer = 'rmsprop', metrics = ['acc'])\n",
        "    \n",
        "    return model"
      ],
      "execution_count": 77,
      "outputs": []
    },
    {
      "cell_type": "code",
      "metadata": {
        "id": "H4tvIZRj2hwG"
      },
      "source": [
        "bidirectional_model2 = bidirectional_lstm2()\n",
        "history = bidirectional_model2.fit(X_train, y_train, epochs = 100, validation_data=(X_val, y_val), verbose = 0)\n",
        "history_dict = history.history"
      ],
      "execution_count": 78,
      "outputs": []
    },
    {
      "cell_type": "code",
      "metadata": {
        "id": "gsLNJpJl2h0S",
        "outputId": "60d5b7d2-4c80-44e1-cca3-ccd87388bd7a",
        "colab": {
          "base_uri": "https://localhost:8080/"
        }
      },
      "source": [
        "results = bidirectional_model2.evaluate(X_test, y_test)\n",
        "print('Test accuracy: ', results[1])"
      ],
      "execution_count": 80,
      "outputs": [
        {
          "output_type": "stream",
          "text": [
            "276/276 [==============================] - 1s 3ms/step - loss: 0.3974 - acc: 0.8164\n",
            "Test accuracy:  0.8164191246032715\n"
          ],
          "name": "stdout"
        }
      ]
    },
    {
      "cell_type": "markdown",
      "metadata": {
        "id": "S7Htu2rjFLcf"
      },
      "source": [
        "**양방향 LSTM model_3**"
      ]
    },
    {
      "cell_type": "code",
      "metadata": {
        "id": "lcTYWyHBFOzt"
      },
      "source": [
        "def bidirectional_lstm3():\n",
        "    model = Sequential()\n",
        "    model.add(Bidirectional(LSTM(20, return_sequences = True), input_shape = (1,13)))\n",
        "    model.add(Bidirectional(LSTM(20, return_sequences = False)))\n",
        "    model.add(Dense(1, activation='sigmoid'))\n",
        "    \n",
        "    model.compile(loss = 'binary_crossentropy', optimizer = 'rmsprop', metrics = ['acc'])\n",
        "    \n",
        "    return model"
      ],
      "execution_count": 117,
      "outputs": []
    },
    {
      "cell_type": "code",
      "metadata": {
        "id": "NLaZwNceFO2H"
      },
      "source": [
        "bidirectional_model3 = bidirectional_lstm3()\n",
        "history = bidirectional_model3.fit(X_train, y_train, epochs = 100, validation_data=(X_val, y_val), verbose = 0)\n",
        "history_dict = history.history"
      ],
      "execution_count": 118,
      "outputs": []
    },
    {
      "cell_type": "code",
      "metadata": {
        "id": "c0rfKjFAFO4P",
        "outputId": "16f93c26-baf4-40da-bf11-7ea7316dc47d",
        "colab": {
          "base_uri": "https://localhost:8080/"
        }
      },
      "source": [
        "results = bidirectional_model3.evaluate(X_test, y_test)\n",
        "print('Test accuracy: ', results[1])"
      ],
      "execution_count": 120,
      "outputs": [
        {
          "output_type": "stream",
          "text": [
            "276/276 [==============================] - 1s 2ms/step - loss: 0.7155 - acc: 0.6163\n",
            "Test accuracy:  0.6162829995155334\n"
          ],
          "name": "stdout"
        }
      ]
    },
    {
      "cell_type": "markdown",
      "metadata": {
        "id": "PCWVnuZy9JEH"
      },
      "source": [
        "**심층 양방향 LSTM model_4**"
      ]
    },
    {
      "cell_type": "code",
      "metadata": {
        "id": "qJY7NQ8T_NcV"
      },
      "source": [
        "def bidirectional_lstm4():\n",
        "    model = Sequential()\n",
        "    model.add(Bidirectional(LSTM(40, return_sequences = True), input_shape = (1,13)))\n",
        "    model.add(Bidirectional(LSTM(40, return_sequences = True)))\n",
        "    model.add(Bidirectional(LSTM(40, return_sequences = False)))\n",
        "    model.add(Dense(1, activation='sigmoid'))\n",
        "    \n",
        "    model.compile(loss = 'binary_crossentropy', optimizer = 'rmsprop', metrics = ['acc'])\n",
        "    \n",
        "    return model"
      ],
      "execution_count": 93,
      "outputs": []
    },
    {
      "cell_type": "code",
      "metadata": {
        "id": "BTgWOggV_Ne5"
      },
      "source": [
        "bidirectional_model4 = bidirectional_lstm4()\n",
        "history = bidirectional_model4.fit(X_train, y_train, epochs = 100, validation_data=(X_val, y_val), verbose = 0)\n",
        "history_dict = history.history"
      ],
      "execution_count": 94,
      "outputs": []
    },
    {
      "cell_type": "code",
      "metadata": {
        "id": "T5sGcgGm_NhS",
        "outputId": "63d1cad2-f557-4e25-d843-23ec365b9a81",
        "colab": {
          "base_uri": "https://localhost:8080/"
        }
      },
      "source": [
        "results = bidirectional_model4.evaluate(X_test, y_test)\n",
        "print('Test accuracy: ', results[1])"
      ],
      "execution_count": 96,
      "outputs": [
        {
          "output_type": "stream",
          "text": [
            "276/276 [==============================] - 1s 2ms/step - loss: 0.4141 - acc: 0.8121\n",
            "Test accuracy:  0.8121102452278137\n"
          ],
          "name": "stdout"
        }
      ]
    },
    {
      "cell_type": "markdown",
      "metadata": {
        "id": "Zsc6rwSDCTwX"
      },
      "source": [
        "### **GRU**"
      ]
    },
    {
      "cell_type": "markdown",
      "metadata": {
        "id": "KMV2GxtkCbfe"
      },
      "source": [
        "**GRU model_1**"
      ]
    },
    {
      "cell_type": "code",
      "metadata": {
        "id": "WY3DzQzJDElm"
      },
      "source": [
        "from keras.models import Sequential\n",
        "from keras.layers import Dense, SimpleRNN, Activation, Embedding, LSTM, GRU, Bidirectional, CuDNNGRU,GRU\n",
        "from keras import optimizers"
      ],
      "execution_count": 273,
      "outputs": []
    },
    {
      "cell_type": "code",
      "metadata": {
        "id": "tZuAVyJiCeqm"
      },
      "source": [
        "def gru1():\n",
        "    model = Sequential()\n",
        "    model.add(GRU(50, input_shape = (1,13), return_sequences = True))\n",
        "    model.add(GRU(1, return_sequences = False, activation='sigmoid'))\n",
        "    \n",
        "    model.compile(loss = 'binary_crossentropy', optimizer = 'rmsprop', metrics = ['acc'])\n",
        "    \n",
        "    return model"
      ],
      "execution_count": 234,
      "outputs": []
    },
    {
      "cell_type": "code",
      "metadata": {
        "id": "Ehzy7dNyCetA"
      },
      "source": [
        "gru_model1 = gru1()\n",
        "history = gru_model1.fit(X_train, y_train, epochs = 100, validation_data=(X_test, y_test), verbose = 0)\n",
        "history_dict = history.history"
      ],
      "execution_count": 235,
      "outputs": []
    },
    {
      "cell_type": "code",
      "metadata": {
        "id": "Qqap_YFkCevY",
        "outputId": "5d67d3f5-00dd-445e-9a78-1784e8621f8f",
        "colab": {
          "base_uri": "https://localhost:8080/"
        }
      },
      "source": [
        "results = gru_model1.evaluate(X_test, y_test)\n",
        "print('Test accuracy: ', results[1])"
      ],
      "execution_count": 236,
      "outputs": [
        {
          "output_type": "stream",
          "text": [
            "92/92 [==============================] - 0s 1ms/step - loss: 0.4084 - acc: 0.8102\n",
            "Test accuracy:  0.8102040886878967\n"
          ],
          "name": "stdout"
        }
      ]
    },
    {
      "cell_type": "markdown",
      "metadata": {
        "id": "--yyG3t6HZwA"
      },
      "source": [
        "**GRU model_2**"
      ]
    },
    {
      "cell_type": "code",
      "metadata": {
        "id": "qRaZaXGEHcSv"
      },
      "source": [
        "def gru2():\n",
        "    model = Sequential()\n",
        "    model.add(GRU(50, input_shape = (1,13)))\n",
        "    model.add(Dense(1, activation='sigmoid'))\n",
        "    \n",
        "    model.compile(loss = 'binary_crossentropy', optimizer = 'rmsprop', metrics = ['acc'])\n",
        "    \n",
        "    return model"
      ],
      "execution_count": 137,
      "outputs": []
    },
    {
      "cell_type": "code",
      "metadata": {
        "id": "ObZ-WVAbHcU7"
      },
      "source": [
        "gru_model2 = gru2()\n",
        "history = gru_model2.fit(X_train, y_train, epochs = 100, validation_data=(X_val, y_val), verbose = 0)\n",
        "history_dict = history.history"
      ],
      "execution_count": 138,
      "outputs": []
    },
    {
      "cell_type": "code",
      "metadata": {
        "id": "-iwv_V2UHcXX",
        "outputId": "dba37d84-acd1-47a3-faf4-df427bb641df",
        "colab": {
          "base_uri": "https://localhost:8080/"
        }
      },
      "source": [
        "results = gru_model2.evaluate(X_test, y_test)\n",
        "print('Test accuracy: ', results[1])"
      ],
      "execution_count": 140,
      "outputs": [
        {
          "output_type": "stream",
          "text": [
            "276/276 [==============================] - 0s 1ms/step - loss: 0.4117 - acc: 0.8068\n",
            "Test accuracy:  0.8067808151245117\n"
          ],
          "name": "stdout"
        }
      ]
    },
    {
      "cell_type": "markdown",
      "metadata": {
        "id": "hGb62WaLJCgs"
      },
      "source": [
        "**GRU model_3**"
      ]
    },
    {
      "cell_type": "code",
      "metadata": {
        "id": "6lVt4wUjJFlW"
      },
      "source": [
        "def gru3():\n",
        "    model = Sequential()\n",
        "    model.add(GRU(50, input_shape = (1,13), return_sequences = True))\n",
        "    model.add(GRU(50, return_sequences = True))\n",
        "    model.add(Dense(1, activation='sigmoid'))\n",
        "    \n",
        "    model.compile(loss = 'binary_crossentropy', optimizer = 'rmsprop', metrics = ['acc'])\n",
        "    \n",
        "    return model"
      ],
      "execution_count": 23,
      "outputs": []
    },
    {
      "cell_type": "code",
      "metadata": {
        "id": "4MnM_8WJJFnr"
      },
      "source": [
        "gru_model3 = gru3()\n",
        "history = gru_model3.fit(X_train, y_train, epochs = 100, validation_data=(X_val, y_val), verbose = 0)\n",
        "history_dict = history.history"
      ],
      "execution_count": 24,
      "outputs": []
    },
    {
      "cell_type": "code",
      "metadata": {
        "id": "ntA8rPQOJFqF",
        "outputId": "e0fb2839-a81c-49c9-a345-e29b555a4fdd",
        "colab": {
          "base_uri": "https://localhost:8080/"
        }
      },
      "source": [
        "results = gru_model3.evaluate(X_test, y_test)\n",
        "print('Test accuracy: ', results[1])"
      ],
      "execution_count": 27,
      "outputs": [
        {
          "output_type": "stream",
          "text": [
            "276/276 [==============================] - 0s 2ms/step - loss: 0.4025 - acc: 0.8159\n",
            "Test accuracy:  0.815852165222168\n"
          ],
          "name": "stdout"
        }
      ]
    },
    {
      "cell_type": "markdown",
      "metadata": {
        "id": "YyvHK0SufdpV"
      },
      "source": [
        "**GRU model_4**"
      ]
    },
    {
      "cell_type": "code",
      "metadata": {
        "id": "2ujNb1SVfhwN"
      },
      "source": [
        "def gru4():\n",
        "    model = Sequential()\n",
        "    model.add(GRU(50, input_shape = (1,13), return_sequences = True))\n",
        "    model.add(GRU(50, return_sequences = True))\n",
        "    model.add(GRU(1, return_sequences = False, activation='sigmoid'))\n",
        "    \n",
        "    model.compile(loss = 'mean_squared_error', optimizer = 'rmsprop', metrics = ['acc'])\n",
        "    \n",
        "    return model"
      ],
      "execution_count": 38,
      "outputs": []
    },
    {
      "cell_type": "code",
      "metadata": {
        "id": "TkvVm-3wfhyc"
      },
      "source": [
        "gru_model4 = gru4()\n",
        "history = gru_model4.fit(X_train, y_train, epochs = 100, validation_data=(X_val, y_val), verbose = 0)\n",
        "history_dict = history.history"
      ],
      "execution_count": 39,
      "outputs": []
    },
    {
      "cell_type": "code",
      "metadata": {
        "id": "18WjvvN4fh1D",
        "outputId": "67401e96-67aa-4d75-e330-231f20f6524c",
        "colab": {
          "base_uri": "https://localhost:8080/"
        }
      },
      "source": [
        "results = gru_model4.evaluate(X_test, y_test)\n",
        "print('Test accuracy: ', results[1])"
      ],
      "execution_count": 41,
      "outputs": [
        {
          "output_type": "stream",
          "text": [
            "276/276 [==============================] - 0s 2ms/step - loss: 0.1288 - acc: 0.8176\n",
            "Test accuracy:  0.8175529837608337\n"
          ],
          "name": "stdout"
        }
      ]
    },
    {
      "cell_type": "markdown",
      "metadata": {
        "id": "fdBq2cc5iM95"
      },
      "source": [
        "**GRU model_5**"
      ]
    },
    {
      "cell_type": "code",
      "metadata": {
        "id": "1Xeei291iPN1"
      },
      "source": [
        "def gru5():\n",
        "    model = Sequential()\n",
        "    model.add(GRU(50, input_shape = (1,13), return_sequences = True))\n",
        "    model.add(GRU(50, return_sequences = True))\n",
        "    model.add(GRU(13, return_sequences = True))\n",
        "    model.add(GRU(13, return_sequences = True))\n",
        "    model.add(GRU(1, return_sequences = False, activation='sigmoid'))\n",
        "    \n",
        "    model.compile(loss = 'binary_crossentropy', optimizer = 'rmsprop', metrics = ['acc'])\n",
        "    \n",
        "    return model"
      ],
      "execution_count": 79,
      "outputs": []
    },
    {
      "cell_type": "code",
      "metadata": {
        "id": "GfTlBmqZiPQM"
      },
      "source": [
        "gru_model5 = gru5()\n",
        "history = gru_model5.fit(X_train, y_train, epochs = 100, validation_data=(X_val, y_val), verbose = 0)\n",
        "history_dict = history.history"
      ],
      "execution_count": 80,
      "outputs": []
    },
    {
      "cell_type": "code",
      "metadata": {
        "id": "mezh0RtXiPSg",
        "outputId": "502f3c9d-b327-4df7-d4ec-8762560a9670",
        "colab": {
          "base_uri": "https://localhost:8080/"
        }
      },
      "source": [
        "results = gru_model5.evaluate(X_test, y_test)\n",
        "print('Test accuracy: ', results[1])"
      ],
      "execution_count": 82,
      "outputs": [
        {
          "output_type": "stream",
          "text": [
            "276/276 [==============================] - 1s 2ms/step - loss: 0.4007 - acc: 0.8185\n",
            "Test accuracy:  0.8184601664543152\n"
          ],
          "name": "stdout"
        }
      ]
    },
    {
      "cell_type": "markdown",
      "metadata": {
        "id": "X6hgjjOIoJNG"
      },
      "source": [
        "**GRU model_6**"
      ]
    },
    {
      "cell_type": "code",
      "metadata": {
        "id": "crlxHp7joLot"
      },
      "source": [
        "def gru6():\n",
        "    model = Sequential()\n",
        "    model.add(Bidirectional(GRU(50, input_shape = (1,13), return_sequences = True)))\n",
        "    model.add(Bidirectional(GRU(50, return_sequences = True)))\n",
        "    model.add(GRU(1, return_sequences = False, activation='sigmoid'))\n",
        "    \n",
        "    model.compile(loss = 'binary_crossentropy', optimizer = 'rmsprop', metrics = ['acc'])\n",
        "    \n",
        "    return model"
      ],
      "execution_count": 244,
      "outputs": []
    },
    {
      "cell_type": "code",
      "metadata": {
        "id": "Ojb3pYK_oLrK"
      },
      "source": [
        "gru_model6 = gru6()\n",
        "history = gru_model6.fit(X_train, y_train, epochs = 100, validation_data=(X_test, y_test), verbose = 0)\n",
        "history_dict = history.history"
      ],
      "execution_count": null,
      "outputs": []
    },
    {
      "cell_type": "code",
      "metadata": {
        "id": "iz5KWdpJoLtl",
        "outputId": "d1260d27-d7ef-4733-f21a-a7b6f361dd6c",
        "colab": {
          "base_uri": "https://localhost:8080/"
        }
      },
      "source": [
        "results = gru_model6.evaluate(X_test, y_test)\n",
        "print('Test accuracy: ', results[1])"
      ],
      "execution_count": 249,
      "outputs": [
        {
          "output_type": "stream",
          "text": [
            "92/92 [==============================] - 0s 2ms/step - loss: 0.4100 - acc: 0.8082\n",
            "Test accuracy:  0.8081632852554321\n"
          ],
          "name": "stdout"
        }
      ]
    },
    {
      "cell_type": "markdown",
      "metadata": {
        "id": "9Bpwa3fe1c3H"
      },
      "source": [
        "### **Loss & Acc graph**\n",
        "\n",
        "\n",
        "\n",
        "\n",
        "\n"
      ]
    },
    {
      "cell_type": "code",
      "metadata": {
        "id": "DRGc8MGh1k9A"
      },
      "source": [
        "def loss_acc_graph(history_dict):\n",
        "  # history_dict = history.history\n",
        "\n",
        "  loss = history_dict['loss']\n",
        "  val_loss = history_dict['val_loss']\n",
        "  acc = history_dict['acc']\n",
        "  val_acc = history_dict['val_acc']\n",
        "\n",
        "  epochs = range(1, len(loss)+1)\n",
        "\n",
        "  plt.figure(figsize=(12,5))\n",
        "\n",
        "  plt.subplot(1, 2, 1)\n",
        "  plt.plot(epochs, loss, 'red', label='Training loss') \n",
        "  plt.plot(epochs, val_loss, 'green', label='Validation loss')\n",
        "  plt.title('Training & Validation Loss')\n",
        "  plt.xlabel('Epochs')\n",
        "  plt.ylabel('Loss')\n",
        "  plt.legend()\n",
        "\n",
        "  plt.subplot(1, 2, 2)\n",
        "  plt.plot(epochs, acc, 'red', label='Training acc') \n",
        "  plt.plot(epochs, val_acc, 'green', label='Validation acc')\n",
        "  plt.title('Training & Validation accuracy')\n",
        "  plt.xlabel('Epochs')\n",
        "  plt.ylabel('Accuracy')\n",
        "  plt.legend()\n",
        "\n",
        "  plt.show()"
      ],
      "execution_count": 293,
      "outputs": []
    },
    {
      "cell_type": "code",
      "metadata": {
        "id": "YlrXGZzM61mM"
      },
      "source": [
        ""
      ],
      "execution_count": null,
      "outputs": []
    }
  ]
}