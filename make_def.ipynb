{
  "nbformat": 4,
  "nbformat_minor": 0,
  "metadata": {
    "colab": {
      "name": "Web_Crawling__Selenium.ipynb",
      "provenance": [],
      "include_colab_link": true
    },
    "kernelspec": {
      "name": "python3",
      "display_name": "Python 3"
    },
    "language_info": {
      "name": "python"
    }
  },
  "cells": [
    {
      "cell_type": "markdown",
      "metadata": {
        "id": "view-in-github",
        "colab_type": "text"
      },
      "source": [
        "<a href=\"https://colab.research.google.com/github/KimGriezmann/DeepLearning_BeTheLegend/blob/master/make_def.ipynb\" target=\"_parent\"><img src=\"https://colab.research.google.com/assets/colab-badge.svg\" alt=\"Open In Colab\"/></a>"
      ]
    },
    {
      "cell_type": "code",
      "metadata": {
        "id": "KSi9B6k4rGWF"
      },
      "source": [
        "def data_crawling(year, num_top_batter=9):\n",
        "  # Parameter\n",
        "  # 원하는 연도 입력\n",
        "  year = year\n",
        "  # 데이터를 수집할 타자 중 타석 수 상위 명수\n",
        "  num_top_batter = 9\n",
        "\n",
        "  # Team List\n",
        "  # 원하는 연도에 등록된 팀을 미리 넣어두어야함 (추가 가능)\n",
        "  Team_2016 = ['NC','kt','LG','두산','히어로즈','KIA','롯데','삼성','SK','한화']\n",
        "  Team_2017 = ['NC','kt','LG','두산','히어로즈','KIA','롯데','삼성','SK','한화']\n",
        "  Team_2018 = ['NC','kt','LG','두산','히어로즈','KIA','롯데','삼성','SK','한화']\n",
        "  Team_2019 = ['NC','kt','LG','두산','키움','KIA','롯데','삼성','SK','한화']\n",
        "  Team_2020 = ['NC','kt','LG','두산','키움','KIA','롯데','삼성','SK','한화']\n",
        "  Team_2021 = ['kt','삼성','LG','SSG','NC','키움','두산','롯데','KIA','한화']\n",
        "\n",
        "  # Team Dictionary\n",
        "  # Team List를 딕셔너리에 넣음 (추가 가능)\n",
        "  TeamDic = {'2016':Team_2016, '2017':Team_2017, '2018':Team_2018, '2019':Team_2019, '2020':Team_2020, '2021':Team_2021}\n",
        "\n",
        "  ###############\n",
        "  # BeautifulSoup\n",
        "\n",
        "  import numpy as np\n",
        "  import pandas as pd\n",
        "  import requests\n",
        "  from bs4 import BeautifulSoup\n",
        "  from tqdm import tqdm\n",
        "\n",
        "  # 데이터를 모을 dataframe 생성\n",
        "  data = pd.DataFrame(columns=['name','날짜', '상대', '결과', '타순', 'P', '선발', '타수', '득점', '안타', '2타', '3타', '홈런', '루타', '타점', '도루', '도실',\n",
        "                              '볼넷', '사구', '고4', '삼진', '병살', '희타', '희비', 'avg', '출루', '장타', 'OPS', '투구', 'avLI', 'RE24', 'WPA'])\n",
        "\n",
        "  batter_data = pd.DataFrame(columns=['Team','name'])\n",
        "\n",
        "  for Team in tqdm(TeamDic[str(year)]): # 선택한 연도의 팀을 하나씩 가져옴\n",
        "    \n",
        "    # 스탯티즈 시즌기록실 페이지에서 연도, 팀 선택하고, 타석순으로 정렬\n",
        "    wp = requests.get(\"http://www.statiz.co.kr/stat.php?opt=0&sopt=0&re=0&ys=\" + str(year) + \"&ye=\" + str(year) + \"&se=0&te=\" + Team + \"&tm=&ty=0&qu=auto&po=0&as=&ae=&hi=&un=&pl=&da=1&o1=TPA&o2=TPA&de=1&lr=0&tr=&cv=&ml=1&sn=30&si=&cn=\")\n",
        "    soup = BeautifulSoup(wp.text, \"html.parser\")\n",
        "    \n",
        "    # 현재 팀의 타석 수 상위 num_top_batter 명\n",
        "    tmp_batter_list = np.empty(num_top_batter,dtype=object)\n",
        "    tmp_team = np.array([Team]*num_top_batter) # 타석 수 상위 타자 팀명 저장\n",
        "    tmp_batter_list_href = np.empty(num_top_batter,dtype=object)\n",
        "    tmp_batter_ps=0\n",
        "    for batter in soup.find_all('tr')[2:11]:\n",
        "      tmp_batter_list[tmp_batter_ps] = batter.find_all('td')[1].text # 타석 수 상위 타자 이름 저장\n",
        "      tmp_batter_list_href[tmp_batter_ps] = batter.find_all('a')[0].attrs['href'] # 타석 수 상위 타자 주소 저장\n",
        "      tmp_batter_ps+=1\n",
        "\n",
        "    batter_data = pd.concat([batter_data, pd.DataFrame({'Team':tmp_team, 'name':tmp_batter_list})])\n",
        "\n",
        "    # 타석 수 상위 타자들 중 한명씩 데이터를 모으는 과정\n",
        "    for top_batter in range(num_top_batter):\n",
        "      wp=requests.get(\"http://www.statiz.co.kr/\"+tmp_batter_list_href[top_batter]) # 타자 주소로 접근\n",
        "      soup=BeautifulSoup(wp.text, \"html.parser\")\n",
        "\n",
        "      # 날짜별 데이터로 접근\n",
        "      href_byDate = soup.select('body > div > div.content-wrapper > div > section.content > div > div:nth-of-type(1) > div > div.col-xs-12.col-sm-8.col-md-8.col-lg-12 > div > div.table-responsive.no-padding.box > table')[0].find_all('a')[3].attrs['href']\n",
        "      wp=requests.get(\"http://www.statiz.co.kr/\"+href_byDate)\n",
        "      soup=BeautifulSoup(wp.text,\"html.parser\")\n",
        "\n",
        "      # year : 원하는 연도로 접근\n",
        "      href_byDate_year=soup.select('body > div.wrapper > div.content-wrapper > div > section.content > div > div:nth-of-type(2) > div > div:nth-of-type(2) > div')[0].find('a', text=str(year)).attrs['href']\n",
        "      wp=requests.get(\"http://www.statiz.co.kr/\"+href_byDate_year)\n",
        "      soup=BeautifulSoup(wp.text,\"html.parser\")\n",
        "\n",
        "      ## 데이터가 있는 페이지로 이동 완료\n",
        "      ## 이제 실질적인 데이터를 모을 차례\n",
        "      rawdata=soup.select('body > div > div.content-wrapper > div > section.content > div > div:nth-of-type(2) > div > div:nth-of-type(3) > div > div > table')[0]\n",
        "      # rawdata : 전체 테이블\n",
        "\n",
        "      # th를 제외한 순수한 경기 데이터 / th는 컬럼명 행이다.\n",
        "      rawdata_not_th = rawdata.find_all('tr',{'class':['oddrow_stz0','evenrow_stz0']})\n",
        "\n",
        "      # 행렬만들기\n",
        "      rawdata_name = np.array([tmp_batter_list[top_batter]]*len(rawdata_not_th))\n",
        "      rawdata_day = np.zeros(len(rawdata_not_th), dtype=object)\n",
        "      rawdata_vs_team = np.zeros(len(rawdata_not_th), dtype=object)\n",
        "      rawdata_result = np.zeros(len(rawdata_not_th), dtype=object)\n",
        "      rawdata_bat_order = np.zeros(len(rawdata_not_th),dtype=np.int_)\n",
        "      rawdata_position = np.zeros(len(rawdata_not_th), dtype=object)\n",
        "      rawdata_start_memeber = np.zeros(len(rawdata_not_th), dtype=np.bool)\n",
        "      rawdata_ab = np.zeros(len(rawdata_not_th), dtype=np.int_)\n",
        "      rawdata_score = np.zeros(len(rawdata_not_th), dtype=np.int_)\n",
        "      rawdata_hit = np.zeros(len(rawdata_not_th), dtype=np.int_)\n",
        "      rawdata_2_hit = np.zeros(len(rawdata_not_th), dtype=np.int_)\n",
        "      rawdata_3_hit = np.zeros(len(rawdata_not_th), dtype=np.int_)\n",
        "      rawdata_homerun = np.zeros(len(rawdata_not_th), dtype=np.int_)\n",
        "      # 영어명으로 변경 필요\n",
        "      rawdata_루타 = np.zeros(len(rawdata_not_th), dtype=np.int_)\n",
        "      rawdata_타점 = np.zeros(len(rawdata_not_th), dtype=np.int_)\n",
        "      rawdata_도루 = np.zeros(len(rawdata_not_th), dtype=np.int_)\n",
        "      rawdata_도실 = np.zeros(len(rawdata_not_th), dtype=np.int_)\n",
        "      rawdata_볼넷 = np.zeros(len(rawdata_not_th), dtype=np.int_)\n",
        "      rawdata_사구 = np.zeros(len(rawdata_not_th), dtype=np.int_)\n",
        "      rawdata_고4 = np.zeros(len(rawdata_not_th), dtype=np.int_)\n",
        "      rawdata_삼진 = np.zeros(len(rawdata_not_th), dtype=np.int_)\n",
        "      rawdata_병살 = np.zeros(len(rawdata_not_th), dtype=np.int_)\n",
        "      rawdata_희타 = np.zeros(len(rawdata_not_th), dtype=np.int_)\n",
        "      rewdata_희비 = np.zeros(len(rawdata_not_th), dtype=np.int_)\n",
        "      rawdata_avg = np.zeros(len(rawdata_not_th), dtype=np.float)\n",
        "      rawdata_출루 = np.zeros(len(rawdata_not_th), dtype=np.float)\n",
        "      rawdata_장타 = np.zeros(len(rawdata_not_th), dtype=np.float)\n",
        "      rawdata_ops = np.zeros(len(rawdata_not_th), dtype=np.float)\n",
        "      rawdata_투구 = np.zeros(len(rawdata_not_th), dtype=np.int_)\n",
        "      rawdata_avLI = np.zeros(len(rawdata_not_th), dtype=np.float)\n",
        "      rawdata_RE24 = np.zeros(len(rawdata_not_th), dtype=np.float)\n",
        "      rawdata_WPA = np.zeros(len(rawdata_not_th), dtype=np.float)\n",
        "\n",
        "      for rawdata_not_th_tr_index in range(len(rawdata_not_th)):\n",
        "        # 한 행 : rawdata_not_th_tr_index\n",
        "        rawdata_not_th_td = [text for text in rawdata_not_th[rawdata_not_th_tr_index].stripped_strings]\n",
        "        # 현재 행의 하나의 값 : rawdata_not_th_td[index]\n",
        "        # 데이터 입력\n",
        "        rawdata_day[rawdata_not_th_tr_index] = rawdata_not_th_td[1]\n",
        "        rawdata_vs_team[rawdata_not_th_tr_index] = rawdata_not_th_td[2]\n",
        "        rawdata_result[rawdata_not_th_tr_index] = rawdata_not_th_td[3]+\" \"+rawdata_not_th_td[4]\n",
        "        rawdata_bat_order[rawdata_not_th_tr_index] = rawdata_not_th_td[5]\n",
        "        rawdata_position[rawdata_not_th_tr_index] = rawdata_not_th_td[6]\n",
        "        rawdata_start_memeber[rawdata_not_th_tr_index] = rawdata_not_th_td[7]\n",
        "        rawdata_ab[rawdata_not_th_tr_index] = rawdata_not_th_td[8]\n",
        "        rawdata_score[rawdata_not_th_tr_index] = rawdata_not_th_td[9]\n",
        "        rawdata_hit[rawdata_not_th_tr_index] = rawdata_not_th_td[10]\n",
        "        rawdata_2_hit[rawdata_not_th_tr_index] = rawdata_not_th_td[11]\n",
        "        rawdata_3_hit[rawdata_not_th_tr_index] = rawdata_not_th_td[12]\n",
        "        rawdata_homerun[rawdata_not_th_tr_index] = rawdata_not_th_td[13]\n",
        "        rawdata_루타[rawdata_not_th_tr_index] = rawdata_not_th_td[14]\n",
        "        rawdata_타점[rawdata_not_th_tr_index] = rawdata_not_th_td[15]\n",
        "        rawdata_도루[rawdata_not_th_tr_index] = rawdata_not_th_td[16]\n",
        "        rawdata_도실[rawdata_not_th_tr_index] = rawdata_not_th_td[17]\n",
        "        rawdata_볼넷[rawdata_not_th_tr_index] = rawdata_not_th_td[18]\n",
        "        rawdata_사구[rawdata_not_th_tr_index] = rawdata_not_th_td[19]\n",
        "        rawdata_고4[rawdata_not_th_tr_index] = rawdata_not_th_td[20]\n",
        "        rawdata_삼진[rawdata_not_th_tr_index] = rawdata_not_th_td[21]\n",
        "        rawdata_병살[rawdata_not_th_tr_index] = rawdata_not_th_td[22]\n",
        "        rawdata_희타[rawdata_not_th_tr_index] = rawdata_not_th_td[23]\n",
        "        rewdata_희비[rawdata_not_th_tr_index] = rawdata_not_th_td[24]\n",
        "        rawdata_avg[rawdata_not_th_tr_index] = rawdata_not_th_td[25]\n",
        "        rawdata_출루[rawdata_not_th_tr_index] = rawdata_not_th_td[26]\n",
        "        rawdata_장타[rawdata_not_th_tr_index] = rawdata_not_th_td[27]\n",
        "        rawdata_ops[rawdata_not_th_tr_index] = rawdata_not_th_td[28]\n",
        "        rawdata_투구[rawdata_not_th_tr_index] = rawdata_not_th_td[29]\n",
        "        rawdata_avLI[rawdata_not_th_tr_index] = rawdata_not_th_td[30]\n",
        "        rawdata_RE24[rawdata_not_th_tr_index] = rawdata_not_th_td[31]\n",
        "        rawdata_WPA[rawdata_not_th_tr_index] = rawdata_not_th_td[32]\n",
        "\n",
        "      tmp_data = pd.DataFrame()\n",
        "      # tmp_data는 각 선수마다 데이터를 모은 후 data에 머지하기 전에 존재\n",
        "      tmp_data['name'] = rawdata_name\n",
        "      tmp_data['day'] = rawdata_day\n",
        "      tmp_data['vs_team'] = rawdata_vs_team\n",
        "      tmp_data['결과'] = rawdata_result\n",
        "      tmp_data['타순'] = rawdata_bat_order\n",
        "      tmp_data['P'] = rawdata_position\n",
        "      tmp_data['선발'] = rawdata_start_memeber\n",
        "      tmp_data['ab'] = rawdata_ab\n",
        "      tmp_data['득점'] = rawdata_score\n",
        "      tmp_data['hit'] = rawdata_hit\n",
        "      tmp_data['2타'] = rawdata_2_hit\n",
        "      tmp_data['3타'] = rawdata_3_hit\n",
        "      tmp_data['홈런'] = rawdata_homerun\n",
        "      tmp_data['루타'] = rawdata_루타\n",
        "      tmp_data['타점'] = rawdata_타점\n",
        "      tmp_data['도루'] = rawdata_도루\n",
        "      tmp_data['도실'] = rawdata_도실\n",
        "      tmp_data['볼넷'] = rawdata_볼넷\n",
        "      tmp_data['사구'] = rawdata_사구\n",
        "      tmp_data['고4'] = rawdata_고4\n",
        "      tmp_data['삼진'] = rawdata_삼진\n",
        "      tmp_data['병살'] = rawdata_병살\n",
        "      tmp_data['희타'] = rawdata_희타\n",
        "      tmp_data['희비'] = rewdata_희비\n",
        "      tmp_data['avg'] = rawdata_avg\n",
        "      tmp_data['출루'] = rawdata_출루\n",
        "      tmp_data['장타'] = rawdata_장타\n",
        "      tmp_data['OPS'] = rawdata_ops\n",
        "      tmp_data['투구'] = rawdata_투구\n",
        "      tmp_data['avLI'] = rawdata_avLI\n",
        "      tmp_data['RE24'] = rawdata_RE24\n",
        "      tmp_data['WPA'] = rawdata_WPA\n",
        "\n",
        "      # 데이터 쌓기\n",
        "      data = pd.concat([data,tmp_data])\n",
        "\n",
        "  return data, batter_data\n"
      ],
      "execution_count": 3,
      "outputs": []
    },
    {
      "cell_type": "code",
      "metadata": {
        "colab": {
          "base_uri": "https://localhost:8080/"
        },
        "id": "LIo7nsXNTD8t",
        "outputId": "57f5d932-2fd9-437a-9855-91a49954dcca"
      },
      "source": [
        "# data_2018, batter_data_2018 = data_crawling(2018,9)\n",
        "# data_2019, batter_data_2019 = data_crawling(2019,9)\n",
        "# data_2020, batter_data_2020 = data_crawling(2020,9)\n",
        "data_2021, batter_data_2021 = data_crawling(2021,9)"
      ],
      "execution_count": 4,
      "outputs": [
        {
          "output_type": "stream",
          "text": [
            "100%|██████████| 10/10 [09:40<00:00, 58.05s/it]\n"
          ],
          "name": "stderr"
        }
      ]
    },
    {
      "cell_type": "code",
      "metadata": {
        "id": "t5z-WJiFpfEF"
      },
      "source": [
        "data_2018.to_csv(\"data_2018.csv\", encoding='euc-kr', index=False)\n",
        "data_2019.to_csv(\"data_2019.csv\", encoding='euc-kr', index=False)\n",
        "data_2020.to_csv(\"data_2020.csv\", encoding='euc-kr', index=False)\n",
        "data_2021.to_csv(\"data_2021.csv\", encoding='euc-kr', index=False)\n",
        "\n",
        "batter_data_2018.to_csv(\"batter_data_2018.csv\", encoding='euc-kr', index=False)\n",
        "batter_data_2019.to_csv(\"batter_data_2019.csv\", encoding='euc-kr', index=False)\n",
        "batter_data_2020.to_csv(\"batter_data_2020.csv\", encoding='euc-kr', index=False)\n",
        "batter_data_2021.to_csv(\"batter_data_2021.csv\", encoding='euc-kr', index=False)"
      ],
      "execution_count": null,
      "outputs": []
    },
    {
      "cell_type": "code",
      "metadata": {
        "id": "gJ1yXyBoQpS7"
      },
      "source": [
        "ex_data = data_2021.loc[:, ['name', 'day', 'vs_team', 'ab', 'hit']]"
      ],
      "execution_count": 6,
      "outputs": []
    },
    {
      "cell_type": "code",
      "metadata": {
        "id": "vSna5z4sueK0",
        "outputId": "a138b71f-5cfd-457e-d612-c4474dd9bef2",
        "colab": {
          "base_uri": "https://localhost:8080/",
          "height": 423
        }
      },
      "source": [
        "ex_data"
      ],
      "execution_count": 7,
      "outputs": [
        {
          "output_type": "execute_result",
          "data": {
            "text/html": [
              "<div>\n",
              "<style scoped>\n",
              "    .dataframe tbody tr th:only-of-type {\n",
              "        vertical-align: middle;\n",
              "    }\n",
              "\n",
              "    .dataframe tbody tr th {\n",
              "        vertical-align: top;\n",
              "    }\n",
              "\n",
              "    .dataframe thead th {\n",
              "        text-align: right;\n",
              "    }\n",
              "</style>\n",
              "<table border=\"1\" class=\"dataframe\">\n",
              "  <thead>\n",
              "    <tr style=\"text-align: right;\">\n",
              "      <th></th>\n",
              "      <th>name</th>\n",
              "      <th>day</th>\n",
              "      <th>vs_team</th>\n",
              "      <th>ab</th>\n",
              "      <th>hit</th>\n",
              "    </tr>\n",
              "  </thead>\n",
              "  <tbody>\n",
              "    <tr>\n",
              "      <th>0</th>\n",
              "      <td>강백호</td>\n",
              "      <td>04-04</td>\n",
              "      <td>한화</td>\n",
              "      <td>3.0</td>\n",
              "      <td>2.0</td>\n",
              "    </tr>\n",
              "    <tr>\n",
              "      <th>1</th>\n",
              "      <td>강백호</td>\n",
              "      <td>04-06</td>\n",
              "      <td>LG</td>\n",
              "      <td>4.0</td>\n",
              "      <td>0.0</td>\n",
              "    </tr>\n",
              "    <tr>\n",
              "      <th>2</th>\n",
              "      <td>강백호</td>\n",
              "      <td>04-07</td>\n",
              "      <td>LG</td>\n",
              "      <td>4.0</td>\n",
              "      <td>3.0</td>\n",
              "    </tr>\n",
              "    <tr>\n",
              "      <th>3</th>\n",
              "      <td>강백호</td>\n",
              "      <td>04-08</td>\n",
              "      <td>LG</td>\n",
              "      <td>4.0</td>\n",
              "      <td>2.0</td>\n",
              "    </tr>\n",
              "    <tr>\n",
              "      <th>4</th>\n",
              "      <td>강백호</td>\n",
              "      <td>04-09</td>\n",
              "      <td>@삼성</td>\n",
              "      <td>5.0</td>\n",
              "      <td>3.0</td>\n",
              "    </tr>\n",
              "    <tr>\n",
              "      <th>...</th>\n",
              "      <td>...</td>\n",
              "      <td>...</td>\n",
              "      <td>...</td>\n",
              "      <td>...</td>\n",
              "      <td>...</td>\n",
              "    </tr>\n",
              "    <tr>\n",
              "      <th>37</th>\n",
              "      <td>김민하</td>\n",
              "      <td>06-23</td>\n",
              "      <td>@삼성</td>\n",
              "      <td>3.0</td>\n",
              "      <td>1.0</td>\n",
              "    </tr>\n",
              "    <tr>\n",
              "      <th>38</th>\n",
              "      <td>김민하</td>\n",
              "      <td>06-24</td>\n",
              "      <td>@삼성</td>\n",
              "      <td>4.0</td>\n",
              "      <td>0.0</td>\n",
              "    </tr>\n",
              "    <tr>\n",
              "      <th>39</th>\n",
              "      <td>김민하</td>\n",
              "      <td>06-26</td>\n",
              "      <td>KT</td>\n",
              "      <td>1.0</td>\n",
              "      <td>0.0</td>\n",
              "    </tr>\n",
              "    <tr>\n",
              "      <th>40</th>\n",
              "      <td>김민하</td>\n",
              "      <td>07-09</td>\n",
              "      <td>@SSG</td>\n",
              "      <td>4.0</td>\n",
              "      <td>1.0</td>\n",
              "    </tr>\n",
              "    <tr>\n",
              "      <th>41</th>\n",
              "      <td>김민하</td>\n",
              "      <td>07-10</td>\n",
              "      <td>@SSG</td>\n",
              "      <td>3.0</td>\n",
              "      <td>1.0</td>\n",
              "    </tr>\n",
              "  </tbody>\n",
              "</table>\n",
              "<p>5820 rows × 5 columns</p>\n",
              "</div>"
            ],
            "text/plain": [
              "   name    day vs_team   ab  hit\n",
              "0   강백호  04-04      한화  3.0  2.0\n",
              "1   강백호  04-06      LG  4.0  0.0\n",
              "2   강백호  04-07      LG  4.0  3.0\n",
              "3   강백호  04-08      LG  4.0  2.0\n",
              "4   강백호  04-09     @삼성  5.0  3.0\n",
              "..  ...    ...     ...  ...  ...\n",
              "37  김민하  06-23     @삼성  3.0  1.0\n",
              "38  김민하  06-24     @삼성  4.0  0.0\n",
              "39  김민하  06-26      KT  1.0  0.0\n",
              "40  김민하  07-09    @SSG  4.0  1.0\n",
              "41  김민하  07-10    @SSG  3.0  1.0\n",
              "\n",
              "[5820 rows x 5 columns]"
            ]
          },
          "metadata": {
            "tags": []
          },
          "execution_count": 7
        }
      ]
    },
    {
      "cell_type": "code",
      "metadata": {
        "id": "B9FtxTkzzZZr"
      },
      "source": [
        "import numpy as np\n",
        "import pandas as pd\n",
        "import tqdm\n",
        "import os\n",
        "import matplotlib.pyplot as plt\n",
        "import seaborn as sns"
      ],
      "execution_count": 32,
      "outputs": []
    },
    {
      "cell_type": "code",
      "metadata": {
        "id": "ZQ1tpxtC0Kot"
      },
      "source": [
        "def make_result(data):\n",
        "  data['result'] = [0 if s == 0 else 1 for s in data['hit']] \n",
        "\n",
        "  result_Dataframe = pd.DataFrame()\n",
        "  result_Dataframe['name'] = data['name']\n",
        "  result_Dataframe['day'] = data['day']\n",
        "  result_Dataframe['ab'] = data['ab']\n",
        "  result_Dataframe['hit'] = data['hit']\n",
        "  result_Dataframe['result'] = data['result']\n",
        "  result_Dataframe\n",
        "\n",
        "  return result_Dataframe"
      ],
      "execution_count": 96,
      "outputs": []
    },
    {
      "cell_type": "code",
      "metadata": {
        "id": "O5ureCXr1gQ4",
        "outputId": "c7e5bbd5-4bde-4ce4-b3a5-761e241818a9",
        "colab": {
          "base_uri": "https://localhost:8080/",
          "height": 337
        }
      },
      "source": [
        "sns.countplot(ex_data['result'])\n",
        "plt.show()"
      ],
      "execution_count": 33,
      "outputs": [
        {
          "output_type": "stream",
          "text": [
            "/usr/local/lib/python3.7/dist-packages/seaborn/_decorators.py:43: FutureWarning: Pass the following variable as a keyword arg: x. From version 0.12, the only valid positional argument will be `data`, and passing other arguments without an explicit keyword will result in an error or misinterpretation.\n",
            "  FutureWarning\n"
          ],
          "name": "stderr"
        },
        {
          "output_type": "display_data",
          "data": {
            "image/png": "[encoded data removed]",
            "text/plain": [
              "<Figure size 432x288 with 1 Axes>"
            ]
          },
          "metadata": {
            "tags": [],
            "needs_background": "light"
          }
        }
      ]
    },
    {
      "cell_type": "code",
      "metadata": {
        "id": "9_Vc0h4O6sMQ"
      },
      "source": [
        "def make_vs(data):\n",
        "  data['vs'] = [s[1:] if s[0] == '@' else s for s in data['vs_team']] \n",
        "\n",
        "  result_Dataframe = pd.DataFrame()\n",
        "  result_Dataframe['name'] = data['name']\n",
        "  result_Dataframe['day'] = data['day']\n",
        "  result_Dataframe['vs_team'] = data['vs_team']\n",
        "  result_Dataframe['vs'] = data['vs']\n",
        "  result_Dataframe\n",
        "\n",
        "  return result_Dataframe"
      ],
      "execution_count": 56,
      "outputs": []
    },
    {
      "cell_type": "code",
      "metadata": {
        "id": "2M8m_ZWa9Dtl"
      },
      "source": [
        "def make_home_away(data):\n",
        "  data['home/away'] = ['away' if s[0] == '@' else 'home' for s in data['vs_team']]\n",
        "\n",
        "  result_Dataframe = pd.DataFrame()\n",
        "  result_Dataframe['name'] = data['name']\n",
        "  result_Dataframe['day'] = data['day']\n",
        "  result_Dataframe['vs_team'] = data['vs_team']\n",
        "  result_Dataframe['vs'] = data['vs']\n",
        "  result_Dataframe['ab'] = data['ab']\n",
        "  result_Dataframe['hit'] = data['hit']\n",
        "  result_Dataframe['home/away'] = data['home/away']\n",
        "  result_Dataframe\n",
        "\n",
        "  return result_Dataframe"
      ],
      "execution_count": 63,
      "outputs": []
    },
    {
      "cell_type": "code",
      "metadata": {
        "id": "SuPIWYjyHhZA"
      },
      "source": [
        "def make_home_away_ab(data):\n",
        "  data['home_ab'] = [ab if s == 'home' else 0 for s, ab in zip(data['home/away'], data['ab'])]\n",
        "  data['home_hit'] = [hit if s == 'home' else 0 for s, hit in zip(data['home/away'], data['hit'])]\n",
        "  data['away_ab'] = [ab if s == 'away' else 0 for s, ab in zip(data['home/away'], data['ab'])]\n",
        "  data['away_hit'] = [hit if s == 'away' else 0 for s, hit in zip(data['home/away'], data['hit'])]\n",
        "\n",
        "  result_Dataframe = pd.DataFrame()\n",
        "  result_Dataframe['name'] = data['name']\n",
        "  result_Dataframe['day'] = data['day']\n",
        "  result_Dataframe['vs_team'] = data['vs_team']\n",
        "  result_Dataframe['vs'] = data['vs']\n",
        "  result_Dataframe['ab'] = data['ab']\n",
        "  result_Dataframe['hit'] = data['hit']\n",
        "  result_Dataframe['home/away'] = data['home/away']\n",
        "  result_Dataframe['home_ab'] = data['home_ab']\n",
        "  result_Dataframe['home_hit'] = data['home_hit']\n",
        "  result_Dataframe['away_ab'] = data['away_ab']\n",
        "  result_Dataframe['away_hit'] = data['away_hit']\n",
        "  result_Dataframe\n",
        "\n",
        "  return result_Dataframe  "
      ],
      "execution_count": 102,
      "outputs": []
    },
    {
      "cell_type": "code",
      "metadata": {
        "id": "rhwDUx9cNYRL"
      },
      "source": [
        "def make_home_away_avg(hitter_data, data):\n",
        "  home_ab = np.zeros(len(data))\n",
        "  home_hit = np.zeros(len(data))\n",
        "  away_ab = np.zeros(len(data))\n",
        "  away_hit = np.zeros(len(data))\n",
        "\n",
        "  name = np.empty(len(data), dtype=np.chararray) # type : 문자열 저장을 위해 chararray\n",
        "  day = np.empty(len(data), dtype=np.chararray) # 기준이 되는 날짜\n",
        "  vs_team = np.empty(len(data), dtype=np.chararray)\n",
        "  vs = np.empty(len(data), dtype=np.chararray)\n",
        "  ab = np.empty(len(data), dtype=np.float32)\n",
        "  hit = np.empty(len(data), dtype=np.float32)\n",
        "  home_away = np.empty(len(data), dtype=np.chararray)\n",
        "\n",
        "  ps = 0\n",
        "  for h in tqdm.tqdm(hitter_data['name']): # 90명 타자 한명씩 접근\n",
        "    hdata = data.loc[data['name']==h] # 특정 타자 한명에 대해서만 데이터 추출\n",
        "    for d, vt, v, hw, a, hit in zip(hdata['day'], hdata['vs_team'], hdata['vs'], hdata['home/away'], hdata['ab'], hdata['hit']): # 추출한 데이터에서 한 행씩 접근\n",
        "      day[ps] = d  # 현재 기준 날짜\n",
        "      name[ps] = h # 현재 타자\n",
        "      vs_team[ps] = vt\n",
        "      vs[ps] = v\n",
        "      ab[ps] = a\n",
        "      hit[ps] = hit\n",
        "      home_away[ps] = hw\n",
        "\n",
        "      if home_away[ps] == 'home':\n",
        "        home_ab = a\n",
        "        home_hit = hit\n",
        "      else:\n",
        "        home_ab = 0\n",
        "        home_hit = 0\n",
        "      \n",
        "      if home_away =='away':\n",
        "        away_ab = a\n",
        "        away_hit = hit\n",
        "      else:\n",
        "        away_ab = 0\n",
        "        away_hit = 0\n",
        "      ps+=1\n",
        "  \n",
        "  result_Dataframe = pd.DataFrame()\n",
        "  result_Dataframe['name'] = name\n",
        "  result_Dataframe['day'] = day\n",
        "  result_Dataframe['vs_team'] = vs_team\n",
        "  result_Dataframe['vs'] = vs\n",
        "  result_Dataframe['ab'] = ab\n",
        "  result_Dataframe['hit'] = hit\n",
        "  result_Dataframe['home/away'] = home_away\n",
        "  result_Dataframe['home_ab'] = home_ab\n",
        "  result_Dataframe['home/hit'] = home_hit\n",
        "  result_Dataframe['away_ab'] = away_ab\n",
        "  result_Dataframe['away_hit'] = away_hit\n",
        "  result_Dataframe\n",
        "\n",
        "  return result_Dataframe\n",
        "\n"
      ],
      "execution_count": 134,
      "outputs": []
    },
    {
      "cell_type": "code",
      "metadata": {
        "id": "K3kddfxszH-M"
      },
      "source": [
        "ex_result = make_home_away(ex_data)"
      ],
      "execution_count": 117,
      "outputs": []
    },
    {
      "cell_type": "code",
      "metadata": {
        "id": "QK2vjsm50nKs",
        "outputId": "ffa4cb07-e291-448c-dc10-77640d77eb16",
        "colab": {
          "base_uri": "https://localhost:8080/",
          "height": 325
        }
      },
      "source": [
        "home_away = make_home_away_avg(batter_data_2021, ex_result)"
      ],
      "execution_count": 135,
      "outputs": [
        {
          "output_type": "stream",
          "text": [
            "  0%|          | 0/90 [00:00<?, ?it/s]\n"
          ],
          "name": "stderr"
        },
        {
          "output_type": "error",
          "ename": "TypeError",
          "evalue": "ignored",
          "traceback": [
            "\u001b[0;31m---------------------------------------------------------------------------\u001b[0m",
            "\u001b[0;31mTypeError\u001b[0m                                 Traceback (most recent call last)",
            "\u001b[0;32m<ipython-input-135-1916261f5936>\u001b[0m in \u001b[0;36m<module>\u001b[0;34m()\u001b[0m\n\u001b[0;32m----> 1\u001b[0;31m \u001b[0mhome_away\u001b[0m \u001b[0;34m=\u001b[0m \u001b[0mmake_home_away_avg\u001b[0m\u001b[0;34m(\u001b[0m\u001b[0mbatter_data_2021\u001b[0m\u001b[0;34m,\u001b[0m \u001b[0mex_result\u001b[0m\u001b[0;34m)\u001b[0m\u001b[0;34m\u001b[0m\u001b[0;34m\u001b[0m\u001b[0m\n\u001b[0m",
            "\u001b[0;32m<ipython-input-134-837bcbeed94e>\u001b[0m in \u001b[0;36mmake_home_away_avg\u001b[0;34m(hitter_data, data)\u001b[0m\n\u001b[1;32m     22\u001b[0m       \u001b[0mvs\u001b[0m\u001b[0;34m[\u001b[0m\u001b[0mps\u001b[0m\u001b[0;34m]\u001b[0m \u001b[0;34m=\u001b[0m \u001b[0mv\u001b[0m\u001b[0;34m\u001b[0m\u001b[0;34m\u001b[0m\u001b[0m\n\u001b[1;32m     23\u001b[0m       \u001b[0mab\u001b[0m\u001b[0;34m[\u001b[0m\u001b[0mps\u001b[0m\u001b[0;34m]\u001b[0m \u001b[0;34m=\u001b[0m \u001b[0ma\u001b[0m\u001b[0;34m\u001b[0m\u001b[0;34m\u001b[0m\u001b[0m\n\u001b[0;32m---> 24\u001b[0;31m       \u001b[0mhit\u001b[0m\u001b[0;34m[\u001b[0m\u001b[0mps\u001b[0m\u001b[0;34m]\u001b[0m \u001b[0;34m=\u001b[0m \u001b[0mhit\u001b[0m\u001b[0;34m\u001b[0m\u001b[0;34m\u001b[0m\u001b[0m\n\u001b[0m\u001b[1;32m     25\u001b[0m       \u001b[0mhome_away\u001b[0m\u001b[0;34m[\u001b[0m\u001b[0mps\u001b[0m\u001b[0;34m]\u001b[0m \u001b[0;34m=\u001b[0m \u001b[0mhw\u001b[0m\u001b[0;34m\u001b[0m\u001b[0;34m\u001b[0m\u001b[0m\n\u001b[1;32m     26\u001b[0m \u001b[0;34m\u001b[0m\u001b[0m\n",
            "\u001b[0;31mTypeError\u001b[0m: 'float' object does not support item assignment"
          ]
        }
      ]
    },
    {
      "cell_type": "code",
      "metadata": {
        "id": "zs3rFEEG6ZGd"
      },
      "source": [
        "home_away.head(20)"
      ],
      "execution_count": null,
      "outputs": []
    },
    {
      "cell_type": "code",
      "metadata": {
        "id": "rTMtv4pq6Zj5",
        "outputId": "110b3270-174c-4dd4-ce5a-6e4dc3957a52",
        "colab": {
          "base_uri": "https://localhost:8080/",
          "height": 423
        }
      },
      "source": [
        "batter_data_2021"
      ],
      "execution_count": 121,
      "outputs": [
        {
          "output_type": "execute_result",
          "data": {
            "text/html": [
              "<div>\n",
              "<style scoped>\n",
              "    .dataframe tbody tr th:only-of-type {\n",
              "        vertical-align: middle;\n",
              "    }\n",
              "\n",
              "    .dataframe tbody tr th {\n",
              "        vertical-align: top;\n",
              "    }\n",
              "\n",
              "    .dataframe thead th {\n",
              "        text-align: right;\n",
              "    }\n",
              "</style>\n",
              "<table border=\"1\" class=\"dataframe\">\n",
              "  <thead>\n",
              "    <tr style=\"text-align: right;\">\n",
              "      <th></th>\n",
              "      <th>Team</th>\n",
              "      <th>name</th>\n",
              "    </tr>\n",
              "  </thead>\n",
              "  <tbody>\n",
              "    <tr>\n",
              "      <th>0</th>\n",
              "      <td>kt</td>\n",
              "      <td>강백호</td>\n",
              "    </tr>\n",
              "    <tr>\n",
              "      <th>1</th>\n",
              "      <td>kt</td>\n",
              "      <td>배정대</td>\n",
              "    </tr>\n",
              "    <tr>\n",
              "      <th>2</th>\n",
              "      <td>kt</td>\n",
              "      <td>조용호</td>\n",
              "    </tr>\n",
              "    <tr>\n",
              "      <th>3</th>\n",
              "      <td>kt</td>\n",
              "      <td>알몬테</td>\n",
              "    </tr>\n",
              "    <tr>\n",
              "      <th>4</th>\n",
              "      <td>kt</td>\n",
              "      <td>심우준</td>\n",
              "    </tr>\n",
              "    <tr>\n",
              "      <th>...</th>\n",
              "      <td>...</td>\n",
              "      <td>...</td>\n",
              "    </tr>\n",
              "    <tr>\n",
              "      <th>4</th>\n",
              "      <td>한화</td>\n",
              "      <td>최재훈</td>\n",
              "    </tr>\n",
              "    <tr>\n",
              "      <th>5</th>\n",
              "      <td>한화</td>\n",
              "      <td>장운호</td>\n",
              "    </tr>\n",
              "    <tr>\n",
              "      <th>6</th>\n",
              "      <td>한화</td>\n",
              "      <td>정진호</td>\n",
              "    </tr>\n",
              "    <tr>\n",
              "      <th>7</th>\n",
              "      <td>한화</td>\n",
              "      <td>이성열</td>\n",
              "    </tr>\n",
              "    <tr>\n",
              "      <th>8</th>\n",
              "      <td>한화</td>\n",
              "      <td>김민하</td>\n",
              "    </tr>\n",
              "  </tbody>\n",
              "</table>\n",
              "<p>90 rows × 2 columns</p>\n",
              "</div>"
            ],
            "text/plain": [
              "   Team name\n",
              "0    kt  강백호\n",
              "1    kt  배정대\n",
              "2    kt  조용호\n",
              "3    kt  알몬테\n",
              "4    kt  심우준\n",
              "..  ...  ...\n",
              "4    한화  최재훈\n",
              "5    한화  장운호\n",
              "6    한화  정진호\n",
              "7    한화  이성열\n",
              "8    한화  김민하\n",
              "\n",
              "[90 rows x 2 columns]"
            ]
          },
          "metadata": {
            "tags": []
          },
          "execution_count": 121
        }
      ]
    },
    {
      "cell_type": "code",
      "metadata": {
        "id": "OT2njccq6ZpI"
      },
      "source": [
        ""
      ],
      "execution_count": null,
      "outputs": []
    }
  ]
}