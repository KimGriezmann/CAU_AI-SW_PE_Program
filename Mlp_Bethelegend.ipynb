{
  "nbformat": 4,
  "nbformat_minor": 0,
  "metadata": {
    "colab": {
      "name": "Bethelegend.ipynb",
      "provenance": [],
      "collapsed_sections": [],
      "include_colab_link": true
    },
    "kernelspec": {
      "name": "python3",
      "display_name": "Python 3"
    },
    "language_info": {
      "name": "python"
    }
  },
  "cells": [
    {
      "cell_type": "markdown",
      "metadata": {
        "id": "view-in-github",
        "colab_type": "text"
      },
      "source": [
        "<a href=\"https://colab.research.google.com/github/KimGriezmann/DeepLearning_BeTheLegend/blob/master/Mlp_Bethelegend.ipynb\" target=\"_parent\"><img src=\"https://colab.research.google.com/assets/colab-badge.svg\" alt=\"Open In Colab\"/></a>"
      ]
    },
    {
      "cell_type": "code",
      "metadata": {
        "id": "hZiBbFYWQEUP"
      },
      "source": [
        "import numpy as np\n",
        "import pandas as pd\n",
        "import tqdm\n",
        "import os"
      ],
      "execution_count": 7,
      "outputs": []
    },
    {
      "cell_type": "code",
      "metadata": {
        "id": "HIhZoCYsuYNj"
      },
      "source": [
        "pd.set_option('display.max_row', 100)\n",
        "pd.set_option('display.max_columns', 100)"
      ],
      "execution_count": 8,
      "outputs": []
    },
    {
      "cell_type": "code",
      "metadata": {
        "id": "E9cK4jy_pSO0",
        "colab": {
          "base_uri": "https://localhost:8080/"
        },
        "outputId": "b0b7f008-cb3e-4c58-e3ba-7714a86dc891"
      },
      "source": [
        "print(os.getcwd())"
      ],
      "execution_count": 9,
      "outputs": [
        {
          "output_type": "stream",
          "text": [
            "/content\n"
          ],
          "name": "stdout"
        }
      ]
    },
    {
      "cell_type": "code",
      "metadata": {
        "id": "LAvjoubnQwoZ"
      },
      "source": [
        "data = pd.read_excel(\"/content/2021 날짜별 타자 데이터.xlsx\")\n",
        "hitter = pd.read_excel(\"/content/2021 타자 명단.xlsx\")\n",
        "vs_avg_data = pd.read_excel(\"/content/팀 상대 타율 정렬.xlsx\")\n",
        "pitcher_stadium = pd.read_excel(\"/content/2021 타자 로그 데이터.xlsx\")"
      ],
      "execution_count": 11,
      "outputs": []
    },
    {
      "cell_type": "code",
      "metadata": {
        "id": "urydav0GSZM3"
      },
      "source": [
        "data = pd.DataFrame(data)\n",
        "hitter = pd.DataFrame(hitter)\n",
        "vs_avg_data = pd.DataFrame(vs_avg_data)\n",
        "pitcher_stadium = pd.DataFrame(pitcher_stadium)"
      ],
      "execution_count": 12,
      "outputs": []
    },
    {
      "cell_type": "code",
      "metadata": {
        "id": "SGzN7Zbuh-ex"
      },
      "source": [
        "#일단 이 함수는 나중에,,\n",
        "def make_pitcher_stadium(record_data, pitcher_stadium):\n",
        "  day = np.empty(len(record_data), dtype=np.int32) # 기준이 되는 날짜\n",
        "  name = np.empty(len(record_data), dtype=np.chararray) # type : 문자열 저장을 위해 chararray\n",
        "  vs = np.empty(len(record_data), dtype=np.chararray)\n",
        "  over\n",
        "  stadium_avg = np.zeros(len(record_data))\n",
        "  \n",
        "  \n",
        "  vs = np.empty(len(record_data), dtype=np.chararray)\n",
        "  vs_ab = np.zeros(len(record_data))\n",
        "  vs_hit = np.zeros(len(record_data))"
      ],
      "execution_count": null,
      "outputs": []
    },
    {
      "cell_type": "code",
      "metadata": {
        "id": "Nj69EkCcQ5Y3"
      },
      "source": [
        "print(data.head(), len(data))"
      ],
      "execution_count": null,
      "outputs": []
    },
    {
      "cell_type": "code",
      "metadata": {
        "id": "wogln08CS1Es"
      },
      "source": [
        "print(hitter.head(), len(hitter))"
      ],
      "execution_count": null,
      "outputs": []
    },
    {
      "cell_type": "code",
      "metadata": {
        "id": "1dijZgUMTClT"
      },
      "source": [
        "data.loc[:,['day','name','ab','hit']].dtypes"
      ],
      "execution_count": null,
      "outputs": []
    },
    {
      "cell_type": "code",
      "metadata": {
        "id": "IcJRNnO_qGaQ"
      },
      "source": [
        "data.loc[:,['day','name','ab','hit']]"
      ],
      "execution_count": null,
      "outputs": []
    },
    {
      "cell_type": "code",
      "metadata": {
        "id": "K9JFsRXyRdFU"
      },
      "source": [
        "# 더블헤더 처리\n",
        "temp = np.zeros(len(data))\n",
        "\n",
        "# day, name이 같은 값이 있다는 것은 더블헤더 경기가 있다는것\n",
        "# keep=False 옵션은 중복 값에 해당하는 튜플들을 모두 True로 리턴, 그 외 옵션 : 'first', 'last' 의 경우 둘 중 하나만 True\n",
        "dup = data.loc[:,['day','name']].duplicated(keep=False) \n",
        "\n",
        "for i in range(len(data)):\n",
        "  if dup[i]==False:\n",
        "    temp[i]=0\n",
        "  elif dup[i]==True:\n",
        "    temp[i]=1\n",
        "\n",
        "# 중복의 첫번째 행은 더블헤더 1차전\n",
        "# 중복인 두번째 행이 더블헤더 2차전이다.\n",
        "for i in range(1,len(temp)):\n",
        "  if temp[i]==1 and temp[i-1]==1:\n",
        "    temp[i]=2\n",
        "\n",
        "data['double']=temp"
      ],
      "execution_count": 13,
      "outputs": []
    },
    {
      "cell_type": "code",
      "metadata": {
        "id": "vOltCdnWRlP0"
      },
      "source": [
        "#\n",
        "# 선수마다 최근 5일의 타율을 구해야함. \n",
        "# 현재 day에서 -5부터 -1까지의 sum(hit)/sum(ab) 값을 구하면 된다\n",
        "\n",
        "# hitter_data : 90명 타자 data\n",
        "# record_data : 날짜별 타자 기록\n",
        "# recent_day : 기본(최근 5일), 설정 가능\n",
        "def make_recent_days(hitter_data, record_data, day=5):\n",
        "\n",
        "  # 최근 5일(기본) 경기 타율 저장할 공간 생성\n",
        "  recent_days_avg = np.zeros(len(record_data)) # 최근 5일(기본) 경기 타율\n",
        "  recent_days_hitter = np.empty(len(record_data), dtype=np.chararray) # type : 문자열 저장을 위해 chararray\n",
        "  recent_days_day = np.empty(len(record_data), dtype=np.int32) # 기준이 되는 날짜\n",
        "  recent_days_double = np.zeros(len(record_data), dtype=np.int8) # 더블헤더 분류 / 0 : 더블헤더 아님 / 1 : 더블헤더 1차전 / 2 : 더블헤더 2차전\n",
        "\n",
        "  ps = 0\n",
        "  for h in tqdm.tqdm(hitter_data['batter']): # 90명 타자 한명씩 접근\n",
        "    hdata = record_data.loc[record_data['name']==h].reset_index() # 특정 타자 한명에 대해서만 데이터 추출\n",
        "    for i in range(len(hdata['day'])): # 추출한 데이터에서 한 행씩 접근\n",
        "      recent_days_hitter[ps] = h # 현재 타자\n",
        "      r = hdata.loc[i,'day']  # 현재 기준 날짜\n",
        "      recent_days_day[ps] = r\n",
        "      d = hdata.loc[i,'double'] # 현재 더블헤더 분류\n",
        "      recent_days_double[ps] = d      \n",
        "      if d==2: # 더블헤더 2차전이라면\n",
        "        hrdata = hdata.loc[hdata['day']>=r-day].loc[hdata['day']<=r].loc[hdata['double']!=2] # r 날짜까지 가져와서 2차전을 제외\n",
        "      else: # 더블헤더가 아니고, 더블헤더 1차전이라면\n",
        "        hrdata = hdata.loc[hdata['day']>=r-day].loc[hdata['day']<=r-1] # 접근한 행의 날짜를 기준으로 5일 경기\n",
        "         \n",
        "      if len(hrdata)==0: # 최근 5일 경기 없으면 넘어가고\n",
        "        ps+=1\n",
        "        continue\n",
        "      else : # 있으면\n",
        "        sum_ab = sum(hrdata['ab'])\n",
        "        if sum_ab==0: # 경기 기록은 존재하지만 타수(ab)가 0\n",
        "          ps+=1\n",
        "          continue\n",
        "        sum_hit = sum(hrdata['hit'])\n",
        "        recent_days_avg[ps] = sum_hit/sum_ab\n",
        "        ps+=1\n",
        "\n",
        "  result_Dataframe = pd.DataFrame()\n",
        "  result_Dataframe['day'] = recent_days_day\n",
        "  result_Dataframe['name'] = recent_days_hitter\n",
        "  result_Dataframe['recent_days_avg'] = recent_days_avg\n",
        "  result_Dataframe['double'] = recent_days_double\n",
        "\n",
        "  return result_Dataframe"
      ],
      "execution_count": 14,
      "outputs": []
    },
    {
      "cell_type": "code",
      "metadata": {
        "id": "7t9VB6ulhvBb"
      },
      "source": [
        "#상대 타율 구하는 함수\n",
        "#데이터 파일에서 vs 내림차순 후, 누적 타수 / 누적 안타 계산이 끝난 상태여야함\n",
        "def make_vs_avg(hitter_data, record_data):\n",
        "  vs_avg = np.zeros(len(record_data))\n",
        "  name = np.empty(len(record_data), dtype=np.chararray) # type : 문자열 저장을 위해 chararray\n",
        "  day = np.empty(len(record_data), dtype=np.int32) # 기준이 되는 날짜\n",
        "  vs = np.empty(len(record_data), dtype=np.chararray)\n",
        "  vs_ab = np.zeros(len(record_data))\n",
        "  vs_hit = np.zeros(len(record_data))\n",
        "  double_h = np.zeros(len(record_data))\n",
        "\n",
        "  ps = 0\n",
        "  for h in tqdm.tqdm(hitter_data['batter']): # 90명 타자 한명씩 접근\n",
        "    hdata = record_data.loc[record_data['name']==h] # 특정 타자 한명에 대해서만 데이터 추출\n",
        "    for r, d, v,ab, hit in zip(hdata['day'], hdata['double'], hdata['vs'], hdata['vs_cu_ab'], hdata['vs_cu_hit']): # 추출한 데이터에서 한 행씩 접근\n",
        "      day[ps] = r  # 현재 기준 날짜\n",
        "      name[ps] = h # 현재 타자\n",
        "      vs[ps] = v\n",
        "      vs_ab[ps] = ab\n",
        "      vs_hit[ps] = hit\n",
        "      double_h[ps] = d\n",
        "      try:\n",
        "        vs_avg[ps] = hit / ab\n",
        "      except ZeroDivisionError:\n",
        "        vs_avg[ps] = 0\n",
        "      ps+=1\n",
        "  \n",
        "  result_Dataframe = pd.DataFrame()\n",
        "  result_Dataframe['day'] = day\n",
        "  result_Dataframe['double'] = double_h\n",
        "  result_Dataframe['name'] = name\n",
        "  result_Dataframe['vs_team'] = vs\n",
        "  result_Dataframe['vs_ab'] = vs_ab\n",
        "  result_Dataframe['vs_hit'] = vs_hit\n",
        "  result_Dataframe['vs_avg'] = vs_avg\n",
        "  result_Dataframe\n",
        "\n",
        "  return result_Dataframe\n",
        "\n"
      ],
      "execution_count": 15,
      "outputs": []
    },
    {
      "cell_type": "code",
      "metadata": {
        "colab": {
          "base_uri": "https://localhost:8080/"
        },
        "id": "mCv2M4XhmOGO",
        "outputId": "5f7a8248-2dd1-48d7-e965-dddb26201ba2"
      },
      "source": [
        "vs_avg = make_vs_avg(hitter, vs_avg_data)"
      ],
      "execution_count": 16,
      "outputs": [
        {
          "output_type": "stream",
          "text": [
            "100%|██████████| 90/90 [00:00<00:00, 810.75it/s]\n"
          ],
          "name": "stderr"
        }
      ]
    },
    {
      "cell_type": "code",
      "metadata": {
        "id": "RO8VyxNFmS5N"
      },
      "source": [
        "vs_avg.loc[vs_avg['name']=='전준우']"
      ],
      "execution_count": null,
      "outputs": []
    },
    {
      "cell_type": "code",
      "metadata": {
        "colab": {
          "base_uri": "https://localhost:8080/"
        },
        "id": "tf4q-BOfSOxs",
        "outputId": "85765c9c-f82c-4692-9906-cc1e5410e09f"
      },
      "source": [
        "recent_days = make_recent_days(hitter, data)"
      ],
      "execution_count": 17,
      "outputs": [
        {
          "output_type": "stream",
          "text": [
            "100%|██████████| 90/90 [00:09<00:00,  9.78it/s]\n"
          ],
          "name": "stderr"
        }
      ]
    },
    {
      "cell_type": "code",
      "metadata": {
        "id": "H90lJwIKzSfX"
      },
      "source": [
        "recent_days.loc[recent_days['name']=='전준우']"
      ],
      "execution_count": null,
      "outputs": []
    },
    {
      "cell_type": "code",
      "metadata": {
        "id": "4XxJNu7-vT79"
      },
      "source": [
        "merge_data1 = pd.merge(data, vs_avg, on = ['day', 'name', 'double'], how = 'inner')"
      ],
      "execution_count": 18,
      "outputs": []
    },
    {
      "cell_type": "code",
      "metadata": {
        "id": "lVomb3HF1jQg"
      },
      "source": [
        "merge_data1.loc[merge_data1['name']=='전준우']"
      ],
      "execution_count": null,
      "outputs": []
    },
    {
      "cell_type": "code",
      "metadata": {
        "id": "heVGVc5LQhRG"
      },
      "source": [
        "merge_data2 = pd.merge(merge_data1, recent_days, on = ['day', 'name', 'double'], how = 'inner')"
      ],
      "execution_count": 19,
      "outputs": []
    },
    {
      "cell_type": "code",
      "metadata": {
        "colab": {
          "base_uri": "https://localhost:8080/"
        },
        "id": "VoWx93N0ojVD",
        "outputId": "b13bd941-269f-45a5-9aad-d920f2669bf5"
      },
      "source": [
        "len(data), len(recent_days), len(vs_avg), len(merge_data1), len(merge_data2)"
      ],
      "execution_count": 20,
      "outputs": [
        {
          "output_type": "execute_result",
          "data": {
            "text/plain": [
              "(5296, 5296, 5296, 5296, 5296)"
            ]
          },
          "metadata": {
            "tags": []
          },
          "execution_count": 20
        }
      ]
    },
    {
      "cell_type": "code",
      "metadata": {
        "id": "fBt8hD1mSwiD"
      },
      "source": [
        "merge_data2"
      ],
      "execution_count": null,
      "outputs": []
    },
    {
      "cell_type": "code",
      "metadata": {
        "id": "ojw6UVAXRyGH"
      },
      "source": [
        "our_data = merge_data2.loc[:, ['day', 'double', 'name', 'vs', 'ab','hit', 'avg', 'slg', 'vs_ab', 'vs_hit', 'vs_avg', 'recent_5','recent_10','success_recent_10','recent_days_avg', 'result']]"
      ],
      "execution_count": 21,
      "outputs": []
    },
    {
      "cell_type": "code",
      "metadata": {
        "id": "lZtya-M2vrkm"
      },
      "source": [
        "our_data.loc[our_data['name']=='전준우']"
      ],
      "execution_count": null,
      "outputs": []
    },
    {
      "cell_type": "code",
      "metadata": {
        "id": "OUzRXudsoZGk"
      },
      "source": [
        "mlp_data = our_data.loc[:, ['name', 'vs', 'avg', 'slg', 'vs_ab', 'vs_hit', 'vs_avg', 'recent_5','recent_10','success_recent_10','recent_days_avg', 'result']]"
      ],
      "execution_count": 30,
      "outputs": []
    },
    {
      "cell_type": "code",
      "metadata": {
        "id": "VGJVW1zMvrmu",
        "outputId": "9caf4f73-e3a1-4bb1-af50-bc3275712fbb",
        "colab": {
          "base_uri": "https://localhost:8080/"
        }
      },
      "source": [
        "type(mlp_data), mlp_data.shape"
      ],
      "execution_count": 31,
      "outputs": [
        {
          "output_type": "execute_result",
          "data": {
            "text/plain": [
              "(pandas.core.frame.DataFrame, (5296, 12))"
            ]
          },
          "metadata": {
            "tags": []
          },
          "execution_count": 31
        }
      ]
    },
    {
      "cell_type": "code",
      "metadata": {
        "id": "gmpdYDvBalcQ",
        "outputId": "9b427168-78fe-46c8-f2e4-6ce77a845045",
        "colab": {
          "base_uri": "https://localhost:8080/",
          "height": 558
        }
      },
      "source": [
        "mlp_data"
      ],
      "execution_count": 48,
      "outputs": [
        {
          "output_type": "execute_result",
          "data": {
            "text/html": [
              "<div>\n",
              "<style scoped>\n",
              "    .dataframe tbody tr th:only-of-type {\n",
              "        vertical-align: middle;\n",
              "    }\n",
              "\n",
              "    .dataframe tbody tr th {\n",
              "        vertical-align: top;\n",
              "    }\n",
              "\n",
              "    .dataframe thead th {\n",
              "        text-align: right;\n",
              "    }\n",
              "</style>\n",
              "<table border=\"1\" class=\"dataframe\">\n",
              "  <thead>\n",
              "    <tr style=\"text-align: right;\">\n",
              "      <th></th>\n",
              "      <th>name</th>\n",
              "      <th>vs</th>\n",
              "      <th>avg</th>\n",
              "      <th>slg</th>\n",
              "      <th>vs_ab</th>\n",
              "      <th>vs_hit</th>\n",
              "      <th>vs_avg</th>\n",
              "      <th>recent_5</th>\n",
              "      <th>recent_10</th>\n",
              "      <th>success_recent_10</th>\n",
              "      <th>recent_days_avg</th>\n",
              "      <th>result</th>\n",
              "    </tr>\n",
              "  </thead>\n",
              "  <tbody>\n",
              "    <tr>\n",
              "      <th>0</th>\n",
              "      <td>강민호</td>\n",
              "      <td>키움</td>\n",
              "      <td>0.000</td>\n",
              "      <td>0.000</td>\n",
              "      <td>0.0</td>\n",
              "      <td>0.0</td>\n",
              "      <td>0.000000</td>\n",
              "      <td>0.000000</td>\n",
              "      <td>0.000</td>\n",
              "      <td>0.00</td>\n",
              "      <td>0.000000</td>\n",
              "      <td>0</td>\n",
              "    </tr>\n",
              "    <tr>\n",
              "      <th>1</th>\n",
              "      <td>강민호</td>\n",
              "      <td>키움</td>\n",
              "      <td>0.286</td>\n",
              "      <td>0.286</td>\n",
              "      <td>3.0</td>\n",
              "      <td>0.0</td>\n",
              "      <td>0.000000</td>\n",
              "      <td>0.000000</td>\n",
              "      <td>0.000</td>\n",
              "      <td>0.00</td>\n",
              "      <td>0.000000</td>\n",
              "      <td>1</td>\n",
              "    </tr>\n",
              "    <tr>\n",
              "      <th>2</th>\n",
              "      <td>강민호</td>\n",
              "      <td>두산</td>\n",
              "      <td>0.250</td>\n",
              "      <td>0.250</td>\n",
              "      <td>0.0</td>\n",
              "      <td>0.0</td>\n",
              "      <td>0.000000</td>\n",
              "      <td>0.285714</td>\n",
              "      <td>0.286</td>\n",
              "      <td>0.50</td>\n",
              "      <td>0.285714</td>\n",
              "      <td>0</td>\n",
              "    </tr>\n",
              "    <tr>\n",
              "      <th>3</th>\n",
              "      <td>강민호</td>\n",
              "      <td>두산</td>\n",
              "      <td>0.250</td>\n",
              "      <td>0.333</td>\n",
              "      <td>1.0</td>\n",
              "      <td>0.0</td>\n",
              "      <td>0.000000</td>\n",
              "      <td>0.250000</td>\n",
              "      <td>0.250</td>\n",
              "      <td>0.33</td>\n",
              "      <td>0.250000</td>\n",
              "      <td>1</td>\n",
              "    </tr>\n",
              "    <tr>\n",
              "      <th>4</th>\n",
              "      <td>강민호</td>\n",
              "      <td>두산</td>\n",
              "      <td>0.333</td>\n",
              "      <td>0.667</td>\n",
              "      <td>5.0</td>\n",
              "      <td>1.0</td>\n",
              "      <td>0.200000</td>\n",
              "      <td>0.250000</td>\n",
              "      <td>0.250</td>\n",
              "      <td>0.50</td>\n",
              "      <td>0.250000</td>\n",
              "      <td>1</td>\n",
              "    </tr>\n",
              "    <tr>\n",
              "      <th>...</th>\n",
              "      <td>...</td>\n",
              "      <td>...</td>\n",
              "      <td>...</td>\n",
              "      <td>...</td>\n",
              "      <td>...</td>\n",
              "      <td>...</td>\n",
              "      <td>...</td>\n",
              "      <td>...</td>\n",
              "      <td>...</td>\n",
              "      <td>...</td>\n",
              "      <td>...</td>\n",
              "      <td>...</td>\n",
              "    </tr>\n",
              "    <tr>\n",
              "      <th>5291</th>\n",
              "      <td>힐리</td>\n",
              "      <td>삼성</td>\n",
              "      <td>0.254</td>\n",
              "      <td>0.386</td>\n",
              "      <td>27.0</td>\n",
              "      <td>6.0</td>\n",
              "      <td>0.222222</td>\n",
              "      <td>0.210526</td>\n",
              "      <td>0.179</td>\n",
              "      <td>0.50</td>\n",
              "      <td>0.187500</td>\n",
              "      <td>0</td>\n",
              "    </tr>\n",
              "    <tr>\n",
              "      <th>5292</th>\n",
              "      <td>힐리</td>\n",
              "      <td>KT</td>\n",
              "      <td>0.252</td>\n",
              "      <td>0.383</td>\n",
              "      <td>27.0</td>\n",
              "      <td>11.0</td>\n",
              "      <td>0.407407</td>\n",
              "      <td>0.176471</td>\n",
              "      <td>0.194</td>\n",
              "      <td>0.50</td>\n",
              "      <td>0.083333</td>\n",
              "      <td>0</td>\n",
              "    </tr>\n",
              "    <tr>\n",
              "      <th>5293</th>\n",
              "      <td>힐리</td>\n",
              "      <td>KT</td>\n",
              "      <td>0.256</td>\n",
              "      <td>0.385</td>\n",
              "      <td>29.0</td>\n",
              "      <td>11.0</td>\n",
              "      <td>0.379310</td>\n",
              "      <td>0.071429</td>\n",
              "      <td>0.206</td>\n",
              "      <td>0.50</td>\n",
              "      <td>0.000000</td>\n",
              "      <td>1</td>\n",
              "    </tr>\n",
              "    <tr>\n",
              "      <th>5294</th>\n",
              "      <td>힐리</td>\n",
              "      <td>KT</td>\n",
              "      <td>0.257</td>\n",
              "      <td>0.384</td>\n",
              "      <td>33.0</td>\n",
              "      <td>13.0</td>\n",
              "      <td>0.393939</td>\n",
              "      <td>0.142857</td>\n",
              "      <td>0.235</td>\n",
              "      <td>0.50</td>\n",
              "      <td>0.142857</td>\n",
              "      <td>1</td>\n",
              "    </tr>\n",
              "    <tr>\n",
              "      <th>5295</th>\n",
              "      <td>힐리</td>\n",
              "      <td>두산</td>\n",
              "      <td>0.261</td>\n",
              "      <td>0.398</td>\n",
              "      <td>13.0</td>\n",
              "      <td>3.0</td>\n",
              "      <td>0.230769</td>\n",
              "      <td>0.214286</td>\n",
              "      <td>0.212</td>\n",
              "      <td>0.50</td>\n",
              "      <td>0.333333</td>\n",
              "      <td>1</td>\n",
              "    </tr>\n",
              "  </tbody>\n",
              "</table>\n",
              "<p>5296 rows × 12 columns</p>\n",
              "</div>"
            ],
            "text/plain": [
              "     name  vs    avg    slg  vs_ab  vs_hit    vs_avg  recent_5  recent_10  \\\n",
              "0     강민호  키움  0.000  0.000    0.0     0.0  0.000000  0.000000      0.000   \n",
              "1     강민호  키움  0.286  0.286    3.0     0.0  0.000000  0.000000      0.000   \n",
              "2     강민호  두산  0.250  0.250    0.0     0.0  0.000000  0.285714      0.286   \n",
              "3     강민호  두산  0.250  0.333    1.0     0.0  0.000000  0.250000      0.250   \n",
              "4     강민호  두산  0.333  0.667    5.0     1.0  0.200000  0.250000      0.250   \n",
              "...   ...  ..    ...    ...    ...     ...       ...       ...        ...   \n",
              "5291   힐리  삼성  0.254  0.386   27.0     6.0  0.222222  0.210526      0.179   \n",
              "5292   힐리  KT  0.252  0.383   27.0    11.0  0.407407  0.176471      0.194   \n",
              "5293   힐리  KT  0.256  0.385   29.0    11.0  0.379310  0.071429      0.206   \n",
              "5294   힐리  KT  0.257  0.384   33.0    13.0  0.393939  0.142857      0.235   \n",
              "5295   힐리  두산  0.261  0.398   13.0     3.0  0.230769  0.214286      0.212   \n",
              "\n",
              "      success_recent_10  recent_days_avg  result  \n",
              "0                  0.00         0.000000       0  \n",
              "1                  0.00         0.000000       1  \n",
              "2                  0.50         0.285714       0  \n",
              "3                  0.33         0.250000       1  \n",
              "4                  0.50         0.250000       1  \n",
              "...                 ...              ...     ...  \n",
              "5291               0.50         0.187500       0  \n",
              "5292               0.50         0.083333       0  \n",
              "5293               0.50         0.000000       1  \n",
              "5294               0.50         0.142857       1  \n",
              "5295               0.50         0.333333       1  \n",
              "\n",
              "[5296 rows x 12 columns]"
            ]
          },
          "metadata": {
            "tags": []
          },
          "execution_count": 48
        }
      ]
    },
    {
      "cell_type": "code",
      "metadata": {
        "id": "5fDiNJEyUZHq"
      },
      "source": [
        "from keras.utils.np_utils import to_categorical\n",
        "import numpy as np\n",
        "from sklearn.preprocessing import minmax_scale\n",
        "from keras.models import Sequential\n",
        "from keras.layers import Dense, Dropout, Activation\n",
        "from keras.optimizers import Adam"
      ],
      "execution_count": 26,
      "outputs": []
    },
    {
      "cell_type": "code",
      "metadata": {
        "id": "etMtdJE7UZOe"
      },
      "source": [
        "from sklearn.model_selection import train_test_split"
      ],
      "execution_count": 32,
      "outputs": []
    },
    {
      "cell_type": "code",
      "metadata": {
        "id": "_q9LJHQfUZRb"
      },
      "source": [
        "mlp_train, mlp_test = train_test_split(mlp_data, test_size=0.2, random_state=30)"
      ],
      "execution_count": 33,
      "outputs": []
    },
    {
      "cell_type": "code",
      "metadata": {
        "id": "fznD0XGsWwJq"
      },
      "source": [
        "X_train = mlp_train.loc[:, ['avg', 'slg', 'vs_ab', 'vs_hit', 'vs_avg', 'recent_5','recent_10','success_recent_10','recent_days_avg']]\n",
        "y_train = mlp_train.loc[:, ['result']]\n",
        "\n",
        "X_test = mlp_test.loc[:, ['avg', 'slg', 'vs_ab', 'vs_hit', 'vs_avg', 'recent_5','recent_10','success_recent_10','recent_days_avg']]\n",
        "y_test = mlp_test.loc[:, ['result']]"
      ],
      "execution_count": 49,
      "outputs": []
    },
    {
      "cell_type": "code",
      "metadata": {
        "id": "qliZMdHiaGsu"
      },
      "source": [
        "X_train = X_train.to_numpy()\n",
        "y_train = y_train.to_numpy()\n",
        "X_test = X_test.to_numpy()\n",
        "y_test = y_test.to_numpy()"
      ],
      "execution_count": 50,
      "outputs": []
    },
    {
      "cell_type": "code",
      "metadata": {
        "id": "5CO9XBH2ZfjM"
      },
      "source": [
        "number_of_train_samples = X_train.shape[0]\n",
        "width = X_train.shape[1]\n",
        "X_train = X_train.reshape(number_of_train_samples, width)"
      ],
      "execution_count": 51,
      "outputs": []
    },
    {
      "cell_type": "code",
      "metadata": {
        "id": "hH7eWl9-ZmIf"
      },
      "source": [
        "number_of_test_samples = X_test.shape[0]\n",
        "X_test = X_test.reshape(number_of_test_samples, width)"
      ],
      "execution_count": 52,
      "outputs": []
    },
    {
      "cell_type": "code",
      "metadata": {
        "id": "Xs97X28cZmK6"
      },
      "source": [
        "X_train = minmax_scale(X_train, feature_range=(0,1), axis = 0)\n",
        "X_test = minmax_scale(X_test, feature_range=(0,1), axis = 0)"
      ],
      "execution_count": 53,
      "outputs": []
    },
    {
      "cell_type": "code",
      "metadata": {
        "id": "Ofp2W_u9ZmNA"
      },
      "source": [
        "y_train = to_categorical(y_train)\n",
        "y_test = to_categorical(y_test)"
      ],
      "execution_count": 54,
      "outputs": []
    },
    {
      "cell_type": "code",
      "metadata": {
        "id": "hnkCKRP4a2Vm"
      },
      "source": [
        "model = Sequential()\n",
        "\n",
        "model.add(Dense(256, input_dim= width, kernel_initializer = 'glorot_uniform', activation = 'relu'))\n",
        "model.add(Dropout(0.3))\n",
        "\n",
        "model.add(Dense(256, kernel_initializer = 'glorot_uniform', activation = 'relu'))\n",
        "model.add(Dropout(0.3))\n",
        "\n",
        "model.add(Dense(256, kernel_initializer = 'glorot_uniform', activation = 'relu'))\n",
        "model.add(Dropout(0.3))\n",
        "\n",
        "model.add(Dense(256, kernel_initializer = 'glorot_uniform', activation = 'relu'))\n",
        "model.add(Dropout(0.3))\n",
        "\n",
        "number_of_class = 2\n",
        "model.add(Dense(number_of_class, activation = 'softmax'))\n",
        "\n",
        "model.compile(loss = 'categorical_crossentropy', optimizer='sgd', metrics=['accuracy'])\n",
        "\n",
        "#print('evaluate model')\n",
        "#evaluation = model.evaluate(X_test, y_test, batch_size = batch_size)\n",
        "#print('Accuracy: ' + str(evaluation[1]))\n"
      ],
      "execution_count": 61,
      "outputs": []
    },
    {
      "cell_type": "code",
      "metadata": {
        "id": "cOr6vj-2a2Xs",
        "outputId": "4888a3b3-813b-4aae-db98-7469b594626a",
        "colab": {
          "base_uri": "https://localhost:8080/"
        }
      },
      "source": [
        "hist = model.fit(X_train, y_train, epochs= 100, batch_size = 100)"
      ],
      "execution_count": 62,
      "outputs": [
        {
          "output_type": "stream",
          "text": [
            "Epoch 1/100\n",
            "43/43 [==============================] - 2s 9ms/step - loss: 0.6886 - accuracy: 0.5402\n",
            "Epoch 2/100\n",
            "43/43 [==============================] - 0s 9ms/step - loss: 0.6724 - accuracy: 0.6211\n",
            "Epoch 3/100\n",
            "43/43 [==============================] - 0s 9ms/step - loss: 0.6701 - accuracy: 0.6095\n",
            "Epoch 4/100\n",
            "43/43 [==============================] - 0s 10ms/step - loss: 0.6736 - accuracy: 0.5951\n",
            "Epoch 5/100\n",
            "43/43 [==============================] - 0s 9ms/step - loss: 0.6682 - accuracy: 0.6109\n",
            "Epoch 6/100\n",
            "43/43 [==============================] - 0s 10ms/step - loss: 0.6683 - accuracy: 0.6084\n",
            "Epoch 7/100\n",
            "43/43 [==============================] - 0s 10ms/step - loss: 0.6661 - accuracy: 0.6135\n",
            "Epoch 8/100\n",
            "43/43 [==============================] - 0s 9ms/step - loss: 0.6684 - accuracy: 0.6055\n",
            "Epoch 9/100\n",
            "43/43 [==============================] - 0s 10ms/step - loss: 0.6676 - accuracy: 0.6049\n",
            "Epoch 10/100\n",
            "43/43 [==============================] - 0s 9ms/step - loss: 0.6707 - accuracy: 0.6025\n",
            "Epoch 11/100\n",
            "43/43 [==============================] - 0s 10ms/step - loss: 0.6691 - accuracy: 0.6041\n",
            "Epoch 12/100\n",
            "43/43 [==============================] - 0s 9ms/step - loss: 0.6647 - accuracy: 0.6133\n",
            "Epoch 13/100\n",
            "43/43 [==============================] - 0s 9ms/step - loss: 0.6677 - accuracy: 0.6064\n",
            "Epoch 14/100\n",
            "43/43 [==============================] - 0s 9ms/step - loss: 0.6661 - accuracy: 0.6119\n",
            "Epoch 15/100\n",
            "43/43 [==============================] - 0s 9ms/step - loss: 0.6678 - accuracy: 0.6087\n",
            "Epoch 16/100\n",
            "43/43 [==============================] - 0s 9ms/step - loss: 0.6636 - accuracy: 0.6156\n",
            "Epoch 17/100\n",
            "43/43 [==============================] - 0s 9ms/step - loss: 0.6695 - accuracy: 0.6001\n",
            "Epoch 18/100\n",
            "43/43 [==============================] - 0s 9ms/step - loss: 0.6613 - accuracy: 0.6207\n",
            "Epoch 19/100\n",
            "43/43 [==============================] - 0s 9ms/step - loss: 0.6642 - accuracy: 0.6108\n",
            "Epoch 20/100\n",
            "43/43 [==============================] - 0s 9ms/step - loss: 0.6685 - accuracy: 0.6051\n",
            "Epoch 21/100\n",
            "43/43 [==============================] - 0s 9ms/step - loss: 0.6621 - accuracy: 0.6162\n",
            "Epoch 22/100\n",
            "43/43 [==============================] - 0s 9ms/step - loss: 0.6687 - accuracy: 0.6015\n",
            "Epoch 23/100\n",
            "43/43 [==============================] - 0s 9ms/step - loss: 0.6612 - accuracy: 0.6183\n",
            "Epoch 24/100\n",
            "43/43 [==============================] - 0s 10ms/step - loss: 0.6658 - accuracy: 0.6073\n",
            "Epoch 25/100\n",
            "43/43 [==============================] - 0s 9ms/step - loss: 0.6627 - accuracy: 0.6132\n",
            "Epoch 26/100\n",
            "43/43 [==============================] - 0s 9ms/step - loss: 0.6625 - accuracy: 0.6102\n",
            "Epoch 27/100\n",
            "43/43 [==============================] - 0s 9ms/step - loss: 0.6616 - accuracy: 0.6186\n",
            "Epoch 28/100\n",
            "43/43 [==============================] - 0s 9ms/step - loss: 0.6641 - accuracy: 0.6072\n",
            "Epoch 29/100\n",
            "43/43 [==============================] - 0s 9ms/step - loss: 0.6601 - accuracy: 0.6186\n",
            "Epoch 30/100\n",
            "43/43 [==============================] - 0s 9ms/step - loss: 0.6644 - accuracy: 0.6052\n",
            "Epoch 31/100\n",
            "43/43 [==============================] - 0s 9ms/step - loss: 0.6591 - accuracy: 0.6168\n",
            "Epoch 32/100\n",
            "43/43 [==============================] - 0s 9ms/step - loss: 0.6651 - accuracy: 0.6077\n",
            "Epoch 33/100\n",
            "43/43 [==============================] - 0s 9ms/step - loss: 0.6600 - accuracy: 0.6163\n",
            "Epoch 34/100\n",
            "43/43 [==============================] - 0s 9ms/step - loss: 0.6668 - accuracy: 0.6055\n",
            "Epoch 35/100\n",
            "43/43 [==============================] - 0s 9ms/step - loss: 0.6647 - accuracy: 0.6097\n",
            "Epoch 36/100\n",
            "43/43 [==============================] - 0s 9ms/step - loss: 0.6710 - accuracy: 0.5928\n",
            "Epoch 37/100\n",
            "43/43 [==============================] - 0s 10ms/step - loss: 0.6624 - accuracy: 0.6091\n",
            "Epoch 38/100\n",
            "43/43 [==============================] - 0s 10ms/step - loss: 0.6663 - accuracy: 0.6093\n",
            "Epoch 39/100\n",
            "43/43 [==============================] - 0s 9ms/step - loss: 0.6582 - accuracy: 0.6214\n",
            "Epoch 40/100\n",
            "43/43 [==============================] - 0s 9ms/step - loss: 0.6609 - accuracy: 0.6126\n",
            "Epoch 41/100\n",
            "43/43 [==============================] - 0s 9ms/step - loss: 0.6595 - accuracy: 0.6199\n",
            "Epoch 42/100\n",
            "43/43 [==============================] - 0s 9ms/step - loss: 0.6642 - accuracy: 0.6059\n",
            "Epoch 43/100\n",
            "43/43 [==============================] - 0s 9ms/step - loss: 0.6605 - accuracy: 0.6166\n",
            "Epoch 44/100\n",
            "43/43 [==============================] - 0s 9ms/step - loss: 0.6645 - accuracy: 0.6108\n",
            "Epoch 45/100\n",
            "43/43 [==============================] - 0s 9ms/step - loss: 0.6611 - accuracy: 0.6106\n",
            "Epoch 46/100\n",
            "43/43 [==============================] - 0s 9ms/step - loss: 0.6646 - accuracy: 0.6095\n",
            "Epoch 47/100\n",
            "43/43 [==============================] - 0s 9ms/step - loss: 0.6612 - accuracy: 0.6111\n",
            "Epoch 48/100\n",
            "43/43 [==============================] - 0s 9ms/step - loss: 0.6598 - accuracy: 0.6130\n",
            "Epoch 49/100\n",
            "43/43 [==============================] - 0s 9ms/step - loss: 0.6633 - accuracy: 0.6085\n",
            "Epoch 50/100\n",
            "43/43 [==============================] - 0s 9ms/step - loss: 0.6672 - accuracy: 0.5950\n",
            "Epoch 51/100\n",
            "43/43 [==============================] - 0s 9ms/step - loss: 0.6613 - accuracy: 0.6114\n",
            "Epoch 52/100\n",
            "43/43 [==============================] - 0s 9ms/step - loss: 0.6597 - accuracy: 0.6132\n",
            "Epoch 53/100\n",
            "43/43 [==============================] - 0s 9ms/step - loss: 0.6629 - accuracy: 0.6086\n",
            "Epoch 54/100\n",
            "43/43 [==============================] - 0s 9ms/step - loss: 0.6620 - accuracy: 0.6034\n",
            "Epoch 55/100\n",
            "43/43 [==============================] - 0s 9ms/step - loss: 0.6655 - accuracy: 0.6054\n",
            "Epoch 56/100\n",
            "43/43 [==============================] - 0s 9ms/step - loss: 0.6629 - accuracy: 0.6128\n",
            "Epoch 57/100\n",
            "43/43 [==============================] - 0s 10ms/step - loss: 0.6577 - accuracy: 0.6197\n",
            "Epoch 58/100\n",
            "43/43 [==============================] - 0s 9ms/step - loss: 0.6639 - accuracy: 0.6069\n",
            "Epoch 59/100\n",
            "43/43 [==============================] - 0s 9ms/step - loss: 0.6609 - accuracy: 0.6073\n",
            "Epoch 60/100\n",
            "43/43 [==============================] - 0s 9ms/step - loss: 0.6599 - accuracy: 0.6124\n",
            "Epoch 61/100\n",
            "43/43 [==============================] - 0s 9ms/step - loss: 0.6613 - accuracy: 0.6126\n",
            "Epoch 62/100\n",
            "43/43 [==============================] - 0s 10ms/step - loss: 0.6632 - accuracy: 0.6064\n",
            "Epoch 63/100\n",
            "43/43 [==============================] - 0s 9ms/step - loss: 0.6600 - accuracy: 0.6152\n",
            "Epoch 64/100\n",
            "43/43 [==============================] - 0s 9ms/step - loss: 0.6615 - accuracy: 0.6153\n",
            "Epoch 65/100\n",
            "43/43 [==============================] - 0s 9ms/step - loss: 0.6671 - accuracy: 0.6045\n",
            "Epoch 66/100\n",
            "43/43 [==============================] - 0s 9ms/step - loss: 0.6587 - accuracy: 0.6261\n",
            "Epoch 67/100\n",
            "43/43 [==============================] - 0s 9ms/step - loss: 0.6623 - accuracy: 0.6123\n",
            "Epoch 68/100\n",
            "43/43 [==============================] - 0s 9ms/step - loss: 0.6590 - accuracy: 0.6223\n",
            "Epoch 69/100\n",
            "43/43 [==============================] - 0s 9ms/step - loss: 0.6584 - accuracy: 0.6271\n",
            "Epoch 70/100\n",
            "43/43 [==============================] - 0s 9ms/step - loss: 0.6636 - accuracy: 0.6218\n",
            "Epoch 71/100\n",
            "43/43 [==============================] - 0s 9ms/step - loss: 0.6672 - accuracy: 0.6141\n",
            "Epoch 72/100\n",
            "43/43 [==============================] - 0s 9ms/step - loss: 0.6587 - accuracy: 0.6267\n",
            "Epoch 73/100\n",
            "43/43 [==============================] - 0s 9ms/step - loss: 0.6585 - accuracy: 0.6274\n",
            "Epoch 74/100\n",
            "43/43 [==============================] - 0s 10ms/step - loss: 0.6570 - accuracy: 0.6241\n",
            "Epoch 75/100\n",
            "43/43 [==============================] - 0s 10ms/step - loss: 0.6607 - accuracy: 0.6221\n",
            "Epoch 76/100\n",
            "43/43 [==============================] - 0s 9ms/step - loss: 0.6596 - accuracy: 0.6278\n",
            "Epoch 77/100\n",
            "43/43 [==============================] - 0s 10ms/step - loss: 0.6643 - accuracy: 0.6203\n",
            "Epoch 78/100\n",
            "43/43 [==============================] - 0s 9ms/step - loss: 0.6605 - accuracy: 0.6218\n",
            "Epoch 79/100\n",
            "43/43 [==============================] - 0s 9ms/step - loss: 0.6590 - accuracy: 0.6299\n",
            "Epoch 80/100\n",
            "43/43 [==============================] - 0s 9ms/step - loss: 0.6602 - accuracy: 0.6222\n",
            "Epoch 81/100\n",
            "43/43 [==============================] - 0s 9ms/step - loss: 0.6621 - accuracy: 0.6189\n",
            "Epoch 82/100\n",
            "43/43 [==============================] - 0s 9ms/step - loss: 0.6603 - accuracy: 0.6287\n",
            "Epoch 83/100\n",
            "43/43 [==============================] - 0s 9ms/step - loss: 0.6585 - accuracy: 0.6272\n",
            "Epoch 84/100\n",
            "43/43 [==============================] - 0s 9ms/step - loss: 0.6625 - accuracy: 0.6128\n",
            "Epoch 85/100\n",
            "43/43 [==============================] - 0s 9ms/step - loss: 0.6613 - accuracy: 0.6147\n",
            "Epoch 86/100\n",
            "43/43 [==============================] - 0s 10ms/step - loss: 0.6540 - accuracy: 0.6314\n",
            "Epoch 87/100\n",
            "43/43 [==============================] - 0s 9ms/step - loss: 0.6575 - accuracy: 0.6337\n",
            "Epoch 88/100\n",
            "43/43 [==============================] - 0s 10ms/step - loss: 0.6516 - accuracy: 0.6411\n",
            "Epoch 89/100\n",
            "43/43 [==============================] - 0s 9ms/step - loss: 0.6564 - accuracy: 0.6247\n",
            "Epoch 90/100\n",
            "43/43 [==============================] - 0s 10ms/step - loss: 0.6571 - accuracy: 0.6282\n",
            "Epoch 91/100\n",
            "43/43 [==============================] - 0s 10ms/step - loss: 0.6523 - accuracy: 0.6341\n",
            "Epoch 92/100\n",
            "43/43 [==============================] - 0s 9ms/step - loss: 0.6596 - accuracy: 0.6214\n",
            "Epoch 93/100\n",
            "43/43 [==============================] - 0s 9ms/step - loss: 0.6583 - accuracy: 0.6262\n",
            "Epoch 94/100\n",
            "43/43 [==============================] - 0s 9ms/step - loss: 0.6643 - accuracy: 0.6156\n",
            "Epoch 95/100\n",
            "43/43 [==============================] - 0s 9ms/step - loss: 0.6562 - accuracy: 0.6269\n",
            "Epoch 96/100\n",
            "43/43 [==============================] - 0s 9ms/step - loss: 0.6578 - accuracy: 0.6262\n",
            "Epoch 97/100\n",
            "43/43 [==============================] - 0s 9ms/step - loss: 0.6592 - accuracy: 0.6237\n",
            "Epoch 98/100\n",
            "43/43 [==============================] - 0s 9ms/step - loss: 0.6560 - accuracy: 0.6309\n",
            "Epoch 99/100\n",
            "43/43 [==============================] - 0s 10ms/step - loss: 0.6538 - accuracy: 0.6311\n",
            "Epoch 100/100\n",
            "43/43 [==============================] - 0s 9ms/step - loss: 0.6559 - accuracy: 0.6284\n"
          ],
          "name": "stdout"
        }
      ]
    },
    {
      "cell_type": "code",
      "metadata": {
        "id": "JY6y0Wd8a2Zw",
        "outputId": "57916c32-75b5-4fae-c79c-286fc3e02c73",
        "colab": {
          "base_uri": "https://localhost:8080/"
        }
      },
      "source": [
        "loss_and_metrics = model.evaluate(X_test, y_test, batch_size = 100)"
      ],
      "execution_count": 63,
      "outputs": [
        {
          "output_type": "stream",
          "text": [
            "11/11 [==============================] - 1s 3ms/step - loss: 0.6524 - accuracy: 0.6377\n"
          ],
          "name": "stdout"
        }
      ]
    }
  ]
}