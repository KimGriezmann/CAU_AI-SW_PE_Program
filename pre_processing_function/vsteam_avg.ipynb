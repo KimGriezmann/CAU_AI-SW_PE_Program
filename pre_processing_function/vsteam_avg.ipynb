{
  "nbformat": 4,
  "nbformat_minor": 0,
  "metadata": {
    "colab": {
      "name": "vsteam_avg.ipynb",
      "provenance": [],
      "authorship_tag": "ABX9TyMrcYTlYjLCJjbi4sfnnHOs",
      "include_colab_link": true
    },
    "kernelspec": {
      "name": "python3",
      "display_name": "Python 3"
    },
    "language_info": {
      "name": "python"
    }
  },
  "cells": [
    {
      "cell_type": "markdown",
      "metadata": {
        "id": "view-in-github",
        "colab_type": "text"
      },
      "source": [
        "<a href=\"https://colab.research.google.com/github/KimGriezmann/DeepLearning_BeTheLegend/blob/master/vsteam_avg.ipynb\" target=\"_parent\"><img src=\"https://colab.research.google.com/assets/colab-badge.svg\" alt=\"Open In Colab\"/></a>"
      ]
    },
    {
      "cell_type": "code",
      "metadata": {
        "id": "6NJXMB4FYT7b"
      },
      "source": [
        "import numpy as np\n",
        "import pandas as pd\n",
        "import tqdm\n",
        "import os"
      ],
      "execution_count": 1,
      "outputs": []
    },
    {
      "cell_type": "code",
      "metadata": {
        "id": "jmFYr73PYZKk"
      },
      "source": [
        "hitter = pd.read_excel(\"/content/90명 타자 명단.xlsx\")\n",
        "vs_avg_data = pd.read_excel(\"/content/팀 상대 타율 정렬.xlsx\")"
      ],
      "execution_count": 4,
      "outputs": []
    },
    {
      "cell_type": "code",
      "metadata": {
        "id": "9AIVohg3YZMt"
      },
      "source": [
        "hitter = pd.DataFrame(hitter)\n",
        "vs_avg_data = pd.DataFrame(vs_avg_data)"
      ],
      "execution_count": 5,
      "outputs": []
    },
    {
      "cell_type": "code",
      "metadata": {
        "id": "OAX2HtnYYZO7"
      },
      "source": [
        "#상대 타율 구하는 함수\n",
        "#데이터 파일에서 vs 내림차순 후, 누적 타수 / 누적 안타 계산이 끝난 상태여야함\n",
        "def make_vs_avg(hitter_data, record_data):\n",
        "  vs_avg = np.zeros(len(record_data))\n",
        "  name = np.empty(len(record_data), dtype=np.chararray) # type : 문자열 저장을 위해 chararray\n",
        "  day = np.empty(len(record_data), dtype=np.int32) # 기준이 되는 날짜\n",
        "  vs = np.empty(len(record_data), dtype=np.chararray)\n",
        "  vs_ab = np.zeros(len(record_data))\n",
        "  vs_hit = np.zeros(len(record_data))\n",
        "  double_h = np.zeros(len(record_data))\n",
        "\n",
        "  ps = 0\n",
        "  for h in tqdm.tqdm(hitter_data['batter']): # 90명 타자 한명씩 접근\n",
        "    hdata = record_data.loc[record_data['name']==h] # 특정 타자 한명에 대해서만 데이터 추출\n",
        "    for r, d, v,ab, hit in zip(hdata['day'], hdata['double'], hdata['vs'], hdata['vs_cu_ab'], hdata['vs_cu_hit']): # 추출한 데이터에서 한 행씩 접근\n",
        "      day[ps] = r  # 현재 기준 날짜\n",
        "      name[ps] = h # 현재 타자\n",
        "      vs[ps] = v\n",
        "      vs_ab[ps] = ab\n",
        "      vs_hit[ps] = hit\n",
        "      double_h[ps] = d\n",
        "      try:\n",
        "        vs_avg[ps] = hit / ab\n",
        "      except ZeroDivisionError:\n",
        "        vs_avg[ps] = 0\n",
        "      ps+=1\n",
        "  \n",
        "  result_Dataframe = pd.DataFrame()\n",
        "  result_Dataframe['day'] = day\n",
        "  result_Dataframe['double'] = double_h\n",
        "  result_Dataframe['name'] = name\n",
        "  result_Dataframe['vs_team'] = vs\n",
        "  result_Dataframe['vs_ab'] = vs_ab\n",
        "  result_Dataframe['vs_hit'] = vs_hit\n",
        "  result_Dataframe['vs_avg'] = vs_avg\n",
        "  result_Dataframe\n",
        "\n",
        "  return result_Dataframe\n",
        "\n"
      ],
      "execution_count": 6,
      "outputs": []
    },
    {
      "cell_type": "code",
      "metadata": {
        "colab": {
          "base_uri": "https://localhost:8080/"
        },
        "id": "uGasX61LYZRT",
        "outputId": "1ca0cb44-3e96-4ce8-d73c-caff98be2815"
      },
      "source": [
        "vs_avg = make_vs_avg(hitter, vs_avg_data)"
      ],
      "execution_count": 7,
      "outputs": [
        {
          "output_type": "stream",
          "text": [
            "100%|██████████| 90/90 [00:00<00:00, 842.43it/s]\n"
          ],
          "name": "stderr"
        }
      ]
    },
    {
      "cell_type": "code",
      "metadata": {
        "colab": {
          "base_uri": "https://localhost:8080/",
          "height": 419
        },
        "id": "S5dgUNe9YZTi",
        "outputId": "eab64645-5dca-4a15-88a5-80e4054ff20d"
      },
      "source": [
        "vs_avg.loc[vs_avg['name']=='전준우']"
      ],
      "execution_count": 8,
      "outputs": [
        {
          "output_type": "execute_result",
          "data": {
            "text/html": [
              "<div>\n",
              "<style scoped>\n",
              "    .dataframe tbody tr th:only-of-type {\n",
              "        vertical-align: middle;\n",
              "    }\n",
              "\n",
              "    .dataframe tbody tr th {\n",
              "        vertical-align: top;\n",
              "    }\n",
              "\n",
              "    .dataframe thead th {\n",
              "        text-align: right;\n",
              "    }\n",
              "</style>\n",
              "<table border=\"1\" class=\"dataframe\">\n",
              "  <thead>\n",
              "    <tr style=\"text-align: right;\">\n",
              "      <th></th>\n",
              "      <th>day</th>\n",
              "      <th>double</th>\n",
              "      <th>name</th>\n",
              "      <th>vs_team</th>\n",
              "      <th>vs_ab</th>\n",
              "      <th>vs_hit</th>\n",
              "      <th>vs_avg</th>\n",
              "    </tr>\n",
              "  </thead>\n",
              "  <tbody>\n",
              "    <tr>\n",
              "      <th>0</th>\n",
              "      <td>44316</td>\n",
              "      <td>0.0</td>\n",
              "      <td>전준우</td>\n",
              "      <td>한화</td>\n",
              "      <td>0.0</td>\n",
              "      <td>0.0</td>\n",
              "      <td>0.000000</td>\n",
              "    </tr>\n",
              "    <tr>\n",
              "      <th>1</th>\n",
              "      <td>44317</td>\n",
              "      <td>0.0</td>\n",
              "      <td>전준우</td>\n",
              "      <td>한화</td>\n",
              "      <td>4.0</td>\n",
              "      <td>1.0</td>\n",
              "      <td>0.250000</td>\n",
              "    </tr>\n",
              "    <tr>\n",
              "      <th>2</th>\n",
              "      <td>44318</td>\n",
              "      <td>0.0</td>\n",
              "      <td>전준우</td>\n",
              "      <td>한화</td>\n",
              "      <td>8.0</td>\n",
              "      <td>1.0</td>\n",
              "      <td>0.125000</td>\n",
              "    </tr>\n",
              "    <tr>\n",
              "      <th>3</th>\n",
              "      <td>44334</td>\n",
              "      <td>0.0</td>\n",
              "      <td>전준우</td>\n",
              "      <td>한화</td>\n",
              "      <td>11.0</td>\n",
              "      <td>1.0</td>\n",
              "      <td>0.090909</td>\n",
              "    </tr>\n",
              "    <tr>\n",
              "      <th>4</th>\n",
              "      <td>44335</td>\n",
              "      <td>0.0</td>\n",
              "      <td>전준우</td>\n",
              "      <td>한화</td>\n",
              "      <td>16.0</td>\n",
              "      <td>3.0</td>\n",
              "      <td>0.187500</td>\n",
              "    </tr>\n",
              "    <tr>\n",
              "      <th>...</th>\n",
              "      <td>...</td>\n",
              "      <td>...</td>\n",
              "      <td>...</td>\n",
              "      <td>...</td>\n",
              "      <td>...</td>\n",
              "      <td>...</td>\n",
              "      <td>...</td>\n",
              "    </tr>\n",
              "    <tr>\n",
              "      <th>65</th>\n",
              "      <td>44301</td>\n",
              "      <td>0.0</td>\n",
              "      <td>전준우</td>\n",
              "      <td>KIA</td>\n",
              "      <td>10.0</td>\n",
              "      <td>3.0</td>\n",
              "      <td>0.300000</td>\n",
              "    </tr>\n",
              "    <tr>\n",
              "      <th>66</th>\n",
              "      <td>44321</td>\n",
              "      <td>0.0</td>\n",
              "      <td>전준우</td>\n",
              "      <td>KIA</td>\n",
              "      <td>13.0</td>\n",
              "      <td>5.0</td>\n",
              "      <td>0.384615</td>\n",
              "    </tr>\n",
              "    <tr>\n",
              "      <th>67</th>\n",
              "      <td>44322</td>\n",
              "      <td>0.0</td>\n",
              "      <td>전준우</td>\n",
              "      <td>KIA</td>\n",
              "      <td>18.0</td>\n",
              "      <td>7.0</td>\n",
              "      <td>0.388889</td>\n",
              "    </tr>\n",
              "    <tr>\n",
              "      <th>68</th>\n",
              "      <td>44360</td>\n",
              "      <td>1.0</td>\n",
              "      <td>전준우</td>\n",
              "      <td>KIA</td>\n",
              "      <td>24.0</td>\n",
              "      <td>11.0</td>\n",
              "      <td>0.458333</td>\n",
              "    </tr>\n",
              "    <tr>\n",
              "      <th>69</th>\n",
              "      <td>44360</td>\n",
              "      <td>2.0</td>\n",
              "      <td>전준우</td>\n",
              "      <td>KIA</td>\n",
              "      <td>28.0</td>\n",
              "      <td>13.0</td>\n",
              "      <td>0.464286</td>\n",
              "    </tr>\n",
              "  </tbody>\n",
              "</table>\n",
              "<p>70 rows × 7 columns</p>\n",
              "</div>"
            ],
            "text/plain": [
              "      day  double name vs_team  vs_ab  vs_hit    vs_avg\n",
              "0   44316     0.0  전준우      한화    0.0     0.0  0.000000\n",
              "1   44317     0.0  전준우      한화    4.0     1.0  0.250000\n",
              "2   44318     0.0  전준우      한화    8.0     1.0  0.125000\n",
              "3   44334     0.0  전준우      한화   11.0     1.0  0.090909\n",
              "4   44335     0.0  전준우      한화   16.0     3.0  0.187500\n",
              "..    ...     ...  ...     ...    ...     ...       ...\n",
              "65  44301     0.0  전준우     KIA   10.0     3.0  0.300000\n",
              "66  44321     0.0  전준우     KIA   13.0     5.0  0.384615\n",
              "67  44322     0.0  전준우     KIA   18.0     7.0  0.388889\n",
              "68  44360     1.0  전준우     KIA   24.0    11.0  0.458333\n",
              "69  44360     2.0  전준우     KIA   28.0    13.0  0.464286\n",
              "\n",
              "[70 rows x 7 columns]"
            ]
          },
          "metadata": {
            "tags": []
          },
          "execution_count": 8
        }
      ]
    }
  ]
}
