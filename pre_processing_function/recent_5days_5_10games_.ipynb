{
  "nbformat": 4,
  "nbformat_minor": 0,
  "metadata": {
    "colab": {
      "name": "Untitled0.ipynb",
      "provenance": [],
      "mount_file_id": "12XgzETnzRCi-de-wStfidpzOPAWe_MM7",
      "authorship_tag": "ABX9TyM2wmOJ6N9id6ZpIwOnx+CS",
      "include_colab_link": true
    },
    "kernelspec": {
      "name": "python3",
      "display_name": "Python 3"
    },
    "language_info": {
      "name": "python"
    }
  },
  "cells": [
    {
      "cell_type": "markdown",
      "metadata": {
        "id": "view-in-github",
        "colab_type": "text"
      },
      "source": [
        "<a href=\"https://colab.research.google.com/github/KimGriezmann/DeepLearning_BeTheLegend/blob/master/pre_processing_function/recent_5days_5_10games_.ipynb\" target=\"_parent\"><img src=\"https://colab.research.google.com/assets/colab-badge.svg\" alt=\"Open In Colab\"/></a>"
      ]
    },
    {
      "cell_type": "code",
      "metadata": {
        "id": "hZiBbFYWQEUP"
      },
      "source": [
        "import numpy as np\n",
        "import pandas as pd\n",
        "import tqdm"
      ],
      "execution_count": 2,
      "outputs": []
    },
    {
      "cell_type": "code",
      "metadata": {
        "id": "LAvjoubnQwoZ"
      },
      "source": [
        "data = pd.read_csv(\"/content/data_2018.csv\", encoding='euc-kr')\n",
        "hitter = pd.read_csv(\"/content/batter_data_2018.csv\", encoding='euc-kr')"
      ],
      "execution_count": 3,
      "outputs": []
    },
    {
      "cell_type": "code",
      "metadata": {
        "id": "urydav0GSZM3"
      },
      "source": [
        "data = pd.DataFrame(data)\n",
        "hitter = pd.DataFrame(hitter)"
      ],
      "execution_count": 4,
      "outputs": []
    },
    {
      "cell_type": "code",
      "metadata": {
        "colab": {
          "base_uri": "https://localhost:8080/"
        },
        "id": "Nj69EkCcQ5Y3",
        "outputId": "4437b43e-7811-418d-b257-67651092b64b"
      },
      "source": [
        "print(data.head(), \"\\n길이 : \", len(data) ,\"\\n\")\n",
        "print(hitter.head(), \"\\n길이 :\", len(hitter))"
      ],
      "execution_count": 5,
      "outputs": [
        {
          "output_type": "stream",
          "text": [
            "  name         day  vs result  bat_order  ...    ops  pitch  avLI  RE24    WPA\n",
            "0  나성범  2018-03-24  LG  W 4:2          3  ...  0.000     12  1.49 -1.27 -0.100\n",
            "1  나성범  2018-03-25  LG  W 7:1          3  ...  0.476     15  0.90  1.42  0.113\n",
            "2  나성범  2018-03-27  한화  W 9:6          3  ...  0.930     15  0.93  4.22  0.329\n",
            "3  나성범  2018-03-28  한화  L 2:6          3  ...  0.694      9  0.87 -1.09 -0.087\n",
            "4  나성범  2018-03-29  한화  W 4:1          3  ...  0.754     15  1.60 -0.19 -0.076\n",
            "\n",
            "[5 rows x 32 columns] \n",
            "길이 :  11316 \n",
            "\n",
            "  Team  name\n",
            "0   NC   나성범\n",
            "1   NC  스크럭스\n",
            "2   NC   박민우\n",
            "3   NC   노진혁\n",
            "4   NC   권희동 \n",
            "길이 : 90\n"
          ],
          "name": "stdout"
        }
      ]
    },
    {
      "cell_type": "markdown",
      "metadata": {
        "id": "v0Bd6DcYq8sj"
      },
      "source": [
        "# 날짜 값, 형식 변경"
      ]
    },
    {
      "cell_type": "code",
      "metadata": {
        "id": "M8IG4eH07Yaw"
      },
      "source": [
        "# 날짜 데이터 값, 형식 변경\n",
        "# 현재 : object 형식으로 \"2018-04-04\" 값으로 존재 (의미 : 4월 4일)\n",
        "# 변경 : int 형식으로 20180404 으로 변경 (의미 : 2018년 4월 4일)\n",
        "\n",
        "def day_to_int(data):\n",
        "  data['day'] = pd.to_numeric(data['day'].str.replace(\"-\",\"\"))\n",
        "  return data"
      ],
      "execution_count": 6,
      "outputs": []
    },
    {
      "cell_type": "code",
      "metadata": {
        "id": "wX12WeZk7b08"
      },
      "source": [
        "# 날짜 데이터 문장열 형식의 값에서 -> 정수형식의 값으로 변경\n",
        "data = day_to_int(data)"
      ],
      "execution_count": 7,
      "outputs": []
    },
    {
      "cell_type": "code",
      "metadata": {
        "colab": {
          "base_uri": "https://localhost:8080/"
        },
        "id": "1dijZgUMTClT",
        "outputId": "0affb5c2-69cf-4cc5-9c99-c40af1b355e5"
      },
      "source": [
        "data.loc[:,['day','name','ab','hit']].dtypes"
      ],
      "execution_count": 8,
      "outputs": [
        {
          "output_type": "execute_result",
          "data": {
            "text/plain": [
              "day      int64\n",
              "name    object\n",
              "ab       int64\n",
              "hit      int64\n",
              "dtype: object"
            ]
          },
          "metadata": {
            "tags": []
          },
          "execution_count": 8
        }
      ]
    },
    {
      "cell_type": "markdown",
      "metadata": {
        "id": "bIU2MfJFq2xU"
      },
      "source": [
        "# 더블헤더 칼럼 생성"
      ]
    },
    {
      "cell_type": "code",
      "metadata": {
        "id": "ERaG8UsiDUfG"
      },
      "source": [
        "# 더블헤더 처리\n",
        "temp = np.zeros(len(data))\n",
        "\n",
        "# day, name이 같은 값이 있다는 것은 더블헤더 경기가 있다는것\n",
        "# keep=False 옵션은 중복 값에 해당하는 튜플들을 모두 True로 리턴, 그 외 옵션 : 'first', 'last' 의 경우 둘 중 하나만 True\n",
        "dup = data.loc[:,['day','name']].duplicated(keep=False) \n",
        "\n",
        "for i in range(len(data)):\n",
        "  if dup[i]==False:\n",
        "    temp[i]=0\n",
        "  elif dup[i]==True:\n",
        "    temp[i]=1\n",
        "\n",
        "# 중복의 첫번째 행은 더블헤더 1차전\n",
        "# 중복인 두번째 행이 더블헤더 2차전이다.\n",
        "for i in range(1,len(temp)):\n",
        "  if temp[i]==1 and temp[i-1]==1:\n",
        "    temp[i]=2\n",
        "\n",
        "data['double']=temp"
      ],
      "execution_count": 9,
      "outputs": []
    },
    {
      "cell_type": "markdown",
      "metadata": {
        "id": "TEl1spj3q0c4"
      },
      "source": [
        "# 최근 5일 타율"
      ]
    },
    {
      "cell_type": "code",
      "metadata": {
        "id": "nD1xQjgCU-yx"
      },
      "source": [
        "#\n",
        "# 선수마다 최근 5일의 타율을 구해야함. \n",
        "# 현재 day에서 -5부터 -1까지의 sum(hit)/sum(ab) 값을 구하면 된다\n",
        "\n",
        "# hitter_data : 90명 타자 data\n",
        "# record_data : 날짜별 타자 기록\n",
        "# recent_day : 기본(최근 5일), 설정 가능\n",
        "def make_recent_days(hitter_data, record_data, day=5):\n",
        "\n",
        "  # 최근 5일(기본) 타율 저장할 공간 생성\n",
        "  recent_days_avg = np.zeros(len(record_data)) # 최근 5일(기본) 경기 타율\n",
        "  recent_days_hitter = np.empty(len(record_data), dtype=np.chararray) # type : 문자열 저장을 위해 chararray\n",
        "  recent_days_day = np.empty(len(record_data), dtype=np.int32) # 기준이 되는 날짜\n",
        "  recent_days_double = np.zeros(len(record_data), dtype=np.int8) # 더블헤더 분류 / 0 : 더블헤더 아님 / 1 : 더블헤더 1차전 / 2 : 더블헤더 2차전\n",
        "\n",
        "  ps = 0\n",
        "  for h in tqdm.tqdm(hitter_data['name']): # 90명 타자 한명씩 접근\n",
        "    hdata = record_data.loc[record_data['name']==h].reset_index() # 특정 타자 한명에 대해서만 데이터 추출\n",
        "    for i in range(len(hdata['day'])): # 추출한 데이터에서 한 행씩 접근\n",
        "      recent_days_hitter[ps] = h # 현재 타자\n",
        "      r = hdata.loc[i,'day']  # 현재 기준 날짜\n",
        "      recent_days_day[ps] = r\n",
        "      d = hdata.loc[i,'double'] # 현재 더블헤더 분류\n",
        "      recent_days_double[ps] = d      \n",
        "      if d==2: # 더블헤더 2차전이라면\n",
        "        hrdata = hdata.loc[hdata['day']>=r-day].loc[hdata['day']<=r].loc[hdata['double']!=2] # r 날짜까지 가져와서 2차전을 제외\n",
        "      else: # 더블헤더가 아니고, 더블헤더 1차전이라면\n",
        "        hrdata = hdata.loc[hdata['day']>=r-day].loc[hdata['day']<=r-1] # 접근한 행의 날짜를 기준으로 5일(기본) 경기\n",
        "         \n",
        "      if len(hrdata)==0: # 최근 5일 경기 없으면 넘어가고\n",
        "        ps+=1\n",
        "        continue\n",
        "      else : # 있으면\n",
        "        sum_ab = sum(hrdata['ab'])\n",
        "        if sum_ab==0: # 경기 기록은 존재하지만 타수(ab)가 0\n",
        "          ps+=1\n",
        "          continue\n",
        "        sum_hit = sum(hrdata['hit'])\n",
        "        recent_days_avg[ps] = sum_hit/sum_ab\n",
        "        ps+=1\n",
        "\n",
        "  result_Dataframe = pd.DataFrame()\n",
        "  result_Dataframe['day'] = recent_days_day\n",
        "  result_Dataframe['name'] = recent_days_hitter\n",
        "  result_Dataframe['recent_'+str(day)+'days_avg'] = recent_days_avg\n",
        "  result_Dataframe['double'] = recent_days_double\n",
        "\n",
        "  return result_Dataframe"
      ],
      "execution_count": 10,
      "outputs": []
    },
    {
      "cell_type": "code",
      "metadata": {
        "colab": {
          "base_uri": "https://localhost:8080/"
        },
        "id": "tf4q-BOfSOxs",
        "outputId": "5fb5ed7c-43f2-4dd7-db0e-27d86887a02c"
      },
      "source": [
        "recent_5days_data = make_recent_days(hitter, data, day=5)"
      ],
      "execution_count": 11,
      "outputs": [
        {
          "output_type": "stream",
          "text": [
            "100%|██████████| 90/90 [00:20<00:00,  4.43it/s]\n"
          ],
          "name": "stderr"
        }
      ]
    },
    {
      "cell_type": "markdown",
      "metadata": {
        "id": "vRE4ENIteGw6"
      },
      "source": [
        "# 결과 확인\n",
        "\n",
        "삼성의 강민호로 확인 진행"
      ]
    },
    {
      "cell_type": "code",
      "metadata": {
        "id": "30xPAShI8UVa",
        "colab": {
          "base_uri": "https://localhost:8080/",
          "height": 328
        },
        "outputId": "4a22952e-4f44-4d99-f0d1-f1aad686d9c0"
      },
      "source": [
        "hitter.loc[hitter['Team']=='삼성']"
      ],
      "execution_count": 12,
      "outputs": [
        {
          "output_type": "execute_result",
          "data": {
            "text/html": [
              "<div>\n",
              "<style scoped>\n",
              "    .dataframe tbody tr th:only-of-type {\n",
              "        vertical-align: middle;\n",
              "    }\n",
              "\n",
              "    .dataframe tbody tr th {\n",
              "        vertical-align: top;\n",
              "    }\n",
              "\n",
              "    .dataframe thead th {\n",
              "        text-align: right;\n",
              "    }\n",
              "</style>\n",
              "<table border=\"1\" class=\"dataframe\">\n",
              "  <thead>\n",
              "    <tr style=\"text-align: right;\">\n",
              "      <th></th>\n",
              "      <th>Team</th>\n",
              "      <th>name</th>\n",
              "    </tr>\n",
              "  </thead>\n",
              "  <tbody>\n",
              "    <tr>\n",
              "      <th>63</th>\n",
              "      <td>삼성</td>\n",
              "      <td>박해민</td>\n",
              "    </tr>\n",
              "    <tr>\n",
              "      <th>64</th>\n",
              "      <td>삼성</td>\n",
              "      <td>러프</td>\n",
              "    </tr>\n",
              "    <tr>\n",
              "      <th>65</th>\n",
              "      <td>삼성</td>\n",
              "      <td>김헌곤</td>\n",
              "    </tr>\n",
              "    <tr>\n",
              "      <th>66</th>\n",
              "      <td>삼성</td>\n",
              "      <td>이원석</td>\n",
              "    </tr>\n",
              "    <tr>\n",
              "      <th>67</th>\n",
              "      <td>삼성</td>\n",
              "      <td>구자욱</td>\n",
              "    </tr>\n",
              "    <tr>\n",
              "      <th>68</th>\n",
              "      <td>삼성</td>\n",
              "      <td>김상수</td>\n",
              "    </tr>\n",
              "    <tr>\n",
              "      <th>69</th>\n",
              "      <td>삼성</td>\n",
              "      <td>강민호</td>\n",
              "    </tr>\n",
              "    <tr>\n",
              "      <th>70</th>\n",
              "      <td>삼성</td>\n",
              "      <td>박한이</td>\n",
              "    </tr>\n",
              "    <tr>\n",
              "      <th>71</th>\n",
              "      <td>삼성</td>\n",
              "      <td>손주인</td>\n",
              "    </tr>\n",
              "  </tbody>\n",
              "</table>\n",
              "</div>"
            ],
            "text/plain": [
              "   Team name\n",
              "63   삼성  박해민\n",
              "64   삼성   러프\n",
              "65   삼성  김헌곤\n",
              "66   삼성  이원석\n",
              "67   삼성  구자욱\n",
              "68   삼성  김상수\n",
              "69   삼성  강민호\n",
              "70   삼성  박한이\n",
              "71   삼성  손주인"
            ]
          },
          "metadata": {
            "tags": []
          },
          "execution_count": 12
        }
      ]
    },
    {
      "cell_type": "code",
      "metadata": {
        "id": "gQgkTLWvp1xf",
        "colab": {
          "base_uri": "https://localhost:8080/",
          "height": 204
        },
        "outputId": "401f507d-83ba-44e2-fdee-284f671c38da"
      },
      "source": [
        "recent_5days_data.loc[recent_5days_data['name']=='강민호'].loc[8791:8795,:]"
      ],
      "execution_count": 13,
      "outputs": [
        {
          "output_type": "execute_result",
          "data": {
            "text/html": [
              "<div>\n",
              "<style scoped>\n",
              "    .dataframe tbody tr th:only-of-type {\n",
              "        vertical-align: middle;\n",
              "    }\n",
              "\n",
              "    .dataframe tbody tr th {\n",
              "        vertical-align: top;\n",
              "    }\n",
              "\n",
              "    .dataframe thead th {\n",
              "        text-align: right;\n",
              "    }\n",
              "</style>\n",
              "<table border=\"1\" class=\"dataframe\">\n",
              "  <thead>\n",
              "    <tr style=\"text-align: right;\">\n",
              "      <th></th>\n",
              "      <th>day</th>\n",
              "      <th>name</th>\n",
              "      <th>recent_5days_avg</th>\n",
              "      <th>double</th>\n",
              "    </tr>\n",
              "  </thead>\n",
              "  <tbody>\n",
              "    <tr>\n",
              "      <th>8791</th>\n",
              "      <td>20180405</td>\n",
              "      <td>강민호</td>\n",
              "      <td>0.250000</td>\n",
              "      <td>0</td>\n",
              "    </tr>\n",
              "    <tr>\n",
              "      <th>8792</th>\n",
              "      <td>20180407</td>\n",
              "      <td>강민호</td>\n",
              "      <td>0.333333</td>\n",
              "      <td>0</td>\n",
              "    </tr>\n",
              "    <tr>\n",
              "      <th>8793</th>\n",
              "      <td>20180408</td>\n",
              "      <td>강민호</td>\n",
              "      <td>0.312500</td>\n",
              "      <td>0</td>\n",
              "    </tr>\n",
              "    <tr>\n",
              "      <th>8794</th>\n",
              "      <td>20180410</td>\n",
              "      <td>강민호</td>\n",
              "      <td>0.272727</td>\n",
              "      <td>0</td>\n",
              "    </tr>\n",
              "    <tr>\n",
              "      <th>8795</th>\n",
              "      <td>20180411</td>\n",
              "      <td>강민호</td>\n",
              "      <td>0.200000</td>\n",
              "      <td>0</td>\n",
              "    </tr>\n",
              "  </tbody>\n",
              "</table>\n",
              "</div>"
            ],
            "text/plain": [
              "           day name  recent_5days_avg  double\n",
              "8791  20180405  강민호          0.250000       0\n",
              "8792  20180407  강민호          0.333333       0\n",
              "8793  20180408  강민호          0.312500       0\n",
              "8794  20180410  강민호          0.272727       0\n",
              "8795  20180411  강민호          0.200000       0"
            ]
          },
          "metadata": {
            "tags": []
          },
          "execution_count": 13
        }
      ]
    },
    {
      "cell_type": "code",
      "metadata": {
        "colab": {
          "base_uri": "https://localhost:8080/",
          "height": 405
        },
        "id": "w3Wye2dWOwpz",
        "outputId": "81cd0ebe-4584-4ab6-b4ba-eb59e929040f"
      },
      "source": [
        "data.loc[data['name']=='강민호',:].loc[8789:8795,:]"
      ],
      "execution_count": 14,
      "outputs": [
        {
          "output_type": "execute_result",
          "data": {
            "text/html": [
              "<div>\n",
              "<style scoped>\n",
              "    .dataframe tbody tr th:only-of-type {\n",
              "        vertical-align: middle;\n",
              "    }\n",
              "\n",
              "    .dataframe tbody tr th {\n",
              "        vertical-align: top;\n",
              "    }\n",
              "\n",
              "    .dataframe thead th {\n",
              "        text-align: right;\n",
              "    }\n",
              "</style>\n",
              "<table border=\"1\" class=\"dataframe\">\n",
              "  <thead>\n",
              "    <tr style=\"text-align: right;\">\n",
              "      <th></th>\n",
              "      <th>name</th>\n",
              "      <th>day</th>\n",
              "      <th>vs</th>\n",
              "      <th>result</th>\n",
              "      <th>bat_order</th>\n",
              "      <th>position</th>\n",
              "      <th>start_member</th>\n",
              "      <th>ab</th>\n",
              "      <th>score</th>\n",
              "      <th>hit</th>\n",
              "      <th>2_hit</th>\n",
              "      <th>3_hit</th>\n",
              "      <th>homerun</th>\n",
              "      <th>tb</th>\n",
              "      <th>rbi</th>\n",
              "      <th>sb</th>\n",
              "      <th>cs</th>\n",
              "      <th>bb</th>\n",
              "      <th>hpp</th>\n",
              "      <th>ibb</th>\n",
              "      <th>so</th>\n",
              "      <th>gdp</th>\n",
              "      <th>sh</th>\n",
              "      <th>sf</th>\n",
              "      <th>avg</th>\n",
              "      <th>obp</th>\n",
              "      <th>slg</th>\n",
              "      <th>ops</th>\n",
              "      <th>pitch</th>\n",
              "      <th>avLI</th>\n",
              "      <th>RE24</th>\n",
              "      <th>WPA</th>\n",
              "      <th>double</th>\n",
              "    </tr>\n",
              "  </thead>\n",
              "  <tbody>\n",
              "    <tr>\n",
              "      <th>8789</th>\n",
              "      <td>강민호</td>\n",
              "      <td>20180403</td>\n",
              "      <td>@NC</td>\n",
              "      <td>L 3:4</td>\n",
              "      <td>6</td>\n",
              "      <td>C</td>\n",
              "      <td>True</td>\n",
              "      <td>4</td>\n",
              "      <td>0</td>\n",
              "      <td>0</td>\n",
              "      <td>0</td>\n",
              "      <td>0</td>\n",
              "      <td>0</td>\n",
              "      <td>0</td>\n",
              "      <td>0</td>\n",
              "      <td>0</td>\n",
              "      <td>0</td>\n",
              "      <td>1</td>\n",
              "      <td>0</td>\n",
              "      <td>0</td>\n",
              "      <td>0</td>\n",
              "      <td>0</td>\n",
              "      <td>0</td>\n",
              "      <td>0</td>\n",
              "      <td>0.250</td>\n",
              "      <td>NaN</td>\n",
              "      <td>0.357</td>\n",
              "      <td>0.680</td>\n",
              "      <td>20</td>\n",
              "      <td>1.26</td>\n",
              "      <td>-0.95</td>\n",
              "      <td>-0.081</td>\n",
              "      <td>0.0</td>\n",
              "    </tr>\n",
              "    <tr>\n",
              "      <th>8790</th>\n",
              "      <td>강민호</td>\n",
              "      <td>20180404</td>\n",
              "      <td>@NC</td>\n",
              "      <td>L 1:4</td>\n",
              "      <td>6</td>\n",
              "      <td>C</td>\n",
              "      <td>True</td>\n",
              "      <td>4</td>\n",
              "      <td>0</td>\n",
              "      <td>2</td>\n",
              "      <td>0</td>\n",
              "      <td>0</td>\n",
              "      <td>0</td>\n",
              "      <td>2</td>\n",
              "      <td>0</td>\n",
              "      <td>0</td>\n",
              "      <td>0</td>\n",
              "      <td>0</td>\n",
              "      <td>0</td>\n",
              "      <td>0</td>\n",
              "      <td>0</td>\n",
              "      <td>0</td>\n",
              "      <td>0</td>\n",
              "      <td>0</td>\n",
              "      <td>0.281</td>\n",
              "      <td>NaN</td>\n",
              "      <td>0.375</td>\n",
              "      <td>0.718</td>\n",
              "      <td>21</td>\n",
              "      <td>0.89</td>\n",
              "      <td>0.69</td>\n",
              "      <td>0.093</td>\n",
              "      <td>0.0</td>\n",
              "    </tr>\n",
              "    <tr>\n",
              "      <th>8791</th>\n",
              "      <td>강민호</td>\n",
              "      <td>20180405</td>\n",
              "      <td>@NC</td>\n",
              "      <td>W 4:1</td>\n",
              "      <td>5</td>\n",
              "      <td>C</td>\n",
              "      <td>True</td>\n",
              "      <td>4</td>\n",
              "      <td>0</td>\n",
              "      <td>2</td>\n",
              "      <td>1</td>\n",
              "      <td>0</td>\n",
              "      <td>0</td>\n",
              "      <td>3</td>\n",
              "      <td>0</td>\n",
              "      <td>0</td>\n",
              "      <td>0</td>\n",
              "      <td>0</td>\n",
              "      <td>0</td>\n",
              "      <td>0</td>\n",
              "      <td>2</td>\n",
              "      <td>0</td>\n",
              "      <td>0</td>\n",
              "      <td>0</td>\n",
              "      <td>0.306</td>\n",
              "      <td>NaN</td>\n",
              "      <td>0.417</td>\n",
              "      <td>0.776</td>\n",
              "      <td>17</td>\n",
              "      <td>1.58</td>\n",
              "      <td>0.18</td>\n",
              "      <td>0.035</td>\n",
              "      <td>0.0</td>\n",
              "    </tr>\n",
              "    <tr>\n",
              "      <th>8792</th>\n",
              "      <td>강민호</td>\n",
              "      <td>20180407</td>\n",
              "      <td>@SK</td>\n",
              "      <td>L 3:4</td>\n",
              "      <td>5</td>\n",
              "      <td>C</td>\n",
              "      <td>True</td>\n",
              "      <td>4</td>\n",
              "      <td>0</td>\n",
              "      <td>1</td>\n",
              "      <td>0</td>\n",
              "      <td>0</td>\n",
              "      <td>0</td>\n",
              "      <td>1</td>\n",
              "      <td>2</td>\n",
              "      <td>0</td>\n",
              "      <td>0</td>\n",
              "      <td>0</td>\n",
              "      <td>0</td>\n",
              "      <td>0</td>\n",
              "      <td>0</td>\n",
              "      <td>0</td>\n",
              "      <td>0</td>\n",
              "      <td>1</td>\n",
              "      <td>0.300</td>\n",
              "      <td>NaN</td>\n",
              "      <td>0.400</td>\n",
              "      <td>0.741</td>\n",
              "      <td>14</td>\n",
              "      <td>1.85</td>\n",
              "      <td>0.15</td>\n",
              "      <td>0.043</td>\n",
              "      <td>0.0</td>\n",
              "    </tr>\n",
              "    <tr>\n",
              "      <th>8793</th>\n",
              "      <td>강민호</td>\n",
              "      <td>20180408</td>\n",
              "      <td>@SK</td>\n",
              "      <td>W 12:4</td>\n",
              "      <td>5</td>\n",
              "      <td>C</td>\n",
              "      <td>True</td>\n",
              "      <td>3</td>\n",
              "      <td>0</td>\n",
              "      <td>0</td>\n",
              "      <td>0</td>\n",
              "      <td>0</td>\n",
              "      <td>0</td>\n",
              "      <td>0</td>\n",
              "      <td>0</td>\n",
              "      <td>0</td>\n",
              "      <td>0</td>\n",
              "      <td>1</td>\n",
              "      <td>0</td>\n",
              "      <td>0</td>\n",
              "      <td>0</td>\n",
              "      <td>0</td>\n",
              "      <td>0</td>\n",
              "      <td>0</td>\n",
              "      <td>0.279</td>\n",
              "      <td>NaN</td>\n",
              "      <td>0.372</td>\n",
              "      <td>0.705</td>\n",
              "      <td>14</td>\n",
              "      <td>0.43</td>\n",
              "      <td>0.87</td>\n",
              "      <td>0.035</td>\n",
              "      <td>0.0</td>\n",
              "    </tr>\n",
              "    <tr>\n",
              "      <th>8794</th>\n",
              "      <td>강민호</td>\n",
              "      <td>20180410</td>\n",
              "      <td>두산</td>\n",
              "      <td>L 1:8</td>\n",
              "      <td>5</td>\n",
              "      <td>C</td>\n",
              "      <td>True</td>\n",
              "      <td>3</td>\n",
              "      <td>0</td>\n",
              "      <td>1</td>\n",
              "      <td>1</td>\n",
              "      <td>0</td>\n",
              "      <td>0</td>\n",
              "      <td>2</td>\n",
              "      <td>0</td>\n",
              "      <td>0</td>\n",
              "      <td>0</td>\n",
              "      <td>0</td>\n",
              "      <td>0</td>\n",
              "      <td>0</td>\n",
              "      <td>0</td>\n",
              "      <td>0</td>\n",
              "      <td>0</td>\n",
              "      <td>0</td>\n",
              "      <td>0.283</td>\n",
              "      <td>NaN</td>\n",
              "      <td>0.391</td>\n",
              "      <td>0.725</td>\n",
              "      <td>10</td>\n",
              "      <td>0.61</td>\n",
              "      <td>0.20</td>\n",
              "      <td>0.021</td>\n",
              "      <td>0.0</td>\n",
              "    </tr>\n",
              "    <tr>\n",
              "      <th>8795</th>\n",
              "      <td>강민호</td>\n",
              "      <td>20180411</td>\n",
              "      <td>두산</td>\n",
              "      <td>L 6:7</td>\n",
              "      <td>5</td>\n",
              "      <td>C</td>\n",
              "      <td>True</td>\n",
              "      <td>5</td>\n",
              "      <td>1</td>\n",
              "      <td>1</td>\n",
              "      <td>1</td>\n",
              "      <td>0</td>\n",
              "      <td>0</td>\n",
              "      <td>2</td>\n",
              "      <td>1</td>\n",
              "      <td>0</td>\n",
              "      <td>0</td>\n",
              "      <td>0</td>\n",
              "      <td>0</td>\n",
              "      <td>0</td>\n",
              "      <td>3</td>\n",
              "      <td>0</td>\n",
              "      <td>0</td>\n",
              "      <td>0</td>\n",
              "      <td>0.275</td>\n",
              "      <td>NaN</td>\n",
              "      <td>0.392</td>\n",
              "      <td>0.714</td>\n",
              "      <td>24</td>\n",
              "      <td>1.82</td>\n",
              "      <td>0.36</td>\n",
              "      <td>-0.072</td>\n",
              "      <td>0.0</td>\n",
              "    </tr>\n",
              "  </tbody>\n",
              "</table>\n",
              "</div>"
            ],
            "text/plain": [
              "     name       day   vs  result  bat_order  ... pitch  avLI  RE24    WPA  double\n",
              "8789  강민호  20180403  @NC   L 3:4          6  ...    20  1.26 -0.95 -0.081     0.0\n",
              "8790  강민호  20180404  @NC   L 1:4          6  ...    21  0.89  0.69  0.093     0.0\n",
              "8791  강민호  20180405  @NC   W 4:1          5  ...    17  1.58  0.18  0.035     0.0\n",
              "8792  강민호  20180407  @SK   L 3:4          5  ...    14  1.85  0.15  0.043     0.0\n",
              "8793  강민호  20180408  @SK  W 12:4          5  ...    14  0.43  0.87  0.035     0.0\n",
              "8794  강민호  20180410   두산   L 1:8          5  ...    10  0.61  0.20  0.021     0.0\n",
              "8795  강민호  20180411   두산   L 6:7          5  ...    24  1.82  0.36 -0.072     0.0\n",
              "\n",
              "[7 rows x 33 columns]"
            ]
          },
          "metadata": {
            "tags": []
          },
          "execution_count": 14
        }
      ]
    },
    {
      "cell_type": "code",
      "metadata": {
        "colab": {
          "base_uri": "https://localhost:8080/"
        },
        "id": "zh73miWZPpKg",
        "outputId": "5b2d5ac5-46ef-484f-cc2e-eb5106ba03a8"
      },
      "source": [
        "# 자료 확인\n",
        "# 2018년 4월 8일 기준 2018년 4월 3일부터 7일까지의 타율\n",
        "print((0+2+2+1)/(4+4+4+4))\n",
        "\n",
        "# 2018년 4월 10일 기준 2018년 4월 5일부터 9일까지의 타율\n",
        "print((2+1+0)/(4+4+3))\n",
        "\n",
        "# 2018년 4월 11일 기준 2018년 4월 6일부터 10일까지의 타율\n",
        "print((1+0+1)/(4+3+3))"
      ],
      "execution_count": 15,
      "outputs": [
        {
          "output_type": "stream",
          "text": [
            "0.3125\n",
            "0.2727272727272727\n",
            "0.2\n"
          ],
          "name": "stdout"
        }
      ]
    },
    {
      "cell_type": "markdown",
      "metadata": {
        "id": "YWpynAx1imoa"
      },
      "source": [
        "# 최근 5경기 타율"
      ]
    },
    {
      "cell_type": "code",
      "metadata": {
        "id": "G2hJeLEQbJWQ"
      },
      "source": [
        "# 최근 5경기 타율\n",
        "# 최근 5경기 타율은 2018년 4월 11일 기준이라면 4월 6일부터 4월 10일까지의 데이터를 통해 얻는다.\n",
        "# 최근 5경기 타율은 경기를 기준으로 만든다.\n",
        "# 주의) 최근 5일 경기 타율과 헷갈리지 않게 주의"
      ],
      "execution_count": 16,
      "outputs": []
    },
    {
      "cell_type": "code",
      "metadata": {
        "id": "5IYW-dYiipZr"
      },
      "source": [
        "def make_recent_games(hitter_data, record_data, game=5):\n",
        "\n",
        "  # 최근 5경기(기본) 타율 저장할 공간 생성\n",
        "  recent_games_avg = np.zeros(len(record_data)) # 최근 5경기(기본) 경기 타율\n",
        "  recent_games_hitter = np.empty(len(record_data), dtype=np.chararray) # type : 문자열 저장을 위해 chararray\n",
        "  recent_games_day = np.empty(len(record_data), dtype=np.int32) # 기준이 되는 날짜\n",
        "  \n",
        "  ps = 0\n",
        "  for h in tqdm.tqdm(hitter_data['name']): # 90명 타자 한명씩 접근\n",
        "    hdata = record_data.loc[record_data['name']==h].reset_index() # 특정 타자 한명에 대해서만 데이터 추출\n",
        "    for i in range(len(hdata)): # 추출한 데이터에서 한 행씩 접근\n",
        "      recent_games_hitter[ps] = h # 현재 타자\n",
        "      recent_games_day[ps] = hdata.loc[i,'day'] # 현재 경기\n",
        "      hrdata = hdata.loc[i-game:i-1,:] # 접근한 행의 경기를 기준으로 5경기\n",
        "         \n",
        "      if len(hrdata)==0: # 최근 5경기가 없으면 (첫 경기)\n",
        "        ps+=1\n",
        "        continue\n",
        "      else : # 있으면\n",
        "        sum_ab = sum(hrdata['ab'])\n",
        "        if sum_ab==0: # 경기 기록은 존재하지만 타수(ab)가 0\n",
        "          ps+=1\n",
        "          continue\n",
        "        sum_hit = sum(hrdata['hit'])\n",
        "        recent_games_avg[ps] = sum_hit/sum_ab\n",
        "        ps+=1\n",
        "\n",
        "  result_Dataframe = pd.DataFrame()\n",
        "  result_Dataframe['day'] = recent_games_day\n",
        "  result_Dataframe['name'] = recent_games_hitter\n",
        "  result_Dataframe['recent_'+str(game)+'games_avg'] = recent_games_avg\n",
        "\n",
        "  return result_Dataframe"
      ],
      "execution_count": 17,
      "outputs": []
    },
    {
      "cell_type": "code",
      "metadata": {
        "id": "m6A4azpFO5c2",
        "colab": {
          "base_uri": "https://localhost:8080/"
        },
        "outputId": "5452ad4d-d0d0-4879-aa2b-9d51d4ba7e99"
      },
      "source": [
        "recent_5games_data = make_recent_games(hitter, data, game=5)"
      ],
      "execution_count": 18,
      "outputs": [
        {
          "output_type": "stream",
          "text": [
            "100%|██████████| 90/90 [00:03<00:00, 28.62it/s]\n"
          ],
          "name": "stderr"
        }
      ]
    },
    {
      "cell_type": "code",
      "metadata": {
        "id": "DJH0Qr7VQk6_",
        "colab": {
          "base_uri": "https://localhost:8080/"
        },
        "outputId": "2b53a48b-d43f-4e9c-e84c-b34a52b1e194"
      },
      "source": [
        "recent_10games_data = make_recent_games(hitter, data, game=10)"
      ],
      "execution_count": 19,
      "outputs": [
        {
          "output_type": "stream",
          "text": [
            "100%|██████████| 90/90 [00:03<00:00, 29.94it/s]\n"
          ],
          "name": "stderr"
        }
      ]
    },
    {
      "cell_type": "markdown",
      "metadata": {
        "id": "ksTBZmobPKKH"
      },
      "source": [
        "# 결과 확인\n",
        "\n",
        "삼성의 강민호로 확인 진행"
      ]
    },
    {
      "cell_type": "code",
      "metadata": {
        "colab": {
          "base_uri": "https://localhost:8080/",
          "height": 328
        },
        "id": "AyrQ4ElGPKKL",
        "outputId": "ce58f833-ec73-438d-8cb3-c75b07a553bf"
      },
      "source": [
        "hitter.loc[hitter['Team']=='삼성']"
      ],
      "execution_count": 20,
      "outputs": [
        {
          "output_type": "execute_result",
          "data": {
            "text/html": [
              "<div>\n",
              "<style scoped>\n",
              "    .dataframe tbody tr th:only-of-type {\n",
              "        vertical-align: middle;\n",
              "    }\n",
              "\n",
              "    .dataframe tbody tr th {\n",
              "        vertical-align: top;\n",
              "    }\n",
              "\n",
              "    .dataframe thead th {\n",
              "        text-align: right;\n",
              "    }\n",
              "</style>\n",
              "<table border=\"1\" class=\"dataframe\">\n",
              "  <thead>\n",
              "    <tr style=\"text-align: right;\">\n",
              "      <th></th>\n",
              "      <th>Team</th>\n",
              "      <th>name</th>\n",
              "    </tr>\n",
              "  </thead>\n",
              "  <tbody>\n",
              "    <tr>\n",
              "      <th>63</th>\n",
              "      <td>삼성</td>\n",
              "      <td>박해민</td>\n",
              "    </tr>\n",
              "    <tr>\n",
              "      <th>64</th>\n",
              "      <td>삼성</td>\n",
              "      <td>러프</td>\n",
              "    </tr>\n",
              "    <tr>\n",
              "      <th>65</th>\n",
              "      <td>삼성</td>\n",
              "      <td>김헌곤</td>\n",
              "    </tr>\n",
              "    <tr>\n",
              "      <th>66</th>\n",
              "      <td>삼성</td>\n",
              "      <td>이원석</td>\n",
              "    </tr>\n",
              "    <tr>\n",
              "      <th>67</th>\n",
              "      <td>삼성</td>\n",
              "      <td>구자욱</td>\n",
              "    </tr>\n",
              "    <tr>\n",
              "      <th>68</th>\n",
              "      <td>삼성</td>\n",
              "      <td>김상수</td>\n",
              "    </tr>\n",
              "    <tr>\n",
              "      <th>69</th>\n",
              "      <td>삼성</td>\n",
              "      <td>강민호</td>\n",
              "    </tr>\n",
              "    <tr>\n",
              "      <th>70</th>\n",
              "      <td>삼성</td>\n",
              "      <td>박한이</td>\n",
              "    </tr>\n",
              "    <tr>\n",
              "      <th>71</th>\n",
              "      <td>삼성</td>\n",
              "      <td>손주인</td>\n",
              "    </tr>\n",
              "  </tbody>\n",
              "</table>\n",
              "</div>"
            ],
            "text/plain": [
              "   Team name\n",
              "63   삼성  박해민\n",
              "64   삼성   러프\n",
              "65   삼성  김헌곤\n",
              "66   삼성  이원석\n",
              "67   삼성  구자욱\n",
              "68   삼성  김상수\n",
              "69   삼성  강민호\n",
              "70   삼성  박한이\n",
              "71   삼성  손주인"
            ]
          },
          "metadata": {
            "tags": []
          },
          "execution_count": 20
        }
      ]
    },
    {
      "cell_type": "code",
      "metadata": {
        "colab": {
          "base_uri": "https://localhost:8080/",
          "height": 204
        },
        "id": "_IC7_TxjPKKL",
        "outputId": "cd7dc035-1345-46e6-e588-654d74d8cda7"
      },
      "source": [
        "recent_5games_data.loc[recent_5games_data['name']=='강민호'].loc[8791:8795,:]"
      ],
      "execution_count": 21,
      "outputs": [
        {
          "output_type": "execute_result",
          "data": {
            "text/html": [
              "<div>\n",
              "<style scoped>\n",
              "    .dataframe tbody tr th:only-of-type {\n",
              "        vertical-align: middle;\n",
              "    }\n",
              "\n",
              "    .dataframe tbody tr th {\n",
              "        vertical-align: top;\n",
              "    }\n",
              "\n",
              "    .dataframe thead th {\n",
              "        text-align: right;\n",
              "    }\n",
              "</style>\n",
              "<table border=\"1\" class=\"dataframe\">\n",
              "  <thead>\n",
              "    <tr style=\"text-align: right;\">\n",
              "      <th></th>\n",
              "      <th>day</th>\n",
              "      <th>name</th>\n",
              "      <th>recent_5games_avg</th>\n",
              "    </tr>\n",
              "  </thead>\n",
              "  <tbody>\n",
              "    <tr>\n",
              "      <th>8791</th>\n",
              "      <td>20180405</td>\n",
              "      <td>강민호</td>\n",
              "      <td>0.352941</td>\n",
              "    </tr>\n",
              "    <tr>\n",
              "      <th>8792</th>\n",
              "      <td>20180407</td>\n",
              "      <td>강민호</td>\n",
              "      <td>0.421053</td>\n",
              "    </tr>\n",
              "    <tr>\n",
              "      <th>8793</th>\n",
              "      <td>20180408</td>\n",
              "      <td>강민호</td>\n",
              "      <td>0.350000</td>\n",
              "    </tr>\n",
              "    <tr>\n",
              "      <th>8794</th>\n",
              "      <td>20180410</td>\n",
              "      <td>강민호</td>\n",
              "      <td>0.263158</td>\n",
              "    </tr>\n",
              "    <tr>\n",
              "      <th>8795</th>\n",
              "      <td>20180411</td>\n",
              "      <td>강민호</td>\n",
              "      <td>0.333333</td>\n",
              "    </tr>\n",
              "  </tbody>\n",
              "</table>\n",
              "</div>"
            ],
            "text/plain": [
              "           day name  recent_5games_avg\n",
              "8791  20180405  강민호           0.352941\n",
              "8792  20180407  강민호           0.421053\n",
              "8793  20180408  강민호           0.350000\n",
              "8794  20180410  강민호           0.263158\n",
              "8795  20180411  강민호           0.333333"
            ]
          },
          "metadata": {
            "tags": []
          },
          "execution_count": 21
        }
      ]
    },
    {
      "cell_type": "code",
      "metadata": {
        "colab": {
          "base_uri": "https://localhost:8080/",
          "height": 453
        },
        "id": "MeXX2NCpPKKM",
        "outputId": "85cb760d-965b-493b-c116-476679f4bf9d"
      },
      "source": [
        "data.loc[data['name']=='강민호',:].loc[8788:8795,:]"
      ],
      "execution_count": 22,
      "outputs": [
        {
          "output_type": "execute_result",
          "data": {
            "text/html": [
              "<div>\n",
              "<style scoped>\n",
              "    .dataframe tbody tr th:only-of-type {\n",
              "        vertical-align: middle;\n",
              "    }\n",
              "\n",
              "    .dataframe tbody tr th {\n",
              "        vertical-align: top;\n",
              "    }\n",
              "\n",
              "    .dataframe thead th {\n",
              "        text-align: right;\n",
              "    }\n",
              "</style>\n",
              "<table border=\"1\" class=\"dataframe\">\n",
              "  <thead>\n",
              "    <tr style=\"text-align: right;\">\n",
              "      <th></th>\n",
              "      <th>name</th>\n",
              "      <th>day</th>\n",
              "      <th>vs</th>\n",
              "      <th>result</th>\n",
              "      <th>bat_order</th>\n",
              "      <th>position</th>\n",
              "      <th>start_member</th>\n",
              "      <th>ab</th>\n",
              "      <th>score</th>\n",
              "      <th>hit</th>\n",
              "      <th>2_hit</th>\n",
              "      <th>3_hit</th>\n",
              "      <th>homerun</th>\n",
              "      <th>tb</th>\n",
              "      <th>rbi</th>\n",
              "      <th>sb</th>\n",
              "      <th>cs</th>\n",
              "      <th>bb</th>\n",
              "      <th>hpp</th>\n",
              "      <th>ibb</th>\n",
              "      <th>so</th>\n",
              "      <th>gdp</th>\n",
              "      <th>sh</th>\n",
              "      <th>sf</th>\n",
              "      <th>avg</th>\n",
              "      <th>obp</th>\n",
              "      <th>slg</th>\n",
              "      <th>ops</th>\n",
              "      <th>pitch</th>\n",
              "      <th>avLI</th>\n",
              "      <th>RE24</th>\n",
              "      <th>WPA</th>\n",
              "      <th>double</th>\n",
              "    </tr>\n",
              "  </thead>\n",
              "  <tbody>\n",
              "    <tr>\n",
              "      <th>8788</th>\n",
              "      <td>강민호</td>\n",
              "      <td>20180331</td>\n",
              "      <td>넥센</td>\n",
              "      <td>L 2:4</td>\n",
              "      <td>5</td>\n",
              "      <td>C</td>\n",
              "      <td>True</td>\n",
              "      <td>4</td>\n",
              "      <td>0</td>\n",
              "      <td>2</td>\n",
              "      <td>0</td>\n",
              "      <td>0</td>\n",
              "      <td>0</td>\n",
              "      <td>2</td>\n",
              "      <td>0</td>\n",
              "      <td>0</td>\n",
              "      <td>0</td>\n",
              "      <td>0</td>\n",
              "      <td>0</td>\n",
              "      <td>0</td>\n",
              "      <td>1</td>\n",
              "      <td>0</td>\n",
              "      <td>0</td>\n",
              "      <td>0</td>\n",
              "      <td>0.292</td>\n",
              "      <td>NaN</td>\n",
              "      <td>0.417</td>\n",
              "      <td>0.763</td>\n",
              "      <td>16</td>\n",
              "      <td>1.43</td>\n",
              "      <td>0.41</td>\n",
              "      <td>0.036</td>\n",
              "      <td>0.0</td>\n",
              "    </tr>\n",
              "    <tr>\n",
              "      <th>8789</th>\n",
              "      <td>강민호</td>\n",
              "      <td>20180403</td>\n",
              "      <td>@NC</td>\n",
              "      <td>L 3:4</td>\n",
              "      <td>6</td>\n",
              "      <td>C</td>\n",
              "      <td>True</td>\n",
              "      <td>4</td>\n",
              "      <td>0</td>\n",
              "      <td>0</td>\n",
              "      <td>0</td>\n",
              "      <td>0</td>\n",
              "      <td>0</td>\n",
              "      <td>0</td>\n",
              "      <td>0</td>\n",
              "      <td>0</td>\n",
              "      <td>0</td>\n",
              "      <td>1</td>\n",
              "      <td>0</td>\n",
              "      <td>0</td>\n",
              "      <td>0</td>\n",
              "      <td>0</td>\n",
              "      <td>0</td>\n",
              "      <td>0</td>\n",
              "      <td>0.250</td>\n",
              "      <td>NaN</td>\n",
              "      <td>0.357</td>\n",
              "      <td>0.680</td>\n",
              "      <td>20</td>\n",
              "      <td>1.26</td>\n",
              "      <td>-0.95</td>\n",
              "      <td>-0.081</td>\n",
              "      <td>0.0</td>\n",
              "    </tr>\n",
              "    <tr>\n",
              "      <th>8790</th>\n",
              "      <td>강민호</td>\n",
              "      <td>20180404</td>\n",
              "      <td>@NC</td>\n",
              "      <td>L 1:4</td>\n",
              "      <td>6</td>\n",
              "      <td>C</td>\n",
              "      <td>True</td>\n",
              "      <td>4</td>\n",
              "      <td>0</td>\n",
              "      <td>2</td>\n",
              "      <td>0</td>\n",
              "      <td>0</td>\n",
              "      <td>0</td>\n",
              "      <td>2</td>\n",
              "      <td>0</td>\n",
              "      <td>0</td>\n",
              "      <td>0</td>\n",
              "      <td>0</td>\n",
              "      <td>0</td>\n",
              "      <td>0</td>\n",
              "      <td>0</td>\n",
              "      <td>0</td>\n",
              "      <td>0</td>\n",
              "      <td>0</td>\n",
              "      <td>0.281</td>\n",
              "      <td>NaN</td>\n",
              "      <td>0.375</td>\n",
              "      <td>0.718</td>\n",
              "      <td>21</td>\n",
              "      <td>0.89</td>\n",
              "      <td>0.69</td>\n",
              "      <td>0.093</td>\n",
              "      <td>0.0</td>\n",
              "    </tr>\n",
              "    <tr>\n",
              "      <th>8791</th>\n",
              "      <td>강민호</td>\n",
              "      <td>20180405</td>\n",
              "      <td>@NC</td>\n",
              "      <td>W 4:1</td>\n",
              "      <td>5</td>\n",
              "      <td>C</td>\n",
              "      <td>True</td>\n",
              "      <td>4</td>\n",
              "      <td>0</td>\n",
              "      <td>2</td>\n",
              "      <td>1</td>\n",
              "      <td>0</td>\n",
              "      <td>0</td>\n",
              "      <td>3</td>\n",
              "      <td>0</td>\n",
              "      <td>0</td>\n",
              "      <td>0</td>\n",
              "      <td>0</td>\n",
              "      <td>0</td>\n",
              "      <td>0</td>\n",
              "      <td>2</td>\n",
              "      <td>0</td>\n",
              "      <td>0</td>\n",
              "      <td>0</td>\n",
              "      <td>0.306</td>\n",
              "      <td>NaN</td>\n",
              "      <td>0.417</td>\n",
              "      <td>0.776</td>\n",
              "      <td>17</td>\n",
              "      <td>1.58</td>\n",
              "      <td>0.18</td>\n",
              "      <td>0.035</td>\n",
              "      <td>0.0</td>\n",
              "    </tr>\n",
              "    <tr>\n",
              "      <th>8792</th>\n",
              "      <td>강민호</td>\n",
              "      <td>20180407</td>\n",
              "      <td>@SK</td>\n",
              "      <td>L 3:4</td>\n",
              "      <td>5</td>\n",
              "      <td>C</td>\n",
              "      <td>True</td>\n",
              "      <td>4</td>\n",
              "      <td>0</td>\n",
              "      <td>1</td>\n",
              "      <td>0</td>\n",
              "      <td>0</td>\n",
              "      <td>0</td>\n",
              "      <td>1</td>\n",
              "      <td>2</td>\n",
              "      <td>0</td>\n",
              "      <td>0</td>\n",
              "      <td>0</td>\n",
              "      <td>0</td>\n",
              "      <td>0</td>\n",
              "      <td>0</td>\n",
              "      <td>0</td>\n",
              "      <td>0</td>\n",
              "      <td>1</td>\n",
              "      <td>0.300</td>\n",
              "      <td>NaN</td>\n",
              "      <td>0.400</td>\n",
              "      <td>0.741</td>\n",
              "      <td>14</td>\n",
              "      <td>1.85</td>\n",
              "      <td>0.15</td>\n",
              "      <td>0.043</td>\n",
              "      <td>0.0</td>\n",
              "    </tr>\n",
              "    <tr>\n",
              "      <th>8793</th>\n",
              "      <td>강민호</td>\n",
              "      <td>20180408</td>\n",
              "      <td>@SK</td>\n",
              "      <td>W 12:4</td>\n",
              "      <td>5</td>\n",
              "      <td>C</td>\n",
              "      <td>True</td>\n",
              "      <td>3</td>\n",
              "      <td>0</td>\n",
              "      <td>0</td>\n",
              "      <td>0</td>\n",
              "      <td>0</td>\n",
              "      <td>0</td>\n",
              "      <td>0</td>\n",
              "      <td>0</td>\n",
              "      <td>0</td>\n",
              "      <td>0</td>\n",
              "      <td>1</td>\n",
              "      <td>0</td>\n",
              "      <td>0</td>\n",
              "      <td>0</td>\n",
              "      <td>0</td>\n",
              "      <td>0</td>\n",
              "      <td>0</td>\n",
              "      <td>0.279</td>\n",
              "      <td>NaN</td>\n",
              "      <td>0.372</td>\n",
              "      <td>0.705</td>\n",
              "      <td>14</td>\n",
              "      <td>0.43</td>\n",
              "      <td>0.87</td>\n",
              "      <td>0.035</td>\n",
              "      <td>0.0</td>\n",
              "    </tr>\n",
              "    <tr>\n",
              "      <th>8794</th>\n",
              "      <td>강민호</td>\n",
              "      <td>20180410</td>\n",
              "      <td>두산</td>\n",
              "      <td>L 1:8</td>\n",
              "      <td>5</td>\n",
              "      <td>C</td>\n",
              "      <td>True</td>\n",
              "      <td>3</td>\n",
              "      <td>0</td>\n",
              "      <td>1</td>\n",
              "      <td>1</td>\n",
              "      <td>0</td>\n",
              "      <td>0</td>\n",
              "      <td>2</td>\n",
              "      <td>0</td>\n",
              "      <td>0</td>\n",
              "      <td>0</td>\n",
              "      <td>0</td>\n",
              "      <td>0</td>\n",
              "      <td>0</td>\n",
              "      <td>0</td>\n",
              "      <td>0</td>\n",
              "      <td>0</td>\n",
              "      <td>0</td>\n",
              "      <td>0.283</td>\n",
              "      <td>NaN</td>\n",
              "      <td>0.391</td>\n",
              "      <td>0.725</td>\n",
              "      <td>10</td>\n",
              "      <td>0.61</td>\n",
              "      <td>0.20</td>\n",
              "      <td>0.021</td>\n",
              "      <td>0.0</td>\n",
              "    </tr>\n",
              "    <tr>\n",
              "      <th>8795</th>\n",
              "      <td>강민호</td>\n",
              "      <td>20180411</td>\n",
              "      <td>두산</td>\n",
              "      <td>L 6:7</td>\n",
              "      <td>5</td>\n",
              "      <td>C</td>\n",
              "      <td>True</td>\n",
              "      <td>5</td>\n",
              "      <td>1</td>\n",
              "      <td>1</td>\n",
              "      <td>1</td>\n",
              "      <td>0</td>\n",
              "      <td>0</td>\n",
              "      <td>2</td>\n",
              "      <td>1</td>\n",
              "      <td>0</td>\n",
              "      <td>0</td>\n",
              "      <td>0</td>\n",
              "      <td>0</td>\n",
              "      <td>0</td>\n",
              "      <td>3</td>\n",
              "      <td>0</td>\n",
              "      <td>0</td>\n",
              "      <td>0</td>\n",
              "      <td>0.275</td>\n",
              "      <td>NaN</td>\n",
              "      <td>0.392</td>\n",
              "      <td>0.714</td>\n",
              "      <td>24</td>\n",
              "      <td>1.82</td>\n",
              "      <td>0.36</td>\n",
              "      <td>-0.072</td>\n",
              "      <td>0.0</td>\n",
              "    </tr>\n",
              "  </tbody>\n",
              "</table>\n",
              "</div>"
            ],
            "text/plain": [
              "     name       day   vs  result  bat_order  ... pitch  avLI  RE24    WPA  double\n",
              "8788  강민호  20180331   넥센   L 2:4          5  ...    16  1.43  0.41  0.036     0.0\n",
              "8789  강민호  20180403  @NC   L 3:4          6  ...    20  1.26 -0.95 -0.081     0.0\n",
              "8790  강민호  20180404  @NC   L 1:4          6  ...    21  0.89  0.69  0.093     0.0\n",
              "8791  강민호  20180405  @NC   W 4:1          5  ...    17  1.58  0.18  0.035     0.0\n",
              "8792  강민호  20180407  @SK   L 3:4          5  ...    14  1.85  0.15  0.043     0.0\n",
              "8793  강민호  20180408  @SK  W 12:4          5  ...    14  0.43  0.87  0.035     0.0\n",
              "8794  강민호  20180410   두산   L 1:8          5  ...    10  0.61  0.20  0.021     0.0\n",
              "8795  강민호  20180411   두산   L 6:7          5  ...    24  1.82  0.36 -0.072     0.0\n",
              "\n",
              "[8 rows x 33 columns]"
            ]
          },
          "metadata": {
            "tags": []
          },
          "execution_count": 22
        }
      ]
    },
    {
      "cell_type": "code",
      "metadata": {
        "colab": {
          "base_uri": "https://localhost:8080/"
        },
        "id": "564nv6UIPKKM",
        "outputId": "697e64b0-1bb8-45e1-cecb-33c8a8311f1a"
      },
      "source": [
        "# 자료 확인\n",
        "# 2018년 4월 8일 기준 2018년 4월 3일부터 7일까지의 타율\n",
        "print((2+0+2+2+1)/(4+4+4+4+4))\n",
        "\n",
        "# 2018년 4월 10일 기준 2018년 4월 5일부터 9일까지의 타율\n",
        "print((0+2+2+1+0)/(4+4+4+4+3))\n",
        "\n",
        "# 2018년 4월 11일 기준 2018년 4월 6일부터 10일까지의 타율\n",
        "print((2+2+1+0+1)/(4+4+4+3+3))"
      ],
      "execution_count": 23,
      "outputs": [
        {
          "output_type": "stream",
          "text": [
            "0.35\n",
            "0.2631578947368421\n",
            "0.3333333333333333\n"
          ],
          "name": "stdout"
        }
      ]
    },
    {
      "cell_type": "code",
      "metadata": {
        "id": "aPIh38kAPeqI",
        "colab": {
          "base_uri": "https://localhost:8080/"
        },
        "outputId": "528a0446-f9f4-45b6-ad6c-46994a189df8"
      },
      "source": [
        "print(recent_5days_data)\n",
        "print(recent_5games_data)\n",
        "print(recent_10games_data)"
      ],
      "execution_count": 24,
      "outputs": [
        {
          "output_type": "stream",
          "text": [
            "            day name  recent_5days_avg  double\n",
            "0      20180324  나성범          0.000000       0\n",
            "1      20180325  나성범          0.000000       0\n",
            "2      20180327  나성범          0.142857       0\n",
            "3      20180328  나성범          0.272727       0\n",
            "4      20180329  나성범          0.200000       0\n",
            "...         ...  ...               ...     ...\n",
            "11311  20181006  강경학          0.250000       0\n",
            "11312  20181009  강경학          0.000000       0\n",
            "11313  20181019  강경학          0.000000       0\n",
            "11314  20181020  강경학          0.000000       0\n",
            "11315  20181023  강경학          0.000000       0\n",
            "\n",
            "[11316 rows x 4 columns]\n",
            "            day name  recent_5games_avg\n",
            "0      20180324  나성범           0.000000\n",
            "1      20180325  나성범           0.000000\n",
            "2      20180327  나성범           0.142857\n",
            "3      20180328  나성범           0.272727\n",
            "4      20180329  나성범           0.200000\n",
            "...         ...  ...                ...\n",
            "11311  20181006  강경학           0.111111\n",
            "11312  20181009  강경학           0.125000\n",
            "11313  20181019  강경학           0.222222\n",
            "11314  20181020  강경학           0.250000\n",
            "11315  20181023  강경학           0.142857\n",
            "\n",
            "[11316 rows x 3 columns]\n",
            "            day name  recent_10games_avg\n",
            "0      20180324  나성범            0.000000\n",
            "1      20180325  나성범            0.000000\n",
            "2      20180327  나성범            0.142857\n",
            "3      20180328  나성범            0.272727\n",
            "4      20180329  나성범            0.200000\n",
            "...         ...  ...                 ...\n",
            "11311  20181006  강경학            0.200000\n",
            "11312  20181009  강경학            0.222222\n",
            "11313  20181019  강경학            0.235294\n",
            "11314  20181020  강경학            0.235294\n",
            "11315  20181023  강경학            0.176471\n",
            "\n",
            "[11316 rows x 3 columns]\n"
          ],
          "name": "stdout"
        }
      ]
    },
    {
      "cell_type": "markdown",
      "metadata": {
        "id": "BBqAqvVZsUN_"
      },
      "source": [
        "# 최근 10일 안타 성공률"
      ]
    },
    {
      "cell_type": "code",
      "metadata": {
        "id": "QB0gTD_RsVvp"
      },
      "source": [
        "# 최근 날짜를 기준으로 성공률을 구할 때는 더블헤더를 신경 써주어야한다.\n",
        "\n",
        "def make_success_days(hitter_data, record_data, day=10):\n",
        "\n",
        "  # 최근 10일(기본) 안타 성공률 저장할 공간 생성\n",
        "  success_days = np.zeros(len(record_data)) # 최근 10일(기본) 안타 성공률\n",
        "  success_days_hitter = np.empty(len(record_data), dtype=object) # type : 문자열 저장을 위해 object\n",
        "  success_days_day = np.empty(len(record_data), dtype=np.int32) # 기준이 되는 날짜\n",
        "  success_days_double = np.zeros(len(record_data), dtype=np.int8) # 더블헤더 분류 / 0 : 더블헤더 아님 / 1 : 더블헤더 1차전 / 2 : 더블헤더 2차전\n",
        "\n",
        "  ps = 0\n",
        "  for h in tqdm.tqdm(hitter_data['name']): # 90명 타자 한명씩 접근\n",
        "    hdata = record_data.loc[record_data['name']==h].reset_index() # 특정 타자 한명에 대해서만 데이터 추출\n",
        "    for i in range(len(hdata['day'])): # 추출한 데이터에서 한 행씩 접근\n",
        "      success_days_hitter[ps] = h # 현재 타자\n",
        "      r = hdata.loc[i,'day']  # 현재 기준 날짜\n",
        "      success_days_day[ps] = r\n",
        "      d = hdata.loc[i,'double'] # 현재 더블헤더 분류\n",
        "      success_days_double[ps] = d\n",
        "      if d==2: # 더블헤더 2차전이라면\n",
        "        hrdata = hdata.loc[hdata['day']>=r-day].loc[hdata['day']<=r].loc[hdata['double']!=2] # r 날짜까지 가져와서 2차전을 제외\n",
        "      else: # 더블헤더가 아니고, 더블헤더 1차전이라면\n",
        "        hrdata = hdata.loc[hdata['day']>=r-day].loc[hdata['day']<=r-1] # 접근한 행의 날짜를 기준으로 10일(기본) 경기\n",
        "         \n",
        "      if len(hrdata)==0: # 최근 10일(기본) 경기 없으면 넘어가고\n",
        "        ps+=1\n",
        "        continue\n",
        "      else : # 있으면\n",
        "        total = len(hrdata)\n",
        "        fail = len(hrdata.loc[hrdata['hit']==0]) # 안타를 못친 경기가 몇경기나 되는지 저장\n",
        "        success_days[ps] = (total-fail)/total\n",
        "        ps+=1\n",
        "\n",
        "  result_Dataframe = pd.DataFrame()\n",
        "  result_Dataframe['day'] = success_days_day\n",
        "  result_Dataframe['name'] = success_days_hitter\n",
        "  result_Dataframe['success_'+str(day)+'days'] = success_days\n",
        "  result_Dataframe['double'] = success_days_double\n",
        "\n",
        "  return result_Dataframe"
      ],
      "execution_count": 31,
      "outputs": []
    },
    {
      "cell_type": "markdown",
      "metadata": {
        "id": "b2TzM7S7rAvm"
      },
      "source": [
        "# 최근 10경기 안타 성공률"
      ]
    },
    {
      "cell_type": "code",
      "metadata": {
        "id": "PhxtHCEDrFum"
      },
      "source": [
        "def make_success_games(hitter_data, record_data, game=10):\n",
        "\n",
        "  # 최근 10경기(기본) 안타 성공률 저장할 공간 생성\n",
        "  success_games = np.zeros(len(record_data)) # 최근 10경기(기본) 안타 성공률\n",
        "  success_games_hitter = np.empty(len(record_data), dtype=object) # type : 문자열 저장을 위해 object\n",
        "  success_games_day = np.empty(len(record_data), dtype=np.int32) # 기준이 되는 날짜\n",
        "  \n",
        "  ps = 0\n",
        "  for h in tqdm.tqdm(hitter_data['name']): # 90명 타자 한명씩 접근\n",
        "    hdata = record_data.loc[record_data['name']==h].reset_index() # 특정 타자 한명에 대해서만 데이터 추출\n",
        "    for i in range(len(hdata)): # 추출한 데이터에서 한 행씩 접근\n",
        "      success_games_hitter[ps] = h # 현재 타자\n",
        "      success_games_day[ps] = hdata.loc[i,'day'] # 현재 경기\n",
        "      hrdata = hdata.loc[i-game:i-1,:] # 접근한 행의 경기를 기준으로 10경기(기본)\n",
        "         \n",
        "      if len(hrdata)==0: # 최근 10경기(기본)가 없으면 (첫 경기)\n",
        "        ps+=1\n",
        "        continue\n",
        "      else : # 있으면\n",
        "        total = len(hrdata)\n",
        "        fail = len(hrdata.loc[hrdata['hit']==0]) # 안타를 못친 경기가 몇경기나 되는지 저장\n",
        "        success_games[ps] = (total-fail)/total\n",
        "        ps+=1\n",
        "\n",
        "  result_Dataframe = pd.DataFrame()\n",
        "  result_Dataframe['day'] = success_games_day\n",
        "  result_Dataframe['name'] = success_games_hitter\n",
        "  result_Dataframe['success_'+str(game)+'games'] = success_games\n",
        "\n",
        "  return result_Dataframe"
      ],
      "execution_count": 34,
      "outputs": []
    },
    {
      "cell_type": "code",
      "metadata": {
        "id": "NEBHnHY2xiur",
        "outputId": "85ca05aa-5df8-47fb-cceb-46c105010688",
        "colab": {
          "base_uri": "https://localhost:8080/"
        }
      },
      "source": [
        "success_10days_data = make_success_days(hitter, data, day=10)\n",
        "success_10games_data = make_success_games(hitter, data, game=10)"
      ],
      "execution_count": 35,
      "outputs": [
        {
          "output_type": "stream",
          "text": [
            "100%|██████████| 90/90 [00:25<00:00,  3.52it/s]\n",
            "100%|██████████| 90/90 [00:12<00:00,  7.28it/s]\n"
          ],
          "name": "stderr"
        }
      ]
    },
    {
      "cell_type": "code",
      "metadata": {
        "id": "KWswbhz2yHEn",
        "outputId": "5e0a73f5-7d04-4b91-a2e5-a8c26af243dd",
        "colab": {
          "base_uri": "https://localhost:8080/"
        }
      },
      "source": [
        "print(success_10days_data)\n",
        "print(success_10games_data)"
      ],
      "execution_count": 36,
      "outputs": [
        {
          "output_type": "stream",
          "text": [
            "            day name  success_10days  double\n",
            "0      20180324  나성범        0.000000       0\n",
            "1      20180325  나성범        0.000000       0\n",
            "2      20180327  나성범        0.500000       0\n",
            "3      20180328  나성범        0.666667       0\n",
            "4      20180329  나성범        0.500000       0\n",
            "...         ...  ...             ...     ...\n",
            "11311  20181006  강경학        0.500000       0\n",
            "11312  20181009  강경학        0.333333       0\n",
            "11313  20181019  강경학        1.000000       0\n",
            "11314  20181020  강경학        0.000000       0\n",
            "11315  20181023  강경학        0.000000       0\n",
            "\n",
            "[11316 rows x 4 columns]\n",
            "            day name  success_10games\n",
            "0      20180324  나성범         0.000000\n",
            "1      20180325  나성범         0.000000\n",
            "2      20180327  나성범         0.500000\n",
            "3      20180328  나성범         0.666667\n",
            "4      20180329  나성범         0.500000\n",
            "...         ...  ...              ...\n",
            "11311  20181006  강경학         0.400000\n",
            "11312  20181009  강경학         0.400000\n",
            "11313  20181019  강경학         0.400000\n",
            "11314  20181020  강경학         0.400000\n",
            "11315  20181023  강경학         0.300000\n",
            "\n",
            "[11316 rows x 3 columns]\n"
          ],
          "name": "stdout"
        }
      ]
    },
    {
      "cell_type": "code",
      "metadata": {
        "id": "dq3efRZoyN7L"
      },
      "source": [
        ""
      ],
      "execution_count": null,
      "outputs": []
    }
  ]
}