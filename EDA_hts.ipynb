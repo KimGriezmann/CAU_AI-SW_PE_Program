{
  "nbformat": 4,
  "nbformat_minor": 0,
  "metadata": {
    "colab": {
      "name": "EDA_hts.ipynb",
      "provenance": [],
      "authorship_tag": "ABX9TyNC/zMjBLivpqYm83okFoYw",
      "include_colab_link": true
    },
    "kernelspec": {
      "name": "python3",
      "display_name": "Python 3"
    },
    "language_info": {
      "name": "python"
    }
  },
  "cells": [
    {
      "cell_type": "markdown",
      "metadata": {
        "id": "view-in-github",
        "colab_type": "text"
      },
      "source": [
        "<a href=\"https://colab.research.google.com/github/KimGriezmann/DeepLearning_BeTheLegend/blob/master/EDA_hts.ipynb\" target=\"_parent\"><img src=\"https://colab.research.google.com/assets/colab-badge.svg\" alt=\"Open In Colab\"/></a>"
      ]
    },
    {
      "cell_type": "code",
      "metadata": {
        "id": "s_6ag9mZ8fps"
      },
      "source": [
        "import numpy as np\n",
        "import pandas as pd\n",
        "import tqdm\n",
        "import os\n",
        "import matplotlib.pyplot as plt\n",
        "import seaborn as sns"
      ],
      "execution_count": 1,
      "outputs": []
    },
    {
      "cell_type": "code",
      "metadata": {
        "colab": {
          "base_uri": "https://localhost:8080/"
        },
        "id": "ZZ-4AYpk851S",
        "outputId": "dc2f5237-0ee7-41ce-efb7-a54e6264fc94"
      },
      "source": [
        "from google.colab import drive\n",
        "drive.mount('/gdrive', force_remount=True)"
      ],
      "execution_count": 2,
      "outputs": [
        {
          "output_type": "stream",
          "text": [
            "Mounted at /gdrive\n"
          ],
          "name": "stdout"
        }
      ]
    },
    {
      "cell_type": "code",
      "metadata": {
        "colab": {
          "base_uri": "https://localhost:8080/"
        },
        "id": "26_4LNF58-R3",
        "outputId": "af627f4a-eb98-41d4-e550-a3256dd2a555"
      },
      "source": [
        "from google.colab import drive\n",
        "drive.mount('/content/drive')"
      ],
      "execution_count": 3,
      "outputs": [
        {
          "output_type": "stream",
          "text": [
            "Mounted at /content/drive\n"
          ],
          "name": "stdout"
        }
      ]
    },
    {
      "cell_type": "code",
      "metadata": {
        "id": "XLRBKb5b9Isd"
      },
      "source": [
        "hts_data_2018 = pd.read_csv('/content/drive/MyDrive/bigcontest/2021 빅콘테스트_데이터분석분야_챔피언리그_스포츠테크_HTS_2018.csv', encoding='euc-kr')\n",
        "hts_data_2019 = pd.read_csv('/content/drive/MyDrive/bigcontest/2021 빅콘테스트_데이터분석분야_챔피언리그_스포츠테크_HTS_2019.csv', encoding = 'euc-kr')\n",
        "hts_data_2020 = pd.read_csv('/content/drive/MyDrive/bigcontest/2021 빅콘테스트_데이터분석분야_챔피언리그_스포츠테크_HTS_2020.csv', encoding = 'euc-kr')\n",
        "hts_data_2021 = pd.read_csv('/content/drive/MyDrive/bigcontest/2021 빅콘테스트_데이터분석분야_챔피언리그_스포츠테크_HTS_2021.csv', encoding = 'euc-kr')"
      ],
      "execution_count": 4,
      "outputs": []
    },
    {
      "cell_type": "code",
      "metadata": {
        "colab": {
          "base_uri": "https://localhost:8080/",
          "height": 419
        },
        "id": "WKjg8QYo-J8y",
        "outputId": "0735c019-a784-42d8-84d6-9fdaa63170ff"
      },
      "source": [
        "hts_data_2021"
      ],
      "execution_count": 5,
      "outputs": [
        {
          "output_type": "execute_result",
          "data": {
            "text/html": [
              "<div>\n",
              "<style scoped>\n",
              "    .dataframe tbody tr th:only-of-type {\n",
              "        vertical-align: middle;\n",
              "    }\n",
              "\n",
              "    .dataframe tbody tr th {\n",
              "        vertical-align: top;\n",
              "    }\n",
              "\n",
              "    .dataframe thead th {\n",
              "        text-align: right;\n",
              "    }\n",
              "</style>\n",
              "<table border=\"1\" class=\"dataframe\">\n",
              "  <thead>\n",
              "    <tr style=\"text-align: right;\">\n",
              "      <th></th>\n",
              "      <th>GYEAR</th>\n",
              "      <th>G_ID</th>\n",
              "      <th>PIT_ID</th>\n",
              "      <th>PCODE</th>\n",
              "      <th>T_ID</th>\n",
              "      <th>INN</th>\n",
              "      <th>HIT_VEL</th>\n",
              "      <th>HIT_ANG_VER</th>\n",
              "      <th>HIT_RESULT</th>\n",
              "      <th>PIT_VEL</th>\n",
              "      <th>STADIUM</th>\n",
              "    </tr>\n",
              "  </thead>\n",
              "  <tbody>\n",
              "    <tr>\n",
              "      <th>0</th>\n",
              "      <td>2021</td>\n",
              "      <td>20210403SSWO0</td>\n",
              "      <td>210403_140101</td>\n",
              "      <td>62415</td>\n",
              "      <td>SS</td>\n",
              "      <td>1</td>\n",
              "      <td>131.70</td>\n",
              "      <td>-5.8</td>\n",
              "      <td>땅볼아웃</td>\n",
              "      <td>144.35</td>\n",
              "      <td>고척</td>\n",
              "    </tr>\n",
              "    <tr>\n",
              "      <th>1</th>\n",
              "      <td>2021</td>\n",
              "      <td>20210403SSWO0</td>\n",
              "      <td>210403_140857</td>\n",
              "      <td>74163</td>\n",
              "      <td>WO</td>\n",
              "      <td>1</td>\n",
              "      <td>116.87</td>\n",
              "      <td>18.4</td>\n",
              "      <td>1루타</td>\n",
              "      <td>132.34</td>\n",
              "      <td>고척</td>\n",
              "    </tr>\n",
              "    <tr>\n",
              "      <th>2</th>\n",
              "      <td>2021</td>\n",
              "      <td>20210403SSWO0</td>\n",
              "      <td>210403_141459</td>\n",
              "      <td>75125</td>\n",
              "      <td>WO</td>\n",
              "      <td>1</td>\n",
              "      <td>160.00</td>\n",
              "      <td>16.8</td>\n",
              "      <td>2루타</td>\n",
              "      <td>120.78</td>\n",
              "      <td>고척</td>\n",
              "    </tr>\n",
              "    <tr>\n",
              "      <th>3</th>\n",
              "      <td>2021</td>\n",
              "      <td>20210403SSWO0</td>\n",
              "      <td>210403_142105</td>\n",
              "      <td>51463</td>\n",
              "      <td>SS</td>\n",
              "      <td>2</td>\n",
              "      <td>160.37</td>\n",
              "      <td>35.2</td>\n",
              "      <td>플라이</td>\n",
              "      <td>142.66</td>\n",
              "      <td>고척</td>\n",
              "    </tr>\n",
              "    <tr>\n",
              "      <th>4</th>\n",
              "      <td>2021</td>\n",
              "      <td>20210403SSWO0</td>\n",
              "      <td>210403_142217</td>\n",
              "      <td>75566</td>\n",
              "      <td>SS</td>\n",
              "      <td>2</td>\n",
              "      <td>140.08</td>\n",
              "      <td>33.6</td>\n",
              "      <td>플라이</td>\n",
              "      <td>142.97</td>\n",
              "      <td>고척</td>\n",
              "    </tr>\n",
              "    <tr>\n",
              "      <th>...</th>\n",
              "      <td>...</td>\n",
              "      <td>...</td>\n",
              "      <td>...</td>\n",
              "      <td>...</td>\n",
              "      <td>...</td>\n",
              "      <td>...</td>\n",
              "      <td>...</td>\n",
              "      <td>...</td>\n",
              "      <td>...</td>\n",
              "      <td>...</td>\n",
              "      <td>...</td>\n",
              "    </tr>\n",
              "    <tr>\n",
              "      <th>17959</th>\n",
              "      <td>2021</td>\n",
              "      <td>20210711LTSS0</td>\n",
              "      <td>210711_195321</td>\n",
              "      <td>50458</td>\n",
              "      <td>SS</td>\n",
              "      <td>8</td>\n",
              "      <td>141.23</td>\n",
              "      <td>-4.9</td>\n",
              "      <td>땅볼아웃</td>\n",
              "      <td>137.76</td>\n",
              "      <td>대구</td>\n",
              "    </tr>\n",
              "    <tr>\n",
              "      <th>17960</th>\n",
              "      <td>2021</td>\n",
              "      <td>20210711LTSS0</td>\n",
              "      <td>210711_195424</td>\n",
              "      <td>62415</td>\n",
              "      <td>SS</td>\n",
              "      <td>8</td>\n",
              "      <td>101.09</td>\n",
              "      <td>31.8</td>\n",
              "      <td>1루타</td>\n",
              "      <td>138.51</td>\n",
              "      <td>대구</td>\n",
              "    </tr>\n",
              "    <tr>\n",
              "      <th>17961</th>\n",
              "      <td>2021</td>\n",
              "      <td>20210711LTSS0</td>\n",
              "      <td>210711_195627</td>\n",
              "      <td>75566</td>\n",
              "      <td>SS</td>\n",
              "      <td>8</td>\n",
              "      <td>146.84</td>\n",
              "      <td>33.4</td>\n",
              "      <td>홈런</td>\n",
              "      <td>134.10</td>\n",
              "      <td>대구</td>\n",
              "    </tr>\n",
              "    <tr>\n",
              "      <th>17962</th>\n",
              "      <td>2021</td>\n",
              "      <td>20210711LTSS0</td>\n",
              "      <td>210711_200047</td>\n",
              "      <td>69418</td>\n",
              "      <td>SS</td>\n",
              "      <td>8</td>\n",
              "      <td>146.12</td>\n",
              "      <td>23.9</td>\n",
              "      <td>홈런</td>\n",
              "      <td>139.96</td>\n",
              "      <td>대구</td>\n",
              "    </tr>\n",
              "    <tr>\n",
              "      <th>17963</th>\n",
              "      <td>2021</td>\n",
              "      <td>20210711LTSS0</td>\n",
              "      <td>210711_200245</td>\n",
              "      <td>64793</td>\n",
              "      <td>SS</td>\n",
              "      <td>8</td>\n",
              "      <td>140.45</td>\n",
              "      <td>28.2</td>\n",
              "      <td>플라이</td>\n",
              "      <td>137.36</td>\n",
              "      <td>대구</td>\n",
              "    </tr>\n",
              "  </tbody>\n",
              "</table>\n",
              "<p>17964 rows × 11 columns</p>\n",
              "</div>"
            ],
            "text/plain": [
              "       GYEAR           G_ID         PIT_ID  ...  HIT_RESULT PIT_VEL  STADIUM\n",
              "0       2021  20210403SSWO0  210403_140101  ...        땅볼아웃  144.35       고척\n",
              "1       2021  20210403SSWO0  210403_140857  ...         1루타  132.34       고척\n",
              "2       2021  20210403SSWO0  210403_141459  ...         2루타  120.78       고척\n",
              "3       2021  20210403SSWO0  210403_142105  ...         플라이  142.66       고척\n",
              "4       2021  20210403SSWO0  210403_142217  ...         플라이  142.97       고척\n",
              "...      ...            ...            ...  ...         ...     ...      ...\n",
              "17959   2021  20210711LTSS0  210711_195321  ...        땅볼아웃  137.76       대구\n",
              "17960   2021  20210711LTSS0  210711_195424  ...         1루타  138.51       대구\n",
              "17961   2021  20210711LTSS0  210711_195627  ...          홈런  134.10       대구\n",
              "17962   2021  20210711LTSS0  210711_200047  ...          홈런  139.96       대구\n",
              "17963   2021  20210711LTSS0  210711_200245  ...         플라이  137.36       대구\n",
              "\n",
              "[17964 rows x 11 columns]"
            ]
          },
          "metadata": {
            "tags": []
          },
          "execution_count": 5
        }
      ]
    },
    {
      "cell_type": "code",
      "metadata": {
        "colab": {
          "base_uri": "https://localhost:8080/",
          "height": 297
        },
        "id": "Wu63bdHo-pgT",
        "outputId": "00801257-2c24-4f62-cc46-3fc9845ee5a0"
      },
      "source": [
        "hts_data_2021.describe()"
      ],
      "execution_count": 7,
      "outputs": [
        {
          "output_type": "execute_result",
          "data": {
            "text/html": [
              "<div>\n",
              "<style scoped>\n",
              "    .dataframe tbody tr th:only-of-type {\n",
              "        vertical-align: middle;\n",
              "    }\n",
              "\n",
              "    .dataframe tbody tr th {\n",
              "        vertical-align: top;\n",
              "    }\n",
              "\n",
              "    .dataframe thead th {\n",
              "        text-align: right;\n",
              "    }\n",
              "</style>\n",
              "<table border=\"1\" class=\"dataframe\">\n",
              "  <thead>\n",
              "    <tr style=\"text-align: right;\">\n",
              "      <th></th>\n",
              "      <th>GYEAR</th>\n",
              "      <th>PCODE</th>\n",
              "      <th>INN</th>\n",
              "      <th>HIT_VEL</th>\n",
              "      <th>HIT_ANG_VER</th>\n",
              "      <th>PIT_VEL</th>\n",
              "    </tr>\n",
              "  </thead>\n",
              "  <tbody>\n",
              "    <tr>\n",
              "      <th>count</th>\n",
              "      <td>17964.0</td>\n",
              "      <td>17964.000000</td>\n",
              "      <td>17964.000000</td>\n",
              "      <td>17964.000000</td>\n",
              "      <td>17964.000000</td>\n",
              "      <td>17964.000000</td>\n",
              "    </tr>\n",
              "    <tr>\n",
              "      <th>mean</th>\n",
              "      <td>2021.0</td>\n",
              "      <td>67633.956468</td>\n",
              "      <td>4.975006</td>\n",
              "      <td>134.391496</td>\n",
              "      <td>17.573859</td>\n",
              "      <td>135.868189</td>\n",
              "    </tr>\n",
              "    <tr>\n",
              "      <th>std</th>\n",
              "      <td>0.0</td>\n",
              "      <td>8406.789409</td>\n",
              "      <td>2.573506</td>\n",
              "      <td>19.476600</td>\n",
              "      <td>23.833166</td>\n",
              "      <td>9.126255</td>\n",
              "    </tr>\n",
              "    <tr>\n",
              "      <th>min</th>\n",
              "      <td>2021.0</td>\n",
              "      <td>50054.000000</td>\n",
              "      <td>1.000000</td>\n",
              "      <td>27.460000</td>\n",
              "      <td>-56.500000</td>\n",
              "      <td>97.220000</td>\n",
              "    </tr>\n",
              "    <tr>\n",
              "      <th>25%</th>\n",
              "      <td>2021.0</td>\n",
              "      <td>62925.000000</td>\n",
              "      <td>3.000000</td>\n",
              "      <td>122.940000</td>\n",
              "      <td>-1.400000</td>\n",
              "      <td>129.420000</td>\n",
              "    </tr>\n",
              "    <tr>\n",
              "      <th>50%</th>\n",
              "      <td>2021.0</td>\n",
              "      <td>66965.000000</td>\n",
              "      <td>5.000000</td>\n",
              "      <td>137.835000</td>\n",
              "      <td>14.400000</td>\n",
              "      <td>137.600000</td>\n",
              "    </tr>\n",
              "    <tr>\n",
              "      <th>75%</th>\n",
              "      <td>2021.0</td>\n",
              "      <td>75847.000000</td>\n",
              "      <td>7.000000</td>\n",
              "      <td>149.030000</td>\n",
              "      <td>32.100000</td>\n",
              "      <td>142.980000</td>\n",
              "    </tr>\n",
              "    <tr>\n",
              "      <th>max</th>\n",
              "      <td>2021.0</td>\n",
              "      <td>79608.000000</td>\n",
              "      <td>12.000000</td>\n",
              "      <td>176.820000</td>\n",
              "      <td>89.500000</td>\n",
              "      <td>155.840000</td>\n",
              "    </tr>\n",
              "  </tbody>\n",
              "</table>\n",
              "</div>"
            ],
            "text/plain": [
              "         GYEAR         PCODE  ...   HIT_ANG_VER       PIT_VEL\n",
              "count  17964.0  17964.000000  ...  17964.000000  17964.000000\n",
              "mean    2021.0  67633.956468  ...     17.573859    135.868189\n",
              "std        0.0   8406.789409  ...     23.833166      9.126255\n",
              "min     2021.0  50054.000000  ...    -56.500000     97.220000\n",
              "25%     2021.0  62925.000000  ...     -1.400000    129.420000\n",
              "50%     2021.0  66965.000000  ...     14.400000    137.600000\n",
              "75%     2021.0  75847.000000  ...     32.100000    142.980000\n",
              "max     2021.0  79608.000000  ...     89.500000    155.840000\n",
              "\n",
              "[8 rows x 6 columns]"
            ]
          },
          "metadata": {
            "tags": []
          },
          "execution_count": 7
        }
      ]
    },
    {
      "cell_type": "code",
      "metadata": {
        "colab": {
          "base_uri": "https://localhost:8080/"
        },
        "id": "-gYl75H7-ZQ4",
        "outputId": "95205169-847e-49c3-8fc3-b0b7e698b35b"
      },
      "source": [
        "hts_data_2021.info()"
      ],
      "execution_count": 8,
      "outputs": [
        {
          "output_type": "stream",
          "text": [
            "<class 'pandas.core.frame.DataFrame'>\n",
            "RangeIndex: 17964 entries, 0 to 17963\n",
            "Data columns (total 11 columns):\n",
            " #   Column       Non-Null Count  Dtype  \n",
            "---  ------       --------------  -----  \n",
            " 0   GYEAR        17964 non-null  int64  \n",
            " 1   G_ID         17964 non-null  object \n",
            " 2   PIT_ID       17964 non-null  object \n",
            " 3   PCODE        17964 non-null  int64  \n",
            " 4   T_ID         17964 non-null  object \n",
            " 5   INN          17964 non-null  int64  \n",
            " 6   HIT_VEL      17964 non-null  float64\n",
            " 7   HIT_ANG_VER  17964 non-null  float64\n",
            " 8   HIT_RESULT   17964 non-null  object \n",
            " 9   PIT_VEL      17964 non-null  float64\n",
            " 10  STADIUM      17964 non-null  object \n",
            "dtypes: float64(3), int64(3), object(5)\n",
            "memory usage: 1.5+ MB\n"
          ],
          "name": "stdout"
        }
      ]
    },
    {
      "cell_type": "code",
      "metadata": {
        "colab": {
          "base_uri": "https://localhost:8080/",
          "height": 722
        },
        "id": "nSs08Z4i-04E",
        "outputId": "ce71392d-f4b3-4740-f1c4-8f8fa3fd1474"
      },
      "source": [
        "%matplotlib inline\n",
        "plt.figure(figsize = (12, 12))\n",
        "sns.heatmap(data = hts_data_2021.corr(), annot = True, fmt = '.2f', linewidths = .5, cmap = 'YlGnBu')\n",
        "plt.title('Correlation bw variables', fontsize = 20)\n",
        "plt.show()"
      ],
      "execution_count": 12,
      "outputs": [
        {
          "output_type": "display_data",
          "data": {
            "image/png": "[encoded data removed]",
            "text/plain": [
              "<Figure size 864x864 with 2 Axes>"
            ]
          },
          "metadata": {
            "tags": [],
            "needs_background": "light"
          }
        }
      ]
    },
    {
      "cell_type": "code",
      "metadata": {
        "id": "n1mDUnD6_if_"
      },
      "source": [
        "result_stadium = hts_data_2021.loc[:, ['HIT_RESULT', 'STADIUM']]"
      ],
      "execution_count": 19,
      "outputs": []
    },
    {
      "cell_type": "code",
      "metadata": {
        "id": "jK4IG3HgFDVK"
      },
      "source": [
        "HR_stadium = result_stadium.loc[result_stadium['HIT_RESULT']== '홈런']"
      ],
      "execution_count": 20,
      "outputs": []
    },
    {
      "cell_type": "code",
      "metadata": {
        "colab": {
          "base_uri": "https://localhost:8080/",
          "height": 419
        },
        "id": "BFifOi5eFp1n",
        "outputId": "0b283380-eeda-431b-eca4-f86b1a4571d9"
      },
      "source": [
        "HR_stadium"
      ],
      "execution_count": 21,
      "outputs": [
        {
          "output_type": "execute_result",
          "data": {
            "text/html": [
              "<div>\n",
              "<style scoped>\n",
              "    .dataframe tbody tr th:only-of-type {\n",
              "        vertical-align: middle;\n",
              "    }\n",
              "\n",
              "    .dataframe tbody tr th {\n",
              "        vertical-align: top;\n",
              "    }\n",
              "\n",
              "    .dataframe thead th {\n",
              "        text-align: right;\n",
              "    }\n",
              "</style>\n",
              "<table border=\"1\" class=\"dataframe\">\n",
              "  <thead>\n",
              "    <tr style=\"text-align: right;\">\n",
              "      <th></th>\n",
              "      <th>HIT_RESULT</th>\n",
              "      <th>STADIUM</th>\n",
              "    </tr>\n",
              "  </thead>\n",
              "  <tbody>\n",
              "    <tr>\n",
              "      <th>55</th>\n",
              "      <td>홈런</td>\n",
              "      <td>수원</td>\n",
              "    </tr>\n",
              "    <tr>\n",
              "      <th>114</th>\n",
              "      <td>홈런</td>\n",
              "      <td>잠실</td>\n",
              "    </tr>\n",
              "    <tr>\n",
              "      <th>122</th>\n",
              "      <td>홈런</td>\n",
              "      <td>창원</td>\n",
              "    </tr>\n",
              "    <tr>\n",
              "      <th>162</th>\n",
              "      <td>홈런</td>\n",
              "      <td>문학</td>\n",
              "    </tr>\n",
              "    <tr>\n",
              "      <th>176</th>\n",
              "      <td>홈런</td>\n",
              "      <td>문학</td>\n",
              "    </tr>\n",
              "    <tr>\n",
              "      <th>...</th>\n",
              "      <td>...</td>\n",
              "      <td>...</td>\n",
              "    </tr>\n",
              "    <tr>\n",
              "      <th>17863</th>\n",
              "      <td>홈런</td>\n",
              "      <td>문학</td>\n",
              "    </tr>\n",
              "    <tr>\n",
              "      <th>17904</th>\n",
              "      <td>홈런</td>\n",
              "      <td>광주</td>\n",
              "    </tr>\n",
              "    <tr>\n",
              "      <th>17956</th>\n",
              "      <td>홈런</td>\n",
              "      <td>대구</td>\n",
              "    </tr>\n",
              "    <tr>\n",
              "      <th>17961</th>\n",
              "      <td>홈런</td>\n",
              "      <td>대구</td>\n",
              "    </tr>\n",
              "    <tr>\n",
              "      <th>17962</th>\n",
              "      <td>홈런</td>\n",
              "      <td>대구</td>\n",
              "    </tr>\n",
              "  </tbody>\n",
              "</table>\n",
              "<p>681 rows × 2 columns</p>\n",
              "</div>"
            ],
            "text/plain": [
              "      HIT_RESULT STADIUM\n",
              "55            홈런      수원\n",
              "114           홈런      잠실\n",
              "122           홈런      창원\n",
              "162           홈런      문학\n",
              "176           홈런      문학\n",
              "...          ...     ...\n",
              "17863         홈런      문학\n",
              "17904         홈런      광주\n",
              "17956         홈런      대구\n",
              "17961         홈런      대구\n",
              "17962         홈런      대구\n",
              "\n",
              "[681 rows x 2 columns]"
            ]
          },
          "metadata": {
            "tags": []
          },
          "execution_count": 21
        }
      ]
    },
    {
      "cell_type": "code",
      "metadata": {
        "colab": {
          "base_uri": "https://localhost:8080/",
          "height": 1000
        },
        "id": "kqkFqabT-MAv",
        "outputId": "b773f40e-7141-4cf5-ef0b-5672f3eec9da"
      },
      "source": [
        "sns.countplot(HR_stadium['STADIUM'])\n",
        "plt.show()"
      ],
      "execution_count": 22,
      "outputs": [
        {
          "output_type": "stream",
          "text": [
            "/usr/local/lib/python3.7/dist-packages/seaborn/_decorators.py:43: FutureWarning: Pass the following variable as a keyword arg: x. From version 0.12, the only valid positional argument will be `data`, and passing other arguments without an explicit keyword will result in an error or misinterpretation.\n",
            "  FutureWarning\n",
            "/usr/local/lib/python3.7/dist-packages/matplotlib/backends/backend_agg.py:214: RuntimeWarning: Glyph 49688 missing from current font.\n",
            "  font.set_text(s, 0.0, flags=flags)\n",
            "/usr/local/lib/python3.7/dist-packages/matplotlib/backends/backend_agg.py:214: RuntimeWarning: Glyph 50896 missing from current font.\n",
            "  font.set_text(s, 0.0, flags=flags)\n",
            "/usr/local/lib/python3.7/dist-packages/matplotlib/backends/backend_agg.py:214: RuntimeWarning: Glyph 51104 missing from current font.\n",
            "  font.set_text(s, 0.0, flags=flags)\n",
            "/usr/local/lib/python3.7/dist-packages/matplotlib/backends/backend_agg.py:214: RuntimeWarning: Glyph 49892 missing from current font.\n",
            "  font.set_text(s, 0.0, flags=flags)\n",
            "/usr/local/lib/python3.7/dist-packages/matplotlib/backends/backend_agg.py:214: RuntimeWarning: Glyph 52285 missing from current font.\n",
            "  font.set_text(s, 0.0, flags=flags)\n",
            "/usr/local/lib/python3.7/dist-packages/matplotlib/backends/backend_agg.py:214: RuntimeWarning: Glyph 47928 missing from current font.\n",
            "  font.set_text(s, 0.0, flags=flags)\n",
            "/usr/local/lib/python3.7/dist-packages/matplotlib/backends/backend_agg.py:214: RuntimeWarning: Glyph 54617 missing from current font.\n",
            "  font.set_text(s, 0.0, flags=flags)\n",
            "/usr/local/lib/python3.7/dist-packages/matplotlib/backends/backend_agg.py:214: RuntimeWarning: Glyph 44256 missing from current font.\n",
            "  font.set_text(s, 0.0, flags=flags)\n",
            "/usr/local/lib/python3.7/dist-packages/matplotlib/backends/backend_agg.py:214: RuntimeWarning: Glyph 52377 missing from current font.\n",
            "  font.set_text(s, 0.0, flags=flags)\n",
            "/usr/local/lib/python3.7/dist-packages/matplotlib/backends/backend_agg.py:214: RuntimeWarning: Glyph 44305 missing from current font.\n",
            "  font.set_text(s, 0.0, flags=flags)\n",
            "/usr/local/lib/python3.7/dist-packages/matplotlib/backends/backend_agg.py:214: RuntimeWarning: Glyph 51452 missing from current font.\n",
            "  font.set_text(s, 0.0, flags=flags)\n",
            "/usr/local/lib/python3.7/dist-packages/matplotlib/backends/backend_agg.py:214: RuntimeWarning: Glyph 45824 missing from current font.\n",
            "  font.set_text(s, 0.0, flags=flags)\n",
            "/usr/local/lib/python3.7/dist-packages/matplotlib/backends/backend_agg.py:214: RuntimeWarning: Glyph 51204 missing from current font.\n",
            "  font.set_text(s, 0.0, flags=flags)\n",
            "/usr/local/lib/python3.7/dist-packages/matplotlib/backends/backend_agg.py:214: RuntimeWarning: Glyph 44396 missing from current font.\n",
            "  font.set_text(s, 0.0, flags=flags)\n",
            "/usr/local/lib/python3.7/dist-packages/matplotlib/backends/backend_agg.py:214: RuntimeWarning: Glyph 49324 missing from current font.\n",
            "  font.set_text(s, 0.0, flags=flags)\n",
            "/usr/local/lib/python3.7/dist-packages/matplotlib/backends/backend_agg.py:214: RuntimeWarning: Glyph 51649 missing from current font.\n",
            "  font.set_text(s, 0.0, flags=flags)\n",
            "/usr/local/lib/python3.7/dist-packages/matplotlib/backends/backend_agg.py:183: RuntimeWarning: Glyph 49688 missing from current font.\n",
            "  font.set_text(s, 0, flags=flags)\n",
            "/usr/local/lib/python3.7/dist-packages/matplotlib/backends/backend_agg.py:183: RuntimeWarning: Glyph 50896 missing from current font.\n",
            "  font.set_text(s, 0, flags=flags)\n",
            "/usr/local/lib/python3.7/dist-packages/matplotlib/backends/backend_agg.py:183: RuntimeWarning: Glyph 51104 missing from current font.\n",
            "  font.set_text(s, 0, flags=flags)\n",
            "/usr/local/lib/python3.7/dist-packages/matplotlib/backends/backend_agg.py:183: RuntimeWarning: Glyph 49892 missing from current font.\n",
            "  font.set_text(s, 0, flags=flags)\n",
            "/usr/local/lib/python3.7/dist-packages/matplotlib/backends/backend_agg.py:183: RuntimeWarning: Glyph 52285 missing from current font.\n",
            "  font.set_text(s, 0, flags=flags)\n",
            "/usr/local/lib/python3.7/dist-packages/matplotlib/backends/backend_agg.py:183: RuntimeWarning: Glyph 47928 missing from current font.\n",
            "  font.set_text(s, 0, flags=flags)\n",
            "/usr/local/lib/python3.7/dist-packages/matplotlib/backends/backend_agg.py:183: RuntimeWarning: Glyph 54617 missing from current font.\n",
            "  font.set_text(s, 0, flags=flags)\n",
            "/usr/local/lib/python3.7/dist-packages/matplotlib/backends/backend_agg.py:183: RuntimeWarning: Glyph 44256 missing from current font.\n",
            "  font.set_text(s, 0, flags=flags)\n",
            "/usr/local/lib/python3.7/dist-packages/matplotlib/backends/backend_agg.py:183: RuntimeWarning: Glyph 52377 missing from current font.\n",
            "  font.set_text(s, 0, flags=flags)\n",
            "/usr/local/lib/python3.7/dist-packages/matplotlib/backends/backend_agg.py:183: RuntimeWarning: Glyph 44305 missing from current font.\n",
            "  font.set_text(s, 0, flags=flags)\n",
            "/usr/local/lib/python3.7/dist-packages/matplotlib/backends/backend_agg.py:183: RuntimeWarning: Glyph 51452 missing from current font.\n",
            "  font.set_text(s, 0, flags=flags)\n",
            "/usr/local/lib/python3.7/dist-packages/matplotlib/backends/backend_agg.py:183: RuntimeWarning: Glyph 45824 missing from current font.\n",
            "  font.set_text(s, 0, flags=flags)\n",
            "/usr/local/lib/python3.7/dist-packages/matplotlib/backends/backend_agg.py:183: RuntimeWarning: Glyph 51204 missing from current font.\n",
            "  font.set_text(s, 0, flags=flags)\n",
            "/usr/local/lib/python3.7/dist-packages/matplotlib/backends/backend_agg.py:183: RuntimeWarning: Glyph 44396 missing from current font.\n",
            "  font.set_text(s, 0, flags=flags)\n",
            "/usr/local/lib/python3.7/dist-packages/matplotlib/backends/backend_agg.py:183: RuntimeWarning: Glyph 49324 missing from current font.\n",
            "  font.set_text(s, 0, flags=flags)\n",
            "/usr/local/lib/python3.7/dist-packages/matplotlib/backends/backend_agg.py:183: RuntimeWarning: Glyph 51649 missing from current font.\n",
            "  font.set_text(s, 0, flags=flags)\n"
          ],
          "name": "stderr"
        },
        {
          "output_type": "display_data",
          "data": {
            "image/png": "[encoded data removed]",
            "text/plain": [
              "<Figure size 432x288 with 1 Axes>"
            ]
          },
          "metadata": {
            "tags": [],
            "needs_background": "light"
          }
        }
      ]
    },
    {
      "cell_type": "code",
      "metadata": {
        "id": "A_Ma_p0KFmRU"
      },
      "source": [
        ""
      ],
      "execution_count": null,
      "outputs": []
    }
  ]
}