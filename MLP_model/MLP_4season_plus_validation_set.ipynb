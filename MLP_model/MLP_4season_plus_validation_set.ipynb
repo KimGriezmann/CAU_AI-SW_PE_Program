{
  "nbformat": 4,
  "nbformat_minor": 0,
  "metadata": {
    "colab": {
      "name": "Web_Crawling__Selenium.ipynb",
      "provenance": [],
      "include_colab_link": true
    },
    "kernelspec": {
      "name": "python3",
      "display_name": "Python 3"
    },
    "language_info": {
      "name": "python"
    }
  },
  "cells": [
    {
      "cell_type": "markdown",
      "metadata": {
        "id": "view-in-github",
        "colab_type": "text"
      },
      "source": [
        "<a href=\"https://colab.research.google.com/github/KimGriezmann/DeepLearning_BeTheLegend/blob/master/MLP_model/MLP_4season_plus_validation_set.ipynb\" target=\"_parent\"><img src=\"https://colab.research.google.com/assets/colab-badge.svg\" alt=\"Open In Colab\"/></a>"
      ]
    },
    {
      "cell_type": "markdown",
      "metadata": {
        "id": "MQZUvTKix_Wr"
      },
      "source": [
        "# **2018-21시즌 데이터를 사용한 MLP model**\n",
        "### Number of data = *29461*\n",
        "선발 출전한 선수\n",
        "3월, 4월 데이터 제외\n",
        "### Number of feature = *12*\n",
        "\n",
        "1. avg (타율)\n",
        "2. slg (장타율)\n",
        "3. ops (출루율 + 장타율)\n",
        "4. home/away_avg_y (홈/원정 별 타율)\n",
        "5. vs_ab (상대 팀 누적 타수)\n",
        "6. vs_hit (상대 팀 누적 안타)\n",
        "7. vs_avg (상대 팀 타율)\n",
        "8. recent_5days_avg (최근 5일 타율)\n",
        "9. recent_5games_avg (최근 5경기 타율)\n",
        "10. recent_10games_avg (최근 10경기 타율)\n",
        "11. success_10days (최근 10일 성공률)\n",
        "12. success_10games (최근 10경기 성공률)\n",
        "\n",
        "acc = 0.682\n",
        "\n"
      ]
    },
    {
      "cell_type": "code",
      "metadata": {
        "id": "B9FtxTkzzZZr"
      },
      "source": [
        "import numpy as np\n",
        "import pandas as pd\n",
        "import tqdm\n",
        "import os\n",
        "import matplotlib.pyplot as plt\n",
        "import seaborn as sns"
      ],
      "execution_count": 1,
      "outputs": []
    },
    {
      "cell_type": "code",
      "metadata": {
        "colab": {
          "base_uri": "https://localhost:8080/"
        },
        "id": "nVHrSFQLl3T9",
        "outputId": "ede7efdc-c157-4adc-fd5d-2416e65af4e9"
      },
      "source": [
        "from google.colab import drive\n",
        "drive.mount('/gdrive', force_remount=True)"
      ],
      "execution_count": 2,
      "outputs": [
        {
          "output_type": "stream",
          "text": [
            "Mounted at /gdrive\n"
          ],
          "name": "stdout"
        }
      ]
    },
    {
      "cell_type": "code",
      "metadata": {
        "colab": {
          "base_uri": "https://localhost:8080/"
        },
        "id": "lpXdABfSmZEW",
        "outputId": "a9853736-3e9a-4a5c-9c83-6ca990fa303e"
      },
      "source": [
        "from google.colab import drive\n",
        "drive.mount('/content/drive')"
      ],
      "execution_count": 3,
      "outputs": [
        {
          "output_type": "stream",
          "text": [
            "Mounted at /content/drive\n"
          ],
          "name": "stdout"
        }
      ]
    },
    {
      "cell_type": "code",
      "metadata": {
        "id": "N5DR_EdFsRmq"
      },
      "source": [
        "final_2018_2021 = pd.read_csv('/content/drive/MyDrive/bethelegend/final_2018_2021.csv', encoding='euc-kr')"
      ],
      "execution_count": 61,
      "outputs": []
    },
    {
      "cell_type": "code",
      "metadata": {
        "colab": {
          "base_uri": "https://localhost:8080/",
          "height": 609
        },
        "id": "p_UIY1Ntsr8f",
        "outputId": "11cb1252-682c-44dc-858a-42062435c2e7"
      },
      "source": [
        "final_2018_2021"
      ],
      "execution_count": 63,
      "outputs": [
        {
          "output_type": "execute_result",
          "data": {
            "text/html": [
              "<div>\n",
              "<style scoped>\n",
              "    .dataframe tbody tr th:only-of-type {\n",
              "        vertical-align: middle;\n",
              "    }\n",
              "\n",
              "    .dataframe tbody tr th {\n",
              "        vertical-align: top;\n",
              "    }\n",
              "\n",
              "    .dataframe thead th {\n",
              "        text-align: right;\n",
              "    }\n",
              "</style>\n",
              "<table border=\"1\" class=\"dataframe\">\n",
              "  <thead>\n",
              "    <tr style=\"text-align: right;\">\n",
              "      <th></th>\n",
              "      <th>name</th>\n",
              "      <th>day</th>\n",
              "      <th>vs</th>\n",
              "      <th>result_x</th>\n",
              "      <th>bat_order</th>\n",
              "      <th>position</th>\n",
              "      <th>start_member</th>\n",
              "      <th>ab</th>\n",
              "      <th>score</th>\n",
              "      <th>hit</th>\n",
              "      <th>2_hit</th>\n",
              "      <th>3_hit</th>\n",
              "      <th>homerun</th>\n",
              "      <th>tb</th>\n",
              "      <th>rbi</th>\n",
              "      <th>sb</th>\n",
              "      <th>cs</th>\n",
              "      <th>bb</th>\n",
              "      <th>hpp</th>\n",
              "      <th>ibb</th>\n",
              "      <th>so</th>\n",
              "      <th>gdp</th>\n",
              "      <th>sh</th>\n",
              "      <th>sf</th>\n",
              "      <th>avg</th>\n",
              "      <th>obp</th>\n",
              "      <th>slg</th>\n",
              "      <th>ops</th>\n",
              "      <th>pitch</th>\n",
              "      <th>avLI</th>\n",
              "      <th>RE24</th>\n",
              "      <th>WPA</th>\n",
              "      <th>double</th>\n",
              "      <th>vs_team_x</th>\n",
              "      <th>home/away_x</th>\n",
              "      <th>home_ab_x</th>\n",
              "      <th>home_hit_x</th>\n",
              "      <th>away_ab_x</th>\n",
              "      <th>away_hit_x</th>\n",
              "      <th>home/away_avg_x</th>\n",
              "      <th>vs_team_y</th>\n",
              "      <th>home/away_y</th>\n",
              "      <th>home_ab_y</th>\n",
              "      <th>home_hit_y</th>\n",
              "      <th>away_ab_y</th>\n",
              "      <th>away_hit_y</th>\n",
              "      <th>home/away_avg_y</th>\n",
              "      <th>vs_team</th>\n",
              "      <th>result_y</th>\n",
              "      <th>home/away</th>\n",
              "      <th>vs_ab</th>\n",
              "      <th>vs_hit</th>\n",
              "      <th>vs_avg</th>\n",
              "      <th>recent_5days_avg</th>\n",
              "      <th>recent_5games_avg</th>\n",
              "      <th>recent_10games_avg</th>\n",
              "      <th>success_10days</th>\n",
              "      <th>success_10games</th>\n",
              "    </tr>\n",
              "  </thead>\n",
              "  <tbody>\n",
              "    <tr>\n",
              "      <th>0</th>\n",
              "      <td>강백호</td>\n",
              "      <td>404</td>\n",
              "      <td>한화</td>\n",
              "      <td>W 3:2</td>\n",
              "      <td>4</td>\n",
              "      <td>1B</td>\n",
              "      <td>1</td>\n",
              "      <td>3</td>\n",
              "      <td>0</td>\n",
              "      <td>2</td>\n",
              "      <td>0</td>\n",
              "      <td>0</td>\n",
              "      <td>0</td>\n",
              "      <td>2</td>\n",
              "      <td>0</td>\n",
              "      <td>2</td>\n",
              "      <td>0</td>\n",
              "      <td>1</td>\n",
              "      <td>0</td>\n",
              "      <td>0</td>\n",
              "      <td>0</td>\n",
              "      <td>0</td>\n",
              "      <td>0</td>\n",
              "      <td>0</td>\n",
              "      <td>0.667</td>\n",
              "      <td>NaN</td>\n",
              "      <td>0.667</td>\n",
              "      <td>1.417</td>\n",
              "      <td>16</td>\n",
              "      <td>1.14</td>\n",
              "      <td>0.89</td>\n",
              "      <td>0.122</td>\n",
              "      <td>0.0</td>\n",
              "      <td>한화</td>\n",
              "      <td>home</td>\n",
              "      <td>0</td>\n",
              "      <td>0</td>\n",
              "      <td>0</td>\n",
              "      <td>0</td>\n",
              "      <td>NaN</td>\n",
              "      <td>한화</td>\n",
              "      <td>home</td>\n",
              "      <td>0</td>\n",
              "      <td>0</td>\n",
              "      <td>0</td>\n",
              "      <td>0</td>\n",
              "      <td>0.000</td>\n",
              "      <td>한화</td>\n",
              "      <td>1</td>\n",
              "      <td>home</td>\n",
              "      <td>0</td>\n",
              "      <td>0</td>\n",
              "      <td>0.000</td>\n",
              "      <td>0.000000</td>\n",
              "      <td>0.000000</td>\n",
              "      <td>0.000000</td>\n",
              "      <td>0.000000</td>\n",
              "      <td>0.000000</td>\n",
              "    </tr>\n",
              "    <tr>\n",
              "      <th>1</th>\n",
              "      <td>강백호</td>\n",
              "      <td>406</td>\n",
              "      <td>LG</td>\n",
              "      <td>L 2:3</td>\n",
              "      <td>4</td>\n",
              "      <td>1B</td>\n",
              "      <td>1</td>\n",
              "      <td>4</td>\n",
              "      <td>0</td>\n",
              "      <td>0</td>\n",
              "      <td>0</td>\n",
              "      <td>0</td>\n",
              "      <td>0</td>\n",
              "      <td>0</td>\n",
              "      <td>0</td>\n",
              "      <td>0</td>\n",
              "      <td>0</td>\n",
              "      <td>0</td>\n",
              "      <td>0</td>\n",
              "      <td>0</td>\n",
              "      <td>2</td>\n",
              "      <td>0</td>\n",
              "      <td>0</td>\n",
              "      <td>0</td>\n",
              "      <td>0.286</td>\n",
              "      <td>NaN</td>\n",
              "      <td>0.286</td>\n",
              "      <td>0.661</td>\n",
              "      <td>14</td>\n",
              "      <td>2.07</td>\n",
              "      <td>-1.00</td>\n",
              "      <td>-0.183</td>\n",
              "      <td>0.0</td>\n",
              "      <td>LG</td>\n",
              "      <td>home</td>\n",
              "      <td>3</td>\n",
              "      <td>2</td>\n",
              "      <td>0</td>\n",
              "      <td>0</td>\n",
              "      <td>0.667</td>\n",
              "      <td>LG</td>\n",
              "      <td>home</td>\n",
              "      <td>3</td>\n",
              "      <td>2</td>\n",
              "      <td>0</td>\n",
              "      <td>0</td>\n",
              "      <td>0.667</td>\n",
              "      <td>LG</td>\n",
              "      <td>0</td>\n",
              "      <td>home</td>\n",
              "      <td>0</td>\n",
              "      <td>0</td>\n",
              "      <td>0.000</td>\n",
              "      <td>0.666667</td>\n",
              "      <td>0.666667</td>\n",
              "      <td>0.666667</td>\n",
              "      <td>1.000000</td>\n",
              "      <td>1.000000</td>\n",
              "    </tr>\n",
              "    <tr>\n",
              "      <th>2</th>\n",
              "      <td>강백호</td>\n",
              "      <td>407</td>\n",
              "      <td>LG</td>\n",
              "      <td>W 7:3</td>\n",
              "      <td>4</td>\n",
              "      <td>1B</td>\n",
              "      <td>1</td>\n",
              "      <td>4</td>\n",
              "      <td>0</td>\n",
              "      <td>3</td>\n",
              "      <td>0</td>\n",
              "      <td>0</td>\n",
              "      <td>0</td>\n",
              "      <td>3</td>\n",
              "      <td>1</td>\n",
              "      <td>0</td>\n",
              "      <td>0</td>\n",
              "      <td>1</td>\n",
              "      <td>0</td>\n",
              "      <td>0</td>\n",
              "      <td>0</td>\n",
              "      <td>0</td>\n",
              "      <td>0</td>\n",
              "      <td>0</td>\n",
              "      <td>0.455</td>\n",
              "      <td>NaN</td>\n",
              "      <td>0.455</td>\n",
              "      <td>0.993</td>\n",
              "      <td>17</td>\n",
              "      <td>1.43</td>\n",
              "      <td>1.75</td>\n",
              "      <td>0.330</td>\n",
              "      <td>0.0</td>\n",
              "      <td>LG</td>\n",
              "      <td>home</td>\n",
              "      <td>7</td>\n",
              "      <td>2</td>\n",
              "      <td>0</td>\n",
              "      <td>0</td>\n",
              "      <td>0.286</td>\n",
              "      <td>LG</td>\n",
              "      <td>home</td>\n",
              "      <td>7</td>\n",
              "      <td>2</td>\n",
              "      <td>0</td>\n",
              "      <td>0</td>\n",
              "      <td>0.286</td>\n",
              "      <td>LG</td>\n",
              "      <td>1</td>\n",
              "      <td>home</td>\n",
              "      <td>4</td>\n",
              "      <td>0</td>\n",
              "      <td>0.000</td>\n",
              "      <td>0.285714</td>\n",
              "      <td>0.285714</td>\n",
              "      <td>0.285714</td>\n",
              "      <td>0.500000</td>\n",
              "      <td>0.500000</td>\n",
              "    </tr>\n",
              "    <tr>\n",
              "      <th>3</th>\n",
              "      <td>강백호</td>\n",
              "      <td>408</td>\n",
              "      <td>LG</td>\n",
              "      <td>L 3:7</td>\n",
              "      <td>4</td>\n",
              "      <td>1B</td>\n",
              "      <td>1</td>\n",
              "      <td>4</td>\n",
              "      <td>0</td>\n",
              "      <td>2</td>\n",
              "      <td>0</td>\n",
              "      <td>0</td>\n",
              "      <td>0</td>\n",
              "      <td>2</td>\n",
              "      <td>0</td>\n",
              "      <td>0</td>\n",
              "      <td>0</td>\n",
              "      <td>0</td>\n",
              "      <td>0</td>\n",
              "      <td>0</td>\n",
              "      <td>1</td>\n",
              "      <td>1</td>\n",
              "      <td>0</td>\n",
              "      <td>0</td>\n",
              "      <td>0.467</td>\n",
              "      <td>NaN</td>\n",
              "      <td>0.467</td>\n",
              "      <td>0.996</td>\n",
              "      <td>17</td>\n",
              "      <td>0.89</td>\n",
              "      <td>-0.76</td>\n",
              "      <td>-0.102</td>\n",
              "      <td>0.0</td>\n",
              "      <td>LG</td>\n",
              "      <td>home</td>\n",
              "      <td>11</td>\n",
              "      <td>5</td>\n",
              "      <td>0</td>\n",
              "      <td>0</td>\n",
              "      <td>0.455</td>\n",
              "      <td>LG</td>\n",
              "      <td>home</td>\n",
              "      <td>11</td>\n",
              "      <td>5</td>\n",
              "      <td>0</td>\n",
              "      <td>0</td>\n",
              "      <td>0.455</td>\n",
              "      <td>LG</td>\n",
              "      <td>1</td>\n",
              "      <td>home</td>\n",
              "      <td>8</td>\n",
              "      <td>3</td>\n",
              "      <td>0.375</td>\n",
              "      <td>0.454545</td>\n",
              "      <td>0.454545</td>\n",
              "      <td>0.454545</td>\n",
              "      <td>0.666667</td>\n",
              "      <td>0.666667</td>\n",
              "    </tr>\n",
              "    <tr>\n",
              "      <th>4</th>\n",
              "      <td>강백호</td>\n",
              "      <td>409</td>\n",
              "      <td>@삼성</td>\n",
              "      <td>L 5:7</td>\n",
              "      <td>4</td>\n",
              "      <td>1B</td>\n",
              "      <td>1</td>\n",
              "      <td>5</td>\n",
              "      <td>0</td>\n",
              "      <td>3</td>\n",
              "      <td>0</td>\n",
              "      <td>1</td>\n",
              "      <td>0</td>\n",
              "      <td>5</td>\n",
              "      <td>3</td>\n",
              "      <td>0</td>\n",
              "      <td>0</td>\n",
              "      <td>0</td>\n",
              "      <td>0</td>\n",
              "      <td>0</td>\n",
              "      <td>1</td>\n",
              "      <td>1</td>\n",
              "      <td>0</td>\n",
              "      <td>0</td>\n",
              "      <td>0.500</td>\n",
              "      <td>NaN</td>\n",
              "      <td>0.600</td>\n",
              "      <td>1.145</td>\n",
              "      <td>21</td>\n",
              "      <td>0.94</td>\n",
              "      <td>1.88</td>\n",
              "      <td>-0.122</td>\n",
              "      <td>0.0</td>\n",
              "      <td>삼성</td>\n",
              "      <td>away</td>\n",
              "      <td>15</td>\n",
              "      <td>7</td>\n",
              "      <td>0</td>\n",
              "      <td>0</td>\n",
              "      <td>NaN</td>\n",
              "      <td>삼성</td>\n",
              "      <td>away</td>\n",
              "      <td>15</td>\n",
              "      <td>7</td>\n",
              "      <td>0</td>\n",
              "      <td>0</td>\n",
              "      <td>0.000</td>\n",
              "      <td>삼성</td>\n",
              "      <td>1</td>\n",
              "      <td>away</td>\n",
              "      <td>0</td>\n",
              "      <td>0</td>\n",
              "      <td>0.000</td>\n",
              "      <td>0.466667</td>\n",
              "      <td>0.466667</td>\n",
              "      <td>0.466667</td>\n",
              "      <td>0.750000</td>\n",
              "      <td>0.750000</td>\n",
              "    </tr>\n",
              "    <tr>\n",
              "      <th>...</th>\n",
              "      <td>...</td>\n",
              "      <td>...</td>\n",
              "      <td>...</td>\n",
              "      <td>...</td>\n",
              "      <td>...</td>\n",
              "      <td>...</td>\n",
              "      <td>...</td>\n",
              "      <td>...</td>\n",
              "      <td>...</td>\n",
              "      <td>...</td>\n",
              "      <td>...</td>\n",
              "      <td>...</td>\n",
              "      <td>...</td>\n",
              "      <td>...</td>\n",
              "      <td>...</td>\n",
              "      <td>...</td>\n",
              "      <td>...</td>\n",
              "      <td>...</td>\n",
              "      <td>...</td>\n",
              "      <td>...</td>\n",
              "      <td>...</td>\n",
              "      <td>...</td>\n",
              "      <td>...</td>\n",
              "      <td>...</td>\n",
              "      <td>...</td>\n",
              "      <td>...</td>\n",
              "      <td>...</td>\n",
              "      <td>...</td>\n",
              "      <td>...</td>\n",
              "      <td>...</td>\n",
              "      <td>...</td>\n",
              "      <td>...</td>\n",
              "      <td>...</td>\n",
              "      <td>...</td>\n",
              "      <td>...</td>\n",
              "      <td>...</td>\n",
              "      <td>...</td>\n",
              "      <td>...</td>\n",
              "      <td>...</td>\n",
              "      <td>...</td>\n",
              "      <td>...</td>\n",
              "      <td>...</td>\n",
              "      <td>...</td>\n",
              "      <td>...</td>\n",
              "      <td>...</td>\n",
              "      <td>...</td>\n",
              "      <td>...</td>\n",
              "      <td>...</td>\n",
              "      <td>...</td>\n",
              "      <td>...</td>\n",
              "      <td>...</td>\n",
              "      <td>...</td>\n",
              "      <td>...</td>\n",
              "      <td>...</td>\n",
              "      <td>...</td>\n",
              "      <td>...</td>\n",
              "      <td>...</td>\n",
              "      <td>...</td>\n",
              "    </tr>\n",
              "    <tr>\n",
              "      <th>39113</th>\n",
              "      <td>강경학</td>\n",
              "      <td>1006</td>\n",
              "      <td>@롯데</td>\n",
              "      <td>L 5:8</td>\n",
              "      <td>9</td>\n",
              "      <td>PH</td>\n",
              "      <td>0</td>\n",
              "      <td>1</td>\n",
              "      <td>0</td>\n",
              "      <td>0</td>\n",
              "      <td>0</td>\n",
              "      <td>0</td>\n",
              "      <td>0</td>\n",
              "      <td>0</td>\n",
              "      <td>0</td>\n",
              "      <td>0</td>\n",
              "      <td>0</td>\n",
              "      <td>0</td>\n",
              "      <td>0</td>\n",
              "      <td>0</td>\n",
              "      <td>1</td>\n",
              "      <td>0</td>\n",
              "      <td>0</td>\n",
              "      <td>0</td>\n",
              "      <td>0.277</td>\n",
              "      <td>NaN</td>\n",
              "      <td>0.393</td>\n",
              "      <td>0.775</td>\n",
              "      <td>6</td>\n",
              "      <td>0.39</td>\n",
              "      <td>-0.25</td>\n",
              "      <td>-0.012</td>\n",
              "      <td>0.0</td>\n",
              "      <td>롯데</td>\n",
              "      <td>away</td>\n",
              "      <td>133</td>\n",
              "      <td>35</td>\n",
              "      <td>108</td>\n",
              "      <td>32</td>\n",
              "      <td>0.296</td>\n",
              "      <td>롯데</td>\n",
              "      <td>away</td>\n",
              "      <td>133</td>\n",
              "      <td>35</td>\n",
              "      <td>108</td>\n",
              "      <td>32</td>\n",
              "      <td>0.296</td>\n",
              "      <td>롯데</td>\n",
              "      <td>0</td>\n",
              "      <td>away</td>\n",
              "      <td>15</td>\n",
              "      <td>3</td>\n",
              "      <td>0.200</td>\n",
              "      <td>0.250000</td>\n",
              "      <td>0.111111</td>\n",
              "      <td>0.200000</td>\n",
              "      <td>0.500000</td>\n",
              "      <td>0.400000</td>\n",
              "    </tr>\n",
              "    <tr>\n",
              "      <th>39114</th>\n",
              "      <td>강경학</td>\n",
              "      <td>1009</td>\n",
              "      <td>@KT</td>\n",
              "      <td>W 10:6</td>\n",
              "      <td>8</td>\n",
              "      <td>PH</td>\n",
              "      <td>0</td>\n",
              "      <td>3</td>\n",
              "      <td>1</td>\n",
              "      <td>1</td>\n",
              "      <td>0</td>\n",
              "      <td>0</td>\n",
              "      <td>0</td>\n",
              "      <td>1</td>\n",
              "      <td>0</td>\n",
              "      <td>0</td>\n",
              "      <td>0</td>\n",
              "      <td>0</td>\n",
              "      <td>0</td>\n",
              "      <td>0</td>\n",
              "      <td>2</td>\n",
              "      <td>0</td>\n",
              "      <td>0</td>\n",
              "      <td>0</td>\n",
              "      <td>0.278</td>\n",
              "      <td>NaN</td>\n",
              "      <td>0.392</td>\n",
              "      <td>0.774</td>\n",
              "      <td>15</td>\n",
              "      <td>0.09</td>\n",
              "      <td>-0.03</td>\n",
              "      <td>-0.004</td>\n",
              "      <td>0.0</td>\n",
              "      <td>KT</td>\n",
              "      <td>away</td>\n",
              "      <td>133</td>\n",
              "      <td>35</td>\n",
              "      <td>109</td>\n",
              "      <td>32</td>\n",
              "      <td>0.294</td>\n",
              "      <td>KT</td>\n",
              "      <td>away</td>\n",
              "      <td>133</td>\n",
              "      <td>35</td>\n",
              "      <td>109</td>\n",
              "      <td>32</td>\n",
              "      <td>0.294</td>\n",
              "      <td>KT</td>\n",
              "      <td>1</td>\n",
              "      <td>away</td>\n",
              "      <td>36</td>\n",
              "      <td>12</td>\n",
              "      <td>0.333</td>\n",
              "      <td>0.000000</td>\n",
              "      <td>0.125000</td>\n",
              "      <td>0.222222</td>\n",
              "      <td>0.333333</td>\n",
              "      <td>0.400000</td>\n",
              "    </tr>\n",
              "    <tr>\n",
              "      <th>39115</th>\n",
              "      <td>강경학</td>\n",
              "      <td>1019</td>\n",
              "      <td>넥센</td>\n",
              "      <td>L 2:3</td>\n",
              "      <td>9</td>\n",
              "      <td>PR</td>\n",
              "      <td>0</td>\n",
              "      <td>0</td>\n",
              "      <td>0</td>\n",
              "      <td>0</td>\n",
              "      <td>0</td>\n",
              "      <td>0</td>\n",
              "      <td>0</td>\n",
              "      <td>0</td>\n",
              "      <td>0</td>\n",
              "      <td>0</td>\n",
              "      <td>0</td>\n",
              "      <td>0</td>\n",
              "      <td>0</td>\n",
              "      <td>0</td>\n",
              "      <td>0</td>\n",
              "      <td>0</td>\n",
              "      <td>0</td>\n",
              "      <td>0</td>\n",
              "      <td>0.000</td>\n",
              "      <td>NaN</td>\n",
              "      <td>0.000</td>\n",
              "      <td>0.000</td>\n",
              "      <td>0</td>\n",
              "      <td>0.00</td>\n",
              "      <td>0.00</td>\n",
              "      <td>0.000</td>\n",
              "      <td>0.0</td>\n",
              "      <td>넥센</td>\n",
              "      <td>home</td>\n",
              "      <td>133</td>\n",
              "      <td>35</td>\n",
              "      <td>112</td>\n",
              "      <td>33</td>\n",
              "      <td>0.263</td>\n",
              "      <td>넥센</td>\n",
              "      <td>home</td>\n",
              "      <td>133</td>\n",
              "      <td>35</td>\n",
              "      <td>112</td>\n",
              "      <td>33</td>\n",
              "      <td>0.263</td>\n",
              "      <td>넥센</td>\n",
              "      <td>0</td>\n",
              "      <td>home</td>\n",
              "      <td>27</td>\n",
              "      <td>8</td>\n",
              "      <td>0.296</td>\n",
              "      <td>0.000000</td>\n",
              "      <td>0.222222</td>\n",
              "      <td>0.235294</td>\n",
              "      <td>1.000000</td>\n",
              "      <td>0.400000</td>\n",
              "    </tr>\n",
              "    <tr>\n",
              "      <th>39116</th>\n",
              "      <td>강경학</td>\n",
              "      <td>1020</td>\n",
              "      <td>넥센</td>\n",
              "      <td>L 5:7</td>\n",
              "      <td>7</td>\n",
              "      <td>PH</td>\n",
              "      <td>0</td>\n",
              "      <td>1</td>\n",
              "      <td>0</td>\n",
              "      <td>0</td>\n",
              "      <td>0</td>\n",
              "      <td>0</td>\n",
              "      <td>0</td>\n",
              "      <td>0</td>\n",
              "      <td>0</td>\n",
              "      <td>0</td>\n",
              "      <td>0</td>\n",
              "      <td>0</td>\n",
              "      <td>0</td>\n",
              "      <td>0</td>\n",
              "      <td>0</td>\n",
              "      <td>0</td>\n",
              "      <td>0</td>\n",
              "      <td>0</td>\n",
              "      <td>0.000</td>\n",
              "      <td>NaN</td>\n",
              "      <td>0.000</td>\n",
              "      <td>0.000</td>\n",
              "      <td>6</td>\n",
              "      <td>1.94</td>\n",
              "      <td>-0.47</td>\n",
              "      <td>-0.050</td>\n",
              "      <td>0.0</td>\n",
              "      <td>넥센</td>\n",
              "      <td>home</td>\n",
              "      <td>133</td>\n",
              "      <td>35</td>\n",
              "      <td>112</td>\n",
              "      <td>33</td>\n",
              "      <td>0.263</td>\n",
              "      <td>넥센</td>\n",
              "      <td>home</td>\n",
              "      <td>133</td>\n",
              "      <td>35</td>\n",
              "      <td>112</td>\n",
              "      <td>33</td>\n",
              "      <td>0.263</td>\n",
              "      <td>넥센</td>\n",
              "      <td>0</td>\n",
              "      <td>home</td>\n",
              "      <td>27</td>\n",
              "      <td>8</td>\n",
              "      <td>0.296</td>\n",
              "      <td>0.000000</td>\n",
              "      <td>0.250000</td>\n",
              "      <td>0.235294</td>\n",
              "      <td>0.000000</td>\n",
              "      <td>0.400000</td>\n",
              "    </tr>\n",
              "    <tr>\n",
              "      <th>39117</th>\n",
              "      <td>강경학</td>\n",
              "      <td>1023</td>\n",
              "      <td>@넥센</td>\n",
              "      <td>L 2:5</td>\n",
              "      <td>8</td>\n",
              "      <td>PH</td>\n",
              "      <td>0</td>\n",
              "      <td>1</td>\n",
              "      <td>0</td>\n",
              "      <td>1</td>\n",
              "      <td>1</td>\n",
              "      <td>0</td>\n",
              "      <td>0</td>\n",
              "      <td>2</td>\n",
              "      <td>0</td>\n",
              "      <td>0</td>\n",
              "      <td>0</td>\n",
              "      <td>0</td>\n",
              "      <td>0</td>\n",
              "      <td>0</td>\n",
              "      <td>0</td>\n",
              "      <td>0</td>\n",
              "      <td>0</td>\n",
              "      <td>0</td>\n",
              "      <td>0.500</td>\n",
              "      <td>NaN</td>\n",
              "      <td>1.000</td>\n",
              "      <td>1.500</td>\n",
              "      <td>3</td>\n",
              "      <td>0.75</td>\n",
              "      <td>0.63</td>\n",
              "      <td>0.044</td>\n",
              "      <td>0.0</td>\n",
              "      <td>넥센</td>\n",
              "      <td>away</td>\n",
              "      <td>134</td>\n",
              "      <td>35</td>\n",
              "      <td>112</td>\n",
              "      <td>33</td>\n",
              "      <td>0.295</td>\n",
              "      <td>넥센</td>\n",
              "      <td>away</td>\n",
              "      <td>134</td>\n",
              "      <td>35</td>\n",
              "      <td>112</td>\n",
              "      <td>33</td>\n",
              "      <td>0.295</td>\n",
              "      <td>넥센</td>\n",
              "      <td>1</td>\n",
              "      <td>away</td>\n",
              "      <td>28</td>\n",
              "      <td>8</td>\n",
              "      <td>0.286</td>\n",
              "      <td>0.000000</td>\n",
              "      <td>0.142857</td>\n",
              "      <td>0.176471</td>\n",
              "      <td>0.000000</td>\n",
              "      <td>0.300000</td>\n",
              "    </tr>\n",
              "  </tbody>\n",
              "</table>\n",
              "<p>39118 rows × 58 columns</p>\n",
              "</div>"
            ],
            "text/plain": [
              "      name   day   vs  ... recent_10games_avg  success_10days success_10games\n",
              "0      강백호   404   한화  ...           0.000000        0.000000        0.000000\n",
              "1      강백호   406   LG  ...           0.666667        1.000000        1.000000\n",
              "2      강백호   407   LG  ...           0.285714        0.500000        0.500000\n",
              "3      강백호   408   LG  ...           0.454545        0.666667        0.666667\n",
              "4      강백호   409  @삼성  ...           0.466667        0.750000        0.750000\n",
              "...    ...   ...  ...  ...                ...             ...             ...\n",
              "39113  강경학  1006  @롯데  ...           0.200000        0.500000        0.400000\n",
              "39114  강경학  1009  @KT  ...           0.222222        0.333333        0.400000\n",
              "39115  강경학  1019   넥센  ...           0.235294        1.000000        0.400000\n",
              "39116  강경학  1020   넥센  ...           0.235294        0.000000        0.400000\n",
              "39117  강경학  1023  @넥센  ...           0.176471        0.000000        0.300000\n",
              "\n",
              "[39118 rows x 58 columns]"
            ]
          },
          "metadata": {
            "tags": []
          },
          "execution_count": 63
        }
      ]
    },
    {
      "cell_type": "code",
      "metadata": {
        "colab": {
          "base_uri": "https://localhost:8080/",
          "height": 334
        },
        "id": "DLA515YOszeW",
        "outputId": "939a10fc-0c8a-4b2e-cded-b7ffcdc6fdca"
      },
      "source": [
        "sns.countplot(ex_2020_data_3['double'])\n",
        "plt.show()"
      ],
      "execution_count": null,
      "outputs": [
        {
          "output_type": "stream",
          "text": [
            "/usr/local/lib/python3.7/dist-packages/seaborn/_decorators.py:43: FutureWarning: Pass the following variable as a keyword arg: x. From version 0.12, the only valid positional argument will be `data`, and passing other arguments without an explicit keyword will result in an error or misinterpretation.\n",
            "  FutureWarning\n"
          ],
          "name": "stderr"
        },
        {
          "output_type": "display_data",
          "data": {
            "image/png": "[encoded data removed]",
            "text/plain": [
              "<Figure size 432x288 with 1 Axes>"
            ]
          },
          "metadata": {
            "tags": [],
            "needs_background": "light"
          }
        }
      ]
    },
    {
      "cell_type": "code",
      "metadata": {
        "id": "TZ1f36nesIrz"
      },
      "source": [
        "#선발 출장에 한정\n",
        "final_2018_2021 = final_2018_2021[final_2018_2021['start_member'] == 1]"
      ],
      "execution_count": 64,
      "outputs": []
    },
    {
      "cell_type": "code",
      "metadata": {
        "id": "sup1IOqbwfFr"
      },
      "source": [
        "#3월, 4월 데이터 제외\n",
        "final_2018_2021 = final_2018_2021.loc[final_2018_2021['day']>= 500]"
      ],
      "execution_count": 72,
      "outputs": []
    },
    {
      "cell_type": "code",
      "metadata": {
        "id": "iF4wzQ2cX2Ue"
      },
      "source": [
        "#타수가 2이상만의 데이터를 골라내는 작업\n",
        "final_2018_2021 = final_2018_2021[final_2018_2021['ab']>2]"
      ],
      "execution_count": null,
      "outputs": []
    },
    {
      "cell_type": "code",
      "metadata": {
        "id": "8sl5KRFWjGcI",
        "colab": {
          "base_uri": "https://localhost:8080/"
        },
        "outputId": "0fa505b3-42cf-4f27-d7d8-d965ac319fd8"
      },
      "source": [
        "m = final_2018_2021[final_2018_2021['ab']>4]\n",
        "len(m[m['result_y'] ==1]) / len(m) * 100"
      ],
      "execution_count": null,
      "outputs": [
        {
          "output_type": "execute_result",
          "data": {
            "text/plain": [
              "87.98226892135939"
            ]
          },
          "metadata": {
            "tags": []
          },
          "execution_count": 108
        }
      ]
    },
    {
      "cell_type": "code",
      "metadata": {
        "colab": {
          "base_uri": "https://localhost:8080/",
          "height": 335
        },
        "id": "7xqGyysNX_vN",
        "outputId": "acb04de0-f5a9-4ce3-9517-3931a60b0bee"
      },
      "source": [
        "sns.countplot(final_2018_2021['start_member'])\n",
        "plt.show()"
      ],
      "execution_count": null,
      "outputs": [
        {
          "output_type": "stream",
          "text": [
            "/usr/local/lib/python3.7/dist-packages/seaborn/_decorators.py:43: FutureWarning: Pass the following variable as a keyword arg: x. From version 0.12, the only valid positional argument will be `data`, and passing other arguments without an explicit keyword will result in an error or misinterpretation.\n",
            "  FutureWarning\n"
          ],
          "name": "stderr"
        },
        {
          "output_type": "display_data",
          "data": {
            "image/png": "[encoded data removed]",
            "text/plain": [
              "<Figure size 432x288 with 1 Axes>"
            ]
          },
          "metadata": {
            "tags": [],
            "needs_background": "light"
          }
        }
      ]
    },
    {
      "cell_type": "code",
      "metadata": {
        "id": "UkS_ftpXskbp",
        "colab": {
          "base_uri": "https://localhost:8080/",
          "height": 334
        },
        "outputId": "3493cc03-7388-4b76-fdd4-1ee332613d94"
      },
      "source": [
        "sns.countplot(final_2018_2021['ab'])\n",
        "plt.show()"
      ],
      "execution_count": null,
      "outputs": [
        {
          "output_type": "stream",
          "text": [
            "/usr/local/lib/python3.7/dist-packages/seaborn/_decorators.py:43: FutureWarning: Pass the following variable as a keyword arg: x. From version 0.12, the only valid positional argument will be `data`, and passing other arguments without an explicit keyword will result in an error or misinterpretation.\n",
            "  FutureWarning\n"
          ],
          "name": "stderr"
        },
        {
          "output_type": "display_data",
          "data": {
            "image/png": "[encoded data removed]",
            "text/plain": [
              "<Figure size 432x288 with 1 Axes>"
            ]
          },
          "metadata": {
            "tags": [],
            "needs_background": "light"
          }
        }
      ]
    },
    {
      "cell_type": "code",
      "metadata": {
        "id": "MAUO2QTqKtAP"
      },
      "source": [
        "final_2018_2021.loc[final_2018_2021['ab']== 1]"
      ],
      "execution_count": null,
      "outputs": []
    },
    {
      "cell_type": "markdown",
      "metadata": {
        "id": "6vKbGIXYnVOa"
      },
      "source": [
        "### **Multi layer Perceptron in Be the legend**"
      ]
    },
    {
      "cell_type": "code",
      "metadata": {
        "id": "RFweHbLdmuMq"
      },
      "source": [
        "mlp_data = final_2018_2021.loc[:, ['name', 'day', 'start_member', 'vs_team', 'avg', 'slg', 'ops', 'home/away_avg_y', 'vs_ab', 'vs_hit', 'vs_avg', 'recent_5days_avg', 'recent_5games_avg', 'recent_10games_avg', 'success_10days', 'success_10games', 'result_y']]"
      ],
      "execution_count": 236,
      "outputs": []
    },
    {
      "cell_type": "code",
      "metadata": {
        "id": "hNns44d1muU0"
      },
      "source": [
        "mlp_data"
      ],
      "execution_count": null,
      "outputs": []
    },
    {
      "cell_type": "code",
      "metadata": {
        "id": "3cid426-ZUot",
        "colab": {
          "base_uri": "https://localhost:8080/"
        },
        "outputId": "5bff7cde-7fe5-4881-fabd-c630e8762c66"
      },
      "source": [
        "len(mlp_data)"
      ],
      "execution_count": 227,
      "outputs": [
        {
          "output_type": "execute_result",
          "data": {
            "text/plain": [
              "29461"
            ]
          },
          "metadata": {
            "tags": []
          },
          "execution_count": 227
        }
      ]
    },
    {
      "cell_type": "code",
      "metadata": {
        "id": "-iD5efWEmuXc"
      },
      "source": [
        "from keras.utils.np_utils import to_categorical\n",
        "import numpy as np\n",
        "from sklearn.preprocessing import minmax_scale\n",
        "from keras.models import Sequential\n",
        "from keras.layers import Dense, Dropout, Activation\n",
        "from keras.optimizers import Adam\n",
        "from sklearn.model_selection import train_test_split"
      ],
      "execution_count": 75,
      "outputs": []
    },
    {
      "cell_type": "markdown",
      "metadata": {
        "id": "tj57pdhG-Dgk"
      },
      "source": [
        "### **Training data set / Test data set 분할**"
      ]
    },
    {
      "cell_type": "code",
      "metadata": {
        "id": "C7_-up_YmuZa"
      },
      "source": [
        "mlp_train, mlp_test = train_test_split(mlp_data, test_size=0.2, random_state=50)"
      ],
      "execution_count": 237,
      "outputs": []
    },
    {
      "cell_type": "code",
      "metadata": {
        "id": "KYFYC0nSuAxq"
      },
      "source": [
        "X_train = mlp_train.loc[:, ['avg', 'slg', 'home/away_avg_y', 'vs_avg', 'recent_5days_avg', 'recent_5games_avg', 'recent_10games_avg', 'success_10days', 'success_10games']]\n",
        "y_train = mlp_train.loc[:, ['result_y']]\n",
        "\n",
        "X_test = mlp_test.loc[:, ['avg', 'slg', 'home/away_avg_y', 'vs_avg', 'recent_5days_avg', 'recent_5games_avg', 'recent_10games_avg', 'success_10days', 'success_10games']]\n",
        "y_test = mlp_test.loc[:, ['result_y']]"
      ],
      "execution_count": 238,
      "outputs": []
    },
    {
      "cell_type": "code",
      "metadata": {
        "id": "2mOrTVAloq14"
      },
      "source": [
        "#홈/원정 타율, 상대 타율, 최근 5일 타율, 최근 5게임 타율, 최근 10게임 타율, 최근 10일 성공률, 최근 10경기 성공률 사용\n",
        "\n",
        "# X_train = mlp_train.loc[:, ['home/away_avg_y', 'vs_avg', 'recent_5days_avg', 'recent_5games_avg', 'recent_10games_avg', 'success_10days', 'success_10games']]\n",
        "# y_train = mlp_train.loc[:, ['result_y']]\n",
        "\n",
        "# X_test = mlp_test.loc[:, ['home/away_avg_y', 'vs_avg', 'recent_5days_avg', 'recent_5games_avg', 'recent_10games_avg', 'success_10days', 'success_10games']]\n",
        "# y_test = mlp_test.loc[:, ['result_y']]"
      ],
      "execution_count": 125,
      "outputs": []
    },
    {
      "cell_type": "code",
      "metadata": {
        "id": "SjNcggD922Vg"
      },
      "source": [
        "#홈/원정 타율, 상대 타율, 최근 5일 타율, 최근 5게임 타율, 최근 10게임 타율\n",
        "\n",
        "# X_train = mlp_train.loc[:, ['home/away_avg_y', 'vs_avg', 'recent_5days_avg', 'recent_5games_avg', 'recent_10games_avg']]\n",
        "# y_train = mlp_train.loc[:, ['result_y']]\n",
        "\n",
        "# X_test = mlp_test.loc[:, ['home/away_avg_y', 'vs_avg', 'recent_5days_avg', 'recent_5games_avg', 'recent_10games_avg']]\n",
        "# y_test = mlp_test.loc[:, ['result_y']]"
      ],
      "execution_count": 134,
      "outputs": []
    },
    {
      "cell_type": "code",
      "metadata": {
        "id": "gcVedMqPpAkB"
      },
      "source": [
        "X_train = X_train.to_numpy()\n",
        "y_train = y_train.to_numpy()\n",
        "X_test = X_test.to_numpy()\n",
        "y_test = y_test.to_numpy()"
      ],
      "execution_count": 239,
      "outputs": []
    },
    {
      "cell_type": "code",
      "metadata": {
        "id": "zEiz1UpqpCgQ"
      },
      "source": [
        "number_of_train_samples = X_train.shape[0]\n",
        "width = X_train.shape[1]\n",
        "X_train = X_train.reshape(number_of_train_samples, width)"
      ],
      "execution_count": 240,
      "outputs": []
    },
    {
      "cell_type": "code",
      "metadata": {
        "id": "Xow9qw6IpFuY"
      },
      "source": [
        "number_of_test_samples = X_test.shape[0]\n",
        "X_test = X_test.reshape(number_of_test_samples, width)"
      ],
      "execution_count": 241,
      "outputs": []
    },
    {
      "cell_type": "code",
      "metadata": {
        "id": "Q8Vnpzu_pHnB"
      },
      "source": [
        "X_train = minmax_scale(X_train, feature_range=(0,1), axis = 0)\n",
        "X_test = minmax_scale(X_test, feature_range=(0,1), axis = 0)"
      ],
      "execution_count": 242,
      "outputs": []
    },
    {
      "cell_type": "code",
      "metadata": {
        "id": "C94ziVRUpMlw"
      },
      "source": [
        "y_train = to_categorical(y_train)\n",
        "y_test = to_categorical(y_test)"
      ],
      "execution_count": 243,
      "outputs": []
    },
    {
      "cell_type": "markdown",
      "metadata": {
        "id": "TktpLH5w-KCz"
      },
      "source": [
        "### **Validation data set / Training data set 분할**"
      ]
    },
    {
      "cell_type": "code",
      "metadata": {
        "id": "QV0xUno7-YWb"
      },
      "source": [
        "X_val = X_train[:6000]\n",
        "X_train = X_train[6000:]\n",
        "\n",
        "y_val = y_train[:6000]\n",
        "y_train = y_train[6000:]"
      ],
      "execution_count": 244,
      "outputs": []
    },
    {
      "cell_type": "markdown",
      "metadata": {
        "id": "I5_qKHvV_AG0"
      },
      "source": [
        "### **MLP Model**"
      ]
    },
    {
      "cell_type": "code",
      "metadata": {
        "id": "XdjLhfevpOCp"
      },
      "source": [
        "#Activation = Relu & Sigmoid\n",
        "model = Sequential()\n",
        "\n",
        "model.add(Dense(32, input_dim= width, kernel_initializer = 'glorot_uniform', activation = 'relu'))\n",
        "\n",
        "# model.add(Dense(96, kernel_initializer = 'glorot_uniform', activation = 'relu'))\n",
        "model.add(Dense(16, kernel_initializer = 'glorot_uniform', activation = 'relu'))\n",
        "model.add(Dense(2, activation = 'sigmoid'))"
      ],
      "execution_count": 245,
      "outputs": []
    },
    {
      "cell_type": "code",
      "metadata": {
        "id": "r_ljzi4Btkk3"
      },
      "source": [
        "#Activation = Sigmoid\n",
        "model = Sequential()\n",
        "\n",
        "model.add(Dense(512, input_dim= width, kernel_initializer = 'glorot_uniform', activation = 'sigmoid'))\n",
        "# model.add(Dropout(0.3))\n",
        "model.add(Dense(300, kernel_initializer = 'glorot_uniform', activation = 'sigmoid'))\n",
        "model.add(Dense(256, kernel_initializer = 'glorot_uniform', activation = 'sigmoid'))\n",
        "\n",
        "model.add(Dense(128, kernel_initializer = 'glorot_uniform', activation = 'sigmoid'))\n",
        "\n",
        "model.add(Dense(64, kernel_initializer = 'glorot_uniform', activation = 'sigmoid'))\n",
        "\n",
        "model.add(Dense(32, kernel_initializer = 'glorot_uniform', activation = 'sigmoid'))\n",
        "model.add(Dense(16, kernel_initializer = 'glorot_uniform', activation = 'sigmoid'))\n",
        "model.add(Dense(2, activation = 'softmax'))\n",
        "\n",
        "model.compile(loss = 'categorical_crossentropy', optimizer='sgd', metrics=['accuracy'])"
      ],
      "execution_count": 154,
      "outputs": []
    },
    {
      "cell_type": "markdown",
      "metadata": {
        "id": "i2it7DZb_FxU"
      },
      "source": [
        "### **Model training**"
      ]
    },
    {
      "cell_type": "code",
      "metadata": {
        "id": "3ZwPC0Zc_QH0",
        "outputId": "3f069c50-eb80-4a3b-e6b9-817ddb03048c",
        "colab": {
          "base_uri": "https://localhost:8080/"
        }
      },
      "source": [
        "model.compile(loss = 'binary_crossentropy', optimizer = 'rmsprop', metrics=['acc'])\n",
        "\n",
        "history = model.fit(X_train, y_train, epochs = 100, batch_size = 64, validation_data=(X_val, y_val))\n",
        "history_dict = history.history\n",
        "history_dict.keys()"
      ],
      "execution_count": 246,
      "outputs": [
        {
          "output_type": "stream",
          "text": [
            "Epoch 1/100\n",
            "275/275 [==============================] - 2s 3ms/step - loss: 0.6317 - acc: 0.6769 - val_loss: 0.6314 - val_acc: 0.6688\n",
            "Epoch 2/100\n",
            "275/275 [==============================] - 0s 2ms/step - loss: 0.6198 - acc: 0.6799 - val_loss: 0.6292 - val_acc: 0.6697\n",
            "Epoch 3/100\n",
            "275/275 [==============================] - 0s 2ms/step - loss: 0.6191 - acc: 0.6784 - val_loss: 0.6254 - val_acc: 0.6727\n",
            "Epoch 4/100\n",
            "275/275 [==============================] - 0s 2ms/step - loss: 0.6146 - acc: 0.6836 - val_loss: 0.6212 - val_acc: 0.6732\n",
            "Epoch 5/100\n",
            "275/275 [==============================] - 1s 2ms/step - loss: 0.6128 - acc: 0.6853 - val_loss: 0.6188 - val_acc: 0.6745\n",
            "Epoch 6/100\n",
            "275/275 [==============================] - 0s 2ms/step - loss: 0.6149 - acc: 0.6807 - val_loss: 0.6164 - val_acc: 0.6762\n",
            "Epoch 7/100\n",
            "275/275 [==============================] - 0s 2ms/step - loss: 0.6103 - acc: 0.6826 - val_loss: 0.6154 - val_acc: 0.6770\n",
            "Epoch 8/100\n",
            "275/275 [==============================] - 0s 2ms/step - loss: 0.6133 - acc: 0.6774 - val_loss: 0.6171 - val_acc: 0.6765\n",
            "Epoch 9/100\n",
            "275/275 [==============================] - 1s 2ms/step - loss: 0.6108 - acc: 0.6821 - val_loss: 0.6137 - val_acc: 0.6767\n",
            "Epoch 10/100\n",
            "275/275 [==============================] - 1s 2ms/step - loss: 0.6090 - acc: 0.6816 - val_loss: 0.6129 - val_acc: 0.6763\n",
            "Epoch 11/100\n",
            "275/275 [==============================] - 0s 2ms/step - loss: 0.6062 - acc: 0.6873 - val_loss: 0.6141 - val_acc: 0.6778\n",
            "Epoch 12/100\n",
            "275/275 [==============================] - 0s 2ms/step - loss: 0.6042 - acc: 0.6851 - val_loss: 0.6159 - val_acc: 0.6772\n",
            "Epoch 13/100\n",
            "275/275 [==============================] - 22s 79ms/step - loss: 0.5973 - acc: 0.6937 - val_loss: 0.6141 - val_acc: 0.6770\n",
            "Epoch 14/100\n",
            "275/275 [==============================] - 1s 2ms/step - loss: 0.6009 - acc: 0.6904 - val_loss: 0.6153 - val_acc: 0.6770\n",
            "Epoch 15/100\n",
            "275/275 [==============================] - 0s 2ms/step - loss: 0.6016 - acc: 0.6887 - val_loss: 0.6111 - val_acc: 0.6787\n",
            "Epoch 16/100\n",
            "275/275 [==============================] - 0s 2ms/step - loss: 0.5967 - acc: 0.6924 - val_loss: 0.6107 - val_acc: 0.6788\n",
            "Epoch 17/100\n",
            "275/275 [==============================] - 0s 2ms/step - loss: 0.6032 - acc: 0.6853 - val_loss: 0.6125 - val_acc: 0.6787\n",
            "Epoch 18/100\n",
            "275/275 [==============================] - 0s 2ms/step - loss: 0.6081 - acc: 0.6828 - val_loss: 0.6098 - val_acc: 0.6787\n",
            "Epoch 19/100\n",
            "275/275 [==============================] - 0s 2ms/step - loss: 0.5952 - acc: 0.6934 - val_loss: 0.6140 - val_acc: 0.6787\n",
            "Epoch 20/100\n",
            "275/275 [==============================] - 0s 2ms/step - loss: 0.6031 - acc: 0.6840 - val_loss: 0.6115 - val_acc: 0.6795\n",
            "Epoch 21/100\n",
            "275/275 [==============================] - 0s 2ms/step - loss: 0.5954 - acc: 0.6917 - val_loss: 0.6095 - val_acc: 0.6790\n",
            "Epoch 22/100\n",
            "275/275 [==============================] - 1s 2ms/step - loss: 0.5994 - acc: 0.6887 - val_loss: 0.6135 - val_acc: 0.6793\n",
            "Epoch 23/100\n",
            "275/275 [==============================] - 1s 2ms/step - loss: 0.6050 - acc: 0.6847 - val_loss: 0.6159 - val_acc: 0.6785\n",
            "Epoch 24/100\n",
            "275/275 [==============================] - 0s 2ms/step - loss: 0.6030 - acc: 0.6876 - val_loss: 0.6128 - val_acc: 0.6787\n",
            "Epoch 25/100\n",
            "275/275 [==============================] - 0s 2ms/step - loss: 0.6042 - acc: 0.6843 - val_loss: 0.6095 - val_acc: 0.6790\n",
            "Epoch 26/100\n",
            "275/275 [==============================] - 1s 2ms/step - loss: 0.6024 - acc: 0.6867 - val_loss: 0.6176 - val_acc: 0.6795\n",
            "Epoch 27/100\n",
            "275/275 [==============================] - 0s 2ms/step - loss: 0.6001 - acc: 0.6857 - val_loss: 0.6088 - val_acc: 0.6795\n",
            "Epoch 28/100\n",
            "275/275 [==============================] - 1s 2ms/step - loss: 0.5997 - acc: 0.6872 - val_loss: 0.6091 - val_acc: 0.6793\n",
            "Epoch 29/100\n",
            "275/275 [==============================] - 0s 2ms/step - loss: 0.6006 - acc: 0.6880 - val_loss: 0.6099 - val_acc: 0.6798\n",
            "Epoch 30/100\n",
            "275/275 [==============================] - 1s 2ms/step - loss: 0.5971 - acc: 0.6929 - val_loss: 0.6085 - val_acc: 0.6792\n",
            "Epoch 31/100\n",
            "275/275 [==============================] - 1s 2ms/step - loss: 0.5993 - acc: 0.6872 - val_loss: 0.6185 - val_acc: 0.6790\n",
            "Epoch 32/100\n",
            "275/275 [==============================] - 1s 2ms/step - loss: 0.6035 - acc: 0.6854 - val_loss: 0.6112 - val_acc: 0.6790\n",
            "Epoch 33/100\n",
            "275/275 [==============================] - 0s 2ms/step - loss: 0.5994 - acc: 0.6833 - val_loss: 0.6172 - val_acc: 0.6800\n",
            "Epoch 34/100\n",
            "275/275 [==============================] - 1s 2ms/step - loss: 0.6018 - acc: 0.6840 - val_loss: 0.6151 - val_acc: 0.6793\n",
            "Epoch 35/100\n",
            "275/275 [==============================] - 1s 2ms/step - loss: 0.6016 - acc: 0.6892 - val_loss: 0.6107 - val_acc: 0.6783\n",
            "Epoch 36/100\n",
            "275/275 [==============================] - 0s 2ms/step - loss: 0.5998 - acc: 0.6884 - val_loss: 0.6084 - val_acc: 0.6802\n",
            "Epoch 37/100\n",
            "275/275 [==============================] - 1s 2ms/step - loss: 0.6007 - acc: 0.6873 - val_loss: 0.6131 - val_acc: 0.6790\n",
            "Epoch 38/100\n",
            "275/275 [==============================] - 0s 2ms/step - loss: 0.6034 - acc: 0.6843 - val_loss: 0.6089 - val_acc: 0.6793\n",
            "Epoch 39/100\n",
            "275/275 [==============================] - 1s 2ms/step - loss: 0.6015 - acc: 0.6860 - val_loss: 0.6112 - val_acc: 0.6792\n",
            "Epoch 40/100\n",
            "275/275 [==============================] - 1s 2ms/step - loss: 0.6027 - acc: 0.6853 - val_loss: 0.6408 - val_acc: 0.6775\n",
            "Epoch 41/100\n",
            "275/275 [==============================] - 0s 2ms/step - loss: 0.6019 - acc: 0.6887 - val_loss: 0.6085 - val_acc: 0.6792\n",
            "Epoch 42/100\n",
            "275/275 [==============================] - 1s 2ms/step - loss: 0.5989 - acc: 0.6866 - val_loss: 0.6082 - val_acc: 0.6795\n",
            "Epoch 43/100\n",
            "275/275 [==============================] - 1s 2ms/step - loss: 0.6032 - acc: 0.6840 - val_loss: 0.6099 - val_acc: 0.6773\n",
            "Epoch 44/100\n",
            "275/275 [==============================] - 1s 2ms/step - loss: 0.5993 - acc: 0.6889 - val_loss: 0.6090 - val_acc: 0.6802\n",
            "Epoch 45/100\n",
            "275/275 [==============================] - 1s 2ms/step - loss: 0.5986 - acc: 0.6890 - val_loss: 0.6149 - val_acc: 0.6797\n",
            "Epoch 46/100\n",
            "275/275 [==============================] - 0s 2ms/step - loss: 0.6008 - acc: 0.6874 - val_loss: 0.6088 - val_acc: 0.6808\n",
            "Epoch 47/100\n",
            "275/275 [==============================] - 1s 2ms/step - loss: 0.5986 - acc: 0.6884 - val_loss: 0.6217 - val_acc: 0.6690\n",
            "Epoch 48/100\n",
            "275/275 [==============================] - 1s 2ms/step - loss: 0.6046 - acc: 0.6839 - val_loss: 0.6123 - val_acc: 0.6798\n",
            "Epoch 49/100\n",
            "275/275 [==============================] - 1s 2ms/step - loss: 0.5966 - acc: 0.6922 - val_loss: 0.6089 - val_acc: 0.6793\n",
            "Epoch 50/100\n",
            "275/275 [==============================] - 0s 2ms/step - loss: 0.5958 - acc: 0.6869 - val_loss: 0.6147 - val_acc: 0.6790\n",
            "Epoch 51/100\n",
            "275/275 [==============================] - 0s 2ms/step - loss: 0.5993 - acc: 0.6911 - val_loss: 0.6101 - val_acc: 0.6777\n",
            "Epoch 52/100\n",
            "275/275 [==============================] - 1s 2ms/step - loss: 0.5951 - acc: 0.6937 - val_loss: 0.6078 - val_acc: 0.6805\n",
            "Epoch 53/100\n",
            "275/275 [==============================] - 1s 2ms/step - loss: 0.5973 - acc: 0.6888 - val_loss: 0.6095 - val_acc: 0.6802\n",
            "Epoch 54/100\n",
            "275/275 [==============================] - 0s 2ms/step - loss: 0.6018 - acc: 0.6836 - val_loss: 0.6110 - val_acc: 0.6808\n",
            "Epoch 55/100\n",
            "275/275 [==============================] - 1s 2ms/step - loss: 0.5946 - acc: 0.6897 - val_loss: 0.6137 - val_acc: 0.6785\n",
            "Epoch 56/100\n",
            "275/275 [==============================] - 0s 2ms/step - loss: 0.6043 - acc: 0.6821 - val_loss: 0.6091 - val_acc: 0.6815\n",
            "Epoch 57/100\n",
            "275/275 [==============================] - 0s 2ms/step - loss: 0.5961 - acc: 0.6924 - val_loss: 0.6091 - val_acc: 0.6802\n",
            "Epoch 58/100\n",
            "275/275 [==============================] - 0s 2ms/step - loss: 0.6030 - acc: 0.6838 - val_loss: 0.6086 - val_acc: 0.6810\n",
            "Epoch 59/100\n",
            "275/275 [==============================] - 1s 2ms/step - loss: 0.6019 - acc: 0.6876 - val_loss: 0.6083 - val_acc: 0.6810\n",
            "Epoch 60/100\n",
            "275/275 [==============================] - 0s 2ms/step - loss: 0.5977 - acc: 0.6908 - val_loss: 0.6137 - val_acc: 0.6780\n",
            "Epoch 61/100\n",
            "275/275 [==============================] - 1s 2ms/step - loss: 0.5978 - acc: 0.6906 - val_loss: 0.6131 - val_acc: 0.6793\n",
            "Epoch 62/100\n",
            "275/275 [==============================] - 0s 2ms/step - loss: 0.5945 - acc: 0.6924 - val_loss: 0.6076 - val_acc: 0.6818\n",
            "Epoch 63/100\n",
            "275/275 [==============================] - 1s 2ms/step - loss: 0.5976 - acc: 0.6879 - val_loss: 0.6097 - val_acc: 0.6787\n",
            "Epoch 64/100\n",
            "275/275 [==============================] - 1s 2ms/step - loss: 0.6017 - acc: 0.6854 - val_loss: 0.6250 - val_acc: 0.6772\n",
            "Epoch 65/100\n",
            "275/275 [==============================] - 1s 2ms/step - loss: 0.5944 - acc: 0.6937 - val_loss: 0.6121 - val_acc: 0.6792\n",
            "Epoch 66/100\n",
            "275/275 [==============================] - 1s 2ms/step - loss: 0.6021 - acc: 0.6839 - val_loss: 0.6081 - val_acc: 0.6802\n",
            "Epoch 67/100\n",
            "275/275 [==============================] - 0s 2ms/step - loss: 0.5961 - acc: 0.6894 - val_loss: 0.6081 - val_acc: 0.6820\n",
            "Epoch 68/100\n",
            "275/275 [==============================] - 1s 2ms/step - loss: 0.6010 - acc: 0.6839 - val_loss: 0.6102 - val_acc: 0.6793\n",
            "Epoch 69/100\n",
            "275/275 [==============================] - 1s 2ms/step - loss: 0.5978 - acc: 0.6898 - val_loss: 0.6118 - val_acc: 0.6740\n",
            "Epoch 70/100\n",
            "275/275 [==============================] - 0s 2ms/step - loss: 0.6044 - acc: 0.6811 - val_loss: 0.6081 - val_acc: 0.6818\n",
            "Epoch 71/100\n",
            "275/275 [==============================] - 1s 2ms/step - loss: 0.6027 - acc: 0.6821 - val_loss: 0.6089 - val_acc: 0.6798\n",
            "Epoch 72/100\n",
            "275/275 [==============================] - 0s 2ms/step - loss: 0.5986 - acc: 0.6911 - val_loss: 0.6112 - val_acc: 0.6790\n",
            "Epoch 73/100\n",
            "275/275 [==============================] - 0s 2ms/step - loss: 0.5967 - acc: 0.6918 - val_loss: 0.6218 - val_acc: 0.6613\n",
            "Epoch 74/100\n",
            "275/275 [==============================] - 1s 2ms/step - loss: 0.5955 - acc: 0.6908 - val_loss: 0.6129 - val_acc: 0.6718\n",
            "Epoch 75/100\n",
            "275/275 [==============================] - 0s 2ms/step - loss: 0.5960 - acc: 0.6907 - val_loss: 0.6093 - val_acc: 0.6802\n",
            "Epoch 76/100\n",
            "275/275 [==============================] - 0s 2ms/step - loss: 0.5955 - acc: 0.6903 - val_loss: 0.6129 - val_acc: 0.6740\n",
            "Epoch 77/100\n",
            "275/275 [==============================] - 0s 2ms/step - loss: 0.6002 - acc: 0.6882 - val_loss: 0.6090 - val_acc: 0.6813\n",
            "Epoch 78/100\n",
            "275/275 [==============================] - 1s 2ms/step - loss: 0.5985 - acc: 0.6876 - val_loss: 0.6098 - val_acc: 0.6782\n",
            "Epoch 79/100\n",
            "275/275 [==============================] - 1s 2ms/step - loss: 0.6048 - acc: 0.6849 - val_loss: 0.6096 - val_acc: 0.6767\n",
            "Epoch 80/100\n",
            "275/275 [==============================] - 0s 2ms/step - loss: 0.5974 - acc: 0.6903 - val_loss: 0.6095 - val_acc: 0.6802\n",
            "Epoch 81/100\n",
            "275/275 [==============================] - 1s 2ms/step - loss: 0.5972 - acc: 0.6906 - val_loss: 0.6087 - val_acc: 0.6812\n",
            "Epoch 82/100\n",
            "275/275 [==============================] - 1s 2ms/step - loss: 0.5960 - acc: 0.6880 - val_loss: 0.6202 - val_acc: 0.6785\n",
            "Epoch 83/100\n",
            "275/275 [==============================] - 1s 2ms/step - loss: 0.5968 - acc: 0.6875 - val_loss: 0.6111 - val_acc: 0.6792\n",
            "Epoch 84/100\n",
            "275/275 [==============================] - 0s 2ms/step - loss: 0.5970 - acc: 0.6873 - val_loss: 0.6103 - val_acc: 0.6803\n",
            "Epoch 85/100\n",
            "275/275 [==============================] - 1s 2ms/step - loss: 0.5906 - acc: 0.6936 - val_loss: 0.6133 - val_acc: 0.6698\n",
            "Epoch 86/100\n",
            "275/275 [==============================] - 1s 2ms/step - loss: 0.5978 - acc: 0.6867 - val_loss: 0.6097 - val_acc: 0.6810\n",
            "Epoch 87/100\n",
            "275/275 [==============================] - 1s 2ms/step - loss: 0.5982 - acc: 0.6850 - val_loss: 0.6088 - val_acc: 0.6798\n",
            "Epoch 88/100\n",
            "275/275 [==============================] - 1s 2ms/step - loss: 0.5929 - acc: 0.6943 - val_loss: 0.6086 - val_acc: 0.6805\n",
            "Epoch 89/100\n",
            "275/275 [==============================] - 0s 2ms/step - loss: 0.5948 - acc: 0.6949 - val_loss: 0.6208 - val_acc: 0.6792\n",
            "Epoch 90/100\n",
            "275/275 [==============================] - 1s 2ms/step - loss: 0.5960 - acc: 0.6879 - val_loss: 0.6252 - val_acc: 0.6630\n",
            "Epoch 91/100\n",
            "275/275 [==============================] - 1s 2ms/step - loss: 0.5962 - acc: 0.6929 - val_loss: 0.6095 - val_acc: 0.6823\n",
            "Epoch 92/100\n",
            "275/275 [==============================] - 0s 2ms/step - loss: 0.5996 - acc: 0.6863 - val_loss: 0.6091 - val_acc: 0.6782\n",
            "Epoch 93/100\n",
            "275/275 [==============================] - 1s 2ms/step - loss: 0.5961 - acc: 0.6901 - val_loss: 0.6091 - val_acc: 0.6822\n",
            "Epoch 94/100\n",
            "275/275 [==============================] - 1s 2ms/step - loss: 0.5947 - acc: 0.6906 - val_loss: 0.6080 - val_acc: 0.6805\n",
            "Epoch 95/100\n",
            "275/275 [==============================] - 0s 2ms/step - loss: 0.5996 - acc: 0.6875 - val_loss: 0.6089 - val_acc: 0.6798\n",
            "Epoch 96/100\n",
            "275/275 [==============================] - 1s 2ms/step - loss: 0.5964 - acc: 0.6891 - val_loss: 0.6081 - val_acc: 0.6788\n",
            "Epoch 97/100\n",
            "275/275 [==============================] - 1s 2ms/step - loss: 0.5964 - acc: 0.6888 - val_loss: 0.6095 - val_acc: 0.6802\n",
            "Epoch 98/100\n",
            "275/275 [==============================] - 1s 2ms/step - loss: 0.5952 - acc: 0.6858 - val_loss: 0.6098 - val_acc: 0.6773\n",
            "Epoch 99/100\n",
            "275/275 [==============================] - 1s 2ms/step - loss: 0.6017 - acc: 0.6832 - val_loss: 0.6116 - val_acc: 0.6800\n",
            "Epoch 100/100\n",
            "275/275 [==============================] - 0s 2ms/step - loss: 0.5966 - acc: 0.6915 - val_loss: 0.6088 - val_acc: 0.6818\n"
          ],
          "name": "stdout"
        },
        {
          "output_type": "execute_result",
          "data": {
            "text/plain": [
              "dict_keys(['loss', 'acc', 'val_loss', 'val_acc'])"
            ]
          },
          "metadata": {
            "tags": []
          },
          "execution_count": 246
        }
      ]
    },
    {
      "cell_type": "markdown",
      "metadata": {
        "id": "mb5Kd-vK_8_8"
      },
      "source": [
        "### **Graph_loss & acc**"
      ]
    },
    {
      "cell_type": "code",
      "metadata": {
        "id": "75GouaDx_8Yz",
        "outputId": "447c73bc-4da2-43e2-dc74-c4a4fc46da35",
        "colab": {
          "base_uri": "https://localhost:8080/",
          "height": 295
        }
      },
      "source": [
        "history_dict = history.history\n",
        "loss = history_dict['loss']\n",
        "val_loss = history_dict['val_loss']\n",
        "\n",
        "epochs = range(1, len(loss)+1)\n",
        "\n",
        "plt.plot(epochs, loss, 'red', label='Training loss') \n",
        "plt.plot(epochs, val_loss, 'green', label='Validation loss')\n",
        "plt.title('Training & Validation Loss')\n",
        "plt.xlabel('Epochs')\n",
        "plt.ylabel('Loss')\n",
        "plt.legend()\n",
        "\n",
        "plt.show()"
      ],
      "execution_count": 247,
      "outputs": [
        {
          "output_type": "display_data",
          "data": {
            "image/png": "[encoded data removed]",
            "text/plain": [
              "<Figure size 432x288 with 1 Axes>"
            ]
          },
          "metadata": {
            "tags": [],
            "needs_background": "light"
          }
        }
      ]
    },
    {
      "cell_type": "code",
      "metadata": {
        "id": "7l-MSgDpAGUW",
        "outputId": "dd1fd82d-5da9-4c22-d0be-1e97ba9edc10",
        "colab": {
          "base_uri": "https://localhost:8080/",
          "height": 295
        }
      },
      "source": [
        "acc = history_dict['acc']\n",
        "val_acc = history_dict['val_acc']\n",
        "\n",
        "plt.plot(epochs, acc, 'red', label='Training acc') \n",
        "plt.plot(epochs, val_acc, 'green', label='Validation acc')\n",
        "plt.title('Training & Validation accuracy')\n",
        "plt.xlabel('Epochs')\n",
        "plt.ylabel('Accuracy')\n",
        "plt.legend()\n",
        "\n",
        "plt.show()"
      ],
      "execution_count": 248,
      "outputs": [
        {
          "output_type": "display_data",
          "data": {
            "image/png": "[encoded data removed]",
            "text/plain": [
              "<Figure size 432x288 with 1 Axes>"
            ]
          },
          "metadata": {
            "tags": [],
            "needs_background": "light"
          }
        }
      ]
    },
    {
      "cell_type": "code",
      "metadata": {
        "id": "3naz_KINpRKB",
        "colab": {
          "base_uri": "https://localhost:8080/"
        },
        "outputId": "440e1ba7-1f56-482e-8957-015b2d628cbe"
      },
      "source": [
        "history = model.fit(X_train, y_train, epochs= 100, batch_size = 512)"
      ],
      "execution_count": 201,
      "outputs": [
        {
          "output_type": "stream",
          "text": [
            "Epoch 1/100\n",
            "47/47 [==============================] - 1s 3ms/step - loss: 0.6419 - accuracy: 0.6719\n",
            "Epoch 2/100\n",
            "47/47 [==============================] - 0s 3ms/step - loss: 0.6232 - accuracy: 0.6759\n",
            "Epoch 3/100\n",
            "47/47 [==============================] - 0s 2ms/step - loss: 0.6199 - accuracy: 0.6781\n",
            "Epoch 4/100\n",
            "47/47 [==============================] - 0s 2ms/step - loss: 0.6192 - accuracy: 0.6779\n",
            "Epoch 5/100\n",
            "47/47 [==============================] - 0s 2ms/step - loss: 0.6168 - accuracy: 0.6819\n",
            "Epoch 6/100\n",
            "47/47 [==============================] - 0s 2ms/step - loss: 0.6170 - accuracy: 0.6816\n",
            "Epoch 7/100\n",
            "47/47 [==============================] - 0s 3ms/step - loss: 0.6150 - accuracy: 0.6800\n",
            "Epoch 8/100\n",
            "47/47 [==============================] - 0s 3ms/step - loss: 0.6109 - accuracy: 0.6849\n",
            "Epoch 9/100\n",
            "47/47 [==============================] - 0s 3ms/step - loss: 0.6092 - accuracy: 0.6854\n",
            "Epoch 10/100\n",
            "47/47 [==============================] - 0s 3ms/step - loss: 0.6102 - accuracy: 0.6842\n",
            "Epoch 11/100\n",
            "47/47 [==============================] - 0s 3ms/step - loss: 0.6156 - accuracy: 0.6813\n",
            "Epoch 12/100\n",
            "47/47 [==============================] - 0s 3ms/step - loss: 0.6074 - accuracy: 0.6843\n",
            "Epoch 13/100\n",
            "47/47 [==============================] - 0s 3ms/step - loss: 0.6136 - accuracy: 0.6739\n",
            "Epoch 14/100\n",
            "47/47 [==============================] - 0s 2ms/step - loss: 0.6065 - accuracy: 0.6852\n",
            "Epoch 15/100\n",
            "47/47 [==============================] - 0s 2ms/step - loss: 0.6131 - accuracy: 0.6708\n",
            "Epoch 16/100\n",
            "47/47 [==============================] - 0s 3ms/step - loss: 0.6072 - accuracy: 0.6843\n",
            "Epoch 17/100\n",
            "47/47 [==============================] - 0s 3ms/step - loss: 0.6065 - accuracy: 0.6866\n",
            "Epoch 18/100\n",
            "47/47 [==============================] - 0s 3ms/step - loss: 0.6024 - accuracy: 0.6837\n",
            "Epoch 19/100\n",
            "47/47 [==============================] - 0s 3ms/step - loss: 0.6011 - accuracy: 0.6911\n",
            "Epoch 20/100\n",
            "47/47 [==============================] - 0s 2ms/step - loss: 0.6068 - accuracy: 0.6839\n",
            "Epoch 21/100\n",
            "47/47 [==============================] - 0s 2ms/step - loss: 0.6082 - accuracy: 0.6823\n",
            "Epoch 22/100\n",
            "47/47 [==============================] - 0s 3ms/step - loss: 0.6057 - accuracy: 0.6865\n",
            "Epoch 23/100\n",
            "47/47 [==============================] - 0s 3ms/step - loss: 0.6075 - accuracy: 0.6797\n",
            "Epoch 24/100\n",
            "47/47 [==============================] - 0s 3ms/step - loss: 0.6074 - accuracy: 0.6803\n",
            "Epoch 25/100\n",
            "47/47 [==============================] - 0s 3ms/step - loss: 0.6052 - accuracy: 0.6868\n",
            "Epoch 26/100\n",
            "47/47 [==============================] - 0s 2ms/step - loss: 0.6058 - accuracy: 0.6895\n",
            "Epoch 27/100\n",
            "47/47 [==============================] - 0s 3ms/step - loss: 0.6075 - accuracy: 0.6802\n",
            "Epoch 28/100\n",
            "47/47 [==============================] - 0s 3ms/step - loss: 0.6056 - accuracy: 0.6858\n",
            "Epoch 29/100\n",
            "47/47 [==============================] - 0s 3ms/step - loss: 0.6015 - accuracy: 0.6869\n",
            "Epoch 30/100\n",
            "47/47 [==============================] - 0s 3ms/step - loss: 0.6052 - accuracy: 0.6824\n",
            "Epoch 31/100\n",
            "47/47 [==============================] - 0s 2ms/step - loss: 0.6074 - accuracy: 0.6796\n",
            "Epoch 32/100\n",
            "47/47 [==============================] - 0s 3ms/step - loss: 0.6107 - accuracy: 0.6810\n",
            "Epoch 33/100\n",
            "47/47 [==============================] - 0s 3ms/step - loss: 0.6057 - accuracy: 0.6841\n",
            "Epoch 34/100\n",
            "47/47 [==============================] - 0s 3ms/step - loss: 0.6167 - accuracy: 0.6625\n",
            "Epoch 35/100\n",
            "47/47 [==============================] - 0s 3ms/step - loss: 0.6117 - accuracy: 0.6672\n",
            "Epoch 36/100\n",
            "47/47 [==============================] - 0s 2ms/step - loss: 0.6101 - accuracy: 0.6674\n",
            "Epoch 37/100\n",
            "47/47 [==============================] - 0s 3ms/step - loss: 0.6093 - accuracy: 0.6828\n",
            "Epoch 38/100\n",
            "47/47 [==============================] - 0s 3ms/step - loss: 0.6037 - accuracy: 0.6843\n",
            "Epoch 39/100\n",
            "47/47 [==============================] - 0s 3ms/step - loss: 0.6054 - accuracy: 0.6785\n",
            "Epoch 40/100\n",
            "47/47 [==============================] - 0s 3ms/step - loss: 0.6072 - accuracy: 0.6862\n",
            "Epoch 41/100\n",
            "47/47 [==============================] - 0s 3ms/step - loss: 0.6057 - accuracy: 0.6846\n",
            "Epoch 42/100\n",
            "47/47 [==============================] - 0s 3ms/step - loss: 0.6016 - accuracy: 0.6839\n",
            "Epoch 43/100\n",
            "47/47 [==============================] - 0s 3ms/step - loss: 0.6033 - accuracy: 0.6881\n",
            "Epoch 44/100\n",
            "47/47 [==============================] - 0s 3ms/step - loss: 0.6063 - accuracy: 0.6780\n",
            "Epoch 45/100\n",
            "47/47 [==============================] - 0s 3ms/step - loss: 0.6039 - accuracy: 0.6848\n",
            "Epoch 46/100\n",
            "47/47 [==============================] - 0s 3ms/step - loss: 0.6046 - accuracy: 0.6833\n",
            "Epoch 47/100\n",
            "47/47 [==============================] - 0s 3ms/step - loss: 0.6010 - accuracy: 0.6862\n",
            "Epoch 48/100\n",
            "47/47 [==============================] - 0s 3ms/step - loss: 0.6075 - accuracy: 0.6797\n",
            "Epoch 49/100\n",
            "47/47 [==============================] - 0s 3ms/step - loss: 0.6003 - accuracy: 0.6861\n",
            "Epoch 50/100\n",
            "47/47 [==============================] - 0s 3ms/step - loss: 0.6037 - accuracy: 0.6879\n",
            "Epoch 51/100\n",
            "47/47 [==============================] - 0s 2ms/step - loss: 0.6029 - accuracy: 0.6859\n",
            "Epoch 52/100\n",
            "47/47 [==============================] - 0s 2ms/step - loss: 0.6012 - accuracy: 0.6867\n",
            "Epoch 53/100\n",
            "47/47 [==============================] - 0s 3ms/step - loss: 0.6021 - accuracy: 0.6866\n",
            "Epoch 54/100\n",
            "47/47 [==============================] - 0s 2ms/step - loss: 0.6094 - accuracy: 0.6689\n",
            "Epoch 55/100\n",
            "47/47 [==============================] - 0s 3ms/step - loss: 0.6049 - accuracy: 0.6797\n",
            "Epoch 56/100\n",
            "47/47 [==============================] - 0s 3ms/step - loss: 0.5986 - accuracy: 0.6891\n",
            "Epoch 57/100\n",
            "47/47 [==============================] - 0s 3ms/step - loss: 0.6017 - accuracy: 0.6838\n",
            "Epoch 58/100\n",
            "47/47 [==============================] - 0s 3ms/step - loss: 0.6012 - accuracy: 0.6829\n",
            "Epoch 59/100\n",
            "47/47 [==============================] - 0s 3ms/step - loss: 0.5997 - accuracy: 0.6869\n",
            "Epoch 60/100\n",
            "47/47 [==============================] - 0s 3ms/step - loss: 0.5969 - accuracy: 0.6902\n",
            "Epoch 61/100\n",
            "47/47 [==============================] - 0s 3ms/step - loss: 0.6050 - accuracy: 0.6831\n",
            "Epoch 62/100\n",
            "47/47 [==============================] - 0s 2ms/step - loss: 0.6062 - accuracy: 0.6833\n",
            "Epoch 63/100\n",
            "47/47 [==============================] - 0s 3ms/step - loss: 0.6044 - accuracy: 0.6829\n",
            "Epoch 64/100\n",
            "47/47 [==============================] - 0s 3ms/step - loss: 0.6070 - accuracy: 0.6805\n",
            "Epoch 65/100\n",
            "47/47 [==============================] - 0s 2ms/step - loss: 0.6035 - accuracy: 0.6873\n",
            "Epoch 66/100\n",
            "47/47 [==============================] - 0s 3ms/step - loss: 0.6002 - accuracy: 0.6889\n",
            "Epoch 67/100\n",
            "47/47 [==============================] - 0s 3ms/step - loss: 0.6109 - accuracy: 0.6811\n",
            "Epoch 68/100\n",
            "47/47 [==============================] - 0s 3ms/step - loss: 0.6051 - accuracy: 0.6793\n",
            "Epoch 69/100\n",
            "47/47 [==============================] - 0s 3ms/step - loss: 0.5997 - accuracy: 0.6857\n",
            "Epoch 70/100\n",
            "47/47 [==============================] - 0s 3ms/step - loss: 0.6009 - accuracy: 0.6885\n",
            "Epoch 71/100\n",
            "47/47 [==============================] - 0s 3ms/step - loss: 0.6019 - accuracy: 0.6842\n",
            "Epoch 72/100\n",
            "47/47 [==============================] - 0s 3ms/step - loss: 0.6073 - accuracy: 0.6821\n",
            "Epoch 73/100\n",
            "47/47 [==============================] - 0s 3ms/step - loss: 0.5994 - accuracy: 0.6881\n",
            "Epoch 74/100\n",
            "47/47 [==============================] - 0s 2ms/step - loss: 0.6014 - accuracy: 0.6837\n",
            "Epoch 75/100\n",
            "47/47 [==============================] - 0s 3ms/step - loss: 0.5997 - accuracy: 0.6835\n",
            "Epoch 76/100\n",
            "47/47 [==============================] - 0s 2ms/step - loss: 0.5981 - accuracy: 0.6875\n",
            "Epoch 77/100\n",
            "47/47 [==============================] - 0s 2ms/step - loss: 0.6010 - accuracy: 0.6873\n",
            "Epoch 78/100\n",
            "47/47 [==============================] - 0s 3ms/step - loss: 0.5994 - accuracy: 0.6880\n",
            "Epoch 79/100\n",
            "47/47 [==============================] - 0s 3ms/step - loss: 0.5991 - accuracy: 0.6893\n",
            "Epoch 80/100\n",
            "47/47 [==============================] - 0s 3ms/step - loss: 0.5999 - accuracy: 0.6864\n",
            "Epoch 81/100\n",
            "47/47 [==============================] - 0s 3ms/step - loss: 0.6059 - accuracy: 0.6835\n",
            "Epoch 82/100\n",
            "47/47 [==============================] - 0s 3ms/step - loss: 0.5994 - accuracy: 0.6868\n",
            "Epoch 83/100\n",
            "47/47 [==============================] - 0s 3ms/step - loss: 0.5997 - accuracy: 0.6849\n",
            "Epoch 84/100\n",
            "47/47 [==============================] - 0s 3ms/step - loss: 0.6059 - accuracy: 0.6747\n",
            "Epoch 85/100\n",
            "47/47 [==============================] - 0s 3ms/step - loss: 0.6007 - accuracy: 0.6849\n",
            "Epoch 86/100\n",
            "47/47 [==============================] - 0s 3ms/step - loss: 0.5950 - accuracy: 0.6888\n",
            "Epoch 87/100\n",
            "47/47 [==============================] - 0s 3ms/step - loss: 0.5983 - accuracy: 0.6889\n",
            "Epoch 88/100\n",
            "47/47 [==============================] - 0s 2ms/step - loss: 0.5970 - accuracy: 0.6889\n",
            "Epoch 89/100\n",
            "47/47 [==============================] - 0s 3ms/step - loss: 0.6021 - accuracy: 0.6803\n",
            "Epoch 90/100\n",
            "47/47 [==============================] - 0s 3ms/step - loss: 0.6022 - accuracy: 0.6862\n",
            "Epoch 91/100\n",
            "47/47 [==============================] - 0s 3ms/step - loss: 0.6016 - accuracy: 0.6867\n",
            "Epoch 92/100\n",
            "47/47 [==============================] - 0s 3ms/step - loss: 0.6001 - accuracy: 0.6846\n",
            "Epoch 93/100\n",
            "47/47 [==============================] - 0s 2ms/step - loss: 0.6017 - accuracy: 0.6829\n",
            "Epoch 94/100\n",
            "47/47 [==============================] - 0s 3ms/step - loss: 0.5974 - accuracy: 0.6850\n",
            "Epoch 95/100\n",
            "47/47 [==============================] - 0s 3ms/step - loss: 0.5966 - accuracy: 0.6872\n",
            "Epoch 96/100\n",
            "47/47 [==============================] - 0s 3ms/step - loss: 0.5996 - accuracy: 0.6819\n",
            "Epoch 97/100\n",
            "47/47 [==============================] - 0s 3ms/step - loss: 0.5957 - accuracy: 0.6900\n",
            "Epoch 98/100\n",
            "47/47 [==============================] - 0s 3ms/step - loss: 0.5987 - accuracy: 0.6871\n",
            "Epoch 99/100\n",
            "47/47 [==============================] - 0s 3ms/step - loss: 0.6016 - accuracy: 0.6809\n",
            "Epoch 100/100\n",
            "47/47 [==============================] - 0s 3ms/step - loss: 0.6034 - accuracy: 0.6856\n"
          ],
          "name": "stdout"
        }
      ]
    },
    {
      "cell_type": "code",
      "metadata": {
        "id": "aAxJYldD4shc",
        "outputId": "f6a9a362-f7c5-4cbe-bdd8-35d9c0f1cc64",
        "colab": {
          "base_uri": "https://localhost:8080/"
        }
      },
      "source": [
        "#Activation Relu & Sigmoid\n",
        "loss_and_metrics = model.evaluate(X_test, y_test, batch_size = 512)"
      ],
      "execution_count": 204,
      "outputs": [
        {
          "output_type": "stream",
          "text": [
            "12/12 [==============================] - 0s 2ms/step - loss: 0.6051 - accuracy: 0.6793\n"
          ],
          "name": "stdout"
        }
      ]
    },
    {
      "cell_type": "code",
      "metadata": {
        "id": "-I2TOSTSpVIp",
        "colab": {
          "base_uri": "https://localhost:8080/"
        },
        "outputId": "7f858c27-6c81-4dc7-ff5b-105fff4f3c85"
      },
      "source": [
        "#Activation Sigmoid & Softmax\n",
        "loss_and_metrics = model.evaluate(X_test, y_test, batch_size = 32)"
      ],
      "execution_count": 156,
      "outputs": [
        {
          "output_type": "stream",
          "text": [
            "185/185 [==============================] - 1s 2ms/step - loss: 0.6350 - accuracy: 0.6693\n"
          ],
          "name": "stdout"
        }
      ]
    },
    {
      "cell_type": "code",
      "metadata": {
        "id": "hX70uJ3pycsf",
        "outputId": "4ca634e6-9c6e-4b95-a712-536b6bef978b",
        "colab": {
          "base_uri": "https://localhost:8080/"
        }
      },
      "source": [
        "#Activation Relu & Softmax\n",
        "loss_and_metrics = model.evaluate(X_test, y_test, batch_size = 32)"
      ],
      "execution_count": 170,
      "outputs": [
        {
          "output_type": "stream",
          "text": [
            "185/185 [==============================] - 1s 2ms/step - loss: 0.6038 - accuracy: 0.6796\n"
          ],
          "name": "stdout"
        }
      ]
    },
    {
      "cell_type": "code",
      "metadata": {
        "id": "83U1DbrlptLZ",
        "colab": {
          "base_uri": "https://localhost:8080/"
        },
        "outputId": "01ba4fe9-36f6-4a86-891a-f8422fa99d5d"
      },
      "source": [
        "len(mlp_data[mlp_data['result_y'] ==1]) / len(mlp_data) * 100"
      ],
      "execution_count": 157,
      "outputs": [
        {
          "output_type": "execute_result",
          "data": {
            "text/plain": [
              "67.31950714503921"
            ]
          },
          "metadata": {
            "tags": []
          },
          "execution_count": 157
        }
      ]
    },
    {
      "cell_type": "code",
      "metadata": {
        "id": "VjKftBaU2v9Q"
      },
      "source": [
        ""
      ],
      "execution_count": null,
      "outputs": []
    }
  ]
}