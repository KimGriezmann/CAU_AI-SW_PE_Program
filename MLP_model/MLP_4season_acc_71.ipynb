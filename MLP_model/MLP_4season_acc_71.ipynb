{
  "nbformat": 4,
  "nbformat_minor": 0,
  "metadata": {
    "colab": {
      "name": "Web_Crawling__Selenium.ipynb",
      "provenance": [],
      "include_colab_link": true
    },
    "kernelspec": {
      "name": "python3",
      "display_name": "Python 3"
    },
    "language_info": {
      "name": "python"
    }
  },
  "cells": [
    {
      "cell_type": "markdown",
      "metadata": {
        "id": "view-in-github",
        "colab_type": "text"
      },
      "source": [
        "<a href=\"https://colab.research.google.com/github/KimGriezmann/DeepLearning_BeTheLegend/blob/master/MLP_model/MLP_4season_acc_71.ipynb\" target=\"_parent\"><img src=\"https://colab.research.google.com/assets/colab-badge.svg\" alt=\"Open In Colab\"/></a>"
      ]
    },
    {
      "cell_type": "markdown",
      "metadata": {
        "id": "MQZUvTKix_Wr"
      },
      "source": [
        "# **2018-2019-2020-2021시즌 데이터를 사용한 MLP model**\n",
        "### Number of data = *35125*\n",
        "최소 2타석 이상의 기록들만 사용\n",
        "### Number of feature = *12*\n",
        "\n",
        "1. avg (타율)\n",
        "2. slg (장타율)\n",
        "3. ops (출루율 + 장타율)\n",
        "4. home/away_avg_y (홈/원정 별 타율)\n",
        "5. vs_ab (상대 팀 누적 타수)\n",
        "6. vs_hit (상대 팀 누적 안타)\n",
        "7. vs_avg (상대 팀 타율)\n",
        "8. recent_5days_avg (최근 5일 타율)\n",
        "9. recent_5games_avg (최근 5경기 타율)\n",
        "10. recent_10games_avg (최근 10경기 타율)\n",
        "11. success_10days (최근 10일 성공률)\n",
        "12. success_10games (최근 10경기 성공률)\n",
        "\n",
        "acc = 0.7082\n",
        "\n"
      ]
    },
    {
      "cell_type": "code",
      "metadata": {
        "id": "B9FtxTkzzZZr"
      },
      "source": [
        "import numpy as np\n",
        "import pandas as pd\n",
        "import tqdm\n",
        "import os\n",
        "import matplotlib.pyplot as plt\n",
        "import seaborn as sns"
      ],
      "execution_count": 1,
      "outputs": []
    },
    {
      "cell_type": "code",
      "metadata": {
        "colab": {
          "base_uri": "https://localhost:8080/"
        },
        "id": "nVHrSFQLl3T9",
        "outputId": "9580a57f-0d07-407e-856e-44d226151c63"
      },
      "source": [
        "from google.colab import drive\n",
        "drive.mount('/gdrive', force_remount=True)"
      ],
      "execution_count": 2,
      "outputs": [
        {
          "output_type": "stream",
          "text": [
            "Mounted at /gdrive\n"
          ],
          "name": "stdout"
        }
      ]
    },
    {
      "cell_type": "code",
      "metadata": {
        "colab": {
          "base_uri": "https://localhost:8080/"
        },
        "id": "lpXdABfSmZEW",
        "outputId": "9bd923af-900a-4e40-d1b3-afa3442bb11d"
      },
      "source": [
        "from google.colab import drive\n",
        "drive.mount('/content/drive')"
      ],
      "execution_count": 3,
      "outputs": [
        {
          "output_type": "stream",
          "text": [
            "Mounted at /content/drive\n"
          ],
          "name": "stdout"
        }
      ]
    },
    {
      "cell_type": "code",
      "metadata": {
        "id": "Ep7XtRExl3Zc"
      },
      "source": [
        "data_2021 = pd.read_csv('/content/drive/MyDrive/bethelegend/data_2021.csv', encoding='euc-kr')\n",
        "batter_data_2021 = pd.read_csv('/content/drive/MyDrive/bethelegend/batter_data_2021.csv', encoding='euc-kr')\n",
        "\n",
        "data_2020 = pd.read_csv('/content/drive/MyDrive/bethelegend/data_2020.csv', encoding='euc-kr')\n",
        "batter_data_2020 = pd.read_csv('/content/drive/MyDrive/bethelegend/batter_data_2020.csv', encoding='euc-kr')\n",
        "\n",
        "data_2019 = pd.read_csv('/content/drive/MyDrive/bethelegend/data_2019.csv', encoding='euc-kr')\n",
        "batter_data_2019 = pd.read_csv('/content/drive/MyDrive/bethelegend/batter_data_2019.csv', encoding='euc-kr')\n",
        "\n",
        "data_2018 = pd.read_csv('/content/drive/MyDrive/bethelegend/data_2018.csv', encoding='euc-kr')\n",
        "batter_data_2018 = pd.read_csv('/content/drive/MyDrive/bethelegend/batter_data_2018.csv', encoding='euc-kr')"
      ],
      "execution_count": 4,
      "outputs": []
    },
    {
      "cell_type": "markdown",
      "metadata": {
        "id": "HPXExw4srpUH"
      },
      "source": [
        "### **날짜 형식 변경**"
      ]
    },
    {
      "cell_type": "code",
      "metadata": {
        "id": "76K2nEFinNLd"
      },
      "source": [
        "import pandas as pd\n",
        "import numpy as numpy\n",
        "\n",
        "# 날짜 데이터 값, 형식 변경\n",
        "# 현재 : object 형식으로 \"2018-04-04\" 값으로 존재 (의미 : 4월 4일)\n",
        "# 변경 : int 형식으로 20180404 으로 변경 (의미 : 2018년 4월 4일)\n",
        "\n",
        "def day_to_int(data):\n",
        "  data['day'] = pd.to_numeric(data['day'].str.replace(\"-\",\"\"))\n",
        "  return data"
      ],
      "execution_count": 5,
      "outputs": []
    },
    {
      "cell_type": "code",
      "metadata": {
        "id": "CXFOSc74nQid"
      },
      "source": [
        "data_2021 = day_to_int(data_2021)\n",
        "data_2020 = day_to_int(data_2020)\n",
        "data_2019 = day_to_int(data_2019)\n",
        "data_2018 = day_to_int(data_2018)"
      ],
      "execution_count": 6,
      "outputs": []
    },
    {
      "cell_type": "markdown",
      "metadata": {
        "id": "Gzb7t73MsaBX"
      },
      "source": [
        "### **더블헤더 처리**"
      ]
    },
    {
      "cell_type": "code",
      "metadata": {
        "id": "faBGlGmxsZpm"
      },
      "source": [
        "def double_header(data):\n",
        "\n",
        "  temp = np.zeros(len(data))\n",
        "\n",
        "  # day, name이 같은 값이 있다는 것은 더블헤더 경기가 있다는것\n",
        "  # keep=False 옵션은 중복 값에 해당하는 튜플들을 모두 True로 리턴, 그 외 옵션 : 'first', 'last' 의 경우 둘 중 하나만 True\n",
        "  dup = data.loc[:,['day','name']].duplicated(keep=False) \n",
        "\n",
        "  for i in range(len(data)):\n",
        "    if dup[i]==False:\n",
        "      temp[i]=0\n",
        "    elif dup[i]==True:\n",
        "      temp[i]=1\n",
        "\n",
        "  # 중복의 첫번째 행은 더블헤더 1차전\n",
        "  # 중복인 두번째 행이 더블헤더 2차전이다.\n",
        "  for i in range(1,len(temp)):\n",
        "    if temp[i]==1 and temp[i-1]==1:\n",
        "      temp[i]=2\n",
        "\n",
        "  data['double']=temp\n",
        "\n",
        "  return data"
      ],
      "execution_count": 7,
      "outputs": []
    },
    {
      "cell_type": "code",
      "metadata": {
        "id": "atPzZ27cLNRa"
      },
      "source": [
        "data_2021 = double_header(data_2021)\n",
        "data_2020 = double_header(data_2020)\n",
        "data_2019 = double_header(data_2019)\n",
        "data_2018 = double_header(data_2018)"
      ],
      "execution_count": 8,
      "outputs": []
    },
    {
      "cell_type": "code",
      "metadata": {
        "id": "gJ1yXyBoQpS7"
      },
      "source": [
        "ex_2021_data = data_2021.loc[:, ['name', 'day', 'double', 'vs', 'ab', 'hit']]\n",
        "ex_2020_data = data_2020.loc[:, ['name', 'day', 'double', 'vs', 'ab', 'hit']]\n",
        "ex_2019_data = data_2019.loc[:, ['name', 'day', 'double', 'vs', 'ab', 'hit']]\n",
        "ex_2018_data = data_2018.loc[:, ['name', 'day', 'double', 'vs', 'ab', 'hit']]"
      ],
      "execution_count": 9,
      "outputs": []
    },
    {
      "cell_type": "code",
      "metadata": {
        "id": "YwbRV2IyLS49",
        "colab": {
          "base_uri": "https://localhost:8080/",
          "height": 414
        },
        "outputId": "584cd8e9-62e7-44ae-ff0f-d1e119eb24b8"
      },
      "source": [
        "ex_2021_data"
      ],
      "execution_count": null,
      "outputs": [
        {
          "output_type": "execute_result",
          "data": {
            "text/html": [
              "<div>\n",
              "<style scoped>\n",
              "    .dataframe tbody tr th:only-of-type {\n",
              "        vertical-align: middle;\n",
              "    }\n",
              "\n",
              "    .dataframe tbody tr th {\n",
              "        vertical-align: top;\n",
              "    }\n",
              "\n",
              "    .dataframe thead th {\n",
              "        text-align: right;\n",
              "    }\n",
              "</style>\n",
              "<table border=\"1\" class=\"dataframe\">\n",
              "  <thead>\n",
              "    <tr style=\"text-align: right;\">\n",
              "      <th></th>\n",
              "      <th>name</th>\n",
              "      <th>day</th>\n",
              "      <th>double</th>\n",
              "      <th>vs</th>\n",
              "      <th>ab</th>\n",
              "      <th>hit</th>\n",
              "    </tr>\n",
              "  </thead>\n",
              "  <tbody>\n",
              "    <tr>\n",
              "      <th>0</th>\n",
              "      <td>강백호</td>\n",
              "      <td>20210404</td>\n",
              "      <td>0.0</td>\n",
              "      <td>한화</td>\n",
              "      <td>3</td>\n",
              "      <td>2</td>\n",
              "    </tr>\n",
              "    <tr>\n",
              "      <th>1</th>\n",
              "      <td>강백호</td>\n",
              "      <td>20210406</td>\n",
              "      <td>0.0</td>\n",
              "      <td>LG</td>\n",
              "      <td>4</td>\n",
              "      <td>0</td>\n",
              "    </tr>\n",
              "    <tr>\n",
              "      <th>2</th>\n",
              "      <td>강백호</td>\n",
              "      <td>20210407</td>\n",
              "      <td>0.0</td>\n",
              "      <td>LG</td>\n",
              "      <td>4</td>\n",
              "      <td>3</td>\n",
              "    </tr>\n",
              "    <tr>\n",
              "      <th>3</th>\n",
              "      <td>강백호</td>\n",
              "      <td>20210408</td>\n",
              "      <td>0.0</td>\n",
              "      <td>LG</td>\n",
              "      <td>4</td>\n",
              "      <td>2</td>\n",
              "    </tr>\n",
              "    <tr>\n",
              "      <th>4</th>\n",
              "      <td>강백호</td>\n",
              "      <td>20210409</td>\n",
              "      <td>0.0</td>\n",
              "      <td>@삼성</td>\n",
              "      <td>5</td>\n",
              "      <td>3</td>\n",
              "    </tr>\n",
              "    <tr>\n",
              "      <th>...</th>\n",
              "      <td>...</td>\n",
              "      <td>...</td>\n",
              "      <td>...</td>\n",
              "      <td>...</td>\n",
              "      <td>...</td>\n",
              "      <td>...</td>\n",
              "    </tr>\n",
              "    <tr>\n",
              "      <th>5815</th>\n",
              "      <td>김민하</td>\n",
              "      <td>20210623</td>\n",
              "      <td>0.0</td>\n",
              "      <td>@삼성</td>\n",
              "      <td>3</td>\n",
              "      <td>1</td>\n",
              "    </tr>\n",
              "    <tr>\n",
              "      <th>5816</th>\n",
              "      <td>김민하</td>\n",
              "      <td>20210624</td>\n",
              "      <td>0.0</td>\n",
              "      <td>@삼성</td>\n",
              "      <td>4</td>\n",
              "      <td>0</td>\n",
              "    </tr>\n",
              "    <tr>\n",
              "      <th>5817</th>\n",
              "      <td>김민하</td>\n",
              "      <td>20210626</td>\n",
              "      <td>0.0</td>\n",
              "      <td>KT</td>\n",
              "      <td>1</td>\n",
              "      <td>0</td>\n",
              "    </tr>\n",
              "    <tr>\n",
              "      <th>5818</th>\n",
              "      <td>김민하</td>\n",
              "      <td>20210709</td>\n",
              "      <td>0.0</td>\n",
              "      <td>@SSG</td>\n",
              "      <td>4</td>\n",
              "      <td>1</td>\n",
              "    </tr>\n",
              "    <tr>\n",
              "      <th>5819</th>\n",
              "      <td>김민하</td>\n",
              "      <td>20210710</td>\n",
              "      <td>0.0</td>\n",
              "      <td>@SSG</td>\n",
              "      <td>3</td>\n",
              "      <td>1</td>\n",
              "    </tr>\n",
              "  </tbody>\n",
              "</table>\n",
              "<p>5820 rows × 6 columns</p>\n",
              "</div>"
            ],
            "text/plain": [
              "     name       day  double    vs  ab  hit\n",
              "0     강백호  20210404     0.0    한화   3    2\n",
              "1     강백호  20210406     0.0    LG   4    0\n",
              "2     강백호  20210407     0.0    LG   4    3\n",
              "3     강백호  20210408     0.0    LG   4    2\n",
              "4     강백호  20210409     0.0   @삼성   5    3\n",
              "...   ...       ...     ...   ...  ..  ...\n",
              "5815  김민하  20210623     0.0   @삼성   3    1\n",
              "5816  김민하  20210624     0.0   @삼성   4    0\n",
              "5817  김민하  20210626     0.0    KT   1    0\n",
              "5818  김민하  20210709     0.0  @SSG   4    1\n",
              "5819  김민하  20210710     0.0  @SSG   3    1\n",
              "\n",
              "[5820 rows x 6 columns]"
            ]
          },
          "metadata": {
            "tags": []
          },
          "execution_count": 79
        }
      ]
    },
    {
      "cell_type": "code",
      "metadata": {
        "colab": {
          "base_uri": "https://localhost:8080/",
          "height": 414
        },
        "id": "J9mPn41WPmEd",
        "outputId": "8fc51610-294d-4a2b-ee46-588251079a80"
      },
      "source": [
        "ex_2020_data"
      ],
      "execution_count": null,
      "outputs": [
        {
          "output_type": "execute_result",
          "data": {
            "text/html": [
              "<div>\n",
              "<style scoped>\n",
              "    .dataframe tbody tr th:only-of-type {\n",
              "        vertical-align: middle;\n",
              "    }\n",
              "\n",
              "    .dataframe tbody tr th {\n",
              "        vertical-align: top;\n",
              "    }\n",
              "\n",
              "    .dataframe thead th {\n",
              "        text-align: right;\n",
              "    }\n",
              "</style>\n",
              "<table border=\"1\" class=\"dataframe\">\n",
              "  <thead>\n",
              "    <tr style=\"text-align: right;\">\n",
              "      <th></th>\n",
              "      <th>name</th>\n",
              "      <th>day</th>\n",
              "      <th>double</th>\n",
              "      <th>vs</th>\n",
              "      <th>ab</th>\n",
              "      <th>hit</th>\n",
              "    </tr>\n",
              "  </thead>\n",
              "  <tbody>\n",
              "    <tr>\n",
              "      <th>0</th>\n",
              "      <td>나성범</td>\n",
              "      <td>20200505</td>\n",
              "      <td>0.0</td>\n",
              "      <td>@삼성</td>\n",
              "      <td>3</td>\n",
              "      <td>2</td>\n",
              "    </tr>\n",
              "    <tr>\n",
              "      <th>1</th>\n",
              "      <td>나성범</td>\n",
              "      <td>20200506</td>\n",
              "      <td>0.0</td>\n",
              "      <td>@삼성</td>\n",
              "      <td>4</td>\n",
              "      <td>0</td>\n",
              "    </tr>\n",
              "    <tr>\n",
              "      <th>2</th>\n",
              "      <td>나성범</td>\n",
              "      <td>20200507</td>\n",
              "      <td>0.0</td>\n",
              "      <td>@삼성</td>\n",
              "      <td>3</td>\n",
              "      <td>0</td>\n",
              "    </tr>\n",
              "    <tr>\n",
              "      <th>3</th>\n",
              "      <td>나성범</td>\n",
              "      <td>20200508</td>\n",
              "      <td>0.0</td>\n",
              "      <td>LG</td>\n",
              "      <td>3</td>\n",
              "      <td>0</td>\n",
              "    </tr>\n",
              "    <tr>\n",
              "      <th>4</th>\n",
              "      <td>나성범</td>\n",
              "      <td>20200510</td>\n",
              "      <td>0.0</td>\n",
              "      <td>LG</td>\n",
              "      <td>5</td>\n",
              "      <td>3</td>\n",
              "    </tr>\n",
              "    <tr>\n",
              "      <th>...</th>\n",
              "      <td>...</td>\n",
              "      <td>...</td>\n",
              "      <td>...</td>\n",
              "      <td>...</td>\n",
              "      <td>...</td>\n",
              "      <td>...</td>\n",
              "    </tr>\n",
              "    <tr>\n",
              "      <th>10983</th>\n",
              "      <td>하주석</td>\n",
              "      <td>20200920</td>\n",
              "      <td>0.0</td>\n",
              "      <td>@KIA</td>\n",
              "      <td>4</td>\n",
              "      <td>2</td>\n",
              "    </tr>\n",
              "    <tr>\n",
              "      <th>10984</th>\n",
              "      <td>하주석</td>\n",
              "      <td>20200922</td>\n",
              "      <td>0.0</td>\n",
              "      <td>두산</td>\n",
              "      <td>3</td>\n",
              "      <td>1</td>\n",
              "    </tr>\n",
              "    <tr>\n",
              "      <th>10985</th>\n",
              "      <td>하주석</td>\n",
              "      <td>20200923</td>\n",
              "      <td>0.0</td>\n",
              "      <td>두산</td>\n",
              "      <td>4</td>\n",
              "      <td>2</td>\n",
              "    </tr>\n",
              "    <tr>\n",
              "      <th>10986</th>\n",
              "      <td>하주석</td>\n",
              "      <td>20200924</td>\n",
              "      <td>0.0</td>\n",
              "      <td>롯데</td>\n",
              "      <td>5</td>\n",
              "      <td>1</td>\n",
              "    </tr>\n",
              "    <tr>\n",
              "      <th>10987</th>\n",
              "      <td>하주석</td>\n",
              "      <td>20200925</td>\n",
              "      <td>0.0</td>\n",
              "      <td>롯데</td>\n",
              "      <td>6</td>\n",
              "      <td>2</td>\n",
              "    </tr>\n",
              "  </tbody>\n",
              "</table>\n",
              "<p>10988 rows × 6 columns</p>\n",
              "</div>"
            ],
            "text/plain": [
              "      name       day  double    vs  ab  hit\n",
              "0      나성범  20200505     0.0   @삼성   3    2\n",
              "1      나성범  20200506     0.0   @삼성   4    0\n",
              "2      나성범  20200507     0.0   @삼성   3    0\n",
              "3      나성범  20200508     0.0    LG   3    0\n",
              "4      나성범  20200510     0.0    LG   5    3\n",
              "...    ...       ...     ...   ...  ..  ...\n",
              "10983  하주석  20200920     0.0  @KIA   4    2\n",
              "10984  하주석  20200922     0.0    두산   3    1\n",
              "10985  하주석  20200923     0.0    두산   4    2\n",
              "10986  하주석  20200924     0.0    롯데   5    1\n",
              "10987  하주석  20200925     0.0    롯데   6    2\n",
              "\n",
              "[10988 rows x 6 columns]"
            ]
          },
          "metadata": {
            "tags": []
          },
          "execution_count": 80
        }
      ]
    },
    {
      "cell_type": "code",
      "metadata": {
        "colab": {
          "base_uri": "https://localhost:8080/",
          "height": 414
        },
        "id": "IZSbpGzIHvez",
        "outputId": "14b55243-15a6-4eed-afa1-0d80dcf21575"
      },
      "source": [
        "ex_2019_data"
      ],
      "execution_count": null,
      "outputs": [
        {
          "output_type": "execute_result",
          "data": {
            "text/html": [
              "<div>\n",
              "<style scoped>\n",
              "    .dataframe tbody tr th:only-of-type {\n",
              "        vertical-align: middle;\n",
              "    }\n",
              "\n",
              "    .dataframe tbody tr th {\n",
              "        vertical-align: top;\n",
              "    }\n",
              "\n",
              "    .dataframe thead th {\n",
              "        text-align: right;\n",
              "    }\n",
              "</style>\n",
              "<table border=\"1\" class=\"dataframe\">\n",
              "  <thead>\n",
              "    <tr style=\"text-align: right;\">\n",
              "      <th></th>\n",
              "      <th>name</th>\n",
              "      <th>day</th>\n",
              "      <th>double</th>\n",
              "      <th>vs</th>\n",
              "      <th>ab</th>\n",
              "      <th>hit</th>\n",
              "    </tr>\n",
              "  </thead>\n",
              "  <tbody>\n",
              "    <tr>\n",
              "      <th>0</th>\n",
              "      <td>박민우</td>\n",
              "      <td>20190413</td>\n",
              "      <td>0.0</td>\n",
              "      <td>롯데</td>\n",
              "      <td>4</td>\n",
              "      <td>2</td>\n",
              "    </tr>\n",
              "    <tr>\n",
              "      <th>1</th>\n",
              "      <td>박민우</td>\n",
              "      <td>20190414</td>\n",
              "      <td>0.0</td>\n",
              "      <td>롯데</td>\n",
              "      <td>4</td>\n",
              "      <td>2</td>\n",
              "    </tr>\n",
              "    <tr>\n",
              "      <th>2</th>\n",
              "      <td>박민우</td>\n",
              "      <td>20190416</td>\n",
              "      <td>0.0</td>\n",
              "      <td>LG</td>\n",
              "      <td>5</td>\n",
              "      <td>2</td>\n",
              "    </tr>\n",
              "    <tr>\n",
              "      <th>3</th>\n",
              "      <td>박민우</td>\n",
              "      <td>20190417</td>\n",
              "      <td>0.0</td>\n",
              "      <td>LG</td>\n",
              "      <td>5</td>\n",
              "      <td>0</td>\n",
              "    </tr>\n",
              "    <tr>\n",
              "      <th>4</th>\n",
              "      <td>박민우</td>\n",
              "      <td>20190418</td>\n",
              "      <td>0.0</td>\n",
              "      <td>LG</td>\n",
              "      <td>4</td>\n",
              "      <td>2</td>\n",
              "    </tr>\n",
              "    <tr>\n",
              "      <th>...</th>\n",
              "      <td>...</td>\n",
              "      <td>...</td>\n",
              "      <td>...</td>\n",
              "      <td>...</td>\n",
              "      <td>...</td>\n",
              "      <td>...</td>\n",
              "    </tr>\n",
              "    <tr>\n",
              "      <th>10989</th>\n",
              "      <td>정근우</td>\n",
              "      <td>20190925</td>\n",
              "      <td>0.0</td>\n",
              "      <td>@NC</td>\n",
              "      <td>3</td>\n",
              "      <td>2</td>\n",
              "    </tr>\n",
              "    <tr>\n",
              "      <th>10990</th>\n",
              "      <td>정근우</td>\n",
              "      <td>20190926</td>\n",
              "      <td>0.0</td>\n",
              "      <td>@NC</td>\n",
              "      <td>2</td>\n",
              "      <td>0</td>\n",
              "    </tr>\n",
              "    <tr>\n",
              "      <th>10991</th>\n",
              "      <td>정근우</td>\n",
              "      <td>20190928</td>\n",
              "      <td>0.0</td>\n",
              "      <td>@두산</td>\n",
              "      <td>5</td>\n",
              "      <td>3</td>\n",
              "    </tr>\n",
              "    <tr>\n",
              "      <th>10992</th>\n",
              "      <td>정근우</td>\n",
              "      <td>20190929</td>\n",
              "      <td>0.0</td>\n",
              "      <td>SK</td>\n",
              "      <td>3</td>\n",
              "      <td>0</td>\n",
              "    </tr>\n",
              "    <tr>\n",
              "      <th>10993</th>\n",
              "      <td>정근우</td>\n",
              "      <td>20190930</td>\n",
              "      <td>0.0</td>\n",
              "      <td>SK</td>\n",
              "      <td>4</td>\n",
              "      <td>1</td>\n",
              "    </tr>\n",
              "  </tbody>\n",
              "</table>\n",
              "<p>10994 rows × 6 columns</p>\n",
              "</div>"
            ],
            "text/plain": [
              "      name       day  double   vs  ab  hit\n",
              "0      박민우  20190413     0.0   롯데   4    2\n",
              "1      박민우  20190414     0.0   롯데   4    2\n",
              "2      박민우  20190416     0.0   LG   5    2\n",
              "3      박민우  20190417     0.0   LG   5    0\n",
              "4      박민우  20190418     0.0   LG   4    2\n",
              "...    ...       ...     ...  ...  ..  ...\n",
              "10989  정근우  20190925     0.0  @NC   3    2\n",
              "10990  정근우  20190926     0.0  @NC   2    0\n",
              "10991  정근우  20190928     0.0  @두산   5    3\n",
              "10992  정근우  20190929     0.0   SK   3    0\n",
              "10993  정근우  20190930     0.0   SK   4    1\n",
              "\n",
              "[10994 rows x 6 columns]"
            ]
          },
          "metadata": {
            "tags": []
          },
          "execution_count": 81
        }
      ]
    },
    {
      "cell_type": "code",
      "metadata": {
        "id": "5viqiR3UPPgf",
        "colab": {
          "base_uri": "https://localhost:8080/",
          "height": 414
        },
        "outputId": "0b4e8af2-1c1a-4fe5-a5f4-8d30cd763774"
      },
      "source": [
        "ex_2018_data"
      ],
      "execution_count": null,
      "outputs": [
        {
          "output_type": "execute_result",
          "data": {
            "text/html": [
              "<div>\n",
              "<style scoped>\n",
              "    .dataframe tbody tr th:only-of-type {\n",
              "        vertical-align: middle;\n",
              "    }\n",
              "\n",
              "    .dataframe tbody tr th {\n",
              "        vertical-align: top;\n",
              "    }\n",
              "\n",
              "    .dataframe thead th {\n",
              "        text-align: right;\n",
              "    }\n",
              "</style>\n",
              "<table border=\"1\" class=\"dataframe\">\n",
              "  <thead>\n",
              "    <tr style=\"text-align: right;\">\n",
              "      <th></th>\n",
              "      <th>name</th>\n",
              "      <th>day</th>\n",
              "      <th>double</th>\n",
              "      <th>vs</th>\n",
              "      <th>ab</th>\n",
              "      <th>hit</th>\n",
              "    </tr>\n",
              "  </thead>\n",
              "  <tbody>\n",
              "    <tr>\n",
              "      <th>0</th>\n",
              "      <td>나성범</td>\n",
              "      <td>20180324</td>\n",
              "      <td>0.0</td>\n",
              "      <td>LG</td>\n",
              "      <td>4</td>\n",
              "      <td>0</td>\n",
              "    </tr>\n",
              "    <tr>\n",
              "      <th>1</th>\n",
              "      <td>나성범</td>\n",
              "      <td>20180325</td>\n",
              "      <td>0.0</td>\n",
              "      <td>LG</td>\n",
              "      <td>3</td>\n",
              "      <td>1</td>\n",
              "    </tr>\n",
              "    <tr>\n",
              "      <th>2</th>\n",
              "      <td>나성범</td>\n",
              "      <td>20180327</td>\n",
              "      <td>0.0</td>\n",
              "      <td>한화</td>\n",
              "      <td>4</td>\n",
              "      <td>2</td>\n",
              "    </tr>\n",
              "    <tr>\n",
              "      <th>3</th>\n",
              "      <td>나성범</td>\n",
              "      <td>20180328</td>\n",
              "      <td>0.0</td>\n",
              "      <td>한화</td>\n",
              "      <td>4</td>\n",
              "      <td>0</td>\n",
              "    </tr>\n",
              "    <tr>\n",
              "      <th>4</th>\n",
              "      <td>나성범</td>\n",
              "      <td>20180329</td>\n",
              "      <td>0.0</td>\n",
              "      <td>한화</td>\n",
              "      <td>4</td>\n",
              "      <td>2</td>\n",
              "    </tr>\n",
              "    <tr>\n",
              "      <th>...</th>\n",
              "      <td>...</td>\n",
              "      <td>...</td>\n",
              "      <td>...</td>\n",
              "      <td>...</td>\n",
              "      <td>...</td>\n",
              "      <td>...</td>\n",
              "    </tr>\n",
              "    <tr>\n",
              "      <th>11311</th>\n",
              "      <td>강경학</td>\n",
              "      <td>20181006</td>\n",
              "      <td>0.0</td>\n",
              "      <td>@롯데</td>\n",
              "      <td>1</td>\n",
              "      <td>0</td>\n",
              "    </tr>\n",
              "    <tr>\n",
              "      <th>11312</th>\n",
              "      <td>강경학</td>\n",
              "      <td>20181009</td>\n",
              "      <td>0.0</td>\n",
              "      <td>@KT</td>\n",
              "      <td>3</td>\n",
              "      <td>1</td>\n",
              "    </tr>\n",
              "    <tr>\n",
              "      <th>11313</th>\n",
              "      <td>강경학</td>\n",
              "      <td>20181019</td>\n",
              "      <td>0.0</td>\n",
              "      <td>넥센</td>\n",
              "      <td>0</td>\n",
              "      <td>0</td>\n",
              "    </tr>\n",
              "    <tr>\n",
              "      <th>11314</th>\n",
              "      <td>강경학</td>\n",
              "      <td>20181020</td>\n",
              "      <td>0.0</td>\n",
              "      <td>넥센</td>\n",
              "      <td>1</td>\n",
              "      <td>0</td>\n",
              "    </tr>\n",
              "    <tr>\n",
              "      <th>11315</th>\n",
              "      <td>강경학</td>\n",
              "      <td>20181023</td>\n",
              "      <td>0.0</td>\n",
              "      <td>@넥센</td>\n",
              "      <td>1</td>\n",
              "      <td>1</td>\n",
              "    </tr>\n",
              "  </tbody>\n",
              "</table>\n",
              "<p>11316 rows × 6 columns</p>\n",
              "</div>"
            ],
            "text/plain": [
              "      name       day  double   vs  ab  hit\n",
              "0      나성범  20180324     0.0   LG   4    0\n",
              "1      나성범  20180325     0.0   LG   3    1\n",
              "2      나성범  20180327     0.0   한화   4    2\n",
              "3      나성범  20180328     0.0   한화   4    0\n",
              "4      나성범  20180329     0.0   한화   4    2\n",
              "...    ...       ...     ...  ...  ..  ...\n",
              "11311  강경학  20181006     0.0  @롯데   1    0\n",
              "11312  강경학  20181009     0.0  @KT   3    1\n",
              "11313  강경학  20181019     0.0   넥센   0    0\n",
              "11314  강경학  20181020     0.0   넥센   1    0\n",
              "11315  강경학  20181023     0.0  @넥센   1    1\n",
              "\n",
              "[11316 rows x 6 columns]"
            ]
          },
          "metadata": {
            "tags": []
          },
          "execution_count": 82
        }
      ]
    },
    {
      "cell_type": "markdown",
      "metadata": {
        "id": "EMFLJATDyKr7"
      },
      "source": [
        "### **vs에서 @ 유무에 따라 home / away 구분하기**"
      ]
    },
    {
      "cell_type": "code",
      "metadata": {
        "id": "9_Vc0h4O6sMQ"
      },
      "source": [
        "def make_vs(data):\n",
        "  data['vs_team'] = [s[1:] if s[0] == '@' else s for s in data['vs']] \n",
        "\n",
        "  result_Dataframe = pd.DataFrame()\n",
        "  result_Dataframe['name'] = data['name']\n",
        "  result_Dataframe['day'] = data['day']\n",
        "  result_Dataframe['double'] = data['double']\n",
        "  result_Dataframe['vs'] = data['vs']\n",
        "  result_Dataframe['vs_team'] = data['vs_team']\n",
        "  result_Dataframe['ab'] = data['ab']\n",
        "  result_Dataframe['hit'] = data['hit']\n",
        "  result_Dataframe\n",
        "\n",
        "  return result_Dataframe"
      ],
      "execution_count": 10,
      "outputs": []
    },
    {
      "cell_type": "code",
      "metadata": {
        "id": "HBOvZsOgJ6Rg"
      },
      "source": [
        "ex_2021_data_2 = make_vs(ex_2021_data)\n",
        "ex_2020_data_2 = make_vs(ex_2020_data)\n",
        "ex_2019_data_2 = make_vs(ex_2019_data)\n",
        "ex_2018_data_2 = make_vs(ex_2018_data)"
      ],
      "execution_count": 11,
      "outputs": []
    },
    {
      "cell_type": "markdown",
      "metadata": {
        "id": "mnxYO08myWEr"
      },
      "source": [
        "### **해당 경기의 안타 성공 결과(result) 도출**"
      ]
    },
    {
      "cell_type": "code",
      "metadata": {
        "id": "ZQ1tpxtC0Kot"
      },
      "source": [
        "def make_result(data):\n",
        "  data['result'] = [0 if s == 0 else 1 for s in data['hit']] \n",
        "\n",
        "  result_Dataframe = pd.DataFrame()\n",
        "  result_Dataframe['name'] = data['name']\n",
        "  result_Dataframe['day'] = data['day']\n",
        "  result_Dataframe['double'] = data['double']\n",
        "  result_Dataframe['vs'] = data['vs']\n",
        "  result_Dataframe['vs_team'] = data['vs_team']\n",
        "  result_Dataframe['ab'] = data['ab']\n",
        "  result_Dataframe['hit'] = data['hit']\n",
        "  result_Dataframe['result'] = data['result']\n",
        "  result_Dataframe\n",
        "\n",
        "  return result_Dataframe"
      ],
      "execution_count": 12,
      "outputs": []
    },
    {
      "cell_type": "code",
      "metadata": {
        "id": "AvDFELVGNyFQ"
      },
      "source": [
        "ex_2021_data_3 = make_result(ex_2021_data_2)\n",
        "ex_2020_data_3 = make_result(ex_2020_data_2)\n",
        "ex_2019_data_3 = make_result(ex_2019_data_2)\n",
        "ex_2018_data_3 = make_result(ex_2018_data_2)"
      ],
      "execution_count": 13,
      "outputs": []
    },
    {
      "cell_type": "code",
      "metadata": {
        "id": "O5ureCXr1gQ4",
        "colab": {
          "base_uri": "https://localhost:8080/",
          "height": 334
        },
        "outputId": "aec2159d-9d33-4e4b-bbcb-05fb80c75b1e"
      },
      "source": [
        "sns.countplot(ex_2018_data_3['result'])\n",
        "plt.show()"
      ],
      "execution_count": null,
      "outputs": [
        {
          "output_type": "stream",
          "text": [
            "/usr/local/lib/python3.7/dist-packages/seaborn/_decorators.py:43: FutureWarning: Pass the following variable as a keyword arg: x. From version 0.12, the only valid positional argument will be `data`, and passing other arguments without an explicit keyword will result in an error or misinterpretation.\n",
            "  FutureWarning\n"
          ],
          "name": "stderr"
        },
        {
          "output_type": "display_data",
          "data": {
            "image/png": "[encoded data removed]",
            "text/plain": [
              "<Figure size 432x288 with 1 Axes>"
            ]
          },
          "metadata": {
            "tags": [],
            "needs_background": "light"
          }
        }
      ]
    },
    {
      "cell_type": "code",
      "metadata": {
        "colab": {
          "base_uri": "https://localhost:8080/",
          "height": 334
        },
        "id": "DLA515YOszeW",
        "outputId": "939a10fc-0c8a-4b2e-cded-b7ffcdc6fdca"
      },
      "source": [
        "sns.countplot(ex_2020_data_3['double'])\n",
        "plt.show()"
      ],
      "execution_count": null,
      "outputs": [
        {
          "output_type": "stream",
          "text": [
            "/usr/local/lib/python3.7/dist-packages/seaborn/_decorators.py:43: FutureWarning: Pass the following variable as a keyword arg: x. From version 0.12, the only valid positional argument will be `data`, and passing other arguments without an explicit keyword will result in an error or misinterpretation.\n",
            "  FutureWarning\n"
          ],
          "name": "stderr"
        },
        {
          "output_type": "display_data",
          "data": {
            "image/png": "[encoded data removed]",
            "text/plain": [
              "<Figure size 432x288 with 1 Axes>"
            ]
          },
          "metadata": {
            "tags": [],
            "needs_background": "light"
          }
        }
      ]
    },
    {
      "cell_type": "markdown",
      "metadata": {
        "id": "VjxrHquXyije"
      },
      "source": [
        "### **home/away 구분하는 열 추가**"
      ]
    },
    {
      "cell_type": "code",
      "metadata": {
        "id": "2M8m_ZWa9Dtl"
      },
      "source": [
        "def make_home_away(data):\n",
        "  data['home/away'] = ['away' if s[0] == '@' else 'home' for s in data['vs']]\n",
        "\n",
        "  result_Dataframe = pd.DataFrame()\n",
        "  result_Dataframe['name'] = data['name']\n",
        "  result_Dataframe['day'] = data['day']\n",
        "  result_Dataframe['double'] = data['double']\n",
        "  result_Dataframe['vs'] = data['vs']\n",
        "  result_Dataframe['vs_team'] = data['vs_team']\n",
        "  result_Dataframe['ab'] = data['ab']\n",
        "  result_Dataframe['hit'] = data['hit']\n",
        "  result_Dataframe['result'] = data['result']\n",
        "  result_Dataframe['home/away'] = data['home/away']\n",
        "  result_Dataframe\n",
        "\n",
        "  return result_Dataframe"
      ],
      "execution_count": 14,
      "outputs": []
    },
    {
      "cell_type": "code",
      "metadata": {
        "id": "KYVg1IFoKCjX"
      },
      "source": [
        "ex_2021_data_4 = make_home_away(ex_2021_data_3)\n",
        "ex_2020_data_4 = make_home_away(ex_2020_data_3)\n",
        "ex_2019_data_4 = make_home_away(ex_2019_data_3)\n",
        "ex_2018_data_4 = make_home_away(ex_2018_data_3)"
      ],
      "execution_count": 15,
      "outputs": []
    },
    {
      "cell_type": "markdown",
      "metadata": {
        "id": "L_iDncL4yuv0"
      },
      "source": [
        "### **home/away별 타율 구하는 과정**"
      ]
    },
    {
      "cell_type": "code",
      "metadata": {
        "id": "SuPIWYjyHhZA"
      },
      "source": [
        "def make_home_away_slot(data):\n",
        "  data['home_ab'] = [0 if s == 'home' else 0 for s, ab in zip(data['home/away'], data['ab'])]\n",
        "  data['home_hit'] = [0 if s == 'home' else 0 for s, hit in zip(data['home/away'], data['hit'])]\n",
        "  data['away_ab'] = [0 if s == 'away' else 0 for s, ab in zip(data['home/away'], data['ab'])]\n",
        "  data['away_hit'] = [0 if s == 'away' else 0 for s, hit in zip(data['home/away'], data['hit'])]\n",
        "\n",
        "  result_Dataframe = pd.DataFrame()\n",
        "  result_Dataframe['name'] = data['name']\n",
        "  result_Dataframe['day'] = data['day']\n",
        "  result_Dataframe['double'] = data['double']\n",
        "  result_Dataframe['vs'] = data['vs']\n",
        "  result_Dataframe['vs_team'] = data['vs_team']\n",
        "  result_Dataframe['ab'] = data['ab']\n",
        "  result_Dataframe['hit'] = data['hit']\n",
        "  result_Dataframe['home/away'] = data['home/away']\n",
        "  result_Dataframe['home_ab'] = data['home_ab']\n",
        "  result_Dataframe['home_hit'] = data['home_hit']\n",
        "  result_Dataframe['away_ab'] = data['away_ab']\n",
        "  result_Dataframe['away_hit'] = data['away_hit']\n",
        "  result_Dataframe\n",
        "\n",
        "  return result_Dataframe  "
      ],
      "execution_count": 16,
      "outputs": []
    },
    {
      "cell_type": "code",
      "metadata": {
        "id": "Tx31S2ijUWUK"
      },
      "source": [
        "ex_2021_data_5 = make_home_away_slot(ex_2021_data_4)\n",
        "ex_2020_data_5 = make_home_away_slot(ex_2020_data_4)\n",
        "ex_2019_data_5 = make_home_away_slot(ex_2019_data_4)\n",
        "ex_2018_data_5 = make_home_away_slot(ex_2018_data_4)"
      ],
      "execution_count": 17,
      "outputs": []
    },
    {
      "cell_type": "code",
      "metadata": {
        "id": "c_lVlLwxUWbn"
      },
      "source": [
        "def make_home_away_ab_hit(data, batter):\n",
        "  result_Dataframe = pd.DataFrame()\n",
        "  for h in tqdm.tqdm(batter['name'].values): # 90명 타자 한명씩 접근\n",
        "    hdata = data.loc[data['name']== h ]\n",
        "    for i in range(0, len(hdata)-1):\n",
        "      if hdata.iloc[i, 7] == 'home':\n",
        "        hdata.iloc[i+1, 8] = hdata.iloc[i, 8] + hdata.iloc[i, 5]\n",
        "        hdata.iloc[i+1, 10] = hdata.iloc[i, 10]\n",
        "        hdata.iloc[i+1, 9] = hdata.iloc[i, 9] + hdata.iloc[i, 6]\n",
        "        hdata.iloc[i+1, 11] = hdata.iloc[i, 11]\n",
        "      else:\n",
        "        hdata.iloc[i+1, 10] = hdata.iloc[i, 10] + hdata.iloc[i, 5]\n",
        "        hdata.iloc[i+1, 8] = hdata.iloc[i, 8]\n",
        "        hdata.iloc[i+1, 11] = hdata.iloc[i, 11] + hdata.iloc[i, 6]\n",
        "        hdata.iloc[i+1, 9] = hdata.iloc[i, 9]\n",
        "    result_Dataframe = pd.concat([result_Dataframe, hdata])\n",
        "\n",
        "  return result_Dataframe\n"
      ],
      "execution_count": 18,
      "outputs": []
    },
    {
      "cell_type": "code",
      "metadata": {
        "id": "WJe473tbGRgf",
        "colab": {
          "base_uri": "https://localhost:8080/"
        },
        "outputId": "fdfa67a1-322c-4974-b87f-953d1682c4bc"
      },
      "source": [
        "ex_2021_data_6 = make_home_away_ab_hit(ex_2021_data_5, batter_data_2021)\n",
        "ex_2020_data_6 = make_home_away_ab_hit(ex_2020_data_5, batter_data_2020)\n",
        "ex_2019_data_6 = make_home_away_ab_hit(ex_2019_data_5, batter_data_2019)\n",
        "ex_2018_data_6 = make_home_away_ab_hit(ex_2018_data_5, batter_data_2018)"
      ],
      "execution_count": 19,
      "outputs": [
        {
          "output_type": "stream",
          "text": [
            "  0%|          | 0/90 [00:00<?, ?it/s]/usr/local/lib/python3.7/dist-packages/pandas/core/indexing.py:1763: SettingWithCopyWarning: \n",
            "A value is trying to be set on a copy of a slice from a DataFrame.\n",
            "Try using .loc[row_indexer,col_indexer] = value instead\n",
            "\n",
            "See the caveats in the documentation: https://pandas.pydata.org/pandas-docs/stable/user_guide/indexing.html#returning-a-view-versus-a-copy\n",
            "  isetter(loc, value)\n",
            "100%|██████████| 90/90 [00:09<00:00,  9.05it/s]\n",
            "100%|██████████| 90/90 [00:17<00:00,  5.16it/s]\n",
            "100%|██████████| 90/90 [00:16<00:00,  5.37it/s]\n",
            "100%|██████████| 90/90 [00:17<00:00,  5.14it/s]\n"
          ],
          "name": "stderr"
        }
      ]
    },
    {
      "cell_type": "code",
      "metadata": {
        "id": "K16o1neoHHvv"
      },
      "source": [
        "def make_home_away_avg(data):\n",
        "  data['home/away_avg'] = np.where(data['home/away'] == 'home', round(data['home_hit']/data['home_ab'],3), round(data['away_hit'] / data['away_ab'],3))\n",
        "\n",
        "  result_Dataframe = pd.DataFrame()\n",
        "  result_Dataframe['name'] = data['name']\n",
        "  result_Dataframe['day'] = data['day']\n",
        "  result_Dataframe['double'] = data['double']\n",
        "  result_Dataframe['vs'] = data['vs']\n",
        "  result_Dataframe['vs_team'] = data['vs_team']\n",
        "  result_Dataframe['ab'] = data['ab']\n",
        "  result_Dataframe['hit'] = data['hit']\n",
        "  result_Dataframe['home/away'] = data['home/away']\n",
        "  result_Dataframe['home_ab'] = data['home_ab']\n",
        "  result_Dataframe['home_hit'] = data['home_hit']\n",
        "  result_Dataframe['away_ab'] = data['away_ab']\n",
        "  result_Dataframe['away_hit'] = data['away_hit']\n",
        "  result_Dataframe['home/away_avg'] = data['home/away_avg']\n",
        "  result_Dataframe['home/away_avg'].fillna(0, inplace = True)\n",
        "  result_Dataframe\n",
        "\n",
        "  return result_Dataframe  "
      ],
      "execution_count": 20,
      "outputs": []
    },
    {
      "cell_type": "code",
      "metadata": {
        "id": "OT2njccq6ZpI"
      },
      "source": [
        "hw_data_2021 = make_home_away_avg(ex_2021_data_6)\n",
        "hw_data_2020 = make_home_away_avg(ex_2020_data_6)\n",
        "hw_data_2019 = make_home_away_avg(ex_2019_data_6)\n",
        "hw_data_2018 = make_home_away_avg(ex_2018_data_6)"
      ],
      "execution_count": 21,
      "outputs": []
    },
    {
      "cell_type": "markdown",
      "metadata": {
        "id": "lDO1F52Qy35G"
      },
      "source": [
        "### **상대 팀별 타율 구하기**"
      ]
    },
    {
      "cell_type": "code",
      "metadata": {
        "id": "EoQSUBMrIGi2"
      },
      "source": [
        "sort_data_2021 = ex_2021_data_3.sort_values(by=[\"vs_team\", \"name\"])\n",
        "sort_data_2020 = ex_2020_data_3.sort_values(by=[\"vs_team\", \"name\"])\n",
        "sort_data_2019 = ex_2019_data_3.sort_values(by=[\"vs_team\", \"name\"])\n",
        "sort_data_2018 = ex_2018_data_3.sort_values(by=[\"vs_team\", \"name\"])"
      ],
      "execution_count": 22,
      "outputs": []
    },
    {
      "cell_type": "code",
      "metadata": {
        "id": "aj-TqlPFRVla"
      },
      "source": [
        "def make_vs_slot(data):\n",
        "  data['vs_ab'] = [0 if s == 'home' else 0 for s in data['home/away']]\n",
        "  data['vs_hit'] = [0 if s == 'home' else 0 for s in data['home/away']]\n",
        "\n",
        "  result_Dataframe = pd.DataFrame()\n",
        "  result_Dataframe['name'] = data['name']\n",
        "  result_Dataframe['day'] = data['day']\n",
        "  result_Dataframe['double'] = data['double']\n",
        "  result_Dataframe['vs'] = data['vs']\n",
        "  result_Dataframe['vs_team'] = data['vs_team']\n",
        "  result_Dataframe['ab'] = data['ab']\n",
        "  result_Dataframe['hit'] = data['hit']\n",
        "  result_Dataframe['result'] = data['result']\n",
        "  result_Dataframe['home/away'] = data['home/away']\n",
        "  result_Dataframe['vs_ab'] = data['vs_ab']\n",
        "  result_Dataframe['vs_hit'] = data['vs_hit']\n",
        "  result_Dataframe\n",
        "\n",
        "  return result_Dataframe  "
      ],
      "execution_count": 23,
      "outputs": []
    },
    {
      "cell_type": "code",
      "metadata": {
        "id": "vsGBXYumSSCw"
      },
      "source": [
        "vs_data_2021 = make_vs_slot(sort_data_2021)\n",
        "vs_data_2020 = make_vs_slot(sort_data_2020)\n",
        "vs_data_2019 = make_vs_slot(sort_data_2019)\n",
        "vs_data_2018 = make_vs_slot(sort_data_2018)"
      ],
      "execution_count": 24,
      "outputs": []
    },
    {
      "cell_type": "code",
      "metadata": {
        "id": "Xj8foUS7TXOI"
      },
      "source": [
        "def make_vs_ab_hit(data):\n",
        "  result_Dataframe = pd.DataFrame()\n",
        "  team = np.array(('KIA', 'KT', 'LG', 'SSG', 'NC', '롯데', '두산', '삼성', '키움', '한화', 'SK', '넥센'))\n",
        "\n",
        "  for t in tqdm.tqdm(team):\n",
        "    vdata = data.loc[data['vs_team']== t]  \n",
        "    for i in range(0, len(vdata)-1):\n",
        "      if vdata.iloc[i]['name'] == vdata.iloc[i+1]['name']:\n",
        "        vdata.iloc[i+1, 9] = vdata.iloc[i, 9] + vdata.iloc[i, 5] #vs_ab\n",
        "        vdata.iloc[i+1, 10] = vdata.iloc[i, 10] + vdata.iloc[i, 6] #vs_hit\n",
        "      else:\n",
        "        vdata.iloc[i+1, 9] = 0\n",
        "        vdata.iloc[i+1, 10] = 0\n",
        "\n",
        "    result_Dataframe = pd.concat([result_Dataframe, vdata])\n",
        "\n",
        "  return result_Dataframe"
      ],
      "execution_count": 25,
      "outputs": []
    },
    {
      "cell_type": "code",
      "metadata": {
        "id": "984JjigVO5Ia"
      },
      "source": [
        "pd.set_option('display.max_row', 100)\n",
        "pd.set_option('display.max_columns', 100)"
      ],
      "execution_count": null,
      "outputs": []
    },
    {
      "cell_type": "code",
      "metadata": {
        "colab": {
          "base_uri": "https://localhost:8080/"
        },
        "id": "uqilupLEbPpa",
        "outputId": "e30c5a1c-ded5-4416-9103-c397f0829e56"
      },
      "source": [
        "vs_ab_hit_data_2021 = make_vs_ab_hit(vs_data_2021)\n",
        "vs_ab_hit_data_2020 = make_vs_ab_hit(vs_data_2020)\n",
        "vs_ab_hit_data_2019 = make_vs_ab_hit(vs_data_2019)\n",
        "vs_ab_hit_data_2018 = make_vs_ab_hit(vs_data_2018)"
      ],
      "execution_count": 26,
      "outputs": [
        {
          "output_type": "stream",
          "text": [
            "\r  0%|          | 0/12 [00:00<?, ?it/s]/usr/local/lib/python3.7/dist-packages/pandas/core/indexing.py:1763: SettingWithCopyWarning: \n",
            "A value is trying to be set on a copy of a slice from a DataFrame.\n",
            "Try using .loc[row_indexer,col_indexer] = value instead\n",
            "\n",
            "See the caveats in the documentation: https://pandas.pydata.org/pandas-docs/stable/user_guide/indexing.html#returning-a-view-versus-a-copy\n",
            "  isetter(loc, value)\n",
            "100%|██████████| 12/12 [00:06<00:00,  1.80it/s]\n",
            "100%|██████████| 12/12 [00:12<00:00,  1.05s/it]\n",
            "100%|██████████| 12/12 [00:12<00:00,  1.04s/it]\n",
            "100%|██████████| 12/12 [00:13<00:00,  1.09s/it]\n"
          ],
          "name": "stderr"
        }
      ]
    },
    {
      "cell_type": "code",
      "metadata": {
        "id": "04AXyuNlsEu-"
      },
      "source": [
        "def make_vs_avg(data):\n",
        "  for i in range(0, len(data)+1):\n",
        "    try:\n",
        "      data['vs_avg'] = round(data['vs_hit']/data['vs_ab'], 3)\n",
        "    except ZeroDivisionError:\n",
        "      data['vs_avg'] = 0\n",
        "\n",
        "  result_Dataframe = pd.DataFrame()\n",
        "  result_Dataframe['name'] = data['name']\n",
        "  result_Dataframe['day'] = data['day']\n",
        "  result_Dataframe['double'] = data['double']\n",
        "  result_Dataframe['vs'] = data['vs']\n",
        "  result_Dataframe['vs_team'] = data['vs_team']\n",
        "  result_Dataframe['ab'] = data['ab']\n",
        "  result_Dataframe['hit'] = data['hit']\n",
        "  result_Dataframe['result'] = data['result']\n",
        "  result_Dataframe['home/away'] = data['home/away']\n",
        "  result_Dataframe['vs_ab'] = data['vs_ab']\n",
        "  result_Dataframe['vs_hit'] = data['vs_hit']\n",
        "  result_Dataframe['vs_avg'] = data['vs_avg']\n",
        "  result_Dataframe['vs_avg'].fillna(0, inplace = True)\n",
        "  result_Dataframe\n",
        "\n",
        "  return result_Dataframe  "
      ],
      "execution_count": 27,
      "outputs": []
    },
    {
      "cell_type": "code",
      "metadata": {
        "id": "8dcqhigXvbMT"
      },
      "source": [
        "final_vs_avg_data_2021 = make_vs_avg(vs_ab_hit_data_2021)\n",
        "final_vs_avg_data_2020 = make_vs_avg(vs_ab_hit_data_2020)\n",
        "final_vs_avg_data_2019 = make_vs_avg(vs_ab_hit_data_2019)\n",
        "final_vs_avg_data_2018 = make_vs_avg(vs_ab_hit_data_2018)"
      ],
      "execution_count": 28,
      "outputs": []
    },
    {
      "cell_type": "code",
      "metadata": {
        "id": "YI3CA9zzxu5X"
      },
      "source": [
        "final_2021_data = pd.merge(data_2021, ex_2021_data_6, on = ['name', 'day', 'double', 'vs', 'ab', 'hit'], how = 'inner')\n",
        "final_2021_data = pd.merge(final_2021_data, hw_data_2021, on = ['name', 'day', 'double', 'vs', 'ab', 'hit'], how = 'inner')\n",
        "final_2021_data = pd.merge(final_2021_data, final_vs_avg_data_2021, on = ['name', 'day', 'double', 'vs', 'ab', 'hit'], how = 'inner')\n",
        "\n",
        "final_2020_data = pd.merge(data_2020, ex_2020_data_6, on = ['name', 'day', 'double', 'vs', 'ab', 'hit'], how = 'inner')\n",
        "final_2020_data = pd.merge(final_2020_data, hw_data_2020, on = ['name', 'day', 'double', 'vs', 'ab', 'hit'], how = 'inner')\n",
        "final_2020_data = pd.merge(final_2020_data, final_vs_avg_data_2020, on = ['name', 'day', 'double', 'vs', 'ab', 'hit'], how = 'inner')\n",
        "\n",
        "final_2019_data = pd.merge(data_2019, ex_2019_data_6, on = ['name', 'day', 'double', 'vs', 'ab', 'hit'], how = 'inner')\n",
        "final_2019_data = pd.merge(final_2019_data, hw_data_2019, on = ['name', 'day', 'double', 'vs', 'ab', 'hit'], how = 'inner')\n",
        "final_2019_data = pd.merge(final_2019_data, final_vs_avg_data_2019, on = ['name', 'day', 'double', 'vs', 'ab', 'hit'], how = 'inner')\n",
        "\n",
        "final_2018_data = pd.merge(data_2018, ex_2018_data_6, on = ['name', 'day', 'double', 'vs', 'ab', 'hit'], how = 'inner')\n",
        "final_2018_data = pd.merge(final_2018_data, hw_data_2018, on = ['name', 'day', 'double', 'vs', 'ab', 'hit'], how = 'inner')\n",
        "final_2018_data = pd.merge(final_2018_data, final_vs_avg_data_2018, on = ['name', 'day', 'double', 'vs', 'ab', 'hit'], how = 'inner')"
      ],
      "execution_count": 29,
      "outputs": []
    },
    {
      "cell_type": "code",
      "metadata": {
        "colab": {
          "base_uri": "https://localhost:8080/"
        },
        "id": "GoDZjEDk0KRQ",
        "outputId": "9db8b105-b5ef-4a55-871c-f0d390045042"
      },
      "source": [
        "len(ex_2021_data_6), len(hw_data_2021), len(final_vs_avg_data_2021), len(final_2021_data)"
      ],
      "execution_count": 30,
      "outputs": [
        {
          "output_type": "execute_result",
          "data": {
            "text/plain": [
              "(5820, 5820, 5820, 5820)"
            ]
          },
          "metadata": {
            "tags": []
          },
          "execution_count": 30
        }
      ]
    },
    {
      "cell_type": "code",
      "metadata": {
        "colab": {
          "base_uri": "https://localhost:8080/"
        },
        "id": "31TRpgmoUJ3l",
        "outputId": "7eb227c0-1bfc-4502-b996-b0a2a3efbd87"
      },
      "source": [
        "len(ex_2020_data_6), len(hw_data_2020), len(final_vs_avg_data_2020), len(final_2020_data)"
      ],
      "execution_count": 31,
      "outputs": [
        {
          "output_type": "execute_result",
          "data": {
            "text/plain": [
              "(10988, 10988, 10988, 10988)"
            ]
          },
          "metadata": {
            "tags": []
          },
          "execution_count": 31
        }
      ]
    },
    {
      "cell_type": "code",
      "metadata": {
        "colab": {
          "base_uri": "https://localhost:8080/"
        },
        "id": "aNI624VKI4RE",
        "outputId": "c49c2ff8-dfa7-4ef3-85f5-aea00350ebfd"
      },
      "source": [
        "len(ex_2019_data_6), len(hw_data_2019), len(final_vs_avg_data_2019), len(final_2019_data)"
      ],
      "execution_count": 32,
      "outputs": [
        {
          "output_type": "execute_result",
          "data": {
            "text/plain": [
              "(10994, 10994, 10994, 10994)"
            ]
          },
          "metadata": {
            "tags": []
          },
          "execution_count": 32
        }
      ]
    },
    {
      "cell_type": "code",
      "metadata": {
        "id": "cuOaVFmFQZ9Z",
        "colab": {
          "base_uri": "https://localhost:8080/"
        },
        "outputId": "40137bc0-c48a-4d74-db0b-52ea04ae0477"
      },
      "source": [
        "len(ex_2018_data_6), len(hw_data_2018), len(final_vs_avg_data_2018), len(final_2018_data)"
      ],
      "execution_count": 33,
      "outputs": [
        {
          "output_type": "execute_result",
          "data": {
            "text/plain": [
              "(11316, 11316, 11316, 11316)"
            ]
          },
          "metadata": {
            "tags": []
          },
          "execution_count": 33
        }
      ]
    },
    {
      "cell_type": "markdown",
      "metadata": {
        "id": "RZHgqKzaNeiz"
      },
      "source": [
        "## **최근 5일 타율** "
      ]
    },
    {
      "cell_type": "code",
      "metadata": {
        "id": "23bfneMUxvDe"
      },
      "source": [
        "def make_recent_days(hitter_data, record_data, day=5):\n",
        "\n",
        "  # 최근 5일(기본) 타율 저장할 공간 생성\n",
        "  recent_days_avg = np.zeros(len(record_data)) # 최근 5일(기본) 경기 타율\n",
        "  recent_days_hitter = np.empty(len(record_data), dtype=np.chararray) # type : 문자열 저장을 위해 chararray\n",
        "  recent_days_day = np.empty(len(record_data), dtype=np.int32) # 기준이 되는 날짜\n",
        "  recent_days_double = np.zeros(len(record_data), dtype=np.int8) # 더블헤더 분류 / 0 : 더블헤더 아님 / 1 : 더블헤더 1차전 / 2 : 더블헤더 2차전\n",
        "\n",
        "  ps = 0\n",
        "  for h in tqdm.tqdm(hitter_data['name']): # 90명 타자 한명씩 접근\n",
        "    hdata = record_data.loc[record_data['name']==h].reset_index() # 특정 타자 한명에 대해서만 데이터 추출\n",
        "    for i in range(len(hdata['day'])): # 추출한 데이터에서 한 행씩 접근\n",
        "      recent_days_hitter[ps] = h # 현재 타자\n",
        "      r = hdata.loc[i,'day']  # 현재 기준 날짜\n",
        "      recent_days_day[ps] = r\n",
        "      d = hdata.loc[i,'double'] # 현재 더블헤더 분류\n",
        "      recent_days_double[ps] = d      \n",
        "      if d==2: # 더블헤더 2차전이라면\n",
        "        hrdata = hdata.loc[hdata['day']>=r-day].loc[hdata['day']<=r].loc[hdata['double']!=2] # r 날짜까지 가져와서 2차전을 제외\n",
        "      else: # 더블헤더가 아니고, 더블헤더 1차전이라면\n",
        "        hrdata = hdata.loc[hdata['day']>=r-day].loc[hdata['day']<=r-1] # 접근한 행의 날짜를 기준으로 5일(기본) 경기\n",
        "         \n",
        "      if len(hrdata)==0: # 최근 5일 경기 없으면 넘어가고\n",
        "        ps+=1\n",
        "        continue\n",
        "      else : # 있으면\n",
        "        sum_ab = sum(hrdata['ab'])\n",
        "        if sum_ab==0: # 경기 기록은 존재하지만 타수(ab)가 0\n",
        "          ps+=1\n",
        "          continue\n",
        "        sum_hit = sum(hrdata['hit'])\n",
        "        recent_days_avg[ps] = sum_hit/sum_ab\n",
        "        ps+=1\n",
        "\n",
        "  result_Dataframe = pd.DataFrame()\n",
        "  result_Dataframe['day'] = recent_days_day\n",
        "  result_Dataframe['name'] = recent_days_hitter\n",
        "  result_Dataframe['recent_'+str(day)+'days_avg'] = recent_days_avg\n",
        "  result_Dataframe['double'] = recent_days_double\n",
        "\n",
        "  return result_Dataframe"
      ],
      "execution_count": 34,
      "outputs": []
    },
    {
      "cell_type": "code",
      "metadata": {
        "id": "TEtA2hkVNvoa",
        "colab": {
          "base_uri": "https://localhost:8080/"
        },
        "outputId": "6007b329-48bf-4f5a-acb2-fabb2ae3fcc3"
      },
      "source": [
        "recent_5days_data_2021 = make_recent_days(batter_data_2021, data_2021, day=5)\n",
        "recent_5days_data_2020 = make_recent_days(batter_data_2020, data_2020, day=5)\n",
        "recent_5days_data_2019 = make_recent_days(batter_data_2019, data_2019, day=5)\n",
        "recent_5days_data_2018 = make_recent_days(batter_data_2018, data_2018, day=5)"
      ],
      "execution_count": 35,
      "outputs": [
        {
          "output_type": "stream",
          "text": [
            "100%|██████████| 90/90 [00:10<00:00,  8.23it/s]\n",
            "100%|██████████| 90/90 [00:20<00:00,  4.40it/s]\n",
            "100%|██████████| 90/90 [00:20<00:00,  4.37it/s]\n",
            "100%|██████████| 90/90 [00:21<00:00,  4.20it/s]\n"
          ],
          "name": "stderr"
        }
      ]
    },
    {
      "cell_type": "markdown",
      "metadata": {
        "id": "o_bIyi0lOAIZ"
      },
      "source": [
        "### **최근 5경기/10경기 타율**"
      ]
    },
    {
      "cell_type": "code",
      "metadata": {
        "id": "7YdSpYj9N6ZV"
      },
      "source": [
        "def make_recent_games(hitter_data, record_data, game=5):\n",
        "\n",
        "  # 최근 5경기(기본) 타율 저장할 공간 생성\n",
        "  recent_games_avg = np.zeros(len(record_data)) # 최근 5경기(기본) 경기 타율\n",
        "  recent_games_hitter = np.empty(len(record_data), dtype=np.chararray) # type : 문자열 저장을 위해 chararray\n",
        "  recent_games_day = np.empty(len(record_data), dtype=np.int32) # 기준이 되는 날짜\n",
        "  recent_games_double = np.zeros(len(record_data), dtype=np.int8) # 더블헤더 분류 / 0 : 더블헤더 아님 / 1 : 더블헤더 1차전 / 2 : 더블헤더 2차전\n",
        "\n",
        "  ps = 0\n",
        "  for h in tqdm.tqdm(hitter_data['name']): # 90명 타자 한명씩 접근\n",
        "    hdata = record_data.loc[record_data['name']==h].reset_index() # 특정 타자 한명에 대해서만 데이터 추출\n",
        "    for i in range(len(hdata)): # 추출한 데이터에서 한 행씩 접근\n",
        "      recent_games_hitter[ps] = h # 현재 타자\n",
        "      recent_games_day[ps] = hdata.loc[i,'day'] # 현재 경기\n",
        "      recent_games_double[ps] = hdata.loc[i,'double'] # 현재 더블헤더 분류\n",
        "      hrdata = hdata.loc[i-game:i-1,:] # 접근한 행의 경기를 기준으로 5경기\n",
        "         \n",
        "      if len(hrdata)==0: # 최근 5경기가 없으면 (첫 경기)\n",
        "        ps+=1\n",
        "        continue\n",
        "      else : # 있으면\n",
        "        sum_ab = sum(hrdata['ab'])\n",
        "        if sum_ab==0: # 경기 기록은 존재하지만 타수(ab)가 0\n",
        "          ps+=1\n",
        "          continue\n",
        "        sum_hit = sum(hrdata['hit'])\n",
        "        recent_games_avg[ps] = sum_hit/sum_ab\n",
        "        ps+=1\n",
        "\n",
        "  result_Dataframe = pd.DataFrame()\n",
        "  result_Dataframe['day'] = recent_games_day\n",
        "  result_Dataframe['name'] = recent_games_hitter\n",
        "  result_Dataframe['recent_'+str(game)+'games_avg'] = recent_games_avg\n",
        "  result_Dataframe['double'] = recent_games_double\n",
        "\n",
        "  return result_Dataframe"
      ],
      "execution_count": 36,
      "outputs": []
    },
    {
      "cell_type": "code",
      "metadata": {
        "id": "MKMrbqBZOD0N",
        "colab": {
          "base_uri": "https://localhost:8080/"
        },
        "outputId": "15c52fe8-781b-4552-c201-3a160a981112"
      },
      "source": [
        "recent_5games_data_2021 = make_recent_games(batter_data_2021, data_2021, game=5)\n",
        "recent_10games_data_2021 = make_recent_games(batter_data_2021, data_2021, game=10)\n",
        "\n",
        "recent_5games_data_2020 = make_recent_games(batter_data_2020, data_2020, game=5)\n",
        "recent_10games_data_2020 = make_recent_games(batter_data_2020, data_2020, game=10)\n",
        "\n",
        "recent_5games_data_2019 = make_recent_games(batter_data_2019, data_2019, game=5)\n",
        "recent_10games_data_2019 = make_recent_games(batter_data_2019, data_2019, game=10)\n",
        "\n",
        "recent_5games_data_2018 = make_recent_games(batter_data_2018, data_2018, game=5)\n",
        "recent_10games_data_2018 = make_recent_games(batter_data_2018, data_2018, game=10)"
      ],
      "execution_count": 37,
      "outputs": [
        {
          "output_type": "stream",
          "text": [
            "100%|██████████| 90/90 [00:01<00:00, 48.46it/s]\n",
            "100%|██████████| 90/90 [00:01<00:00, 48.84it/s]\n",
            "100%|██████████| 90/90 [00:03<00:00, 28.75it/s]\n",
            "100%|██████████| 90/90 [00:03<00:00, 29.06it/s]\n",
            "100%|██████████| 90/90 [00:03<00:00, 29.77it/s]\n",
            "100%|██████████| 90/90 [00:03<00:00, 28.11it/s]\n",
            "100%|██████████| 90/90 [00:03<00:00, 28.61it/s]\n",
            "100%|██████████| 90/90 [00:03<00:00, 27.88it/s]\n"
          ],
          "name": "stderr"
        }
      ]
    },
    {
      "cell_type": "markdown",
      "metadata": {
        "id": "9YI7mnDNORDT"
      },
      "source": [
        "### **최근 10일 안타 성공률**"
      ]
    },
    {
      "cell_type": "code",
      "metadata": {
        "id": "WBaWf88sOMqe"
      },
      "source": [
        "def make_success_days(hitter_data, record_data, day=10):\n",
        "\n",
        "  # 최근 10일(기본) 안타 성공률 저장할 공간 생성\n",
        "  success_days = np.zeros(len(record_data)) # 최근 10일(기본) 안타 성공률\n",
        "  success_days_hitter = np.empty(len(record_data), dtype=object) # type : 문자열 저장을 위해 object\n",
        "  success_days_day = np.empty(len(record_data), dtype=np.int32) # 기준이 되는 날짜\n",
        "  success_days_double = np.zeros(len(record_data), dtype=np.int8) # 더블헤더 분류 / 0 : 더블헤더 아님 / 1 : 더블헤더 1차전 / 2 : 더블헤더 2차전\n",
        "\n",
        "  ps = 0\n",
        "  for h in tqdm.tqdm(hitter_data['name']): # 90명 타자 한명씩 접근\n",
        "    hdata = record_data.loc[record_data['name']==h].reset_index() # 특정 타자 한명에 대해서만 데이터 추출\n",
        "    for i in range(len(hdata['day'])): # 추출한 데이터에서 한 행씩 접근\n",
        "      success_days_hitter[ps] = h # 현재 타자\n",
        "      r = hdata.loc[i,'day']  # 현재 기준 날짜\n",
        "      success_days_day[ps] = r\n",
        "      d = hdata.loc[i,'double'] # 현재 더블헤더 분류\n",
        "      success_days_double[ps] = d\n",
        "      if d==2: # 더블헤더 2차전이라면\n",
        "        hrdata = hdata.loc[hdata['day']>=r-day].loc[hdata['day']<=r].loc[hdata['double']!=2] # r 날짜까지 가져와서 2차전을 제외\n",
        "      else: # 더블헤더가 아니고, 더블헤더 1차전이라면\n",
        "        hrdata = hdata.loc[hdata['day']>=r-day].loc[hdata['day']<=r-1] # 접근한 행의 날짜를 기준으로 10일(기본) 경기\n",
        "         \n",
        "      if len(hrdata)==0: # 최근 10일(기본) 경기 없으면 넘어가고\n",
        "        ps+=1\n",
        "        continue\n",
        "      else : # 있으면\n",
        "        total = len(hrdata)\n",
        "        fail = len(hrdata.loc[hrdata['hit']==0]) # 안타를 못친 경기가 몇경기나 되는지 저장\n",
        "        success_days[ps] = (total-fail)/total\n",
        "        ps+=1\n",
        "\n",
        "  result_Dataframe = pd.DataFrame()\n",
        "  result_Dataframe['day'] = success_days_day\n",
        "  result_Dataframe['name'] = success_days_hitter\n",
        "  result_Dataframe['success_'+str(day)+'days'] = success_days\n",
        "  result_Dataframe['double'] = success_days_double\n",
        "\n",
        "  return result_Dataframe"
      ],
      "execution_count": 38,
      "outputs": []
    },
    {
      "cell_type": "code",
      "metadata": {
        "id": "hSMn3nrLOV_G",
        "colab": {
          "base_uri": "https://localhost:8080/"
        },
        "outputId": "9a8b0310-d96f-4135-fc2f-5179a41c9931"
      },
      "source": [
        "success_10days_data_2021 = make_success_days(batter_data_2021, data_2021, day=10)\n",
        "success_10days_data_2020 = make_success_days(batter_data_2020, data_2020, day=10)\n",
        "success_10days_data_2019 = make_success_days(batter_data_2019, data_2019, day=10)\n",
        "success_10days_data_2018 = make_success_days(batter_data_2018, data_2018, day=10)"
      ],
      "execution_count": 39,
      "outputs": [
        {
          "output_type": "stream",
          "text": [
            "100%|██████████| 90/90 [00:13<00:00,  6.45it/s]\n",
            "100%|██████████| 90/90 [00:26<00:00,  3.44it/s]\n",
            "100%|██████████| 90/90 [00:25<00:00,  3.51it/s]\n",
            "100%|██████████| 90/90 [00:26<00:00,  3.38it/s]\n"
          ],
          "name": "stderr"
        }
      ]
    },
    {
      "cell_type": "markdown",
      "metadata": {
        "id": "SJiIRq30Odao"
      },
      "source": [
        "### **최근 10경기 안타 성공률**"
      ]
    },
    {
      "cell_type": "code",
      "metadata": {
        "id": "5dC34dH6OhU5"
      },
      "source": [
        "def make_success_games(hitter_data, record_data, game=10):\n",
        "\n",
        "  # 최근 10경기(기본) 안타 성공률 저장할 공간 생성\n",
        "  success_games = np.zeros(len(record_data)) # 최근 10경기(기본) 안타 성공률\n",
        "  success_games_hitter = np.empty(len(record_data), dtype=object) # type : 문자열 저장을 위해 object\n",
        "  success_games_day = np.empty(len(record_data), dtype=np.int32) # 기준이 되는 날짜\n",
        "  success_games_double = np.zeros(len(record_data), dtype=np.int8) # 더블헤더 분류 / 0 : 더블헤더 아님 / 1 : 더블헤더 1차전 / 2 : 더블헤더 2차전\n",
        "\n",
        "  ps = 0\n",
        "  for h in tqdm.tqdm(hitter_data['name']): # 90명 타자 한명씩 접근\n",
        "    hdata = record_data.loc[record_data['name']==h].reset_index() # 특정 타자 한명에 대해서만 데이터 추출\n",
        "    for i in range(len(hdata)): # 추출한 데이터에서 한 행씩 접근\n",
        "      success_games_hitter[ps] = h # 현재 타자\n",
        "      success_games_day[ps] = hdata.loc[i,'day'] # 현재 경기\n",
        "      success_games_double[ps] = hdata.loc[i,'double'] # 현재 더블헤더 분류\n",
        "\n",
        "      hrdata = hdata.loc[i-game:i-1,:] # 접근한 행의 경기를 기준으로 10경기(기본)\n",
        "         \n",
        "      if len(hrdata)==0: # 최근 10경기(기본)가 없으면 (첫 경기)\n",
        "        ps+=1\n",
        "        continue\n",
        "      else : # 있으면\n",
        "        total = len(hrdata)\n",
        "        fail = len(hrdata.loc[hrdata['hit']==0]) # 안타를 못친 경기가 몇경기나 되는지 저장\n",
        "        success_games[ps] = (total-fail)/total\n",
        "        ps+=1\n",
        "\n",
        "  result_Dataframe = pd.DataFrame()\n",
        "  result_Dataframe['day'] = success_games_day\n",
        "  result_Dataframe['name'] = success_games_hitter\n",
        "  result_Dataframe['success_'+str(game)+'games'] = success_games\n",
        "  result_Dataframe['double'] = success_games_double\n",
        "\n",
        "  return result_Dataframe"
      ],
      "execution_count": 40,
      "outputs": []
    },
    {
      "cell_type": "code",
      "metadata": {
        "id": "-oNpBQ2xOjSm",
        "colab": {
          "base_uri": "https://localhost:8080/"
        },
        "outputId": "1cc0ad10-8094-4e23-bef5-9347ae72912d"
      },
      "source": [
        "success_10games_data_2021 = make_success_games(batter_data_2021, data_2021, game=10)\n",
        "success_10games_data_2020 = make_success_games(batter_data_2020, data_2020, game=10)\n",
        "success_10games_data_2019 = make_success_games(batter_data_2019, data_2019, game=10)\n",
        "success_10games_data_2018 = make_success_games(batter_data_2018, data_2018, game=10)"
      ],
      "execution_count": 41,
      "outputs": [
        {
          "output_type": "stream",
          "text": [
            "100%|██████████| 90/90 [00:06<00:00, 13.47it/s]\n",
            "100%|██████████| 90/90 [00:12<00:00,  7.19it/s]\n",
            "100%|██████████| 90/90 [00:12<00:00,  7.13it/s]\n",
            "100%|██████████| 90/90 [00:13<00:00,  6.87it/s]\n"
          ],
          "name": "stderr"
        }
      ]
    },
    {
      "cell_type": "code",
      "metadata": {
        "id": "ExlTF55UPD8K"
      },
      "source": [
        "final_2021_data = pd.merge(final_2021_data, recent_5days_data_2021, on = ['name', 'day', 'double'], how = 'inner')\n",
        "final_2021_data = pd.merge(final_2021_data, recent_5games_data_2021, on = ['name', 'day', 'double'], how = 'inner')\n",
        "final_2021_data = pd.merge(final_2021_data, recent_10games_data_2021, on = ['name', 'day', 'double'], how = 'inner')\n",
        "final_2021_data = pd.merge(final_2021_data, success_10days_data_2021, on = ['name', 'day', 'double'], how = 'inner')\n",
        "final_2021_data = pd.merge(final_2021_data, success_10games_data_2021, on = ['name', 'day', 'double'], how = 'inner')\n",
        "\n",
        "final_2020_data = pd.merge(final_2020_data, recent_5days_data_2020, on = ['name', 'day', 'double'], how = 'inner')\n",
        "final_2020_data = pd.merge(final_2020_data, recent_5games_data_2020, on = ['name', 'day', 'double'], how = 'inner')\n",
        "final_2020_data = pd.merge(final_2020_data, recent_10games_data_2020, on = ['name', 'day', 'double'], how = 'inner')\n",
        "final_2020_data = pd.merge(final_2020_data, success_10days_data_2020, on = ['name', 'day', 'double'], how = 'inner')\n",
        "final_2020_data = pd.merge(final_2020_data, success_10games_data_2020, on = ['name', 'day', 'double'], how = 'inner')\n",
        "\n",
        "final_2019_data = pd.merge(final_2019_data, recent_5days_data_2019, on = ['name', 'day', 'double'], how = 'inner')\n",
        "final_2019_data = pd.merge(final_2019_data, recent_5games_data_2019, on = ['name', 'day', 'double'], how = 'inner')\n",
        "final_2019_data = pd.merge(final_2019_data, recent_10games_data_2019, on = ['name', 'day', 'double'], how = 'inner')\n",
        "final_2019_data = pd.merge(final_2019_data, success_10days_data_2019, on = ['name', 'day', 'double'], how = 'inner')\n",
        "final_2019_data = pd.merge(final_2019_data, success_10games_data_2019, on = ['name', 'day', 'double'], how = 'inner')\n",
        "\n",
        "final_2018_data = pd.merge(final_2018_data, recent_5days_data_2018, on = ['name', 'day', 'double'], how = 'inner')\n",
        "final_2018_data = pd.merge(final_2018_data, recent_5games_data_2018, on = ['name', 'day', 'double'], how = 'inner')\n",
        "final_2018_data = pd.merge(final_2018_data, recent_10games_data_2018, on = ['name', 'day', 'double'], how = 'inner')\n",
        "final_2018_data = pd.merge(final_2018_data, success_10days_data_2018, on = ['name', 'day', 'double'], how = 'inner')\n",
        "final_2018_data = pd.merge(final_2018_data, success_10games_data_2018, on = ['name', 'day', 'double'], how = 'inner')"
      ],
      "execution_count": 42,
      "outputs": []
    },
    {
      "cell_type": "code",
      "metadata": {
        "id": "4I_qwKzGT-I4",
        "colab": {
          "base_uri": "https://localhost:8080/"
        },
        "outputId": "06e41335-6863-4c76-ba5f-728be3e7ed6f"
      },
      "source": [
        "len(final_2018_data), len(success_10games_data_2018), len(success_10days_data_2018), len(success_10games_data_2018)"
      ],
      "execution_count": 43,
      "outputs": [
        {
          "output_type": "execute_result",
          "data": {
            "text/plain": [
              "(11316, 11316, 11316, 11316)"
            ]
          },
          "metadata": {
            "tags": []
          },
          "execution_count": 43
        }
      ]
    },
    {
      "cell_type": "code",
      "metadata": {
        "id": "DLsHPrM8YmTH"
      },
      "source": [
        "final_2020_2021 = pd.concat([final_2021_data, final_2020_data])"
      ],
      "execution_count": 44,
      "outputs": []
    },
    {
      "cell_type": "code",
      "metadata": {
        "id": "IYNzCudcKHh1"
      },
      "source": [
        "final_2019_2021 = pd.concat([final_2020_2021, final_2019_data])"
      ],
      "execution_count": 45,
      "outputs": []
    },
    {
      "cell_type": "code",
      "metadata": {
        "id": "i2oQYt_GTnug"
      },
      "source": [
        "final_2018_2021 = pd.concat([final_2019_2021, final_2018_data])"
      ],
      "execution_count": 46,
      "outputs": []
    },
    {
      "cell_type": "code",
      "metadata": {
        "colab": {
          "base_uri": "https://localhost:8080/",
          "height": 601
        },
        "id": "SVLaFP62KbKY",
        "outputId": "57ee7092-63d3-4a08-c7a0-b39b79e363e8"
      },
      "source": [
        "final_2018_2021"
      ],
      "execution_count": 47,
      "outputs": [
        {
          "output_type": "execute_result",
          "data": {
            "text/html": [
              "<div>\n",
              "<style scoped>\n",
              "    .dataframe tbody tr th:only-of-type {\n",
              "        vertical-align: middle;\n",
              "    }\n",
              "\n",
              "    .dataframe tbody tr th {\n",
              "        vertical-align: top;\n",
              "    }\n",
              "\n",
              "    .dataframe thead th {\n",
              "        text-align: right;\n",
              "    }\n",
              "</style>\n",
              "<table border=\"1\" class=\"dataframe\">\n",
              "  <thead>\n",
              "    <tr style=\"text-align: right;\">\n",
              "      <th></th>\n",
              "      <th>name</th>\n",
              "      <th>day</th>\n",
              "      <th>vs</th>\n",
              "      <th>result_x</th>\n",
              "      <th>bat_order</th>\n",
              "      <th>position</th>\n",
              "      <th>start_member</th>\n",
              "      <th>ab</th>\n",
              "      <th>score</th>\n",
              "      <th>hit</th>\n",
              "      <th>2_hit</th>\n",
              "      <th>3_hit</th>\n",
              "      <th>homerun</th>\n",
              "      <th>tb</th>\n",
              "      <th>rbi</th>\n",
              "      <th>sb</th>\n",
              "      <th>cs</th>\n",
              "      <th>bb</th>\n",
              "      <th>hpp</th>\n",
              "      <th>ibb</th>\n",
              "      <th>so</th>\n",
              "      <th>gdp</th>\n",
              "      <th>sh</th>\n",
              "      <th>sf</th>\n",
              "      <th>avg</th>\n",
              "      <th>obp</th>\n",
              "      <th>slg</th>\n",
              "      <th>ops</th>\n",
              "      <th>pitch</th>\n",
              "      <th>avLI</th>\n",
              "      <th>RE24</th>\n",
              "      <th>WPA</th>\n",
              "      <th>double</th>\n",
              "      <th>vs_team_x</th>\n",
              "      <th>home/away_x</th>\n",
              "      <th>home_ab_x</th>\n",
              "      <th>home_hit_x</th>\n",
              "      <th>away_ab_x</th>\n",
              "      <th>away_hit_x</th>\n",
              "      <th>home/away_avg_x</th>\n",
              "      <th>vs_team_y</th>\n",
              "      <th>home/away_y</th>\n",
              "      <th>home_ab_y</th>\n",
              "      <th>home_hit_y</th>\n",
              "      <th>away_ab_y</th>\n",
              "      <th>away_hit_y</th>\n",
              "      <th>home/away_avg_y</th>\n",
              "      <th>vs_team</th>\n",
              "      <th>result_y</th>\n",
              "      <th>home/away</th>\n",
              "      <th>vs_ab</th>\n",
              "      <th>vs_hit</th>\n",
              "      <th>vs_avg</th>\n",
              "      <th>recent_5days_avg</th>\n",
              "      <th>recent_5games_avg</th>\n",
              "      <th>recent_10games_avg</th>\n",
              "      <th>success_10days</th>\n",
              "      <th>success_10games</th>\n",
              "    </tr>\n",
              "  </thead>\n",
              "  <tbody>\n",
              "    <tr>\n",
              "      <th>0</th>\n",
              "      <td>강백호</td>\n",
              "      <td>20210404</td>\n",
              "      <td>한화</td>\n",
              "      <td>W 3:2</td>\n",
              "      <td>4</td>\n",
              "      <td>1B</td>\n",
              "      <td>True</td>\n",
              "      <td>3</td>\n",
              "      <td>0</td>\n",
              "      <td>2</td>\n",
              "      <td>0</td>\n",
              "      <td>0</td>\n",
              "      <td>0</td>\n",
              "      <td>2</td>\n",
              "      <td>0</td>\n",
              "      <td>2</td>\n",
              "      <td>0</td>\n",
              "      <td>1</td>\n",
              "      <td>0</td>\n",
              "      <td>0</td>\n",
              "      <td>0</td>\n",
              "      <td>0</td>\n",
              "      <td>0</td>\n",
              "      <td>0</td>\n",
              "      <td>0.667</td>\n",
              "      <td>NaN</td>\n",
              "      <td>0.667</td>\n",
              "      <td>1.417</td>\n",
              "      <td>16</td>\n",
              "      <td>1.14</td>\n",
              "      <td>0.89</td>\n",
              "      <td>0.122</td>\n",
              "      <td>0.0</td>\n",
              "      <td>한화</td>\n",
              "      <td>home</td>\n",
              "      <td>0</td>\n",
              "      <td>0</td>\n",
              "      <td>0</td>\n",
              "      <td>0</td>\n",
              "      <td>NaN</td>\n",
              "      <td>한화</td>\n",
              "      <td>home</td>\n",
              "      <td>0</td>\n",
              "      <td>0</td>\n",
              "      <td>0</td>\n",
              "      <td>0</td>\n",
              "      <td>0.000</td>\n",
              "      <td>한화</td>\n",
              "      <td>1</td>\n",
              "      <td>home</td>\n",
              "      <td>0</td>\n",
              "      <td>0</td>\n",
              "      <td>0.000</td>\n",
              "      <td>0.000000</td>\n",
              "      <td>0.000000</td>\n",
              "      <td>0.000000</td>\n",
              "      <td>0.000000</td>\n",
              "      <td>0.000000</td>\n",
              "    </tr>\n",
              "    <tr>\n",
              "      <th>1</th>\n",
              "      <td>강백호</td>\n",
              "      <td>20210406</td>\n",
              "      <td>LG</td>\n",
              "      <td>L 2:3</td>\n",
              "      <td>4</td>\n",
              "      <td>1B</td>\n",
              "      <td>True</td>\n",
              "      <td>4</td>\n",
              "      <td>0</td>\n",
              "      <td>0</td>\n",
              "      <td>0</td>\n",
              "      <td>0</td>\n",
              "      <td>0</td>\n",
              "      <td>0</td>\n",
              "      <td>0</td>\n",
              "      <td>0</td>\n",
              "      <td>0</td>\n",
              "      <td>0</td>\n",
              "      <td>0</td>\n",
              "      <td>0</td>\n",
              "      <td>2</td>\n",
              "      <td>0</td>\n",
              "      <td>0</td>\n",
              "      <td>0</td>\n",
              "      <td>0.286</td>\n",
              "      <td>NaN</td>\n",
              "      <td>0.286</td>\n",
              "      <td>0.661</td>\n",
              "      <td>14</td>\n",
              "      <td>2.07</td>\n",
              "      <td>-1.00</td>\n",
              "      <td>-0.183</td>\n",
              "      <td>0.0</td>\n",
              "      <td>LG</td>\n",
              "      <td>home</td>\n",
              "      <td>3</td>\n",
              "      <td>2</td>\n",
              "      <td>0</td>\n",
              "      <td>0</td>\n",
              "      <td>0.667</td>\n",
              "      <td>LG</td>\n",
              "      <td>home</td>\n",
              "      <td>3</td>\n",
              "      <td>2</td>\n",
              "      <td>0</td>\n",
              "      <td>0</td>\n",
              "      <td>0.667</td>\n",
              "      <td>LG</td>\n",
              "      <td>0</td>\n",
              "      <td>home</td>\n",
              "      <td>0</td>\n",
              "      <td>0</td>\n",
              "      <td>0.000</td>\n",
              "      <td>0.666667</td>\n",
              "      <td>0.666667</td>\n",
              "      <td>0.666667</td>\n",
              "      <td>1.000000</td>\n",
              "      <td>1.000000</td>\n",
              "    </tr>\n",
              "    <tr>\n",
              "      <th>2</th>\n",
              "      <td>강백호</td>\n",
              "      <td>20210407</td>\n",
              "      <td>LG</td>\n",
              "      <td>W 7:3</td>\n",
              "      <td>4</td>\n",
              "      <td>1B</td>\n",
              "      <td>True</td>\n",
              "      <td>4</td>\n",
              "      <td>0</td>\n",
              "      <td>3</td>\n",
              "      <td>0</td>\n",
              "      <td>0</td>\n",
              "      <td>0</td>\n",
              "      <td>3</td>\n",
              "      <td>1</td>\n",
              "      <td>0</td>\n",
              "      <td>0</td>\n",
              "      <td>1</td>\n",
              "      <td>0</td>\n",
              "      <td>0</td>\n",
              "      <td>0</td>\n",
              "      <td>0</td>\n",
              "      <td>0</td>\n",
              "      <td>0</td>\n",
              "      <td>0.455</td>\n",
              "      <td>NaN</td>\n",
              "      <td>0.455</td>\n",
              "      <td>0.993</td>\n",
              "      <td>17</td>\n",
              "      <td>1.43</td>\n",
              "      <td>1.75</td>\n",
              "      <td>0.330</td>\n",
              "      <td>0.0</td>\n",
              "      <td>LG</td>\n",
              "      <td>home</td>\n",
              "      <td>7</td>\n",
              "      <td>2</td>\n",
              "      <td>0</td>\n",
              "      <td>0</td>\n",
              "      <td>0.286</td>\n",
              "      <td>LG</td>\n",
              "      <td>home</td>\n",
              "      <td>7</td>\n",
              "      <td>2</td>\n",
              "      <td>0</td>\n",
              "      <td>0</td>\n",
              "      <td>0.286</td>\n",
              "      <td>LG</td>\n",
              "      <td>1</td>\n",
              "      <td>home</td>\n",
              "      <td>4</td>\n",
              "      <td>0</td>\n",
              "      <td>0.000</td>\n",
              "      <td>0.285714</td>\n",
              "      <td>0.285714</td>\n",
              "      <td>0.285714</td>\n",
              "      <td>0.500000</td>\n",
              "      <td>0.500000</td>\n",
              "    </tr>\n",
              "    <tr>\n",
              "      <th>3</th>\n",
              "      <td>강백호</td>\n",
              "      <td>20210408</td>\n",
              "      <td>LG</td>\n",
              "      <td>L 3:7</td>\n",
              "      <td>4</td>\n",
              "      <td>1B</td>\n",
              "      <td>True</td>\n",
              "      <td>4</td>\n",
              "      <td>0</td>\n",
              "      <td>2</td>\n",
              "      <td>0</td>\n",
              "      <td>0</td>\n",
              "      <td>0</td>\n",
              "      <td>2</td>\n",
              "      <td>0</td>\n",
              "      <td>0</td>\n",
              "      <td>0</td>\n",
              "      <td>0</td>\n",
              "      <td>0</td>\n",
              "      <td>0</td>\n",
              "      <td>1</td>\n",
              "      <td>1</td>\n",
              "      <td>0</td>\n",
              "      <td>0</td>\n",
              "      <td>0.467</td>\n",
              "      <td>NaN</td>\n",
              "      <td>0.467</td>\n",
              "      <td>0.996</td>\n",
              "      <td>17</td>\n",
              "      <td>0.89</td>\n",
              "      <td>-0.76</td>\n",
              "      <td>-0.102</td>\n",
              "      <td>0.0</td>\n",
              "      <td>LG</td>\n",
              "      <td>home</td>\n",
              "      <td>11</td>\n",
              "      <td>5</td>\n",
              "      <td>0</td>\n",
              "      <td>0</td>\n",
              "      <td>0.455</td>\n",
              "      <td>LG</td>\n",
              "      <td>home</td>\n",
              "      <td>11</td>\n",
              "      <td>5</td>\n",
              "      <td>0</td>\n",
              "      <td>0</td>\n",
              "      <td>0.455</td>\n",
              "      <td>LG</td>\n",
              "      <td>1</td>\n",
              "      <td>home</td>\n",
              "      <td>8</td>\n",
              "      <td>3</td>\n",
              "      <td>0.375</td>\n",
              "      <td>0.454545</td>\n",
              "      <td>0.454545</td>\n",
              "      <td>0.454545</td>\n",
              "      <td>0.666667</td>\n",
              "      <td>0.666667</td>\n",
              "    </tr>\n",
              "    <tr>\n",
              "      <th>4</th>\n",
              "      <td>강백호</td>\n",
              "      <td>20210409</td>\n",
              "      <td>@삼성</td>\n",
              "      <td>L 5:7</td>\n",
              "      <td>4</td>\n",
              "      <td>1B</td>\n",
              "      <td>True</td>\n",
              "      <td>5</td>\n",
              "      <td>0</td>\n",
              "      <td>3</td>\n",
              "      <td>0</td>\n",
              "      <td>1</td>\n",
              "      <td>0</td>\n",
              "      <td>5</td>\n",
              "      <td>3</td>\n",
              "      <td>0</td>\n",
              "      <td>0</td>\n",
              "      <td>0</td>\n",
              "      <td>0</td>\n",
              "      <td>0</td>\n",
              "      <td>1</td>\n",
              "      <td>1</td>\n",
              "      <td>0</td>\n",
              "      <td>0</td>\n",
              "      <td>0.500</td>\n",
              "      <td>NaN</td>\n",
              "      <td>0.600</td>\n",
              "      <td>1.145</td>\n",
              "      <td>21</td>\n",
              "      <td>0.94</td>\n",
              "      <td>1.88</td>\n",
              "      <td>-0.122</td>\n",
              "      <td>0.0</td>\n",
              "      <td>삼성</td>\n",
              "      <td>away</td>\n",
              "      <td>15</td>\n",
              "      <td>7</td>\n",
              "      <td>0</td>\n",
              "      <td>0</td>\n",
              "      <td>NaN</td>\n",
              "      <td>삼성</td>\n",
              "      <td>away</td>\n",
              "      <td>15</td>\n",
              "      <td>7</td>\n",
              "      <td>0</td>\n",
              "      <td>0</td>\n",
              "      <td>0.000</td>\n",
              "      <td>삼성</td>\n",
              "      <td>1</td>\n",
              "      <td>away</td>\n",
              "      <td>0</td>\n",
              "      <td>0</td>\n",
              "      <td>0.000</td>\n",
              "      <td>0.466667</td>\n",
              "      <td>0.466667</td>\n",
              "      <td>0.466667</td>\n",
              "      <td>0.750000</td>\n",
              "      <td>0.750000</td>\n",
              "    </tr>\n",
              "    <tr>\n",
              "      <th>...</th>\n",
              "      <td>...</td>\n",
              "      <td>...</td>\n",
              "      <td>...</td>\n",
              "      <td>...</td>\n",
              "      <td>...</td>\n",
              "      <td>...</td>\n",
              "      <td>...</td>\n",
              "      <td>...</td>\n",
              "      <td>...</td>\n",
              "      <td>...</td>\n",
              "      <td>...</td>\n",
              "      <td>...</td>\n",
              "      <td>...</td>\n",
              "      <td>...</td>\n",
              "      <td>...</td>\n",
              "      <td>...</td>\n",
              "      <td>...</td>\n",
              "      <td>...</td>\n",
              "      <td>...</td>\n",
              "      <td>...</td>\n",
              "      <td>...</td>\n",
              "      <td>...</td>\n",
              "      <td>...</td>\n",
              "      <td>...</td>\n",
              "      <td>...</td>\n",
              "      <td>...</td>\n",
              "      <td>...</td>\n",
              "      <td>...</td>\n",
              "      <td>...</td>\n",
              "      <td>...</td>\n",
              "      <td>...</td>\n",
              "      <td>...</td>\n",
              "      <td>...</td>\n",
              "      <td>...</td>\n",
              "      <td>...</td>\n",
              "      <td>...</td>\n",
              "      <td>...</td>\n",
              "      <td>...</td>\n",
              "      <td>...</td>\n",
              "      <td>...</td>\n",
              "      <td>...</td>\n",
              "      <td>...</td>\n",
              "      <td>...</td>\n",
              "      <td>...</td>\n",
              "      <td>...</td>\n",
              "      <td>...</td>\n",
              "      <td>...</td>\n",
              "      <td>...</td>\n",
              "      <td>...</td>\n",
              "      <td>...</td>\n",
              "      <td>...</td>\n",
              "      <td>...</td>\n",
              "      <td>...</td>\n",
              "      <td>...</td>\n",
              "      <td>...</td>\n",
              "      <td>...</td>\n",
              "      <td>...</td>\n",
              "      <td>...</td>\n",
              "    </tr>\n",
              "    <tr>\n",
              "      <th>11311</th>\n",
              "      <td>강경학</td>\n",
              "      <td>20181006</td>\n",
              "      <td>@롯데</td>\n",
              "      <td>L 5:8</td>\n",
              "      <td>9</td>\n",
              "      <td>PH</td>\n",
              "      <td>True</td>\n",
              "      <td>1</td>\n",
              "      <td>0</td>\n",
              "      <td>0</td>\n",
              "      <td>0</td>\n",
              "      <td>0</td>\n",
              "      <td>0</td>\n",
              "      <td>0</td>\n",
              "      <td>0</td>\n",
              "      <td>0</td>\n",
              "      <td>0</td>\n",
              "      <td>0</td>\n",
              "      <td>0</td>\n",
              "      <td>0</td>\n",
              "      <td>1</td>\n",
              "      <td>0</td>\n",
              "      <td>0</td>\n",
              "      <td>0</td>\n",
              "      <td>0.277</td>\n",
              "      <td>NaN</td>\n",
              "      <td>0.393</td>\n",
              "      <td>0.775</td>\n",
              "      <td>6</td>\n",
              "      <td>0.39</td>\n",
              "      <td>-0.25</td>\n",
              "      <td>-0.012</td>\n",
              "      <td>0.0</td>\n",
              "      <td>롯데</td>\n",
              "      <td>away</td>\n",
              "      <td>133</td>\n",
              "      <td>35</td>\n",
              "      <td>108</td>\n",
              "      <td>32</td>\n",
              "      <td>0.296</td>\n",
              "      <td>롯데</td>\n",
              "      <td>away</td>\n",
              "      <td>133</td>\n",
              "      <td>35</td>\n",
              "      <td>108</td>\n",
              "      <td>32</td>\n",
              "      <td>0.296</td>\n",
              "      <td>롯데</td>\n",
              "      <td>0</td>\n",
              "      <td>away</td>\n",
              "      <td>15</td>\n",
              "      <td>3</td>\n",
              "      <td>0.200</td>\n",
              "      <td>0.250000</td>\n",
              "      <td>0.111111</td>\n",
              "      <td>0.200000</td>\n",
              "      <td>0.500000</td>\n",
              "      <td>0.400000</td>\n",
              "    </tr>\n",
              "    <tr>\n",
              "      <th>11312</th>\n",
              "      <td>강경학</td>\n",
              "      <td>20181009</td>\n",
              "      <td>@KT</td>\n",
              "      <td>W 10:6</td>\n",
              "      <td>8</td>\n",
              "      <td>PH</td>\n",
              "      <td>True</td>\n",
              "      <td>3</td>\n",
              "      <td>1</td>\n",
              "      <td>1</td>\n",
              "      <td>0</td>\n",
              "      <td>0</td>\n",
              "      <td>0</td>\n",
              "      <td>1</td>\n",
              "      <td>0</td>\n",
              "      <td>0</td>\n",
              "      <td>0</td>\n",
              "      <td>0</td>\n",
              "      <td>0</td>\n",
              "      <td>0</td>\n",
              "      <td>2</td>\n",
              "      <td>0</td>\n",
              "      <td>0</td>\n",
              "      <td>0</td>\n",
              "      <td>0.278</td>\n",
              "      <td>NaN</td>\n",
              "      <td>0.392</td>\n",
              "      <td>0.774</td>\n",
              "      <td>15</td>\n",
              "      <td>0.09</td>\n",
              "      <td>-0.03</td>\n",
              "      <td>-0.004</td>\n",
              "      <td>0.0</td>\n",
              "      <td>KT</td>\n",
              "      <td>away</td>\n",
              "      <td>133</td>\n",
              "      <td>35</td>\n",
              "      <td>109</td>\n",
              "      <td>32</td>\n",
              "      <td>0.294</td>\n",
              "      <td>KT</td>\n",
              "      <td>away</td>\n",
              "      <td>133</td>\n",
              "      <td>35</td>\n",
              "      <td>109</td>\n",
              "      <td>32</td>\n",
              "      <td>0.294</td>\n",
              "      <td>KT</td>\n",
              "      <td>1</td>\n",
              "      <td>away</td>\n",
              "      <td>36</td>\n",
              "      <td>12</td>\n",
              "      <td>0.333</td>\n",
              "      <td>0.000000</td>\n",
              "      <td>0.125000</td>\n",
              "      <td>0.222222</td>\n",
              "      <td>0.333333</td>\n",
              "      <td>0.400000</td>\n",
              "    </tr>\n",
              "    <tr>\n",
              "      <th>11313</th>\n",
              "      <td>강경학</td>\n",
              "      <td>20181019</td>\n",
              "      <td>넥센</td>\n",
              "      <td>L 2:3</td>\n",
              "      <td>9</td>\n",
              "      <td>PR</td>\n",
              "      <td>True</td>\n",
              "      <td>0</td>\n",
              "      <td>0</td>\n",
              "      <td>0</td>\n",
              "      <td>0</td>\n",
              "      <td>0</td>\n",
              "      <td>0</td>\n",
              "      <td>0</td>\n",
              "      <td>0</td>\n",
              "      <td>0</td>\n",
              "      <td>0</td>\n",
              "      <td>0</td>\n",
              "      <td>0</td>\n",
              "      <td>0</td>\n",
              "      <td>0</td>\n",
              "      <td>0</td>\n",
              "      <td>0</td>\n",
              "      <td>0</td>\n",
              "      <td>0.000</td>\n",
              "      <td>NaN</td>\n",
              "      <td>0.000</td>\n",
              "      <td>0.000</td>\n",
              "      <td>0</td>\n",
              "      <td>0.00</td>\n",
              "      <td>0.00</td>\n",
              "      <td>0.000</td>\n",
              "      <td>0.0</td>\n",
              "      <td>넥센</td>\n",
              "      <td>home</td>\n",
              "      <td>133</td>\n",
              "      <td>35</td>\n",
              "      <td>112</td>\n",
              "      <td>33</td>\n",
              "      <td>0.263</td>\n",
              "      <td>넥센</td>\n",
              "      <td>home</td>\n",
              "      <td>133</td>\n",
              "      <td>35</td>\n",
              "      <td>112</td>\n",
              "      <td>33</td>\n",
              "      <td>0.263</td>\n",
              "      <td>넥센</td>\n",
              "      <td>0</td>\n",
              "      <td>home</td>\n",
              "      <td>27</td>\n",
              "      <td>8</td>\n",
              "      <td>0.296</td>\n",
              "      <td>0.000000</td>\n",
              "      <td>0.222222</td>\n",
              "      <td>0.235294</td>\n",
              "      <td>1.000000</td>\n",
              "      <td>0.400000</td>\n",
              "    </tr>\n",
              "    <tr>\n",
              "      <th>11314</th>\n",
              "      <td>강경학</td>\n",
              "      <td>20181020</td>\n",
              "      <td>넥센</td>\n",
              "      <td>L 5:7</td>\n",
              "      <td>7</td>\n",
              "      <td>PH</td>\n",
              "      <td>True</td>\n",
              "      <td>1</td>\n",
              "      <td>0</td>\n",
              "      <td>0</td>\n",
              "      <td>0</td>\n",
              "      <td>0</td>\n",
              "      <td>0</td>\n",
              "      <td>0</td>\n",
              "      <td>0</td>\n",
              "      <td>0</td>\n",
              "      <td>0</td>\n",
              "      <td>0</td>\n",
              "      <td>0</td>\n",
              "      <td>0</td>\n",
              "      <td>0</td>\n",
              "      <td>0</td>\n",
              "      <td>0</td>\n",
              "      <td>0</td>\n",
              "      <td>0.000</td>\n",
              "      <td>NaN</td>\n",
              "      <td>0.000</td>\n",
              "      <td>0.000</td>\n",
              "      <td>6</td>\n",
              "      <td>1.94</td>\n",
              "      <td>-0.47</td>\n",
              "      <td>-0.050</td>\n",
              "      <td>0.0</td>\n",
              "      <td>넥센</td>\n",
              "      <td>home</td>\n",
              "      <td>133</td>\n",
              "      <td>35</td>\n",
              "      <td>112</td>\n",
              "      <td>33</td>\n",
              "      <td>0.263</td>\n",
              "      <td>넥센</td>\n",
              "      <td>home</td>\n",
              "      <td>133</td>\n",
              "      <td>35</td>\n",
              "      <td>112</td>\n",
              "      <td>33</td>\n",
              "      <td>0.263</td>\n",
              "      <td>넥센</td>\n",
              "      <td>0</td>\n",
              "      <td>home</td>\n",
              "      <td>27</td>\n",
              "      <td>8</td>\n",
              "      <td>0.296</td>\n",
              "      <td>0.000000</td>\n",
              "      <td>0.250000</td>\n",
              "      <td>0.235294</td>\n",
              "      <td>0.000000</td>\n",
              "      <td>0.400000</td>\n",
              "    </tr>\n",
              "    <tr>\n",
              "      <th>11315</th>\n",
              "      <td>강경학</td>\n",
              "      <td>20181023</td>\n",
              "      <td>@넥센</td>\n",
              "      <td>L 2:5</td>\n",
              "      <td>8</td>\n",
              "      <td>PH</td>\n",
              "      <td>True</td>\n",
              "      <td>1</td>\n",
              "      <td>0</td>\n",
              "      <td>1</td>\n",
              "      <td>1</td>\n",
              "      <td>0</td>\n",
              "      <td>0</td>\n",
              "      <td>2</td>\n",
              "      <td>0</td>\n",
              "      <td>0</td>\n",
              "      <td>0</td>\n",
              "      <td>0</td>\n",
              "      <td>0</td>\n",
              "      <td>0</td>\n",
              "      <td>0</td>\n",
              "      <td>0</td>\n",
              "      <td>0</td>\n",
              "      <td>0</td>\n",
              "      <td>0.500</td>\n",
              "      <td>NaN</td>\n",
              "      <td>1.000</td>\n",
              "      <td>1.500</td>\n",
              "      <td>3</td>\n",
              "      <td>0.75</td>\n",
              "      <td>0.63</td>\n",
              "      <td>0.044</td>\n",
              "      <td>0.0</td>\n",
              "      <td>넥센</td>\n",
              "      <td>away</td>\n",
              "      <td>134</td>\n",
              "      <td>35</td>\n",
              "      <td>112</td>\n",
              "      <td>33</td>\n",
              "      <td>0.295</td>\n",
              "      <td>넥센</td>\n",
              "      <td>away</td>\n",
              "      <td>134</td>\n",
              "      <td>35</td>\n",
              "      <td>112</td>\n",
              "      <td>33</td>\n",
              "      <td>0.295</td>\n",
              "      <td>넥센</td>\n",
              "      <td>1</td>\n",
              "      <td>away</td>\n",
              "      <td>28</td>\n",
              "      <td>8</td>\n",
              "      <td>0.286</td>\n",
              "      <td>0.000000</td>\n",
              "      <td>0.142857</td>\n",
              "      <td>0.176471</td>\n",
              "      <td>0.000000</td>\n",
              "      <td>0.300000</td>\n",
              "    </tr>\n",
              "  </tbody>\n",
              "</table>\n",
              "<p>39118 rows × 58 columns</p>\n",
              "</div>"
            ],
            "text/plain": [
              "      name       day   vs  ... recent_10games_avg  success_10days success_10games\n",
              "0      강백호  20210404   한화  ...           0.000000        0.000000        0.000000\n",
              "1      강백호  20210406   LG  ...           0.666667        1.000000        1.000000\n",
              "2      강백호  20210407   LG  ...           0.285714        0.500000        0.500000\n",
              "3      강백호  20210408   LG  ...           0.454545        0.666667        0.666667\n",
              "4      강백호  20210409  @삼성  ...           0.466667        0.750000        0.750000\n",
              "...    ...       ...  ...  ...                ...             ...             ...\n",
              "11311  강경학  20181006  @롯데  ...           0.200000        0.500000        0.400000\n",
              "11312  강경학  20181009  @KT  ...           0.222222        0.333333        0.400000\n",
              "11313  강경학  20181019   넥센  ...           0.235294        1.000000        0.400000\n",
              "11314  강경학  20181020   넥센  ...           0.235294        0.000000        0.400000\n",
              "11315  강경학  20181023  @넥센  ...           0.176471        0.000000        0.300000\n",
              "\n",
              "[39118 rows x 58 columns]"
            ]
          },
          "metadata": {
            "tags": []
          },
          "execution_count": 47
        }
      ]
    },
    {
      "cell_type": "code",
      "metadata": {
        "id": "iF4wzQ2cX2Ue"
      },
      "source": [
        "final_2018_2021 = final_2018_2021[final_2018_2021['ab']>1]"
      ],
      "execution_count": 52,
      "outputs": []
    },
    {
      "cell_type": "code",
      "metadata": {
        "id": "7xqGyysNX_vN",
        "outputId": "74a36aae-1a47-4aea-d319-f94965bee478",
        "colab": {
          "base_uri": "https://localhost:8080/",
          "height": 334
        }
      },
      "source": [
        "sns.countplot(final_2018_2021['ab'])\n",
        "plt.show()"
      ],
      "execution_count": 54,
      "outputs": [
        {
          "output_type": "stream",
          "text": [
            "/usr/local/lib/python3.7/dist-packages/seaborn/_decorators.py:43: FutureWarning: Pass the following variable as a keyword arg: x. From version 0.12, the only valid positional argument will be `data`, and passing other arguments without an explicit keyword will result in an error or misinterpretation.\n",
            "  FutureWarning\n"
          ],
          "name": "stderr"
        },
        {
          "output_type": "display_data",
          "data": {
            "image/png": "[encoded data removed]",
            "text/plain": [
              "<Figure size 432x288 with 1 Axes>"
            ]
          },
          "metadata": {
            "tags": [],
            "needs_background": "light"
          }
        }
      ]
    },
    {
      "cell_type": "code",
      "metadata": {
        "colab": {
          "base_uri": "https://localhost:8080/",
          "height": 68
        },
        "id": "MAUO2QTqKtAP",
        "outputId": "81d58167-5c3c-443d-dcd8-5a39725c579c"
      },
      "source": [
        "final_2018_2021.loc[final_2018_2021['start_member']== False]"
      ],
      "execution_count": 50,
      "outputs": [
        {
          "output_type": "execute_result",
          "data": {
            "text/html": [
              "<div>\n",
              "<style scoped>\n",
              "    .dataframe tbody tr th:only-of-type {\n",
              "        vertical-align: middle;\n",
              "    }\n",
              "\n",
              "    .dataframe tbody tr th {\n",
              "        vertical-align: top;\n",
              "    }\n",
              "\n",
              "    .dataframe thead th {\n",
              "        text-align: right;\n",
              "    }\n",
              "</style>\n",
              "<table border=\"1\" class=\"dataframe\">\n",
              "  <thead>\n",
              "    <tr style=\"text-align: right;\">\n",
              "      <th></th>\n",
              "      <th>name</th>\n",
              "      <th>day</th>\n",
              "      <th>vs</th>\n",
              "      <th>result_x</th>\n",
              "      <th>bat_order</th>\n",
              "      <th>position</th>\n",
              "      <th>start_member</th>\n",
              "      <th>ab</th>\n",
              "      <th>score</th>\n",
              "      <th>hit</th>\n",
              "      <th>2_hit</th>\n",
              "      <th>3_hit</th>\n",
              "      <th>homerun</th>\n",
              "      <th>tb</th>\n",
              "      <th>rbi</th>\n",
              "      <th>sb</th>\n",
              "      <th>cs</th>\n",
              "      <th>bb</th>\n",
              "      <th>hpp</th>\n",
              "      <th>ibb</th>\n",
              "      <th>so</th>\n",
              "      <th>gdp</th>\n",
              "      <th>sh</th>\n",
              "      <th>sf</th>\n",
              "      <th>avg</th>\n",
              "      <th>obp</th>\n",
              "      <th>slg</th>\n",
              "      <th>ops</th>\n",
              "      <th>pitch</th>\n",
              "      <th>avLI</th>\n",
              "      <th>RE24</th>\n",
              "      <th>WPA</th>\n",
              "      <th>double</th>\n",
              "      <th>vs_team_x</th>\n",
              "      <th>home/away_x</th>\n",
              "      <th>home_ab_x</th>\n",
              "      <th>home_hit_x</th>\n",
              "      <th>away_ab_x</th>\n",
              "      <th>away_hit_x</th>\n",
              "      <th>home/away_avg_x</th>\n",
              "      <th>vs_team_y</th>\n",
              "      <th>home/away_y</th>\n",
              "      <th>home_ab_y</th>\n",
              "      <th>home_hit_y</th>\n",
              "      <th>away_ab_y</th>\n",
              "      <th>away_hit_y</th>\n",
              "      <th>home/away_avg_y</th>\n",
              "      <th>vs_team</th>\n",
              "      <th>result_y</th>\n",
              "      <th>home/away</th>\n",
              "      <th>vs_ab</th>\n",
              "      <th>vs_hit</th>\n",
              "      <th>vs_avg</th>\n",
              "      <th>recent_5days_avg</th>\n",
              "      <th>recent_5games_avg</th>\n",
              "      <th>recent_10games_avg</th>\n",
              "      <th>success_10days</th>\n",
              "      <th>success_10games</th>\n",
              "    </tr>\n",
              "  </thead>\n",
              "  <tbody>\n",
              "  </tbody>\n",
              "</table>\n",
              "</div>"
            ],
            "text/plain": [
              "Empty DataFrame\n",
              "Columns: [name, day, vs, result_x, bat_order, position, start_member, ab, score, hit, 2_hit, 3_hit, homerun, tb, rbi, sb, cs, bb, hpp, ibb, so, gdp, sh, sf, avg, obp, slg, ops, pitch, avLI, RE24, WPA, double, vs_team_x, home/away_x, home_ab_x, home_hit_x, away_ab_x, away_hit_x, home/away_avg_x, vs_team_y, home/away_y, home_ab_y, home_hit_y, away_ab_y, away_hit_y, home/away_avg_y, vs_team, result_y, home/away, vs_ab, vs_hit, vs_avg, recent_5days_avg, recent_5games_avg, recent_10games_avg, success_10days, success_10games]\n",
              "Index: []"
            ]
          },
          "metadata": {
            "tags": []
          },
          "execution_count": 50
        }
      ]
    },
    {
      "cell_type": "markdown",
      "metadata": {
        "id": "6vKbGIXYnVOa"
      },
      "source": [
        "### **Multi layer Perceptron in Be the legend**"
      ]
    },
    {
      "cell_type": "code",
      "metadata": {
        "id": "RFweHbLdmuMq"
      },
      "source": [
        "mlp_data = final_2018_2021.loc[:, ['name', 'start_member', 'vs_team', 'avg', 'slg', 'ops', 'home/away_avg_y', 'vs_ab', 'vs_hit', 'vs_avg', 'recent_5days_avg', 'recent_5games_avg', 'recent_10games_avg', 'success_10days', 'success_10games', 'result_y']]"
      ],
      "execution_count": 55,
      "outputs": []
    },
    {
      "cell_type": "code",
      "metadata": {
        "id": "hNns44d1muU0",
        "colab": {
          "base_uri": "https://localhost:8080/",
          "height": 414
        },
        "outputId": "d29dbfb8-2d1c-4b1b-c89d-89fbd17b9f9f"
      },
      "source": [
        "mlp_data"
      ],
      "execution_count": 56,
      "outputs": [
        {
          "output_type": "execute_result",
          "data": {
            "text/html": [
              "<div>\n",
              "<style scoped>\n",
              "    .dataframe tbody tr th:only-of-type {\n",
              "        vertical-align: middle;\n",
              "    }\n",
              "\n",
              "    .dataframe tbody tr th {\n",
              "        vertical-align: top;\n",
              "    }\n",
              "\n",
              "    .dataframe thead th {\n",
              "        text-align: right;\n",
              "    }\n",
              "</style>\n",
              "<table border=\"1\" class=\"dataframe\">\n",
              "  <thead>\n",
              "    <tr style=\"text-align: right;\">\n",
              "      <th></th>\n",
              "      <th>name</th>\n",
              "      <th>start_member</th>\n",
              "      <th>vs_team</th>\n",
              "      <th>avg</th>\n",
              "      <th>slg</th>\n",
              "      <th>ops</th>\n",
              "      <th>home/away_avg_y</th>\n",
              "      <th>vs_ab</th>\n",
              "      <th>vs_hit</th>\n",
              "      <th>vs_avg</th>\n",
              "      <th>recent_5days_avg</th>\n",
              "      <th>recent_5games_avg</th>\n",
              "      <th>recent_10games_avg</th>\n",
              "      <th>success_10days</th>\n",
              "      <th>success_10games</th>\n",
              "      <th>result_y</th>\n",
              "    </tr>\n",
              "  </thead>\n",
              "  <tbody>\n",
              "    <tr>\n",
              "      <th>0</th>\n",
              "      <td>강백호</td>\n",
              "      <td>True</td>\n",
              "      <td>한화</td>\n",
              "      <td>0.667</td>\n",
              "      <td>0.667</td>\n",
              "      <td>1.417</td>\n",
              "      <td>0.000</td>\n",
              "      <td>0</td>\n",
              "      <td>0</td>\n",
              "      <td>0.000</td>\n",
              "      <td>0.000000</td>\n",
              "      <td>0.000000</td>\n",
              "      <td>0.000000</td>\n",
              "      <td>0.000000</td>\n",
              "      <td>0.000000</td>\n",
              "      <td>1</td>\n",
              "    </tr>\n",
              "    <tr>\n",
              "      <th>1</th>\n",
              "      <td>강백호</td>\n",
              "      <td>True</td>\n",
              "      <td>LG</td>\n",
              "      <td>0.286</td>\n",
              "      <td>0.286</td>\n",
              "      <td>0.661</td>\n",
              "      <td>0.667</td>\n",
              "      <td>0</td>\n",
              "      <td>0</td>\n",
              "      <td>0.000</td>\n",
              "      <td>0.666667</td>\n",
              "      <td>0.666667</td>\n",
              "      <td>0.666667</td>\n",
              "      <td>1.000000</td>\n",
              "      <td>1.000000</td>\n",
              "      <td>0</td>\n",
              "    </tr>\n",
              "    <tr>\n",
              "      <th>2</th>\n",
              "      <td>강백호</td>\n",
              "      <td>True</td>\n",
              "      <td>LG</td>\n",
              "      <td>0.455</td>\n",
              "      <td>0.455</td>\n",
              "      <td>0.993</td>\n",
              "      <td>0.286</td>\n",
              "      <td>4</td>\n",
              "      <td>0</td>\n",
              "      <td>0.000</td>\n",
              "      <td>0.285714</td>\n",
              "      <td>0.285714</td>\n",
              "      <td>0.285714</td>\n",
              "      <td>0.500000</td>\n",
              "      <td>0.500000</td>\n",
              "      <td>1</td>\n",
              "    </tr>\n",
              "    <tr>\n",
              "      <th>3</th>\n",
              "      <td>강백호</td>\n",
              "      <td>True</td>\n",
              "      <td>LG</td>\n",
              "      <td>0.467</td>\n",
              "      <td>0.467</td>\n",
              "      <td>0.996</td>\n",
              "      <td>0.455</td>\n",
              "      <td>8</td>\n",
              "      <td>3</td>\n",
              "      <td>0.375</td>\n",
              "      <td>0.454545</td>\n",
              "      <td>0.454545</td>\n",
              "      <td>0.454545</td>\n",
              "      <td>0.666667</td>\n",
              "      <td>0.666667</td>\n",
              "      <td>1</td>\n",
              "    </tr>\n",
              "    <tr>\n",
              "      <th>4</th>\n",
              "      <td>강백호</td>\n",
              "      <td>True</td>\n",
              "      <td>삼성</td>\n",
              "      <td>0.500</td>\n",
              "      <td>0.600</td>\n",
              "      <td>1.145</td>\n",
              "      <td>0.000</td>\n",
              "      <td>0</td>\n",
              "      <td>0</td>\n",
              "      <td>0.000</td>\n",
              "      <td>0.466667</td>\n",
              "      <td>0.466667</td>\n",
              "      <td>0.466667</td>\n",
              "      <td>0.750000</td>\n",
              "      <td>0.750000</td>\n",
              "      <td>1</td>\n",
              "    </tr>\n",
              "    <tr>\n",
              "      <th>...</th>\n",
              "      <td>...</td>\n",
              "      <td>...</td>\n",
              "      <td>...</td>\n",
              "      <td>...</td>\n",
              "      <td>...</td>\n",
              "      <td>...</td>\n",
              "      <td>...</td>\n",
              "      <td>...</td>\n",
              "      <td>...</td>\n",
              "      <td>...</td>\n",
              "      <td>...</td>\n",
              "      <td>...</td>\n",
              "      <td>...</td>\n",
              "      <td>...</td>\n",
              "      <td>...</td>\n",
              "      <td>...</td>\n",
              "    </tr>\n",
              "    <tr>\n",
              "      <th>11306</th>\n",
              "      <td>강경학</td>\n",
              "      <td>True</td>\n",
              "      <td>삼성</td>\n",
              "      <td>0.282</td>\n",
              "      <td>0.402</td>\n",
              "      <td>0.792</td>\n",
              "      <td>0.272</td>\n",
              "      <td>29</td>\n",
              "      <td>7</td>\n",
              "      <td>0.241</td>\n",
              "      <td>0.500000</td>\n",
              "      <td>0.272727</td>\n",
              "      <td>0.160000</td>\n",
              "      <td>0.600000</td>\n",
              "      <td>0.400000</td>\n",
              "      <td>0</td>\n",
              "    </tr>\n",
              "    <tr>\n",
              "      <th>11307</th>\n",
              "      <td>강경학</td>\n",
              "      <td>True</td>\n",
              "      <td>삼성</td>\n",
              "      <td>0.280</td>\n",
              "      <td>0.398</td>\n",
              "      <td>0.785</td>\n",
              "      <td>0.268</td>\n",
              "      <td>31</td>\n",
              "      <td>7</td>\n",
              "      <td>0.226</td>\n",
              "      <td>0.333333</td>\n",
              "      <td>0.300000</td>\n",
              "      <td>0.173913</td>\n",
              "      <td>0.500000</td>\n",
              "      <td>0.400000</td>\n",
              "      <td>0</td>\n",
              "    </tr>\n",
              "    <tr>\n",
              "      <th>11309</th>\n",
              "      <td>강경학</td>\n",
              "      <td>True</td>\n",
              "      <td>롯데</td>\n",
              "      <td>0.280</td>\n",
              "      <td>0.397</td>\n",
              "      <td>0.784</td>\n",
              "      <td>0.264</td>\n",
              "      <td>11</td>\n",
              "      <td>2</td>\n",
              "      <td>0.182</td>\n",
              "      <td>0.000000</td>\n",
              "      <td>0.222222</td>\n",
              "      <td>0.190476</td>\n",
              "      <td>0.000000</td>\n",
              "      <td>0.400000</td>\n",
              "      <td>1</td>\n",
              "    </tr>\n",
              "    <tr>\n",
              "      <th>11310</th>\n",
              "      <td>강경학</td>\n",
              "      <td>True</td>\n",
              "      <td>롯데</td>\n",
              "      <td>0.278</td>\n",
              "      <td>0.394</td>\n",
              "      <td>0.778</td>\n",
              "      <td>0.267</td>\n",
              "      <td>13</td>\n",
              "      <td>3</td>\n",
              "      <td>0.231</td>\n",
              "      <td>0.500000</td>\n",
              "      <td>0.200000</td>\n",
              "      <td>0.227273</td>\n",
              "      <td>1.000000</td>\n",
              "      <td>0.500000</td>\n",
              "      <td>0</td>\n",
              "    </tr>\n",
              "    <tr>\n",
              "      <th>11312</th>\n",
              "      <td>강경학</td>\n",
              "      <td>True</td>\n",
              "      <td>KT</td>\n",
              "      <td>0.278</td>\n",
              "      <td>0.392</td>\n",
              "      <td>0.774</td>\n",
              "      <td>0.294</td>\n",
              "      <td>36</td>\n",
              "      <td>12</td>\n",
              "      <td>0.333</td>\n",
              "      <td>0.000000</td>\n",
              "      <td>0.125000</td>\n",
              "      <td>0.222222</td>\n",
              "      <td>0.333333</td>\n",
              "      <td>0.400000</td>\n",
              "      <td>1</td>\n",
              "    </tr>\n",
              "  </tbody>\n",
              "</table>\n",
              "<p>35125 rows × 16 columns</p>\n",
              "</div>"
            ],
            "text/plain": [
              "      name  start_member vs_team  ...  success_10days  success_10games  result_y\n",
              "0      강백호          True      한화  ...        0.000000         0.000000         1\n",
              "1      강백호          True      LG  ...        1.000000         1.000000         0\n",
              "2      강백호          True      LG  ...        0.500000         0.500000         1\n",
              "3      강백호          True      LG  ...        0.666667         0.666667         1\n",
              "4      강백호          True      삼성  ...        0.750000         0.750000         1\n",
              "...    ...           ...     ...  ...             ...              ...       ...\n",
              "11306  강경학          True      삼성  ...        0.600000         0.400000         0\n",
              "11307  강경학          True      삼성  ...        0.500000         0.400000         0\n",
              "11309  강경학          True      롯데  ...        0.000000         0.400000         1\n",
              "11310  강경학          True      롯데  ...        1.000000         0.500000         0\n",
              "11312  강경학          True      KT  ...        0.333333         0.400000         1\n",
              "\n",
              "[35125 rows x 16 columns]"
            ]
          },
          "metadata": {
            "tags": []
          },
          "execution_count": 56
        }
      ]
    },
    {
      "cell_type": "code",
      "metadata": {
        "id": "3cid426-ZUot",
        "colab": {
          "base_uri": "https://localhost:8080/"
        },
        "outputId": "ace0883d-657f-404d-9cae-0b9ec054b0ce"
      },
      "source": [
        "len(mlp_data)"
      ],
      "execution_count": 57,
      "outputs": [
        {
          "output_type": "execute_result",
          "data": {
            "text/plain": [
              "35125"
            ]
          },
          "metadata": {
            "tags": []
          },
          "execution_count": 57
        }
      ]
    },
    {
      "cell_type": "code",
      "metadata": {
        "id": "-iD5efWEmuXc"
      },
      "source": [
        "from keras.utils.np_utils import to_categorical\n",
        "import numpy as np\n",
        "from sklearn.preprocessing import minmax_scale\n",
        "from keras.models import Sequential\n",
        "from keras.layers import Dense, Dropout, Activation\n",
        "from keras.optimizers import Adam\n",
        "from sklearn.model_selection import train_test_split"
      ],
      "execution_count": 58,
      "outputs": []
    },
    {
      "cell_type": "code",
      "metadata": {
        "id": "C7_-up_YmuZa"
      },
      "source": [
        "mlp_train, mlp_test = train_test_split(mlp_data, test_size=0.2, random_state=50)"
      ],
      "execution_count": 61,
      "outputs": []
    },
    {
      "cell_type": "code",
      "metadata": {
        "id": "2mOrTVAloq14"
      },
      "source": [
        "X_train = mlp_train.loc[:, ['avg', 'slg', 'ops', 'home/away_avg_y', 'vs_ab', 'vs_hit', 'vs_avg', 'recent_5days_avg', 'recent_5games_avg', 'recent_10games_avg', 'success_10days', 'success_10games']]\n",
        "y_train = mlp_train.loc[:, ['result_y']]\n",
        "\n",
        "X_test = mlp_test.loc[:, ['avg', 'slg', 'ops', 'home/away_avg_y', 'vs_ab', 'vs_hit', 'vs_avg', 'recent_5days_avg', 'recent_5games_avg', 'recent_10games_avg', 'success_10days', 'success_10games']]\n",
        "y_test = mlp_test.loc[:, ['result_y']]"
      ],
      "execution_count": 62,
      "outputs": []
    },
    {
      "cell_type": "code",
      "metadata": {
        "id": "gcVedMqPpAkB"
      },
      "source": [
        "X_train = X_train.to_numpy()\n",
        "y_train = y_train.to_numpy()\n",
        "X_test = X_test.to_numpy()\n",
        "y_test = y_test.to_numpy()"
      ],
      "execution_count": 67,
      "outputs": []
    },
    {
      "cell_type": "code",
      "metadata": {
        "id": "zEiz1UpqpCgQ"
      },
      "source": [
        "number_of_train_samples = X_train.shape[0]\n",
        "width = X_train.shape[1]\n",
        "X_train = X_train.reshape(number_of_train_samples, width)"
      ],
      "execution_count": 68,
      "outputs": []
    },
    {
      "cell_type": "code",
      "metadata": {
        "id": "Xow9qw6IpFuY"
      },
      "source": [
        "number_of_test_samples = X_test.shape[0]\n",
        "X_test = X_test.reshape(number_of_test_samples, width)"
      ],
      "execution_count": 69,
      "outputs": []
    },
    {
      "cell_type": "code",
      "metadata": {
        "id": "Q8Vnpzu_pHnB"
      },
      "source": [
        "X_train = minmax_scale(X_train, feature_range=(0,1), axis = 0)\n",
        "X_test = minmax_scale(X_test, feature_range=(0,1), axis = 0)"
      ],
      "execution_count": 70,
      "outputs": []
    },
    {
      "cell_type": "code",
      "metadata": {
        "id": "C94ziVRUpMlw"
      },
      "source": [
        "y_train = to_categorical(y_train)\n",
        "y_test = to_categorical(y_test)"
      ],
      "execution_count": 73,
      "outputs": []
    },
    {
      "cell_type": "code",
      "metadata": {
        "id": "XdjLhfevpOCp"
      },
      "source": [
        "model = Sequential()\n",
        "\n",
        "model.add(Dense(512, input_dim= width, kernel_initializer = 'glorot_uniform', activation = 'relu'))\n",
        "# model.add(Dropout(0.3))\n",
        "model.add(Dense(300, kernel_initializer = 'glorot_uniform', activation = 'relu'))\n",
        "model.add(Dense(256, kernel_initializer = 'glorot_uniform', activation = 'relu'))\n",
        "\n",
        "model.add(Dense(128, kernel_initializer = 'glorot_uniform', activation = 'relu'))\n",
        "\n",
        "model.add(Dense(64, kernel_initializer = 'glorot_uniform', activation = 'relu'))\n",
        "\n",
        "model.add(Dense(32, kernel_initializer = 'glorot_uniform', activation = 'relu'))\n",
        "model.add(Dense(16, kernel_initializer = 'glorot_uniform', activation = 'relu'))\n",
        "model.add(Dense(2, activation = 'softmax'))\n",
        "\n",
        "model.compile(loss = 'categorical_crossentropy', optimizer='sgd', metrics=['accuracy'])"
      ],
      "execution_count": 74,
      "outputs": []
    },
    {
      "cell_type": "code",
      "metadata": {
        "id": "3naz_KINpRKB",
        "colab": {
          "base_uri": "https://localhost:8080/"
        },
        "outputId": "c23a8998-ae98-468d-8cc8-20a799b26306"
      },
      "source": [
        "hist = model.fit(X_train, y_train, epochs= 100, batch_size = 32)"
      ],
      "execution_count": 75,
      "outputs": [
        {
          "output_type": "stream",
          "text": [
            "Epoch 1/100\n",
            "879/879 [==============================] - 19s 5ms/step - loss: 0.6454 - accuracy: 0.6724\n",
            "Epoch 2/100\n",
            "879/879 [==============================] - 4s 5ms/step - loss: 0.6271 - accuracy: 0.6795\n",
            "Epoch 3/100\n",
            "879/879 [==============================] - 4s 5ms/step - loss: 0.6218 - accuracy: 0.6864\n",
            "Epoch 4/100\n",
            "879/879 [==============================] - 4s 5ms/step - loss: 0.6257 - accuracy: 0.6812\n",
            "Epoch 5/100\n",
            "879/879 [==============================] - 4s 5ms/step - loss: 0.6239 - accuracy: 0.6836\n",
            "Epoch 6/100\n",
            "879/879 [==============================] - 4s 5ms/step - loss: 0.6268 - accuracy: 0.6796\n",
            "Epoch 7/100\n",
            "879/879 [==============================] - 4s 5ms/step - loss: 0.6269 - accuracy: 0.6796\n",
            "Epoch 8/100\n",
            "879/879 [==============================] - 4s 5ms/step - loss: 0.6236 - accuracy: 0.6836\n",
            "Epoch 9/100\n",
            "879/879 [==============================] - 4s 5ms/step - loss: 0.6255 - accuracy: 0.6811\n",
            "Epoch 10/100\n",
            "879/879 [==============================] - 4s 5ms/step - loss: 0.6234 - accuracy: 0.6836\n",
            "Epoch 11/100\n",
            "879/879 [==============================] - 4s 5ms/step - loss: 0.6219 - accuracy: 0.6852\n",
            "Epoch 12/100\n",
            "879/879 [==============================] - 4s 5ms/step - loss: 0.6252 - accuracy: 0.6803\n",
            "Epoch 13/100\n",
            "879/879 [==============================] - 4s 5ms/step - loss: 0.6232 - accuracy: 0.6822\n",
            "Epoch 14/100\n",
            "879/879 [==============================] - 4s 5ms/step - loss: 0.6233 - accuracy: 0.6809\n",
            "Epoch 15/100\n",
            "879/879 [==============================] - 4s 5ms/step - loss: 0.6217 - accuracy: 0.6811\n",
            "Epoch 16/100\n",
            "879/879 [==============================] - 4s 5ms/step - loss: 0.6192 - accuracy: 0.6809\n",
            "Epoch 17/100\n",
            "879/879 [==============================] - 4s 5ms/step - loss: 0.6077 - accuracy: 0.6894\n",
            "Epoch 18/100\n",
            "879/879 [==============================] - 4s 5ms/step - loss: 0.6068 - accuracy: 0.6854\n",
            "Epoch 19/100\n",
            "879/879 [==============================] - 4s 5ms/step - loss: 0.6043 - accuracy: 0.6924\n",
            "Epoch 20/100\n",
            "879/879 [==============================] - 4s 5ms/step - loss: 0.5952 - accuracy: 0.7026\n",
            "Epoch 21/100\n",
            "879/879 [==============================] - 4s 5ms/step - loss: 0.5985 - accuracy: 0.6958\n",
            "Epoch 22/100\n",
            "879/879 [==============================] - 4s 5ms/step - loss: 0.5973 - accuracy: 0.6948\n",
            "Epoch 23/100\n",
            "879/879 [==============================] - 4s 5ms/step - loss: 0.5884 - accuracy: 0.7036\n",
            "Epoch 24/100\n",
            "879/879 [==============================] - 4s 5ms/step - loss: 0.5886 - accuracy: 0.6997\n",
            "Epoch 25/100\n",
            "879/879 [==============================] - 4s 5ms/step - loss: 0.5908 - accuracy: 0.6995\n",
            "Epoch 26/100\n",
            "879/879 [==============================] - 4s 5ms/step - loss: 0.5911 - accuracy: 0.6964\n",
            "Epoch 27/100\n",
            "879/879 [==============================] - 4s 5ms/step - loss: 0.5878 - accuracy: 0.7019\n",
            "Epoch 28/100\n",
            "879/879 [==============================] - 4s 5ms/step - loss: 0.5903 - accuracy: 0.6978\n",
            "Epoch 29/100\n",
            "879/879 [==============================] - 4s 5ms/step - loss: 0.5835 - accuracy: 0.7040\n",
            "Epoch 30/100\n",
            "879/879 [==============================] - 4s 5ms/step - loss: 0.5876 - accuracy: 0.6987\n",
            "Epoch 31/100\n",
            "879/879 [==============================] - 4s 5ms/step - loss: 0.5849 - accuracy: 0.7003\n",
            "Epoch 32/100\n",
            "879/879 [==============================] - 4s 5ms/step - loss: 0.5865 - accuracy: 0.7015\n",
            "Epoch 33/100\n",
            "879/879 [==============================] - 4s 5ms/step - loss: 0.5851 - accuracy: 0.7013\n",
            "Epoch 34/100\n",
            "879/879 [==============================] - 4s 5ms/step - loss: 0.5839 - accuracy: 0.7048\n",
            "Epoch 35/100\n",
            "879/879 [==============================] - 4s 5ms/step - loss: 0.5821 - accuracy: 0.7013\n",
            "Epoch 36/100\n",
            "879/879 [==============================] - 4s 5ms/step - loss: 0.5802 - accuracy: 0.7045\n",
            "Epoch 37/100\n",
            "879/879 [==============================] - 4s 5ms/step - loss: 0.5814 - accuracy: 0.7020\n",
            "Epoch 38/100\n",
            "879/879 [==============================] - 4s 5ms/step - loss: 0.5796 - accuracy: 0.7033\n",
            "Epoch 39/100\n",
            "879/879 [==============================] - 4s 5ms/step - loss: 0.5852 - accuracy: 0.7024\n",
            "Epoch 40/100\n",
            "879/879 [==============================] - 4s 5ms/step - loss: 0.5781 - accuracy: 0.7069\n",
            "Epoch 41/100\n",
            "879/879 [==============================] - 4s 5ms/step - loss: 0.5782 - accuracy: 0.7054\n",
            "Epoch 42/100\n",
            "879/879 [==============================] - 4s 5ms/step - loss: 0.5813 - accuracy: 0.7037\n",
            "Epoch 43/100\n",
            "879/879 [==============================] - 4s 5ms/step - loss: 0.5810 - accuracy: 0.7057\n",
            "Epoch 44/100\n",
            "879/879 [==============================] - 4s 5ms/step - loss: 0.5790 - accuracy: 0.7050\n",
            "Epoch 45/100\n",
            "879/879 [==============================] - 4s 5ms/step - loss: 0.5752 - accuracy: 0.7100\n",
            "Epoch 46/100\n",
            "879/879 [==============================] - 4s 5ms/step - loss: 0.5783 - accuracy: 0.7074\n",
            "Epoch 47/100\n",
            "879/879 [==============================] - 4s 5ms/step - loss: 0.5764 - accuracy: 0.7064\n",
            "Epoch 48/100\n",
            "879/879 [==============================] - 4s 5ms/step - loss: 0.5809 - accuracy: 0.7027\n",
            "Epoch 49/100\n",
            "879/879 [==============================] - 4s 5ms/step - loss: 0.5788 - accuracy: 0.7032\n",
            "Epoch 50/100\n",
            "879/879 [==============================] - 4s 5ms/step - loss: 0.5753 - accuracy: 0.7096\n",
            "Epoch 51/100\n",
            "879/879 [==============================] - 4s 5ms/step - loss: 0.5774 - accuracy: 0.7067\n",
            "Epoch 52/100\n",
            "879/879 [==============================] - 4s 5ms/step - loss: 0.5732 - accuracy: 0.7115\n",
            "Epoch 53/100\n",
            "879/879 [==============================] - 4s 5ms/step - loss: 0.5730 - accuracy: 0.7110\n",
            "Epoch 54/100\n",
            "879/879 [==============================] - 4s 5ms/step - loss: 0.5753 - accuracy: 0.7065\n",
            "Epoch 55/100\n",
            "879/879 [==============================] - 4s 5ms/step - loss: 0.5806 - accuracy: 0.7064\n",
            "Epoch 56/100\n",
            "879/879 [==============================] - 4s 5ms/step - loss: 0.5741 - accuracy: 0.7073\n",
            "Epoch 57/100\n",
            "879/879 [==============================] - 4s 5ms/step - loss: 0.5737 - accuracy: 0.7098\n",
            "Epoch 58/100\n",
            "879/879 [==============================] - 4s 5ms/step - loss: 0.5780 - accuracy: 0.7061\n",
            "Epoch 59/100\n",
            "879/879 [==============================] - 4s 5ms/step - loss: 0.5737 - accuracy: 0.7085\n",
            "Epoch 60/100\n",
            "879/879 [==============================] - 4s 5ms/step - loss: 0.5740 - accuracy: 0.7064\n",
            "Epoch 61/100\n",
            "879/879 [==============================] - 4s 5ms/step - loss: 0.5777 - accuracy: 0.7061\n",
            "Epoch 62/100\n",
            "879/879 [==============================] - 4s 5ms/step - loss: 0.5713 - accuracy: 0.7096\n",
            "Epoch 63/100\n",
            "879/879 [==============================] - 4s 5ms/step - loss: 0.5762 - accuracy: 0.7047\n",
            "Epoch 64/100\n",
            "879/879 [==============================] - 4s 5ms/step - loss: 0.5749 - accuracy: 0.7058\n",
            "Epoch 65/100\n",
            "879/879 [==============================] - 4s 5ms/step - loss: 0.5740 - accuracy: 0.7085\n",
            "Epoch 66/100\n",
            "879/879 [==============================] - 4s 5ms/step - loss: 0.5745 - accuracy: 0.7099\n",
            "Epoch 67/100\n",
            "879/879 [==============================] - 4s 5ms/step - loss: 0.5724 - accuracy: 0.7072\n",
            "Epoch 68/100\n",
            "879/879 [==============================] - 4s 5ms/step - loss: 0.5724 - accuracy: 0.7101\n",
            "Epoch 69/100\n",
            "879/879 [==============================] - 4s 5ms/step - loss: 0.5743 - accuracy: 0.7058\n",
            "Epoch 70/100\n",
            "879/879 [==============================] - 4s 5ms/step - loss: 0.5729 - accuracy: 0.7083\n",
            "Epoch 71/100\n",
            "879/879 [==============================] - 4s 5ms/step - loss: 0.5754 - accuracy: 0.7069\n",
            "Epoch 72/100\n",
            "879/879 [==============================] - 4s 5ms/step - loss: 0.5713 - accuracy: 0.7112\n",
            "Epoch 73/100\n",
            "879/879 [==============================] - 4s 5ms/step - loss: 0.5708 - accuracy: 0.7088\n",
            "Epoch 74/100\n",
            "879/879 [==============================] - 4s 5ms/step - loss: 0.5754 - accuracy: 0.7077\n",
            "Epoch 75/100\n",
            "879/879 [==============================] - 4s 5ms/step - loss: 0.5744 - accuracy: 0.7072\n",
            "Epoch 76/100\n",
            "879/879 [==============================] - 4s 5ms/step - loss: 0.5740 - accuracy: 0.7100\n",
            "Epoch 77/100\n",
            "879/879 [==============================] - 4s 5ms/step - loss: 0.5719 - accuracy: 0.7093\n",
            "Epoch 78/100\n",
            "879/879 [==============================] - 4s 5ms/step - loss: 0.5734 - accuracy: 0.7073\n",
            "Epoch 79/100\n",
            "879/879 [==============================] - 4s 5ms/step - loss: 0.5699 - accuracy: 0.7111\n",
            "Epoch 80/100\n",
            "879/879 [==============================] - 4s 5ms/step - loss: 0.5682 - accuracy: 0.7147\n",
            "Epoch 81/100\n",
            "879/879 [==============================] - 4s 5ms/step - loss: 0.5678 - accuracy: 0.7115\n",
            "Epoch 82/100\n",
            "879/879 [==============================] - 4s 5ms/step - loss: 0.5666 - accuracy: 0.7126\n",
            "Epoch 83/100\n",
            "879/879 [==============================] - 4s 5ms/step - loss: 0.5735 - accuracy: 0.7096\n",
            "Epoch 84/100\n",
            "879/879 [==============================] - 4s 5ms/step - loss: 0.5696 - accuracy: 0.7106\n",
            "Epoch 85/100\n",
            "879/879 [==============================] - 4s 5ms/step - loss: 0.5665 - accuracy: 0.7160\n",
            "Epoch 86/100\n",
            "879/879 [==============================] - 4s 5ms/step - loss: 0.5750 - accuracy: 0.7067\n",
            "Epoch 87/100\n",
            "879/879 [==============================] - 4s 5ms/step - loss: 0.5712 - accuracy: 0.7078\n",
            "Epoch 88/100\n",
            "879/879 [==============================] - 4s 5ms/step - loss: 0.5663 - accuracy: 0.7123\n",
            "Epoch 89/100\n",
            "879/879 [==============================] - 4s 5ms/step - loss: 0.5722 - accuracy: 0.7064\n",
            "Epoch 90/100\n",
            "879/879 [==============================] - 4s 5ms/step - loss: 0.5693 - accuracy: 0.7110\n",
            "Epoch 91/100\n",
            "879/879 [==============================] - 4s 5ms/step - loss: 0.5682 - accuracy: 0.7123\n",
            "Epoch 92/100\n",
            "879/879 [==============================] - 4s 5ms/step - loss: 0.5710 - accuracy: 0.7099\n",
            "Epoch 93/100\n",
            "879/879 [==============================] - 4s 5ms/step - loss: 0.5719 - accuracy: 0.7086\n",
            "Epoch 94/100\n",
            "879/879 [==============================] - 4s 5ms/step - loss: 0.5694 - accuracy: 0.7106\n",
            "Epoch 95/100\n",
            "879/879 [==============================] - 4s 5ms/step - loss: 0.5705 - accuracy: 0.7102\n",
            "Epoch 96/100\n",
            "879/879 [==============================] - 4s 5ms/step - loss: 0.5736 - accuracy: 0.7085\n",
            "Epoch 97/100\n",
            "879/879 [==============================] - 4s 5ms/step - loss: 0.5692 - accuracy: 0.7131\n",
            "Epoch 98/100\n",
            "879/879 [==============================] - 4s 5ms/step - loss: 0.5673 - accuracy: 0.7151\n",
            "Epoch 99/100\n",
            "879/879 [==============================] - 4s 5ms/step - loss: 0.5727 - accuracy: 0.7084\n",
            "Epoch 100/100\n",
            "879/879 [==============================] - 4s 5ms/step - loss: 0.5658 - accuracy: 0.7159\n"
          ],
          "name": "stdout"
        }
      ]
    },
    {
      "cell_type": "code",
      "metadata": {
        "id": "-I2TOSTSpVIp",
        "colab": {
          "base_uri": "https://localhost:8080/"
        },
        "outputId": "ad859a60-5b45-4cb2-a30b-c9893aea1512"
      },
      "source": [
        "loss_and_metrics = model.evaluate(X_test, y_test, batch_size = 32)"
      ],
      "execution_count": 76,
      "outputs": [
        {
          "output_type": "stream",
          "text": [
            "220/220 [==============================] - 1s 2ms/step - loss: 0.5740 - accuracy: 0.7082\n"
          ],
          "name": "stdout"
        }
      ]
    },
    {
      "cell_type": "code",
      "metadata": {
        "id": "83U1DbrlptLZ"
      },
      "source": [
        ""
      ],
      "execution_count": null,
      "outputs": []
    }
  ]
}