{
  "nbformat": 4,
  "nbformat_minor": 0,
  "metadata": {
    "colab": {
      "name": "Web_Crawling__Selenium.ipynb",
      "provenance": [],
      "include_colab_link": true
    },
    "kernelspec": {
      "name": "python3",
      "display_name": "Python 3"
    },
    "language_info": {
      "name": "python"
    }
  },
  "cells": [
    {
      "cell_type": "markdown",
      "metadata": {
        "id": "view-in-github",
        "colab_type": "text"
      },
      "source": [
        "<a href=\"https://colab.research.google.com/github/KimGriezmann/DeepLearning_BeTheLegend/blob/master/working_whalepig/Web_Crawling__Selenium.ipynb\" target=\"_parent\"><img src=\"https://colab.research.google.com/assets/colab-badge.svg\" alt=\"Open In Colab\"/></a>"
      ]
    },
    {
      "cell_type": "code",
      "metadata": {
        "id": "cf9kZF6ZRr0Z"
      },
      "source": [
        "Team = \"두산\"\n",
        "batter = \"김재현\"\n",
        "batter\n",
        "year=2019"
      ],
      "execution_count": 70,
      "outputs": []
    },
    {
      "cell_type": "code",
      "metadata": {
        "id": "KSi9B6k4rGWF"
      },
      "source": [
        "# BeautifulSoup\n",
        "\n",
        "import numpy as np\n",
        "import pandas as pd\n",
        "import requests\n",
        "from bs4 import BeautifulSoup\n",
        "\n",
        "wp = requests.get(\"http://www.statiz.co.kr/stat.php\")\n",
        "\n",
        "# if wp==200: # 응답코드가 200일때(정상)\n",
        "soup = BeautifulSoup(wp.text, \"html.parser\")\n",
        "\n",
        "# Team List\n",
        "Team_2019 = ['NC','KT','LG','두산','키움','KIA','롯데','삼성','SK','한화']\n",
        "Team_2020 = ['NC','KT','LG','두산','키움','KIA','롯데','삼성','SK','한화']\n",
        "Team_2021 = ['KT','삼성','LG','SSG','NC','키움','두산','롯데','KIA','한화']\n",
        "\n",
        "\n",
        "# 시즌 기록실 페이지에서 팀을 선택\n",
        "select_team_list = soup.select('body > div.wrapper > div.content-wrapper > div > section.content > div > div.col-md-12.col-xs-12.col-sm-12.col-lg-12 > div:nth-of-type(1) > div > div.btn-group.pull-left')\n",
        "select_team_list = select_team_list[2].find_all()[2].find_all('button')\n",
        "\n",
        "for i in select_team_list:\n",
        "  if i.text == Team: # Team은 Team List 중의 한팀\n",
        "    wp = requests.get(\"http://www.statiz.co.kr/\"+i.attrs['onclick'][15:-1]) # 선택한 팀의 주소만 가져온다.\n",
        "soup = BeautifulSoup(wp.text, \"html.parser\")\n",
        "\n",
        "# 타석 순으로 정렬한다.\n",
        "order_by_PA = soup.select('#mytable')[0].find_all()[0].find_all('a')[1].attrs['href']\n",
        "wp = requests.get(\"http://www.statiz.co.kr/\"+order_by_PA)\n",
        "soup = BeautifulSoup(wp.text, \"html.parser\")\n"
      ],
      "execution_count": null,
      "outputs": []
    },
    {
      "cell_type": "code",
      "metadata": {
        "id": "caXQ24jcDkg_"
      },
      "source": [
        "# 현재 팀의 타석 수 상위 9명\n",
        "num_top_batter = 9\n",
        "tmp_batter_list = np.empty(num_top_batter,dtype=object)\n",
        "tmp_team = np.array([Team]*num_top_batter)\n",
        "tmp_batter_list_href = np.empty(num_top_batter,dtype=object)\n",
        "ps=0\n",
        "for i in soup.find_all('tr')[2:11]:\n",
        "  tmp_batter_list[ps] = i.find_all('td')[1].text\n",
        "  tmp_batter_list_href[ps] = i.find_all('a')[0].attrs['href']\n",
        "  ps+=1"
      ],
      "execution_count": null,
      "outputs": []
    },
    {
      "cell_type": "code",
      "metadata": {
        "id": "beRKiQh7sIZ7"
      },
      "source": [
        "for i in range(num_top_batter):\n",
        "  wp=requests.get(\"http://www.statiz.co.kr/\"+tmp_batter_list_href[0])\n",
        "  soup=BeautifulSoup(wp.text, \"html.parser\")"
      ],
      "execution_count": null,
      "outputs": []
    },
    {
      "cell_type": "code",
      "metadata": {
        "colab": {
          "base_uri": "https://localhost:8080/",
          "height": 35
        },
        "id": "mTEOzz4kF9kl",
        "outputId": "f9d61e6a-188c-4f8d-f4b1-cd0e0d495def"
      },
      "source": [
        "href_byDate = soup.select('body > div > div.content-wrapper > div > section.content > div > div:nth-of-type(1) > div > div.col-xs-12.col-sm-8.col-md-8.col-lg-12 > div > div.table-responsive.no-padding.box > table')[0].find_all('a')[3].attrs['href']\n",
        "wp=requests.get(\"http://www.statiz.co.kr/\"+href_byDate)\n",
        "soup=BeautifulSoup(wp.text,\"html.parser\")\n",
        "soup.select('body > div.wrapper > div.content-wrapper > div > section.content > div > div:nth-of-type(2) > div > div:nth-of-type(2) > div')[0].find_all(text=year)"
      ],
      "execution_count": 63,
      "outputs": [
        {
          "output_type": "execute_result",
          "data": {
            "application/vnd.google.colaboratory.intrinsic+json": {
              "type": "string"
            },
            "text/plain": [
              "'2019'"
            ]
          },
          "metadata": {
            "tags": []
          },
          "execution_count": 63
        }
      ]
    },
    {
      "cell_type": "code",
      "metadata": {
        "colab": {
          "base_uri": "https://localhost:8080/",
          "height": 35
        },
        "id": "ECrFaRy3NYWa",
        "outputId": "5c7386b8-d49f-4569-b597-04a859f51c7c"
      },
      "source": [
        "# year : 원하는 연도\n",
        "href_byDate_year=soup.select('body > div.wrapper > div.content-wrapper > div > section.content > div > div:nth-of-type(2) > div > div:nth-of-type(2) > div')[0].find('a', text=str(year)).attrs['href']\n",
        "\n",
        "wp=requests.get(\"http://www.statiz.co.kr/\"+href_year)\n",
        "soup=BeautifulSoup(wp.text,\"html.parser\")"
      ],
      "execution_count": 68,
      "outputs": [
        {
          "output_type": "execute_result",
          "data": {
            "application/vnd.google.colaboratory.intrinsic+json": {
              "type": "string"
            },
            "text/plain": [
              "'player.php?opt=3&sopt=0&name=%ED%8E%98%EB%A5%B4%EB%82%9C%EB%8D%B0%EC%8A%A4&birth=1988-04-27&re=0&se=&da=&year=2019&cv='"
            ]
          },
          "metadata": {
            "tags": []
          },
          "execution_count": 68
        }
      ]
    },
    {
      "cell_type": "code",
      "metadata": {
        "id": "VzZY48UZYDT3"
      },
      "source": [
        ""
      ],
      "execution_count": null,
      "outputs": []
    }
  ]
}