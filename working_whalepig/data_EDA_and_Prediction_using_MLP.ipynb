{
  "nbformat": 4,
  "nbformat_minor": 0,
  "metadata": {
    "colab": {
      "name": "data_EDA_and_Prediction_using_MLP.ipynb",
      "provenance": [],
      "authorship_tag": "ABX9TyNpv7NgINO74REPQzJ8H/2c",
      "include_colab_link": true
    },
    "kernelspec": {
      "name": "python3",
      "display_name": "Python 3"
    },
    "language_info": {
      "name": "python"
    }
  },
  "cells": [
    {
      "cell_type": "markdown",
      "metadata": {
        "id": "view-in-github",
        "colab_type": "text"
      },
      "source": [
        "<a href=\"https://colab.research.google.com/github/KimGriezmann/DeepLearning_BeTheLegend/blob/master/working_whalepig/data_EDA_and_Prediction_using_MLP.ipynb\" target=\"_parent\"><img src=\"https://colab.research.google.com/assets/colab-badge.svg\" alt=\"Open In Colab\"/></a>"
      ]
    },
    {
      "cell_type": "markdown",
      "metadata": {
        "id": "jSgBoA1SHDmK"
      },
      "source": [
        "# 데이터 전처리"
      ]
    },
    {
      "cell_type": "code",
      "metadata": {
        "id": "elxGDof4FdtJ"
      },
      "source": [
        "import numpy as np\n",
        "import pandas as pd\n",
        "import matplotlib.pyplot as plt\n",
        "import tqdm"
      ],
      "execution_count": null,
      "outputs": []
    },
    {
      "cell_type": "code",
      "metadata": {
        "id": "PE9guPlcGAva"
      },
      "source": [
        "data_2018 = pd.read_csv(\"/content/data_2018.csv\", encoding='euc-kr')\n",
        "hitter_2018 = pd.read_csv(\"/content/batter_data_2018.csv\", encoding='euc-kr')\n",
        "\n",
        "data_2019 = pd.read_csv(\"/content/data_2019.csv\", encoding='euc-kr')\n",
        "hitter_2019 = pd.read_csv(\"/content/batter_data_2019.csv\", encoding='euc-kr')\n",
        "\n",
        "data_2020 = pd.read_csv(\"/content/data_2020.csv\", encoding='euc-kr')\n",
        "hitter_2020 = pd.read_csv(\"/content/batter_data_2020.csv\", encoding='euc-kr')\n",
        "\n",
        "data_2021 = pd.read_csv(\"/content/data_2021.csv\", encoding='euc-kr')\n",
        "hitter_2021 = pd.read_csv(\"/content/batter_data_2021.csv\", encoding='euc-kr')"
      ],
      "execution_count": null,
      "outputs": []
    },
    {
      "cell_type": "code",
      "metadata": {
        "id": "VQPOlr7UiP9O"
      },
      "source": [
        "tmp_data=pd.read_csv(\"/content/data_2018.csv\", encoding='euc-kr')"
      ],
      "execution_count": null,
      "outputs": []
    },
    {
      "cell_type": "markdown",
      "metadata": {
        "id": "d3xvLm36HBGV"
      },
      "source": [
        "## 날짜 값, 형식 변경"
      ]
    },
    {
      "cell_type": "code",
      "metadata": {
        "id": "o0teIa8GG37k"
      },
      "source": [
        "# 날짜 데이터 값, 형식 변경\n",
        "# 현재 : object 형식으로 \"2018-04-04\" 값으로 존재 (의미 : 4월 4일)\n",
        "# 변경 : int 형식으로 20180404 으로 변경 (의미 : 2018년 4월 4일)\n",
        "\n",
        "def day_to_int(data):\n",
        "  data['day'] = pd.to_numeric(data['day'].str.replace(\"-\",\"\"))\n",
        "  return data"
      ],
      "execution_count": null,
      "outputs": []
    },
    {
      "cell_type": "code",
      "metadata": {
        "id": "C5mqJMWSHKuZ"
      },
      "source": [
        "# 날짜 데이터 문장열 형식의 값에서 -> 정수형식의 값으로 변경\n",
        "data_2018 = day_to_int(data_2018)\n",
        "data_2019 = day_to_int(data_2019)\n",
        "data_2020 = day_to_int(data_2020)\n",
        "data_2021 = day_to_int(data_2021)"
      ],
      "execution_count": null,
      "outputs": []
    },
    {
      "cell_type": "markdown",
      "metadata": {
        "id": "ZmgTMbvFHTd-"
      },
      "source": [
        "## 더블헤더 생성 함수"
      ]
    },
    {
      "cell_type": "code",
      "metadata": {
        "id": "LhTHJeqmhpX0"
      },
      "source": [
        "def make_double(data):\n",
        "  # 더블헤더 처리\n",
        "  temp = np.zeros(len(data), dtype=np.int8)\n",
        "\n",
        "  # day, name이 같은 값이 있다는 것은 더블헤더 경기가 있다는것\n",
        "  # keep=False 옵션은 중복 값에 해당하는 튜플들을 모두 True로 리턴, 그 외 옵션 : 'first', 'last' 의 경우 둘 중 하나만 True\n",
        "  dup = data.loc[:,['day','name']].duplicated(keep=False) \n",
        "\n",
        "  for i in range(len(data)):\n",
        "    if dup[i]==False:\n",
        "      temp[i]=0\n",
        "    elif dup[i]==True:\n",
        "      temp[i]=1\n",
        "\n",
        "  # 중복의 첫번째 행은 더블헤더 1차전\n",
        "  # 중복인 두번째 행이 더블헤더 2차전이다.\n",
        "  for i in range(1,len(temp)):\n",
        "    if temp[i]==1 and temp[i-1]==1:\n",
        "      temp[i]=2\n",
        "\n",
        "  data['double']=temp\n",
        "  return data"
      ],
      "execution_count": null,
      "outputs": []
    },
    {
      "cell_type": "code",
      "metadata": {
        "id": "s4lFdJzHjPoA"
      },
      "source": [
        "data_2018 = make_double(data_2018)\n",
        "data_2019 = make_double(data_2019)\n",
        "data_2020 = make_double(data_2020)\n",
        "data_2021 = make_double(data_2021)"
      ],
      "execution_count": null,
      "outputs": []
    },
    {
      "cell_type": "markdown",
      "metadata": {
        "id": "U7cn00XEHscC"
      },
      "source": [
        "## 최근 5일 타율\n"
      ]
    },
    {
      "cell_type": "code",
      "metadata": {
        "id": "aS8xZ1awHpr6"
      },
      "source": [
        "# 선수마다 최근 5일의 타율을 구해야함. \n",
        "# 현재 day에서 -5부터 -1까지의 sum(hit)/sum(ab) 값을 구하면 된다\n",
        "\n",
        "# hitter_data : 90명 타자 data\n",
        "# record_data : 날짜별 타자 기록\n",
        "# recent_day : 기본(최근 5일), 설정 가능\n",
        "def make_recent_days(hitter_data, record_data, day=5):\n",
        "\n",
        "  # 최근 5일(기본) 타율 저장할 공간 생성\n",
        "  recent_days_avg = np.zeros(len(record_data)) # 최근 5일(기본) 경기 타율\n",
        "  recent_days_hitter = np.empty(len(record_data), dtype=np.chararray) # type : 문자열 저장을 위해 chararray\n",
        "  recent_days_day = np.empty(len(record_data), dtype=np.int32) # 기준이 되는 날짜\n",
        "  recent_days_double = np.zeros(len(record_data), dtype=np.int8) # 더블헤더 분류 / 0 : 더블헤더 아님 / 1 : 더블헤더 1차전 / 2 : 더블헤더 2차전\n",
        "\n",
        "  ps = 0\n",
        "  for h in tqdm.tqdm(hitter_data['name']): # 90명 타자 한명씩 접근\n",
        "    hdata = record_data.loc[record_data['name']==h].reset_index() # 특정 타자 한명에 대해서만 데이터 추출\n",
        "    for i in range(len(hdata['day'])): # 추출한 데이터에서 한 행씩 접근\n",
        "      recent_days_hitter[ps] = h # 현재 타자\n",
        "      r = hdata.loc[i,'day']  # 현재 기준 날짜\n",
        "      recent_days_day[ps] = r\n",
        "      d = hdata.loc[i,'double'] # 현재 더블헤더 분류\n",
        "      recent_days_double[ps] = d\n",
        "      if d==2: # 더블헤더 2차전이라면\n",
        "        hrdata = hdata.loc[hdata['day']>=r-day].loc[hdata['day']<=r].loc[hdata['double']!=2] # r 날짜까지 가져와서 2차전을 제외\n",
        "      else: # 더블헤더가 아니고, 더블헤더 1차전이라면\n",
        "        hrdata = hdata.loc[hdata['day']>=r-day].loc[hdata['day']<=r-1] # 접근한 행의 날짜를 기준으로 5일(기본) 경기\n",
        "\n",
        "      if len(hrdata)==0: # 최근 5일 경기 없으면 넘어가고\n",
        "        ps+=1\n",
        "        continue\n",
        "      else : # 있으면\n",
        "        sum_ab = sum(hrdata['ab'])\n",
        "        if sum_ab==0: # 경기 기록은 존재하지만 타수(ab)가 0\n",
        "          ps+=1\n",
        "          continue\n",
        "        sum_hit = sum(hrdata['hit'])\n",
        "        recent_days_avg[ps] = sum_hit/sum_ab\n",
        "        ps+=1\n",
        "\n",
        "  result_Dataframe = pd.DataFrame()\n",
        "  result_Dataframe['day'] = recent_days_day\n",
        "  result_Dataframe['name'] = recent_days_hitter\n",
        "  result_Dataframe['recent_'+str(day)+'days_avg'] = recent_days_avg\n",
        "  result_Dataframe['double'] = recent_days_double\n",
        "\n",
        "  return result_Dataframe"
      ],
      "execution_count": null,
      "outputs": []
    },
    {
      "cell_type": "code",
      "metadata": {
        "colab": {
          "base_uri": "https://localhost:8080/"
        },
        "id": "vQRkgI-XHyq9",
        "outputId": "5fb0bc37-0609-4b8c-b58c-8516b93cad12"
      },
      "source": [
        "recent_5days_data_2018 = make_recent_days(hitter_2018, data_2018, day=5)\n",
        "recent_5days_data_2019 = make_recent_days(hitter_2019, data_2019, day=5)\n",
        "recent_5days_data_2020 = make_recent_days(hitter_2020, data_2020, day=5)\n",
        "recent_5days_data_2021 = make_recent_days(hitter_2021, data_2021, day=5)"
      ],
      "execution_count": null,
      "outputs": [
        {
          "output_type": "stream",
          "text": [
            "100%|██████████| 90/90 [00:20<00:00,  4.46it/s]\n",
            "100%|██████████| 90/90 [00:19<00:00,  4.53it/s]\n",
            "100%|██████████| 90/90 [00:20<00:00,  4.38it/s]\n",
            "100%|██████████| 90/90 [00:10<00:00,  8.56it/s]\n"
          ],
          "name": "stderr"
        }
      ]
    },
    {
      "cell_type": "markdown",
      "metadata": {
        "id": "q2WPDO1ebPzy"
      },
      "source": [
        "## 최근 5경기 타율\n"
      ]
    },
    {
      "cell_type": "code",
      "metadata": {
        "id": "q5Ai_rvfbJQ3"
      },
      "source": [
        "# 최근 5경기 타율\n",
        "# 최근 5경기 타율은 2018년 4월 11일 기준이라면 4월 6일부터 4월 10일까지의 데이터를 통해 얻는다.\n",
        "# 최근 5경기 타율은 경기를 기준으로 만든다.\n",
        "# 주의) 최근 5일 경기 타율과 헷갈리지 않게 주의\n",
        "\n",
        "def make_recent_games(hitter_data, record_data, game=5):\n",
        "\n",
        "  # 최근 5경기(기본) 타율 저장할 공간 생성\n",
        "  recent_games_avg = np.zeros(len(record_data)) # 최근 5경기(기본) 경기 타율\n",
        "  recent_games_hitter = np.empty(len(record_data), dtype=np.chararray) # type : 문자열 저장을 위해 chararray\n",
        "  recent_games_day = np.empty(len(record_data), dtype=np.int32) # 기준이 되는 날짜\n",
        "  recent_games_double = np.zeros(len(record_data), dtype=np.int8) # 더블헤더 분류 / 0 : 더블헤더 아님 / 1 : 더블헤더 1차전 / 2 : 더블헤더 2차전\n",
        "\n",
        "  ps = 0\n",
        "  for h in tqdm.tqdm(hitter_data['name']): # 90명 타자 한명씩 접근\n",
        "    hdata = record_data.loc[record_data['name']==h].reset_index() # 특정 타자 한명에 대해서만 데이터 추출\n",
        "    for i in range(len(hdata)): # 추출한 데이터에서 한 행씩 접근\n",
        "      recent_games_hitter[ps] = h # 현재 타자\n",
        "      recent_games_day[ps] = hdata.loc[i,'day'] # 현재 경기\n",
        "      recent_games_double[ps] = hdata.loc[i,'double'] # 현재 더블헤더 분류\n",
        "      hrdata = hdata.loc[i-game:i-1,:] # 접근한 행의 경기를 기준으로 5경기\n",
        "         \n",
        "      if len(hrdata)==0: # 최근 5경기가 없으면 (첫 경기)\n",
        "        ps+=1\n",
        "        continue\n",
        "      else : # 있으면\n",
        "        sum_ab = sum(hrdata['ab'])\n",
        "        if sum_ab==0: # 경기 기록은 존재하지만 타수(ab)가 0\n",
        "          ps+=1\n",
        "          continue\n",
        "        sum_hit = sum(hrdata['hit'])\n",
        "        recent_games_avg[ps] = sum_hit/sum_ab\n",
        "        ps+=1\n",
        "\n",
        "  result_Dataframe = pd.DataFrame()\n",
        "  result_Dataframe['day'] = recent_games_day\n",
        "  result_Dataframe['name'] = recent_games_hitter\n",
        "  result_Dataframe['recent_'+str(game)+'games_avg'] = recent_games_avg\n",
        "  result_Dataframe['double'] = recent_games_double\n",
        "\n",
        "  return result_Dataframe"
      ],
      "execution_count": null,
      "outputs": []
    },
    {
      "cell_type": "code",
      "metadata": {
        "colab": {
          "base_uri": "https://localhost:8080/"
        },
        "id": "u77mnCPCbwcq",
        "outputId": "8c71a400-b800-4880-b5f0-16ac19700963"
      },
      "source": [
        "recent_5games_data_2018 = make_recent_games(hitter_2018, data_2018, game=5)\n",
        "recent_5games_data_2019 = make_recent_games(hitter_2019, data_2019, game=5)\n",
        "recent_5games_data_2020 = make_recent_games(hitter_2020, data_2020, game=5)\n",
        "recent_5games_data_2021 = make_recent_games(hitter_2021, data_2021, game=5)"
      ],
      "execution_count": null,
      "outputs": [
        {
          "output_type": "stream",
          "text": [
            "100%|██████████| 90/90 [00:03<00:00, 28.38it/s]\n",
            "100%|██████████| 90/90 [00:03<00:00, 28.98it/s]\n",
            "100%|██████████| 90/90 [00:03<00:00, 27.63it/s]\n",
            "100%|██████████| 90/90 [00:01<00:00, 49.25it/s]\n"
          ],
          "name": "stderr"
        }
      ]
    },
    {
      "cell_type": "markdown",
      "metadata": {
        "id": "9GAqraCgIIf-"
      },
      "source": [
        "## 최근 10일 안타 성공률\n"
      ]
    },
    {
      "cell_type": "code",
      "metadata": {
        "id": "na_aT7icIDKw"
      },
      "source": [
        "# 최근 날짜를 기준으로 성공률을 구할 때는 더블헤더를 신경 써주어야한다.\n",
        "\n",
        "def make_success_days(hitter_data, record_data, day=10):\n",
        "\n",
        "  # 최근 10일(기본) 안타 성공률 저장할 공간 생성\n",
        "  success_days = np.zeros(len(record_data)) # 최근 10일(기본) 안타 성공률\n",
        "  success_days_hitter = np.empty(len(record_data), dtype=object) # type : 문자열 저장을 위해 object\n",
        "  success_days_day = np.empty(len(record_data), dtype=np.int32) # 기준이 되는 날짜\n",
        "  success_days_double = np.zeros(len(record_data), dtype=np.int8) # 더블헤더 분류 / 0 : 더블헤더 아님 / 1 : 더블헤더 1차전 / 2 : 더블헤더 2차전\n",
        "\n",
        "  ps = 0\n",
        "  for h in tqdm.tqdm(hitter_data['name']): # 90명 타자 한명씩 접근\n",
        "    hdata = record_data.loc[record_data['name']==h].reset_index() # 특정 타자 한명에 대해서만 데이터 추출\n",
        "    for i in range(len(hdata['day'])): # 추출한 데이터에서 한 행씩 접근\n",
        "      success_days_hitter[ps] = h # 현재 타자\n",
        "      r = hdata.loc[i,'day']  # 현재 기준 날짜\n",
        "      success_days_day[ps] = r\n",
        "      d = hdata.loc[i,'double'] # 현재 더블헤더 분류\n",
        "      success_days_double[ps] = d\n",
        "      if d==2: # 더블헤더 2차전이라면\n",
        "        hrdata = hdata.loc[hdata['day']>=r-day].loc[hdata['day']<=r].loc[hdata['double']!=2] # r 날짜까지 가져와서 2차전을 제외\n",
        "      else: # 더블헤더가 아니고, 더블헤더 1차전이라면\n",
        "        hrdata = hdata.loc[hdata['day']>=r-day].loc[hdata['day']<=r-1] # 접근한 행의 날짜를 기준으로 10일(기본) 경기\n",
        "         \n",
        "      if len(hrdata)==0: # 최근 10일(기본) 경기 없으면 넘어가고\n",
        "        ps+=1\n",
        "        continue\n",
        "      else : # 있으면\n",
        "        total = len(hrdata)\n",
        "        fail = len(hrdata.loc[hrdata['hit']==0]) # 안타를 못친 경기가 몇경기나 되는지 저장\n",
        "        success_days[ps] = (total-fail)/total\n",
        "        ps+=1\n",
        "\n",
        "  result_Dataframe = pd.DataFrame()\n",
        "  result_Dataframe['day'] = success_days_day\n",
        "  result_Dataframe['name'] = success_days_hitter\n",
        "  result_Dataframe['success_'+str(day)+'days'] = success_days\n",
        "  result_Dataframe['double'] = success_days_double\n",
        "\n",
        "  return result_Dataframe"
      ],
      "execution_count": null,
      "outputs": []
    },
    {
      "cell_type": "code",
      "metadata": {
        "colab": {
          "base_uri": "https://localhost:8080/"
        },
        "id": "xhMulndSJWsW",
        "outputId": "28f51d84-13fa-41fc-eb80-e703faed1810"
      },
      "source": [
        "success_10days_data_2018 = make_success_days(hitter_2018, data_2018, day=10)\n",
        "success_10days_data_2019 = make_success_days(hitter_2019, data_2019, day=10)\n",
        "success_10days_data_2020 = make_success_days(hitter_2020, data_2020, day=10)\n",
        "success_10days_data_2021 = make_success_days(hitter_2021, data_2021, day=10)"
      ],
      "execution_count": null,
      "outputs": [
        {
          "output_type": "stream",
          "text": [
            "100%|██████████| 90/90 [00:26<00:00,  3.34it/s]\n",
            "100%|██████████| 90/90 [00:25<00:00,  3.54it/s]\n",
            "100%|██████████| 90/90 [00:25<00:00,  3.48it/s]\n",
            "100%|██████████| 90/90 [00:13<00:00,  6.66it/s]\n"
          ],
          "name": "stderr"
        }
      ]
    },
    {
      "cell_type": "markdown",
      "metadata": {
        "id": "TDRu8SGybXts"
      },
      "source": [
        "## 최근 10경기 안타 성공률\n"
      ]
    },
    {
      "cell_type": "code",
      "metadata": {
        "id": "cppTEaxfbZKD"
      },
      "source": [
        "def make_success_games(hitter_data, record_data, game=10):\n",
        "\n",
        "  # 최근 10경기(기본) 안타 성공률 저장할 공간 생성\n",
        "  success_games = np.zeros(len(record_data)) # 최근 10경기(기본) 안타 성공률\n",
        "  success_games_hitter = np.empty(len(record_data), dtype=object) # type : 문자열 저장을 위해 object\n",
        "  success_games_day = np.empty(len(record_data), dtype=np.int32) # 기준이 되는 날짜\n",
        "  success_games_double = np.zeros(len(record_data), dtype=np.int8) # 더블헤더 분류 / 0 : 더블헤더 아님 / 1 : 더블헤더 1차전 / 2 : 더블헤더 2차전\n",
        "\n",
        "  ps = 0\n",
        "  for h in tqdm.tqdm(hitter_data['name']): # 90명 타자 한명씩 접근\n",
        "    hdata = record_data.loc[record_data['name']==h].reset_index() # 특정 타자 한명에 대해서만 데이터 추출\n",
        "    for i in range(len(hdata)): # 추출한 데이터에서 한 행씩 접근\n",
        "      success_games_hitter[ps] = h # 현재 타자\n",
        "      success_games_day[ps] = hdata.loc[i,'day'] # 현재 경기\n",
        "      success_games_double[ps] = hdata.loc[i,'double'] # 현재 더블헤더 분류\n",
        "\n",
        "      hrdata = hdata.loc[i-game:i-1,:] # 접근한 행의 경기를 기준으로 10경기(기본)\n",
        "         \n",
        "      if len(hrdata)==0: # 최근 10경기(기본)가 없으면 (첫 경기)\n",
        "        ps+=1\n",
        "        continue\n",
        "      else : # 있으면\n",
        "        total = len(hrdata)\n",
        "        fail = len(hrdata.loc[hrdata['hit']==0]) # 안타를 못친 경기가 몇경기나 되는지 저장\n",
        "        success_games[ps] = (total-fail)/total\n",
        "        ps+=1\n",
        "\n",
        "  result_Dataframe = pd.DataFrame()\n",
        "  result_Dataframe['day'] = success_games_day\n",
        "  result_Dataframe['name'] = success_games_hitter\n",
        "  result_Dataframe['success_'+str(game)+'games'] = success_games\n",
        "  result_Dataframe['double'] = success_games_double\n",
        "\n",
        "  return result_Dataframe"
      ],
      "execution_count": null,
      "outputs": []
    },
    {
      "cell_type": "code",
      "metadata": {
        "colab": {
          "base_uri": "https://localhost:8080/"
        },
        "id": "Wg-QOFHHbdq6",
        "outputId": "2af455be-0da9-4a37-9d0f-128e65949a05"
      },
      "source": [
        "success_10games_data_2018 = make_success_games(hitter_2018, data_2018, game=10)\n",
        "success_10games_data_2019 = make_success_games(hitter_2019, data_2019, game=10)\n",
        "success_10games_data_2020 = make_success_games(hitter_2020, data_2020, game=10)\n",
        "success_10games_data_2021 = make_success_games(hitter_2021, data_2021, game=10)"
      ],
      "execution_count": null,
      "outputs": [
        {
          "output_type": "stream",
          "text": [
            "100%|██████████| 90/90 [00:12<00:00,  7.04it/s]\n",
            "100%|██████████| 90/90 [00:12<00:00,  7.35it/s]\n",
            "100%|██████████| 90/90 [00:12<00:00,  7.24it/s]\n",
            "100%|██████████| 90/90 [00:06<00:00, 13.77it/s]\n"
          ],
          "name": "stderr"
        }
      ]
    },
    {
      "cell_type": "markdown",
      "metadata": {
        "id": "NiB7LwfeOLVT"
      },
      "source": [
        "## 해당 경기의 안타 성공 결과(result) 도출\n"
      ]
    },
    {
      "cell_type": "code",
      "metadata": {
        "id": "hFkCiHJ3Oco1"
      },
      "source": [
        "data_2018['result'] = [0 if s == 0 else 1 for s in data_2018['hit']] \n",
        "data_2019['result'] = [0 if s == 0 else 1 for s in data_2019['hit']] \n",
        "data_2020['result'] = [0 if s == 0 else 1 for s in data_2020['hit']] \n",
        "data_2021['result'] = [0 if s == 0 else 1 for s in data_2021['hit']] "
      ],
      "execution_count": null,
      "outputs": []
    },
    {
      "cell_type": "markdown",
      "metadata": {
        "id": "1cK2rW0-c1UK"
      },
      "source": [
        "## 위에서 생성한 자료들과 데이터 merge"
      ]
    },
    {
      "cell_type": "code",
      "metadata": {
        "id": "C9KZR_ELNPXz"
      },
      "source": [
        "data_2018 = pd.merge(data_2018, recent_5days_data_2018, on = ['name', 'day', 'double'])\n",
        "data_2019 = pd.merge(data_2019, recent_5days_data_2019, on = ['name', 'day', 'double'])\n",
        "data_2020 = pd.merge(data_2020, recent_5days_data_2020, on = ['name', 'day', 'double'])\n",
        "data_2021 = pd.merge(data_2021, recent_5days_data_2021, on = ['name', 'day', 'double'])\n",
        "\n",
        "data_2018 = pd.merge(data_2018, recent_5games_data_2018, on = ['name', 'day', 'double'])\n",
        "data_2019 = pd.merge(data_2019, recent_5games_data_2019, on = ['name', 'day', 'double'])\n",
        "data_2020 = pd.merge(data_2020, recent_5games_data_2020, on = ['name', 'day', 'double'])\n",
        "data_2021 = pd.merge(data_2021, recent_5games_data_2021, on = ['name', 'day', 'double'])\n",
        "\n",
        "data_2018 = pd.merge(data_2018, success_10days_data_2018, on = ['name', 'day', 'double'])\n",
        "data_2019 = pd.merge(data_2019, success_10days_data_2019, on = ['name', 'day', 'double'])\n",
        "data_2020 = pd.merge(data_2020, success_10days_data_2020, on = ['name', 'day', 'double'])\n",
        "data_2021 = pd.merge(data_2021, success_10days_data_2021, on = ['name', 'day', 'double'])\n",
        "\n",
        "data_2018 = pd.merge(data_2018, success_10games_data_2018, on = ['name', 'day', 'double'])\n",
        "data_2019 = pd.merge(data_2019, success_10games_data_2019, on = ['name', 'day', 'double'])\n",
        "data_2020 = pd.merge(data_2020, success_10games_data_2020, on = ['name', 'day', 'double'])\n",
        "data_2021 = pd.merge(data_2021, success_10games_data_2021, on = ['name', 'day', 'double'])\n"
      ],
      "execution_count": null,
      "outputs": []
    },
    {
      "cell_type": "markdown",
      "metadata": {
        "id": "k4gkqTk5Ft03"
      },
      "source": [
        "# Data EDA"
      ]
    },
    {
      "cell_type": "markdown",
      "metadata": {
        "id": "yKpoNVN2Ms2U"
      },
      "source": [
        "## 최근 5일 타율과 당일 경기 안타 성공과의 관계"
      ]
    },
    {
      "cell_type": "code",
      "metadata": {
        "colab": {
          "base_uri": "https://localhost:8080/",
          "height": 419
        },
        "id": "RmIAi6ypN0O7",
        "outputId": "bb3372b9-884f-4a6c-dfdc-c17e240ca0c5"
      },
      "source": [
        "data_2018.loc[:,['name','day','double','recent_5days_avg','result']]"
      ],
      "execution_count": null,
      "outputs": [
        {
          "output_type": "execute_result",
          "data": {
            "text/html": [
              "<div>\n",
              "<style scoped>\n",
              "    .dataframe tbody tr th:only-of-type {\n",
              "        vertical-align: middle;\n",
              "    }\n",
              "\n",
              "    .dataframe tbody tr th {\n",
              "        vertical-align: top;\n",
              "    }\n",
              "\n",
              "    .dataframe thead th {\n",
              "        text-align: right;\n",
              "    }\n",
              "</style>\n",
              "<table border=\"1\" class=\"dataframe\">\n",
              "  <thead>\n",
              "    <tr style=\"text-align: right;\">\n",
              "      <th></th>\n",
              "      <th>name</th>\n",
              "      <th>day</th>\n",
              "      <th>double</th>\n",
              "      <th>recent_5days_avg</th>\n",
              "      <th>result</th>\n",
              "    </tr>\n",
              "  </thead>\n",
              "  <tbody>\n",
              "    <tr>\n",
              "      <th>0</th>\n",
              "      <td>나성범</td>\n",
              "      <td>20180324</td>\n",
              "      <td>0.0</td>\n",
              "      <td>0.000000</td>\n",
              "      <td>0</td>\n",
              "    </tr>\n",
              "    <tr>\n",
              "      <th>1</th>\n",
              "      <td>나성범</td>\n",
              "      <td>20180325</td>\n",
              "      <td>0.0</td>\n",
              "      <td>0.000000</td>\n",
              "      <td>1</td>\n",
              "    </tr>\n",
              "    <tr>\n",
              "      <th>2</th>\n",
              "      <td>나성범</td>\n",
              "      <td>20180327</td>\n",
              "      <td>0.0</td>\n",
              "      <td>0.142857</td>\n",
              "      <td>1</td>\n",
              "    </tr>\n",
              "    <tr>\n",
              "      <th>3</th>\n",
              "      <td>나성범</td>\n",
              "      <td>20180328</td>\n",
              "      <td>0.0</td>\n",
              "      <td>0.272727</td>\n",
              "      <td>0</td>\n",
              "    </tr>\n",
              "    <tr>\n",
              "      <th>4</th>\n",
              "      <td>나성범</td>\n",
              "      <td>20180329</td>\n",
              "      <td>0.0</td>\n",
              "      <td>0.200000</td>\n",
              "      <td>1</td>\n",
              "    </tr>\n",
              "    <tr>\n",
              "      <th>...</th>\n",
              "      <td>...</td>\n",
              "      <td>...</td>\n",
              "      <td>...</td>\n",
              "      <td>...</td>\n",
              "      <td>...</td>\n",
              "    </tr>\n",
              "    <tr>\n",
              "      <th>11311</th>\n",
              "      <td>강경학</td>\n",
              "      <td>20181006</td>\n",
              "      <td>0.0</td>\n",
              "      <td>0.250000</td>\n",
              "      <td>0</td>\n",
              "    </tr>\n",
              "    <tr>\n",
              "      <th>11312</th>\n",
              "      <td>강경학</td>\n",
              "      <td>20181009</td>\n",
              "      <td>0.0</td>\n",
              "      <td>0.000000</td>\n",
              "      <td>1</td>\n",
              "    </tr>\n",
              "    <tr>\n",
              "      <th>11313</th>\n",
              "      <td>강경학</td>\n",
              "      <td>20181019</td>\n",
              "      <td>0.0</td>\n",
              "      <td>0.000000</td>\n",
              "      <td>0</td>\n",
              "    </tr>\n",
              "    <tr>\n",
              "      <th>11314</th>\n",
              "      <td>강경학</td>\n",
              "      <td>20181020</td>\n",
              "      <td>0.0</td>\n",
              "      <td>0.000000</td>\n",
              "      <td>0</td>\n",
              "    </tr>\n",
              "    <tr>\n",
              "      <th>11315</th>\n",
              "      <td>강경학</td>\n",
              "      <td>20181023</td>\n",
              "      <td>0.0</td>\n",
              "      <td>0.000000</td>\n",
              "      <td>1</td>\n",
              "    </tr>\n",
              "  </tbody>\n",
              "</table>\n",
              "<p>11316 rows × 5 columns</p>\n",
              "</div>"
            ],
            "text/plain": [
              "      name       day  double  recent_5days_avg  result\n",
              "0      나성범  20180324     0.0          0.000000       0\n",
              "1      나성범  20180325     0.0          0.000000       1\n",
              "2      나성범  20180327     0.0          0.142857       1\n",
              "3      나성범  20180328     0.0          0.272727       0\n",
              "4      나성범  20180329     0.0          0.200000       1\n",
              "...    ...       ...     ...               ...     ...\n",
              "11311  강경학  20181006     0.0          0.250000       0\n",
              "11312  강경학  20181009     0.0          0.000000       1\n",
              "11313  강경학  20181019     0.0          0.000000       0\n",
              "11314  강경학  20181020     0.0          0.000000       0\n",
              "11315  강경학  20181023     0.0          0.000000       1\n",
              "\n",
              "[11316 rows x 5 columns]"
            ]
          },
          "metadata": {
            "tags": []
          },
          "execution_count": 68
        }
      ]
    },
    {
      "cell_type": "markdown",
      "metadata": {
        "id": "QJuwy6TOSlXq"
      },
      "source": [
        "### RAW DATA : scatter plot\n"
      ]
    },
    {
      "cell_type": "code",
      "metadata": {
        "colab": {
          "base_uri": "https://localhost:8080/",
          "height": 283
        },
        "id": "fUXBRrCORR3a",
        "outputId": "d3684a72-ae86-49d4-b456-a063ad42f0a8"
      },
      "source": [
        "plt.scatter(data_2018['recent_5days_avg'], data_2018['result'])"
      ],
      "execution_count": null,
      "outputs": [
        {
          "output_type": "execute_result",
          "data": {
            "text/plain": [
              "<matplotlib.collections.PathCollection at 0x7fd199d21950>"
            ]
          },
          "metadata": {
            "tags": []
          },
          "execution_count": 69
        },
        {
          "output_type": "display_data",
          "data": {
            "image/png": "[encoded data removed]",
            "text/plain": [
              "<Figure size 432x288 with 1 Axes>"
            ]
          },
          "metadata": {
            "tags": [],
            "needs_background": "light"
          }
        }
      ]
    },
    {
      "cell_type": "code",
      "metadata": {
        "colab": {
          "base_uri": "https://localhost:8080/",
          "height": 337
        },
        "id": "mAntoj3zX9ab",
        "outputId": "3c92ebd2-0dc9-4142-bbfe-a3bf1624c8d9"
      },
      "source": [
        "plt.hist(data_2018['recent_5days_avg'])"
      ],
      "execution_count": null,
      "outputs": [
        {
          "output_type": "execute_result",
          "data": {
            "text/plain": [
              "(array([1876., 1495., 3131., 2235., 1350.,  944.,  154.,   55.,   18.,\n",
              "          58.]),\n",
              " array([0. , 0.1, 0.2, 0.3, 0.4, 0.5, 0.6, 0.7, 0.8, 0.9, 1. ]),\n",
              " <a list of 10 Patch objects>)"
            ]
          },
          "metadata": {
            "tags": []
          },
          "execution_count": 71
        },
        {
          "output_type": "display_data",
          "data": {
            "image/png": "[encoded data removed]",
            "text/plain": [
              "<Figure size 432x288 with 1 Axes>"
            ]
          },
          "metadata": {
            "tags": [],
            "needs_background": "light"
          }
        }
      ]
    },
    {
      "cell_type": "markdown",
      "metadata": {
        "id": "sFMPF3AFUVSX"
      },
      "source": [
        "### 범위를 나누어서 개수로 파악해보자"
      ]
    },
    {
      "cell_type": "code",
      "metadata": {
        "colab": {
          "base_uri": "https://localhost:8080/",
          "height": 283
        },
        "id": "n1RAOz9GUvNb",
        "outputId": "02cf3e88-faf3-4d61-8df8-76894af36c5a"
      },
      "source": [
        "# 2018\n",
        "\n",
        "output_tmp = np.zeros(10)\n",
        "\n",
        "tmp = data_2018.loc[data_2018['recent_5days_avg']<0.1,['recent_5days_avg', 'result']]\n",
        "output_tmp[0] = sum(tmp['result'])/len(tmp)\n",
        "tmp = data_2018.loc[data_2018['recent_5days_avg']<0.2].loc[data_2018['recent_5days_avg']>=0.1,['recent_5days_avg', 'result']]\n",
        "output_tmp[1] = sum(tmp['result'])/len(tmp)\n",
        "tmp = data_2018.loc[data_2018['recent_5days_avg']<0.3].loc[data_2018['recent_5days_avg']>=0.2,['recent_5days_avg', 'result']]\n",
        "output_tmp[2] = sum(tmp['result'])/len(tmp)\n",
        "tmp = data_2018.loc[data_2018['recent_5days_avg']<0.4].loc[data_2018['recent_5days_avg']>=0.3,['recent_5days_avg', 'result']]\n",
        "output_tmp[3] = sum(tmp['result'])/len(tmp)\n",
        "tmp = data_2018.loc[data_2018['recent_5days_avg']<0.5].loc[data_2018['recent_5days_avg']>=0.4,['recent_5days_avg', 'result']]\n",
        "output_tmp[4] = sum(tmp['result'])/len(tmp)\n",
        "tmp = data_2018.loc[data_2018['recent_5days_avg']<0.6].loc[data_2018['recent_5days_avg']>=0.5,['recent_5days_avg', 'result']]\n",
        "output_tmp[5] = sum(tmp['result'])/len(tmp)\n",
        "tmp = data_2018.loc[data_2018['recent_5days_avg']<0.7].loc[data_2018['recent_5days_avg']>=0.6,['recent_5days_avg', 'result']]\n",
        "output_tmp[6] = sum(tmp['result'])/len(tmp)\n",
        "tmp = data_2018.loc[data_2018['recent_5days_avg']<0.8].loc[data_2018['recent_5days_avg']>=0.7,['recent_5days_avg', 'result']]\n",
        "output_tmp[7] = sum(tmp['result'])/len(tmp)\n",
        "tmp = data_2018.loc[data_2018['recent_5days_avg']<0.9].loc[data_2018['recent_5days_avg']>=0.8,['recent_5days_avg', 'result']]\n",
        "output_tmp[8] = sum(tmp['result'])/len(tmp)\n",
        "tmp = data_2018.loc[data_2018['recent_5days_avg']>=0.9,['recent_5days_avg', 'result']]\n",
        "output_tmp[9] = sum(tmp['result'])/len(tmp)\n",
        "\n",
        "plt.plot(output_tmp)"
      ],
      "execution_count": null,
      "outputs": [
        {
          "output_type": "execute_result",
          "data": {
            "text/plain": [
              "[<matplotlib.lines.Line2D at 0x7fd199c8dd90>]"
            ]
          },
          "metadata": {
            "tags": []
          },
          "execution_count": 70
        },
        {
          "output_type": "display_data",
          "data": {
            "image/png": "[encoded data removed]",
            "text/plain": [
              "<Figure size 432x288 with 1 Axes>"
            ]
          },
          "metadata": {
            "tags": [],
            "needs_background": "light"
          }
        }
      ]
    },
    {
      "cell_type": "markdown",
      "metadata": {
        "id": "ngPQMNR8el2b"
      },
      "source": [
        "다른 년도에 대해서도 해보아야겠지만 최근 5일 타율이 좋을수록 해당 경기에서 안타를 치는 성공률이 높아지는 모습을 볼 수 있다."
      ]
    },
    {
      "cell_type": "code",
      "metadata": {
        "colab": {
          "base_uri": "https://localhost:8080/",
          "height": 283
        },
        "id": "iW5WhkB7fagl",
        "outputId": "3a4b82ee-4bfa-4da8-b264-c3588001dbb7"
      },
      "source": [
        "# 2019\n",
        "\n",
        "tmp = data_2019.loc[data_2019['recent_5days_avg']<0.1,['recent_5days_avg', 'result']]\n",
        "output_tmp[0] = sum(tmp['result'])/len(tmp)\n",
        "tmp = data_2019.loc[data_2019['recent_5days_avg']<0.2].loc[data_2019['recent_5days_avg']>=0.1,['recent_5days_avg', 'result']]\n",
        "output_tmp[1] = sum(tmp['result'])/len(tmp)\n",
        "tmp = data_2019.loc[data_2019['recent_5days_avg']<0.3].loc[data_2019['recent_5days_avg']>=0.2,['recent_5days_avg', 'result']]\n",
        "output_tmp[2] = sum(tmp['result'])/len(tmp)\n",
        "tmp = data_2019.loc[data_2019['recent_5days_avg']<0.4].loc[data_2019['recent_5days_avg']>=0.3,['recent_5days_avg', 'result']]\n",
        "output_tmp[3] = sum(tmp['result'])/len(tmp)\n",
        "tmp = data_2019.loc[data_2019['recent_5days_avg']<0.5].loc[data_2019['recent_5days_avg']>=0.4,['recent_5days_avg', 'result']]\n",
        "output_tmp[4] = sum(tmp['result'])/len(tmp)\n",
        "tmp = data_2019.loc[data_2019['recent_5days_avg']<0.6].loc[data_2019['recent_5days_avg']>=0.5,['recent_5days_avg', 'result']]\n",
        "output_tmp[5] = sum(tmp['result'])/len(tmp)\n",
        "tmp = data_2019.loc[data_2019['recent_5days_avg']<0.7].loc[data_2019['recent_5days_avg']>=0.6,['recent_5days_avg', 'result']]\n",
        "output_tmp[6] = sum(tmp['result'])/len(tmp)\n",
        "tmp = data_2019.loc[data_2019['recent_5days_avg']<0.8].loc[data_2019['recent_5days_avg']>=0.7,['recent_5days_avg', 'result']]\n",
        "output_tmp[7] = sum(tmp['result'])/len(tmp)\n",
        "tmp = data_2019.loc[data_2019['recent_5days_avg']<0.9].loc[data_2019['recent_5days_avg']>=0.8,['recent_5days_avg', 'result']]\n",
        "output_tmp[8] = sum(tmp['result'])/len(tmp)\n",
        "tmp = data_2019.loc[data_2019['recent_5days_avg']>=0.9,['recent_5days_avg', 'result']]\n",
        "output_tmp[9] = sum(tmp['result'])/len(tmp)\n",
        "\n",
        "plt.plot(output_tmp)"
      ],
      "execution_count": null,
      "outputs": [
        {
          "output_type": "execute_result",
          "data": {
            "text/plain": [
              "[<matplotlib.lines.Line2D at 0x7fd19b36e7d0>]"
            ]
          },
          "metadata": {
            "tags": []
          },
          "execution_count": 75
        },
        {
          "output_type": "display_data",
          "data": {
            "image/png": "[encoded data removed]",
            "text/plain": [
              "<Figure size 432x288 with 1 Axes>"
            ]
          },
          "metadata": {
            "tags": [],
            "needs_background": "light"
          }
        }
      ]
    },
    {
      "cell_type": "code",
      "metadata": {
        "colab": {
          "base_uri": "https://localhost:8080/",
          "height": 283
        },
        "id": "MiwVkmvcfomi",
        "outputId": "b9483d7a-ebce-4e82-d422-d76ceb683ca6"
      },
      "source": [
        "# 2020\n",
        "\n",
        "tmp = data_2020.loc[data_2020['recent_5days_avg']<0.1,['recent_5days_avg', 'result']]\n",
        "output_tmp[0] = sum(tmp['result'])/len(tmp)\n",
        "tmp = data_2020.loc[data_2020['recent_5days_avg']<0.2].loc[data_2020['recent_5days_avg']>=0.1,['recent_5days_avg', 'result']]\n",
        "output_tmp[1] = sum(tmp['result'])/len(tmp)\n",
        "tmp = data_2020.loc[data_2020['recent_5days_avg']<0.3].loc[data_2020['recent_5days_avg']>=0.2,['recent_5days_avg', 'result']]\n",
        "output_tmp[2] = sum(tmp['result'])/len(tmp)\n",
        "tmp = data_2020.loc[data_2020['recent_5days_avg']<0.4].loc[data_2020['recent_5days_avg']>=0.3,['recent_5days_avg', 'result']]\n",
        "output_tmp[3] = sum(tmp['result'])/len(tmp)\n",
        "tmp = data_2020.loc[data_2020['recent_5days_avg']<0.5].loc[data_2020['recent_5days_avg']>=0.4,['recent_5days_avg', 'result']]\n",
        "output_tmp[4] = sum(tmp['result'])/len(tmp)\n",
        "tmp = data_2020.loc[data_2020['recent_5days_avg']<0.6].loc[data_2020['recent_5days_avg']>=0.5,['recent_5days_avg', 'result']]\n",
        "output_tmp[5] = sum(tmp['result'])/len(tmp)\n",
        "tmp = data_2020.loc[data_2020['recent_5days_avg']<0.7].loc[data_2020['recent_5days_avg']>=0.6,['recent_5days_avg', 'result']]\n",
        "output_tmp[6] = sum(tmp['result'])/len(tmp)\n",
        "tmp = data_2020.loc[data_2020['recent_5days_avg']<0.8].loc[data_2020['recent_5days_avg']>=0.7,['recent_5days_avg', 'result']]\n",
        "output_tmp[7] = sum(tmp['result'])/len(tmp)\n",
        "tmp = data_2020.loc[data_2020['recent_5days_avg']<0.9].loc[data_2020['recent_5days_avg']>=0.8,['recent_5days_avg', 'result']]\n",
        "output_tmp[8] = sum(tmp['result'])/len(tmp)\n",
        "tmp = data_2020.loc[data_2020['recent_5days_avg']>=0.9,['recent_5days_avg', 'result']]\n",
        "output_tmp[9] = sum(tmp['result'])/len(tmp)\n",
        "\n",
        "plt.plot(output_tmp)"
      ],
      "execution_count": null,
      "outputs": [
        {
          "output_type": "execute_result",
          "data": {
            "text/plain": [
              "[<matplotlib.lines.Line2D at 0x7fd199a83650>]"
            ]
          },
          "metadata": {
            "tags": []
          },
          "execution_count": 76
        },
        {
          "output_type": "display_data",
          "data": {
            "image/png": "[encoded data removed]",
            "text/plain": [
              "<Figure size 432x288 with 1 Axes>"
            ]
          },
          "metadata": {
            "tags": [],
            "needs_background": "light"
          }
        }
      ]
    },
    {
      "cell_type": "markdown",
      "metadata": {
        "id": "oU_7-n9ZdPul"
      },
      "source": [
        "## 최근 5경기 타율과 당일 경기 안타 성공과의 관계"
      ]
    },
    {
      "cell_type": "markdown",
      "metadata": {
        "id": "uriw5R7jdxZe"
      },
      "source": [
        "### RAW DATA : scatter plot"
      ]
    },
    {
      "cell_type": "code",
      "metadata": {
        "colab": {
          "base_uri": "https://localhost:8080/",
          "height": 283
        },
        "id": "oRrCu7gOdxou",
        "outputId": "e976b576-d897-4bc6-ba26-8a147bf68f2a"
      },
      "source": [
        "plt.scatter(data_2018['recent_5games_avg'], data_2018['result'])"
      ],
      "execution_count": null,
      "outputs": [
        {
          "output_type": "execute_result",
          "data": {
            "text/plain": [
              "<matplotlib.collections.PathCollection at 0x7fd199d21890>"
            ]
          },
          "metadata": {
            "tags": []
          },
          "execution_count": 72
        },
        {
          "output_type": "display_data",
          "data": {
            "image/png": "[encoded data removed]",
            "text/plain": [
              "<Figure size 432x288 with 1 Axes>"
            ]
          },
          "metadata": {
            "tags": [],
            "needs_background": "light"
          }
        }
      ]
    },
    {
      "cell_type": "code",
      "metadata": {
        "colab": {
          "base_uri": "https://localhost:8080/",
          "height": 338
        },
        "id": "n3gZ6G3kdy2Z",
        "outputId": "d10e4637-af78-47a3-ef9f-0dffe27edf9d"
      },
      "source": [
        "plt.hist(data_2018['recent_5games_avg'])"
      ],
      "execution_count": null,
      "outputs": [
        {
          "output_type": "execute_result",
          "data": {
            "text/plain": [
              "(array([6.310e+02, 1.785e+03, 3.867e+03, 2.816e+03, 1.617e+03, 5.190e+02,\n",
              "        5.300e+01, 1.700e+01, 1.000e+00, 1.000e+01]),\n",
              " array([0. , 0.1, 0.2, 0.3, 0.4, 0.5, 0.6, 0.7, 0.8, 0.9, 1. ]),\n",
              " <a list of 10 Patch objects>)"
            ]
          },
          "metadata": {
            "tags": []
          },
          "execution_count": 73
        },
        {
          "output_type": "display_data",
          "data": {
            "image/png": "[encoded data removed]",
            "text/plain": [
              "<Figure size 432x288 with 1 Axes>"
            ]
          },
          "metadata": {
            "tags": [],
            "needs_background": "light"
          }
        }
      ]
    },
    {
      "cell_type": "markdown",
      "metadata": {
        "id": "iB4g8OZVeAus"
      },
      "source": [
        "### 범위를 나누어서 개수로 파악해보자"
      ]
    },
    {
      "cell_type": "code",
      "metadata": {
        "colab": {
          "base_uri": "https://localhost:8080/",
          "height": 283
        },
        "id": "9TwTr6AgdS3M",
        "outputId": "c23ae5d9-ee17-41ca-ca96-7fb955abb3d8"
      },
      "source": [
        "output_tmp = np.zeros(10)\n",
        "\n",
        "tmp = data_2018.loc[data_2018['recent_5games_avg']<0.1,['recent_5games_avg', 'result']]\n",
        "output_tmp[0] = sum(tmp['result'])/len(tmp)\n",
        "tmp = data_2018.loc[data_2018['recent_5games_avg']<0.2].loc[data_2018['recent_5games_avg']>=0.1,['recent_5games_avg', 'result']]\n",
        "output_tmp[1] = sum(tmp['result'])/len(tmp)\n",
        "tmp = data_2018.loc[data_2018['recent_5games_avg']<0.3].loc[data_2018['recent_5games_avg']>=0.2,['recent_5games_avg', 'result']]\n",
        "output_tmp[2] = sum(tmp['result'])/len(tmp)\n",
        "tmp = data_2018.loc[data_2018['recent_5games_avg']<0.4].loc[data_2018['recent_5games_avg']>=0.3,['recent_5games_avg', 'result']]\n",
        "output_tmp[3] = sum(tmp['result'])/len(tmp)\n",
        "tmp = data_2018.loc[data_2018['recent_5games_avg']<0.5].loc[data_2018['recent_5games_avg']>=0.4,['recent_5games_avg', 'result']]\n",
        "output_tmp[4] = sum(tmp['result'])/len(tmp)\n",
        "tmp = data_2018.loc[data_2018['recent_5games_avg']<0.6].loc[data_2018['recent_5games_avg']>=0.5,['recent_5games_avg', 'result']]\n",
        "output_tmp[5] = sum(tmp['result'])/len(tmp)\n",
        "tmp = data_2018.loc[data_2018['recent_5games_avg']<0.7].loc[data_2018['recent_5games_avg']>=0.6,['recent_5games_avg', 'result']]\n",
        "output_tmp[6] = sum(tmp['result'])/len(tmp)\n",
        "tmp = data_2018.loc[data_2018['recent_5games_avg']<0.8].loc[data_2018['recent_5games_avg']>=0.7,['recent_5games_avg', 'result']]\n",
        "output_tmp[7] = sum(tmp['result'])/len(tmp)\n",
        "tmp = data_2018.loc[data_2018['recent_5games_avg']<0.9].loc[data_2018['recent_5games_avg']>=0.8,['recent_5games_avg', 'result']]\n",
        "output_tmp[8] = sum(tmp['result'])/len(tmp)\n",
        "tmp = data_2018.loc[data_2018['recent_5games_avg']>=0.9,['recent_5games_avg', 'result']]\n",
        "output_tmp[9] = sum(tmp['result'])/len(tmp)\n",
        "\n",
        "plt.plot(output_tmp)"
      ],
      "execution_count": null,
      "outputs": [
        {
          "output_type": "execute_result",
          "data": {
            "text/plain": [
              "[<matplotlib.lines.Line2D at 0x7fd19b31e5d0>]"
            ]
          },
          "metadata": {
            "tags": []
          },
          "execution_count": 74
        },
        {
          "output_type": "display_data",
          "data": {
            "image/png": "[encoded data removed]",
            "text/plain": [
              "<Figure size 432x288 with 1 Axes>"
            ]
          },
          "metadata": {
            "tags": [],
            "needs_background": "light"
          }
        }
      ]
    },
    {
      "cell_type": "markdown",
      "metadata": {
        "id": "iYpxGXjNegfF"
      },
      "source": [
        "위 그래프는 우상향하는 모습을 보이지 않는다."
      ]
    },
    {
      "cell_type": "markdown",
      "metadata": {
        "id": "M-bBdDtMMyZK"
      },
      "source": [
        "## 최근 10일 안타 성공률과 당일 경기 안타 성공과의 관계"
      ]
    },
    {
      "cell_type": "markdown",
      "metadata": {
        "id": "IWdIE21RFxMm"
      },
      "source": [
        "# MLP 모델 구축, 학습, 예측"
      ]
    },
    {
      "cell_type": "markdown",
      "metadata": {
        "id": "xh8ZSsM6FMAM"
      },
      "source": [
        "# 만들어보고 싶은 모델\n",
        "\n",
        "RNN 구조로 인풋은 당일 타율이나, 타격 지표들을 넣는다.\n",
        "\n",
        "그럼 이제 3일, 5일 전의 기록들이 오늘 경기에 미치는 영향의 가중치를 학습한다.\n",
        "\n"
      ]
    },
    {
      "cell_type": "code",
      "metadata": {
        "id": "GUIu5VfyF3-S"
      },
      "source": [
        ""
      ],
      "execution_count": null,
      "outputs": []
    }
  ]
}