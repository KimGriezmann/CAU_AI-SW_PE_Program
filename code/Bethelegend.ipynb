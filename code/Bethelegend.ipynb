{
  "nbformat": 4,
  "nbformat_minor": 0,
  "metadata": {
    "colab": {
      "name": "Bethelegend.ipynb",
      "provenance": [],
      "collapsed_sections": [],
      "include_colab_link": true
    },
    "kernelspec": {
      "name": "python3",
      "display_name": "Python 3"
    },
    "language_info": {
      "name": "python"
    }
  },
  "cells": [
    {
      "cell_type": "markdown",
      "metadata": {
        "id": "view-in-github",
        "colab_type": "text"
      },
      "source": [
        "<a href=\"https://colab.research.google.com/github/KimGriezmann/DeepLearning_BeTheLegend/blob/master/Bethelegend.ipynb\" target=\"_parent\"><img src=\"https://colab.research.google.com/assets/colab-badge.svg\" alt=\"Open In Colab\"/></a>"
      ]
    },
    {
      "cell_type": "code",
      "metadata": {
        "id": "hZiBbFYWQEUP"
      },
      "source": [
        "import numpy as np\n",
        "import pandas as pd\n",
        "import tqdm\n",
        "import os"
      ],
      "execution_count": 1,
      "outputs": []
    },
    {
      "cell_type": "code",
      "metadata": {
        "id": "HIhZoCYsuYNj"
      },
      "source": [
        "pd.set_option('display.max_row', 100)\n",
        "pd.set_option('display.max_columns', 100)"
      ],
      "execution_count": 2,
      "outputs": []
    },
    {
      "cell_type": "code",
      "metadata": {
        "id": "E9cK4jy_pSO0",
        "colab": {
          "base_uri": "https://localhost:8080/"
        },
        "outputId": "dac98da8-67b1-4938-89dc-b07aa19e71af"
      },
      "source": [
        "print(os.getcwd())"
      ],
      "execution_count": null,
      "outputs": [
        {
          "output_type": "stream",
          "text": [
            "/content\n"
          ],
          "name": "stdout"
        }
      ]
    },
    {
      "cell_type": "code",
      "metadata": {
        "id": "LAvjoubnQwoZ"
      },
      "source": [
        "data = pd.read_excel(\"/content/날짜별 타자 데이터 통합.xlsx\")\n",
        "hitter = pd.read_excel(\"/content/90명 타자 명단.xlsx\")\n",
        "vs_avg_data = pd.read_excel(\"/content/팀 상대 타율 정렬.xlsx\")\n",
        "pitcher_stadium = pd.read_excel(\"/content/2021시즌 타자 데이터.xlsx\")"
      ],
      "execution_count": 33,
      "outputs": []
    },
    {
      "cell_type": "code",
      "metadata": {
        "id": "urydav0GSZM3"
      },
      "source": [
        "data = pd.DataFrame(data)\n",
        "hitter = pd.DataFrame(hitter)\n",
        "vs_avg_data = pd.DataFrame(vs_avg_data)\n",
        "pitcher_stadium = pd.DataFrame(pitcher_stadium)"
      ],
      "execution_count": 34,
      "outputs": []
    },
    {
      "cell_type": "code",
      "metadata": {
        "id": "SGzN7Zbuh-ex"
      },
      "source": [
        "#일단 이 함수는 나중에,,\n",
        "def make_pitcher_stadium(record_data, pitcher_stadium):\n",
        "  day = np.empty(len(record_data), dtype=np.int32) # 기준이 되는 날짜\n",
        "  name = np.empty(len(record_data), dtype=np.chararray) # type : 문자열 저장을 위해 chararray\n",
        "  vs = np.empty(len(record_data), dtype=np.chararray)\n",
        "  over\n",
        "  stadium_avg = np.zeros(len(record_data))\n",
        "  \n",
        "  \n",
        "  vs = np.empty(len(record_data), dtype=np.chararray)\n",
        "  vs_ab = np.zeros(len(record_data))\n",
        "  vs_hit = np.zeros(len(record_data))"
      ],
      "execution_count": null,
      "outputs": []
    },
    {
      "cell_type": "code",
      "metadata": {
        "id": "Nj69EkCcQ5Y3"
      },
      "source": [
        "print(data.head(), len(data))"
      ],
      "execution_count": null,
      "outputs": []
    },
    {
      "cell_type": "code",
      "metadata": {
        "id": "wogln08CS1Es"
      },
      "source": [
        "print(hitter.head(), len(hitter))"
      ],
      "execution_count": null,
      "outputs": []
    },
    {
      "cell_type": "code",
      "metadata": {
        "id": "1dijZgUMTClT"
      },
      "source": [
        "data.loc[:,['day','name','ab','hit']].dtypes"
      ],
      "execution_count": null,
      "outputs": []
    },
    {
      "cell_type": "code",
      "metadata": {
        "id": "IcJRNnO_qGaQ"
      },
      "source": [
        "data.loc[:,['day','name','ab','hit']]"
      ],
      "execution_count": null,
      "outputs": []
    },
    {
      "cell_type": "code",
      "metadata": {
        "id": "K9JFsRXyRdFU"
      },
      "source": [
        "# 더블헤더 처리\n",
        "temp = np.zeros(len(data))\n",
        "\n",
        "# day, name이 같은 값이 있다는 것은 더블헤더 경기가 있다는것\n",
        "# keep=False 옵션은 중복 값에 해당하는 튜플들을 모두 True로 리턴, 그 외 옵션 : 'first', 'last' 의 경우 둘 중 하나만 True\n",
        "dup = data.loc[:,['day','name']].duplicated(keep=False) \n",
        "\n",
        "for i in range(len(data)):\n",
        "  if dup[i]==False:\n",
        "    temp[i]=0\n",
        "  elif dup[i]==True:\n",
        "    temp[i]=1\n",
        "\n",
        "# 중복의 첫번째 행은 더블헤더 1차전\n",
        "# 중복인 두번째 행이 더블헤더 2차전이다.\n",
        "for i in range(1,len(temp)):\n",
        "  if temp[i]==1 and temp[i-1]==1:\n",
        "    temp[i]=2\n",
        "\n",
        "data['double']=temp"
      ],
      "execution_count": 47,
      "outputs": []
    },
    {
      "cell_type": "code",
      "metadata": {
        "id": "vOltCdnWRlP0"
      },
      "source": [
        "#\n",
        "# 선수마다 최근 5일의 타율을 구해야함. \n",
        "# 현재 day에서 -5부터 -1까지의 sum(hit)/sum(ab) 값을 구하면 된다\n",
        "\n",
        "# hitter_data : 90명 타자 data\n",
        "# record_data : 날짜별 타자 기록\n",
        "# recent_day : 기본(최근 5일), 설정 가능\n",
        "def make_recent_days(hitter_data, record_data, day=5):\n",
        "\n",
        "  # 최근 5일(기본) 경기 타율 저장할 공간 생성\n",
        "  recent_days_avg = np.zeros(len(record_data)) # 최근 5일(기본) 경기 타율\n",
        "  recent_days_hitter = np.empty(len(record_data), dtype=np.chararray) # type : 문자열 저장을 위해 chararray\n",
        "  recent_days_day = np.empty(len(record_data), dtype=np.int32) # 기준이 되는 날짜\n",
        "  recent_days_double = np.zeros(len(record_data), dtype=np.int8) # 더블헤더 분류 / 0 : 더블헤더 아님 / 1 : 더블헤더 1차전 / 2 : 더블헤더 2차전\n",
        "\n",
        "  ps = 0\n",
        "  for h in tqdm.tqdm(hitter_data['batter']): # 90명 타자 한명씩 접근\n",
        "    hdata = record_data.loc[record_data['name']==h].reset_index() # 특정 타자 한명에 대해서만 데이터 추출\n",
        "    for i in range(len(hdata['day'])): # 추출한 데이터에서 한 행씩 접근\n",
        "      recent_days_hitter[ps] = h # 현재 타자\n",
        "      r = hdata.loc[i,'day']  # 현재 기준 날짜\n",
        "      recent_days_day[ps] = r\n",
        "      d = hdata.loc[i,'double'] # 현재 더블헤더 분류\n",
        "      recent_days_double[ps] = d      \n",
        "      if d==2: # 더블헤더 2차전이라면\n",
        "        hrdata = hdata.loc[hdata['day']>=r-day].loc[hdata['day']<=r].loc[hdata['double']!=2] # r 날짜까지 가져와서 2차전을 제외\n",
        "      else: # 더블헤더가 아니고, 더블헤더 1차전이라면\n",
        "        hrdata = hdata.loc[hdata['day']>=r-day].loc[hdata['day']<=r-1] # 접근한 행의 날짜를 기준으로 5일 경기\n",
        "         \n",
        "      if len(hrdata)==0: # 최근 5일 경기 없으면 넘어가고\n",
        "        ps+=1\n",
        "        continue\n",
        "      else : # 있으면\n",
        "        sum_ab = sum(hrdata['ab'])\n",
        "        if sum_ab==0: # 경기 기록은 존재하지만 타수(ab)가 0\n",
        "          ps+=1\n",
        "          continue\n",
        "        sum_hit = sum(hrdata['hit'])\n",
        "        recent_days_avg[ps] = sum_hit/sum_ab\n",
        "        ps+=1\n",
        "\n",
        "  result_Dataframe = pd.DataFrame()\n",
        "  result_Dataframe['day'] = recent_days_day\n",
        "  result_Dataframe['name'] = recent_days_hitter\n",
        "  result_Dataframe['recent_days_avg'] = recent_days_avg\n",
        "  result_Dataframe['double'] = recent_days_double\n",
        "\n",
        "  return result_Dataframe"
      ],
      "execution_count": 48,
      "outputs": []
    },
    {
      "cell_type": "code",
      "metadata": {
        "id": "7t9VB6ulhvBb"
      },
      "source": [
        "#상대 타율 구하는 함수\n",
        "#데이터 파일에서 vs 내림차순 후, 누적 타수 / 누적 안타 계산이 끝난 상태여야함\n",
        "def make_vs_avg(hitter_data, record_data):\n",
        "  vs_avg = np.zeros(len(record_data))\n",
        "  name = np.empty(len(record_data), dtype=np.chararray) # type : 문자열 저장을 위해 chararray\n",
        "  day = np.empty(len(record_data), dtype=np.int32) # 기준이 되는 날짜\n",
        "  vs = np.empty(len(record_data), dtype=np.chararray)\n",
        "  vs_ab = np.zeros(len(record_data))\n",
        "  vs_hit = np.zeros(len(record_data))\n",
        "  double_h = np.zeros(len(record_data))\n",
        "\n",
        "  ps = 0\n",
        "  for h in tqdm.tqdm(hitter_data['batter']): # 90명 타자 한명씩 접근\n",
        "    hdata = record_data.loc[record_data['name']==h] # 특정 타자 한명에 대해서만 데이터 추출\n",
        "    for r, d, v,ab, hit in zip(hdata['day'], hdata['double'], hdata['vs'], hdata['vs_cu_ab'], hdata['vs_cu_hit']): # 추출한 데이터에서 한 행씩 접근\n",
        "      day[ps] = r  # 현재 기준 날짜\n",
        "      name[ps] = h # 현재 타자\n",
        "      vs[ps] = v\n",
        "      vs_ab[ps] = ab\n",
        "      vs_hit[ps] = hit\n",
        "      double_h[ps] = d\n",
        "      try:\n",
        "        vs_avg[ps] = hit / ab\n",
        "      except ZeroDivisionError:\n",
        "        vs_avg[ps] = 0\n",
        "      ps+=1\n",
        "  \n",
        "  result_Dataframe = pd.DataFrame()\n",
        "  result_Dataframe['day'] = day\n",
        "  result_Dataframe['double'] = double_h\n",
        "  result_Dataframe['name'] = name\n",
        "  result_Dataframe['vs_team'] = vs\n",
        "  result_Dataframe['vs_ab'] = vs_ab\n",
        "  result_Dataframe['vs_hit'] = vs_hit\n",
        "  result_Dataframe['vs_avg'] = vs_avg\n",
        "  result_Dataframe\n",
        "\n",
        "  return result_Dataframe\n",
        "\n"
      ],
      "execution_count": 37,
      "outputs": []
    },
    {
      "cell_type": "code",
      "metadata": {
        "colab": {
          "base_uri": "https://localhost:8080/"
        },
        "id": "mCv2M4XhmOGO",
        "outputId": "0704f6e1-436b-4a9c-e896-58268e840d51"
      },
      "source": [
        "vs_avg = make_vs_avg(hitter, vs_avg_data)"
      ],
      "execution_count": 38,
      "outputs": [
        {
          "output_type": "stream",
          "text": [
            "100%|██████████| 90/90 [00:00<00:00, 827.93it/s]\n"
          ],
          "name": "stderr"
        }
      ]
    },
    {
      "cell_type": "code",
      "metadata": {
        "id": "RO8VyxNFmS5N"
      },
      "source": [
        "vs_avg.loc[vs_avg['name']=='전준우']"
      ],
      "execution_count": null,
      "outputs": []
    },
    {
      "cell_type": "code",
      "metadata": {
        "colab": {
          "base_uri": "https://localhost:8080/"
        },
        "id": "tf4q-BOfSOxs",
        "outputId": "19c4aea7-5f9a-4f88-a362-a144694bdb2d"
      },
      "source": [
        "recent_days = make_recent_days(hitter, data)"
      ],
      "execution_count": 49,
      "outputs": [
        {
          "output_type": "stream",
          "text": [
            "100%|██████████| 90/90 [00:09<00:00,  9.43it/s]\n"
          ],
          "name": "stderr"
        }
      ]
    },
    {
      "cell_type": "code",
      "metadata": {
        "id": "H90lJwIKzSfX"
      },
      "source": [
        "recent_days.loc[recent_days['name']=='전준우']"
      ],
      "execution_count": null,
      "outputs": []
    },
    {
      "cell_type": "code",
      "metadata": {
        "id": "4XxJNu7-vT79"
      },
      "source": [
        "merge_data1 = pd.merge(data, vs_avg, on = ['day', 'name', 'double'], how = 'inner')"
      ],
      "execution_count": 41,
      "outputs": []
    },
    {
      "cell_type": "code",
      "metadata": {
        "id": "lVomb3HF1jQg"
      },
      "source": [
        "merge_data1.loc[merge_data1['name']=='전준우']"
      ],
      "execution_count": null,
      "outputs": []
    },
    {
      "cell_type": "code",
      "metadata": {
        "id": "heVGVc5LQhRG"
      },
      "source": [
        "merge_data2 = pd.merge(merge_data1, recent_days, on = ['day', 'name', 'double'], how = 'inner')"
      ],
      "execution_count": 59,
      "outputs": []
    },
    {
      "cell_type": "code",
      "metadata": {
        "colab": {
          "base_uri": "https://localhost:8080/"
        },
        "id": "VoWx93N0ojVD",
        "outputId": "8c1073f5-d87d-46e0-a425-99bd6621e4e6"
      },
      "source": [
        "len(data), len(recent_days), len(vs_avg), len(merge_data1), len(merge_data2)"
      ],
      "execution_count": 60,
      "outputs": [
        {
          "output_type": "execute_result",
          "data": {
            "text/plain": [
              "(5296, 5296, 5296, 5296, 5296)"
            ]
          },
          "metadata": {
            "tags": []
          },
          "execution_count": 60
        }
      ]
    },
    {
      "cell_type": "code",
      "metadata": {
        "id": "fBt8hD1mSwiD"
      },
      "source": [
        "merge_data2"
      ],
      "execution_count": null,
      "outputs": []
    },
    {
      "cell_type": "code",
      "metadata": {
        "id": "ojw6UVAXRyGH"
      },
      "source": [
        "our_data = merge_data2.loc[:, ['day', 'double', 'name', 'vs', 'ab','hit', 'avg', 'slg', 'vs_ab', 'vs_hit', 'vs_avg', 'recent_5','recent_10','success_recent_10','recent_days_avg', 'result']]"
      ],
      "execution_count": 67,
      "outputs": []
    },
    {
      "cell_type": "code",
      "metadata": {
        "id": "lZtya-M2vrkm"
      },
      "source": [
        "our_data.loc[our_data['name']=='전준우']"
      ],
      "execution_count": null,
      "outputs": []
    },
    {
      "cell_type": "code",
      "metadata": {
        "id": "OUzRXudsoZGk"
      },
      "source": [
        ""
      ],
      "execution_count": null,
      "outputs": []
    },
    {
      "cell_type": "code",
      "metadata": {
        "id": "VGJVW1zMvrmu"
      },
      "source": [
        ""
      ],
      "execution_count": null,
      "outputs": []
    }
  ]
}
