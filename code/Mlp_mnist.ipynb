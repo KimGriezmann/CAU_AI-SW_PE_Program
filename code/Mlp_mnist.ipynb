{
  "nbformat": 4,
  "nbformat_minor": 0,
  "metadata": {
    "colab": {
      "name": "Mlp_mnist.ipynb",
      "provenance": [],
      "authorship_tag": "ABX9TyPBy4I8bfYWoiyh9CZHOyH6",
      "include_colab_link": true
    },
    "kernelspec": {
      "name": "python3",
      "display_name": "Python 3"
    },
    "language_info": {
      "name": "python"
    }
  },
  "cells": [
    {
      "cell_type": "markdown",
      "metadata": {
        "id": "view-in-github",
        "colab_type": "text"
      },
      "source": [
        "<a href=\"https://colab.research.google.com/github/KimGriezmann/DeepLearning_BeTheLegend/blob/master/Mlp_mnist.ipynb\" target=\"_parent\"><img src=\"https://colab.research.google.com/assets/colab-badge.svg\" alt=\"Open In Colab\"/></a>"
      ]
    },
    {
      "cell_type": "code",
      "metadata": {
        "id": "Q6Tiy2uLdDaH"
      },
      "source": [
        "from keras.datasets import mnist\n",
        "from keras.utils.np_utils import to_categorical\n",
        "import numpy as np"
      ],
      "execution_count": 1,
      "outputs": []
    },
    {
      "cell_type": "code",
      "metadata": {
        "id": "r_-lW-dif60K"
      },
      "source": [
        "from sklearn.preprocessing import minmax_scale"
      ],
      "execution_count": 2,
      "outputs": []
    },
    {
      "cell_type": "code",
      "metadata": {
        "id": "ND8RDIHAgN48"
      },
      "source": [
        "from keras.models import Sequential\n",
        "from keras.layers import Dense, Dropout, Activation\n",
        "from keras.optimizers import Adam"
      ],
      "execution_count": 4,
      "outputs": []
    },
    {
      "cell_type": "code",
      "metadata": {
        "colab": {
          "base_uri": "https://localhost:8080/"
        },
        "id": "P--gynDVgZ3E",
        "outputId": "3783b7a6-efed-4b4d-81bf-05b0654c22c5"
      },
      "source": [
        "(X_train, y_train), (X_test, y_test) = mnist.load_data()"
      ],
      "execution_count": 5,
      "outputs": [
        {
          "output_type": "stream",
          "text": [
            "Downloading data from https://storage.googleapis.com/tensorflow/tf-keras-datasets/mnist.npz\n",
            "11493376/11490434 [==============================] - 0s 0us/step\n",
            "11501568/11490434 [==============================] - 0s 0us/step\n"
          ],
          "name": "stdout"
        }
      ]
    },
    {
      "cell_type": "code",
      "metadata": {
        "id": "tP2Ce70yhBlz"
      },
      "source": [
        "number_of_train_samples = X_train.shape[0]\n",
        "width = X_train.shape[1]\n",
        "height = X_train.shape[2]\n",
        "X_train = X_train.reshape(number_of_train_samples, width*height)"
      ],
      "execution_count": 7,
      "outputs": []
    },
    {
      "cell_type": "code",
      "metadata": {
        "id": "yiZlORIvhBqE"
      },
      "source": [
        "number_of_test_samples = X_test.shape[0]\n",
        "X_test = X_test.reshape(number_of_test_samples, width*height)"
      ],
      "execution_count": 8,
      "outputs": []
    },
    {
      "cell_type": "code",
      "metadata": {
        "id": "IsPCkPUMhpXH"
      },
      "source": [
        "X_train = X_train.astype(np.float64)\n",
        "X_test = X_test.astype(np.float64)"
      ],
      "execution_count": 9,
      "outputs": []
    },
    {
      "cell_type": "code",
      "metadata": {
        "id": "0chXMPTYh64u"
      },
      "source": [
        "X_train = minmax_scale(X_train, feature_range=(0,1), axis = 0)\n",
        "X_test = minmax_scale(X_test, feature_range=(0,1), axis = 0)"
      ],
      "execution_count": 10,
      "outputs": []
    },
    {
      "cell_type": "code",
      "metadata": {
        "id": "g5bTIbLniK3W"
      },
      "source": [
        "y_train = to_categorical(y_train)\n",
        "y_test = to_categorical(y_test)"
      ],
      "execution_count": 11,
      "outputs": []
    },
    {
      "cell_type": "code",
      "metadata": {
        "id": "qOD2uhHJioNV"
      },
      "source": [
        "model = Sequential()\n",
        "\n",
        "model.add(Dense(256, input_dim= width * height, kernel_initializer = 'glorot_uniform', activation = 'relu'))\n",
        "model.add(Dropout(0.3))\n",
        "\n",
        "model.add(Dense(256, kernel_initializer = 'glorot_uniform', activation = 'relu'))\n",
        "model.add(Dropout(0.3))\n",
        "\n",
        "model.add(Dense(256, kernel_initializer = 'glorot_uniform', activation = 'relu'))\n",
        "model.add(Dropout(0.3))\n",
        "\n",
        "model.add(Dense(256, kernel_initializer = 'glorot_uniform', activation = 'relu'))\n",
        "model.add(Dropout(0.3))\n",
        "\n",
        "number_of_class = 10\n",
        "model.add(Dense(number_of_class, activation = 'softmax'))\n",
        "\n",
        "model.compile(loss = 'categorical_crossentropy', optimizer='sgd', metrics=['accuracy'])\n",
        "\n",
        "#print('evaluate model')\n",
        "#evaluation = model.evaluate(X_test, y_test, batch_size = batch_size)\n",
        "#print('Accuracy: ' + str(evaluation[1]))\n"
      ],
      "execution_count": 30,
      "outputs": []
    },
    {
      "cell_type": "code",
      "metadata": {
        "colab": {
          "base_uri": "https://localhost:8080/"
        },
        "id": "U5idxyMkpY87",
        "outputId": "83dd4dec-b964-4c90-c00b-9d45f502f940"
      },
      "source": [
        "hist = model.fit(X_train, y_train, epochs= 15, batch_size = 100)"
      ],
      "execution_count": 32,
      "outputs": [
        {
          "output_type": "stream",
          "text": [
            "Epoch 1/15\n",
            "600/600 [==============================] - 7s 10ms/step - loss: 2.0837 - accuracy: 0.2559\n",
            "Epoch 2/15\n",
            "600/600 [==============================] - 6s 10ms/step - loss: 0.9272 - accuracy: 0.6894\n",
            "Epoch 3/15\n",
            "600/600 [==============================] - 6s 10ms/step - loss: 0.6138 - accuracy: 0.8071\n",
            "Epoch 4/15\n",
            "600/600 [==============================] - 6s 11ms/step - loss: 0.4883 - accuracy: 0.8507\n",
            "Epoch 5/15\n",
            "600/600 [==============================] - 6s 11ms/step - loss: 0.4242 - accuracy: 0.8718\n",
            "Epoch 6/15\n",
            "600/600 [==============================] - 6s 10ms/step - loss: 0.3682 - accuracy: 0.8900\n",
            "Epoch 7/15\n",
            "600/600 [==============================] - 6s 10ms/step - loss: 0.3413 - accuracy: 0.9001\n",
            "Epoch 8/15\n",
            "600/600 [==============================] - 6s 10ms/step - loss: 0.3134 - accuracy: 0.9072\n",
            "Epoch 9/15\n",
            "600/600 [==============================] - 6s 10ms/step - loss: 0.2902 - accuracy: 0.9162\n",
            "Epoch 10/15\n",
            "600/600 [==============================] - 6s 10ms/step - loss: 0.2711 - accuracy: 0.9198\n",
            "Epoch 11/15\n",
            "600/600 [==============================] - 6s 11ms/step - loss: 0.2464 - accuracy: 0.9287\n",
            "Epoch 12/15\n",
            "600/600 [==============================] - 6s 10ms/step - loss: 0.2377 - accuracy: 0.9308\n",
            "Epoch 13/15\n",
            "600/600 [==============================] - 7s 11ms/step - loss: 0.2291 - accuracy: 0.9332\n",
            "Epoch 14/15\n",
            "600/600 [==============================] - 6s 11ms/step - loss: 0.2164 - accuracy: 0.9363\n",
            "Epoch 15/15\n",
            "600/600 [==============================] - 6s 11ms/step - loss: 0.2061 - accuracy: 0.9386\n"
          ],
          "name": "stdout"
        }
      ]
    },
    {
      "cell_type": "code",
      "metadata": {
        "colab": {
          "base_uri": "https://localhost:8080/"
        },
        "id": "w7_dGZ6ypm64",
        "outputId": "1c31e3c3-241c-413f-f272-b373a4f76ff3"
      },
      "source": [
        "loss_and_metrics = model.evaluate(X_test, y_test, batch_size = 100)"
      ],
      "execution_count": 34,
      "outputs": [
        {
          "output_type": "stream",
          "text": [
            "100/100 [==============================] - 1s 5ms/step - loss: 0.1262 - accuracy: 0.9604\n"
          ],
          "name": "stdout"
        }
      ]
    },
    {
      "cell_type": "code",
      "metadata": {
        "colab": {
          "base_uri": "https://localhost:8080/"
        },
        "id": "ESJQeq7xrKj8",
        "outputId": "5cfcd320-38fc-4f34-bde2-6eb2369df2d6"
      },
      "source": [
        "xhat = X_test[0:1]\n",
        "yhat = model.predict(xhat)\n",
        "\n",
        "print('prediction', yhat)"
      ],
      "execution_count": 36,
      "outputs": [
        {
          "output_type": "stream",
          "text": [
            "prediction [[1.0559739e-06 4.6951086e-06 2.9002254e-05 1.5104786e-05 1.8357636e-07\n",
            "  1.9480049e-07 1.7259511e-08 9.9972755e-01 8.5719006e-07 2.2130775e-04]]\n"
          ],
          "name": "stdout"
        }
      ]
    }
  ]
}
